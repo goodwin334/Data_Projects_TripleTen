{
 "cells": [
  {
   "cell_type": "markdown",
   "metadata": {},
   "source": [
    "# Statement"
   ]
  },
  {
   "cell_type": "markdown",
   "metadata": {},
   "source": [
    "The Sure Tomorrow insurance company wants to solve several tasks with the help of Machine Learning and you are asked to evaluate that possibility.\n",
    "\n",
    "- Task 1: Find customers who are similar to a given customer. This will help the company's agents with marketing.\n",
    "- Task 2: Predict whether a new customer is likely to receive an insurance benefit. Can a prediction model do better than a dummy model?\n",
    "- Task 3: Predict the number of insurance benefits a new customer is likely to receive using a linear regression model.\n",
    "- Task 4: Protect clients' personal data without breaking the model from the previous task. It's necessary to develop a data transformation algorithm that would make it hard to recover personal information if the data fell into the wrong hands. This is called data masking, or data obfuscation. But the data should be protected in such a way that the quality of machine learning models doesn't suffer. You don't need to pick the best model, just prove that the algorithm works correctly."
   ]
  },
  {
   "cell_type": "markdown",
   "metadata": {},
   "source": [
    "# Data Preprocessing & Exploration\n",
    "\n",
    "## Initialization"
   ]
  },
  {
   "cell_type": "code",
   "execution_count": 1,
   "metadata": {},
   "outputs": [],
   "source": [
    "import numpy as np\n",
    "import pandas as pd\n",
    "\n",
    "import seaborn as sns\n",
    "\n",
    "import sklearn.linear_model\n",
    "import sklearn.metrics\n",
    "import sklearn.neighbors\n",
    "import sklearn.preprocessing\n",
    "\n",
    "from sklearn.model_selection import train_test_split\n",
    "\n",
    "from IPython.display import display"
   ]
  },
  {
   "cell_type": "markdown",
   "metadata": {},
   "source": [
    "## Load Data"
   ]
  },
  {
   "cell_type": "markdown",
   "metadata": {},
   "source": [
    "Load data and conduct a basic check that it's free from obvious issues."
   ]
  },
  {
   "cell_type": "code",
   "execution_count": 2,
   "metadata": {},
   "outputs": [],
   "source": [
    "df = pd.read_csv('/datasets/insurance_us.csv')"
   ]
  },
  {
   "cell_type": "markdown",
   "metadata": {},
   "source": [
    "We rename the colums to make the code look more consistent with its style."
   ]
  },
  {
   "cell_type": "code",
   "execution_count": 3,
   "metadata": {},
   "outputs": [],
   "source": [
    "df = df.rename(columns={'Gender': 'gender', 'Age': 'age', 'Salary': 'income', 'Family members': 'family_members', 'Insurance benefits': 'insurance_benefits'})"
   ]
  },
  {
   "cell_type": "code",
   "execution_count": 4,
   "metadata": {
    "scrolled": true
   },
   "outputs": [
    {
     "data": {
      "text/html": [
       "<div>\n",
       "<style scoped>\n",
       "    .dataframe tbody tr th:only-of-type {\n",
       "        vertical-align: middle;\n",
       "    }\n",
       "\n",
       "    .dataframe tbody tr th {\n",
       "        vertical-align: top;\n",
       "    }\n",
       "\n",
       "    .dataframe thead th {\n",
       "        text-align: right;\n",
       "    }\n",
       "</style>\n",
       "<table border=\"1\" class=\"dataframe\">\n",
       "  <thead>\n",
       "    <tr style=\"text-align: right;\">\n",
       "      <th></th>\n",
       "      <th>gender</th>\n",
       "      <th>age</th>\n",
       "      <th>income</th>\n",
       "      <th>family_members</th>\n",
       "      <th>insurance_benefits</th>\n",
       "    </tr>\n",
       "  </thead>\n",
       "  <tbody>\n",
       "    <tr>\n",
       "      <th>3455</th>\n",
       "      <td>1</td>\n",
       "      <td>25.0</td>\n",
       "      <td>46100.0</td>\n",
       "      <td>1</td>\n",
       "      <td>0</td>\n",
       "    </tr>\n",
       "    <tr>\n",
       "      <th>1418</th>\n",
       "      <td>1</td>\n",
       "      <td>28.0</td>\n",
       "      <td>59900.0</td>\n",
       "      <td>0</td>\n",
       "      <td>0</td>\n",
       "    </tr>\n",
       "    <tr>\n",
       "      <th>1999</th>\n",
       "      <td>1</td>\n",
       "      <td>34.0</td>\n",
       "      <td>42300.0</td>\n",
       "      <td>3</td>\n",
       "      <td>0</td>\n",
       "    </tr>\n",
       "    <tr>\n",
       "      <th>1866</th>\n",
       "      <td>1</td>\n",
       "      <td>47.0</td>\n",
       "      <td>37700.0</td>\n",
       "      <td>1</td>\n",
       "      <td>1</td>\n",
       "    </tr>\n",
       "    <tr>\n",
       "      <th>262</th>\n",
       "      <td>1</td>\n",
       "      <td>34.0</td>\n",
       "      <td>46800.0</td>\n",
       "      <td>2</td>\n",
       "      <td>0</td>\n",
       "    </tr>\n",
       "    <tr>\n",
       "      <th>2157</th>\n",
       "      <td>0</td>\n",
       "      <td>24.0</td>\n",
       "      <td>20500.0</td>\n",
       "      <td>0</td>\n",
       "      <td>0</td>\n",
       "    </tr>\n",
       "    <tr>\n",
       "      <th>2050</th>\n",
       "      <td>1</td>\n",
       "      <td>28.0</td>\n",
       "      <td>44000.0</td>\n",
       "      <td>2</td>\n",
       "      <td>0</td>\n",
       "    </tr>\n",
       "    <tr>\n",
       "      <th>2728</th>\n",
       "      <td>0</td>\n",
       "      <td>20.0</td>\n",
       "      <td>51400.0</td>\n",
       "      <td>3</td>\n",
       "      <td>0</td>\n",
       "    </tr>\n",
       "    <tr>\n",
       "      <th>4867</th>\n",
       "      <td>1</td>\n",
       "      <td>24.0</td>\n",
       "      <td>46700.0</td>\n",
       "      <td>2</td>\n",
       "      <td>0</td>\n",
       "    </tr>\n",
       "    <tr>\n",
       "      <th>4295</th>\n",
       "      <td>0</td>\n",
       "      <td>47.0</td>\n",
       "      <td>38900.0</td>\n",
       "      <td>2</td>\n",
       "      <td>1</td>\n",
       "    </tr>\n",
       "  </tbody>\n",
       "</table>\n",
       "</div>"
      ],
      "text/plain": [
       "      gender   age   income  family_members  insurance_benefits\n",
       "3455       1  25.0  46100.0               1                   0\n",
       "1418       1  28.0  59900.0               0                   0\n",
       "1999       1  34.0  42300.0               3                   0\n",
       "1866       1  47.0  37700.0               1                   1\n",
       "262        1  34.0  46800.0               2                   0\n",
       "2157       0  24.0  20500.0               0                   0\n",
       "2050       1  28.0  44000.0               2                   0\n",
       "2728       0  20.0  51400.0               3                   0\n",
       "4867       1  24.0  46700.0               2                   0\n",
       "4295       0  47.0  38900.0               2                   1"
      ]
     },
     "execution_count": 4,
     "metadata": {},
     "output_type": "execute_result"
    }
   ],
   "source": [
    "df.sample(10)"
   ]
  },
  {
   "cell_type": "code",
   "execution_count": 5,
   "metadata": {},
   "outputs": [
    {
     "name": "stdout",
     "output_type": "stream",
     "text": [
      "<class 'pandas.core.frame.DataFrame'>\n",
      "RangeIndex: 5000 entries, 0 to 4999\n",
      "Data columns (total 5 columns):\n",
      " #   Column              Non-Null Count  Dtype  \n",
      "---  ------              --------------  -----  \n",
      " 0   gender              5000 non-null   int64  \n",
      " 1   age                 5000 non-null   float64\n",
      " 2   income              5000 non-null   float64\n",
      " 3   family_members      5000 non-null   int64  \n",
      " 4   insurance_benefits  5000 non-null   int64  \n",
      "dtypes: float64(2), int64(3)\n",
      "memory usage: 195.4 KB\n"
     ]
    }
   ],
   "source": [
    "df.info()"
   ]
  },
  {
   "cell_type": "code",
   "execution_count": null,
   "metadata": {},
   "outputs": [],
   "source": [
    "df['age'] = df['age'].astype('int32')"
   ]
  },
  {
   "cell_type": "code",
   "execution_count": 7,
   "metadata": {},
   "outputs": [
    {
     "name": "stdout",
     "output_type": "stream",
     "text": [
      "<class 'pandas.core.frame.DataFrame'>\n",
      "RangeIndex: 5000 entries, 0 to 4999\n",
      "Data columns (total 5 columns):\n",
      " #   Column              Non-Null Count  Dtype  \n",
      "---  ------              --------------  -----  \n",
      " 0   gender              5000 non-null   int64  \n",
      " 1   age                 5000 non-null   int32  \n",
      " 2   income              5000 non-null   float64\n",
      " 3   family_members      5000 non-null   int64  \n",
      " 4   insurance_benefits  5000 non-null   int64  \n",
      "dtypes: float64(1), int32(1), int64(3)\n",
      "memory usage: 175.9 KB\n"
     ]
    }
   ],
   "source": [
    "df.info()# check to see that the conversion was successful"
   ]
  },
  {
   "cell_type": "code",
   "execution_count": null,
   "metadata": {},
   "outputs": [
    {
     "data": {
      "text/html": [
       "<div>\n",
       "<style scoped>\n",
       "    .dataframe tbody tr th:only-of-type {\n",
       "        vertical-align: middle;\n",
       "    }\n",
       "\n",
       "    .dataframe tbody tr th {\n",
       "        vertical-align: top;\n",
       "    }\n",
       "\n",
       "    .dataframe thead th {\n",
       "        text-align: right;\n",
       "    }\n",
       "</style>\n",
       "<table border=\"1\" class=\"dataframe\">\n",
       "  <thead>\n",
       "    <tr style=\"text-align: right;\">\n",
       "      <th></th>\n",
       "      <th>gender</th>\n",
       "      <th>age</th>\n",
       "      <th>income</th>\n",
       "      <th>family_members</th>\n",
       "      <th>insurance_benefits</th>\n",
       "    </tr>\n",
       "  </thead>\n",
       "  <tbody>\n",
       "    <tr>\n",
       "      <th>count</th>\n",
       "      <td>5000.000000</td>\n",
       "      <td>5000.000000</td>\n",
       "      <td>5000.000000</td>\n",
       "      <td>5000.000000</td>\n",
       "      <td>5000.000000</td>\n",
       "    </tr>\n",
       "    <tr>\n",
       "      <th>mean</th>\n",
       "      <td>0.499000</td>\n",
       "      <td>30.952800</td>\n",
       "      <td>39916.360000</td>\n",
       "      <td>1.194200</td>\n",
       "      <td>0.148000</td>\n",
       "    </tr>\n",
       "    <tr>\n",
       "      <th>std</th>\n",
       "      <td>0.500049</td>\n",
       "      <td>8.440807</td>\n",
       "      <td>9900.083569</td>\n",
       "      <td>1.091387</td>\n",
       "      <td>0.463183</td>\n",
       "    </tr>\n",
       "    <tr>\n",
       "      <th>min</th>\n",
       "      <td>0.000000</td>\n",
       "      <td>18.000000</td>\n",
       "      <td>5300.000000</td>\n",
       "      <td>0.000000</td>\n",
       "      <td>0.000000</td>\n",
       "    </tr>\n",
       "    <tr>\n",
       "      <th>25%</th>\n",
       "      <td>0.000000</td>\n",
       "      <td>24.000000</td>\n",
       "      <td>33300.000000</td>\n",
       "      <td>0.000000</td>\n",
       "      <td>0.000000</td>\n",
       "    </tr>\n",
       "    <tr>\n",
       "      <th>50%</th>\n",
       "      <td>0.000000</td>\n",
       "      <td>30.000000</td>\n",
       "      <td>40200.000000</td>\n",
       "      <td>1.000000</td>\n",
       "      <td>0.000000</td>\n",
       "    </tr>\n",
       "    <tr>\n",
       "      <th>75%</th>\n",
       "      <td>1.000000</td>\n",
       "      <td>37.000000</td>\n",
       "      <td>46600.000000</td>\n",
       "      <td>2.000000</td>\n",
       "      <td>0.000000</td>\n",
       "    </tr>\n",
       "    <tr>\n",
       "      <th>max</th>\n",
       "      <td>1.000000</td>\n",
       "      <td>65.000000</td>\n",
       "      <td>79000.000000</td>\n",
       "      <td>6.000000</td>\n",
       "      <td>5.000000</td>\n",
       "    </tr>\n",
       "  </tbody>\n",
       "</table>\n",
       "</div>"
      ],
      "text/plain": [
       "            gender          age        income  family_members  \\\n",
       "count  5000.000000  5000.000000   5000.000000     5000.000000   \n",
       "mean      0.499000    30.952800  39916.360000        1.194200   \n",
       "std       0.500049     8.440807   9900.083569        1.091387   \n",
       "min       0.000000    18.000000   5300.000000        0.000000   \n",
       "25%       0.000000    24.000000  33300.000000        0.000000   \n",
       "50%       0.000000    30.000000  40200.000000        1.000000   \n",
       "75%       1.000000    37.000000  46600.000000        2.000000   \n",
       "max       1.000000    65.000000  79000.000000        6.000000   \n",
       "\n",
       "       insurance_benefits  \n",
       "count         5000.000000  \n",
       "mean             0.148000  \n",
       "std              0.463183  \n",
       "min              0.000000  \n",
       "25%              0.000000  \n",
       "50%              0.000000  \n",
       "75%              0.000000  \n",
       "max              5.000000  "
      ]
     },
     "execution_count": 8,
     "metadata": {},
     "output_type": "execute_result"
    }
   ],
   "source": [
    "df.describe()# now have a look at the data's descriptive statistics. \n"
   ]
  },
  {
   "cell_type": "code",
   "execution_count": 9,
   "metadata": {},
   "outputs": [
    {
     "data": {
      "image/png": "[encoded data removed]",
      "text/plain": [
       "<Figure size 1200x500 with 2 Axes>"
      ]
     },
     "metadata": {},
     "output_type": "display_data"
    }
   ],
   "source": [
    "import matplotlib.pyplot as plt\n",
    "\n",
    "\n",
    "plt.figure(figsize=(12, 5))\n",
    "\n",
    "plt.subplot(1, 2, 1)\n",
    "counts, bins, patches = plt.hist(df['family_members'], bins=np.arange(df['family_members'].max() + 2) - 0.5, edgecolor='black', alpha=0.7)\n",
    "plt.xticks(range(df['family_members'].max() + 1))\n",
    "plt.title('Histogram of Family Members')\n",
    "plt.xlabel('Number of Family Members')\n",
    "plt.ylabel('Count')\n",
    "\n",
    "for count, bin_edge in zip(counts, bins[:-1]):\n",
    "    plt.text(bin_edge + 0.25, count + 5, str(int(count)), ha='center', fontsize=10)\n",
    "\n",
    "plt.subplot(1, 2, 2)\n",
    "counts, bins, patches = plt.hist(df['insurance_benefits'], bins=np.arange(df['insurance_benefits'].max() + 2) - 0.5, edgecolor='black', alpha=0.7)\n",
    "plt.xticks(range(df['insurance_benefits'].max() + 1))\n",
    "plt.title('Histogram of Insurance Benefits')\n",
    "plt.xlabel('Insurance Benefits')\n",
    "plt.ylabel('Count')\n",
    "\n",
    "for count, bin_edge in zip(counts, bins[:-1]):\n",
    "    plt.text(bin_edge + 0.25, count + 5, str(int(count)), ha='center', fontsize=10)\n",
    "\n",
    "plt.tight_layout()\n",
    "plt.show()"
   ]
  },
  {
   "cell_type": "markdown",
   "metadata": {},
   "source": [
    "#The data looks okay some points to take notice are family members and insurance benefits are heavily positively skewed given that most poeople do not have any insurance benefits and most people only have 1 2 or maybe 3 siblings. Also there is an outlier of only 1 person who has had 5 insurance claims.  Since it is only 1 out of 5,000 I am going to remove it from the data."
   ]
  },
  {
   "cell_type": "code",
   "execution_count": 10,
   "metadata": {},
   "outputs": [
    {
     "data": {
      "image/png": "[encoded data removed]",
      "text/plain": [
       "<Figure size 1200x500 with 2 Axes>"
      ]
     },
     "metadata": {},
     "output_type": "display_data"
    },
    {
     "data": {
      "text/html": [
       "<div>\n",
       "<style scoped>\n",
       "    .dataframe tbody tr th:only-of-type {\n",
       "        vertical-align: middle;\n",
       "    }\n",
       "\n",
       "    .dataframe tbody tr th {\n",
       "        vertical-align: top;\n",
       "    }\n",
       "\n",
       "    .dataframe thead th {\n",
       "        text-align: right;\n",
       "    }\n",
       "</style>\n",
       "<table border=\"1\" class=\"dataframe\">\n",
       "  <thead>\n",
       "    <tr style=\"text-align: right;\">\n",
       "      <th></th>\n",
       "      <th>gender</th>\n",
       "      <th>age</th>\n",
       "      <th>income</th>\n",
       "      <th>family_members</th>\n",
       "      <th>insurance_benefits</th>\n",
       "    </tr>\n",
       "  </thead>\n",
       "  <tbody>\n",
       "    <tr>\n",
       "      <th>count</th>\n",
       "      <td>4999.000000</td>\n",
       "      <td>4999.000000</td>\n",
       "      <td>4999.000000</td>\n",
       "      <td>4999.000000</td>\n",
       "      <td>4999.000000</td>\n",
       "    </tr>\n",
       "    <tr>\n",
       "      <th>mean</th>\n",
       "      <td>0.498900</td>\n",
       "      <td>30.945989</td>\n",
       "      <td>39916.403281</td>\n",
       "      <td>1.194239</td>\n",
       "      <td>0.147029</td>\n",
       "    </tr>\n",
       "    <tr>\n",
       "      <th>std</th>\n",
       "      <td>0.500049</td>\n",
       "      <td>8.427900</td>\n",
       "      <td>9901.073451</td>\n",
       "      <td>1.091492</td>\n",
       "      <td>0.458116</td>\n",
       "    </tr>\n",
       "    <tr>\n",
       "      <th>min</th>\n",
       "      <td>0.000000</td>\n",
       "      <td>18.000000</td>\n",
       "      <td>5300.000000</td>\n",
       "      <td>0.000000</td>\n",
       "      <td>0.000000</td>\n",
       "    </tr>\n",
       "    <tr>\n",
       "      <th>25%</th>\n",
       "      <td>0.000000</td>\n",
       "      <td>24.000000</td>\n",
       "      <td>33300.000000</td>\n",
       "      <td>0.000000</td>\n",
       "      <td>0.000000</td>\n",
       "    </tr>\n",
       "    <tr>\n",
       "      <th>50%</th>\n",
       "      <td>0.000000</td>\n",
       "      <td>30.000000</td>\n",
       "      <td>40200.000000</td>\n",
       "      <td>1.000000</td>\n",
       "      <td>0.000000</td>\n",
       "    </tr>\n",
       "    <tr>\n",
       "      <th>75%</th>\n",
       "      <td>1.000000</td>\n",
       "      <td>37.000000</td>\n",
       "      <td>46600.000000</td>\n",
       "      <td>2.000000</td>\n",
       "      <td>0.000000</td>\n",
       "    </tr>\n",
       "    <tr>\n",
       "      <th>max</th>\n",
       "      <td>1.000000</td>\n",
       "      <td>62.000000</td>\n",
       "      <td>79000.000000</td>\n",
       "      <td>6.000000</td>\n",
       "      <td>4.000000</td>\n",
       "    </tr>\n",
       "  </tbody>\n",
       "</table>\n",
       "</div>"
      ],
      "text/plain": [
       "            gender          age        income  family_members  \\\n",
       "count  4999.000000  4999.000000   4999.000000     4999.000000   \n",
       "mean      0.498900    30.945989  39916.403281        1.194239   \n",
       "std       0.500049     8.427900   9901.073451        1.091492   \n",
       "min       0.000000    18.000000   5300.000000        0.000000   \n",
       "25%       0.000000    24.000000  33300.000000        0.000000   \n",
       "50%       0.000000    30.000000  40200.000000        1.000000   \n",
       "75%       1.000000    37.000000  46600.000000        2.000000   \n",
       "max       1.000000    62.000000  79000.000000        6.000000   \n",
       "\n",
       "       insurance_benefits  \n",
       "count         4999.000000  \n",
       "mean             0.147029  \n",
       "std              0.458116  \n",
       "min              0.000000  \n",
       "25%              0.000000  \n",
       "50%              0.000000  \n",
       "75%              0.000000  \n",
       "max              4.000000  "
      ]
     },
     "execution_count": 10,
     "metadata": {},
     "output_type": "execute_result"
    }
   ],
   "source": [
    "df = df[df['insurance_benefits'] != 5]\n",
    "\n",
    "plt.figure(figsize=(12, 5))\n",
    "\n",
    "plt.subplot(1, 2, 1)\n",
    "counts, bins, patches = plt.hist(df['family_members'], bins=np.arange(df['family_members'].max() + 2) - 0.5, edgecolor='black', alpha=0.7)\n",
    "plt.xticks(range(df['family_members'].max() + 1))\n",
    "plt.title('Histogram of Family Members')\n",
    "plt.xlabel('Number of Family Members')\n",
    "plt.ylabel('Count')\n",
    "\n",
    "for count, bin_edge in zip(counts, bins[:-1]):\n",
    "    plt.text(bin_edge + 0.25, count + 5, str(int(count)), ha='center', fontsize=10)\n",
    "\n",
    "plt.subplot(1, 2, 2)\n",
    "counts, bins, patches = plt.hist(df['insurance_benefits'], bins=np.arange(df['insurance_benefits'].max() + 2) - 0.5, edgecolor='black', alpha=0.7)\n",
    "plt.xticks(range(df['insurance_benefits'].max() + 1))\n",
    "plt.title('Histogram of Insurance Benefits')\n",
    "plt.xlabel('Insurance Benefits')\n",
    "plt.ylabel('Count')\n",
    "\n",
    "for count, bin_edge in zip(counts, bins[:-1]):\n",
    "    plt.text(bin_edge + 0.25, count + 5, str(int(count)), ha='center', fontsize=10)\n",
    "\n",
    "plt.tight_layout()\n",
    "plt.show()\n",
    "\n",
    "df.describe()"
   ]
  },
  {
   "cell_type": "markdown",
   "metadata": {},
   "source": [
    "## EDA"
   ]
  },
  {
   "cell_type": "markdown",
   "metadata": {},
   "source": [
    "Let's quickly check whether there are certain groups of customers by looking at the pair plot."
   ]
  },
  {
   "cell_type": "code",
   "execution_count": 11,
   "metadata": {},
   "outputs": [
    {
     "data": {
      "image/png": "[encoded data removed]",
      "text/plain": [
       "<Figure size 1200x1200 with 30 Axes>"
      ]
     },
     "metadata": {},
     "output_type": "display_data"
    }
   ],
   "source": [
    "g = sns.pairplot(df, kind='hist')\n",
    "g.fig.set_size_inches(12, 12)"
   ]
  },
  {
   "cell_type": "markdown",
   "metadata": {},
   "source": [
    "Ok, it is a bit difficult to spot obvious groups (clusters) as it is difficult to combine several variables simultaneously (to analyze multivariate distributions). That's where LA and ML can be quite handy."
   ]
  },
  {
   "cell_type": "markdown",
   "metadata": {},
   "source": [
    "# Task 1. Similar Customers"
   ]
  },
  {
   "cell_type": "markdown",
   "metadata": {},
   "source": [
    "In the language of ML, it is necessary to develop a procedure that returns k nearest neighbors (objects) for a given object based on the distance between the objects.\n",
    "\n",
    "You may want to review the following lessons (chapter -> lesson)\n",
    "- Distance Between Vectors -> Euclidean Distance\n",
    "- Distance Between Vectors -> Manhattan Distance\n",
    "\n",
    "To solve the task, we can try different distance metrics."
   ]
  },
  {
   "cell_type": "markdown",
   "metadata": {},
   "source": [
    "Write a function that returns k nearest neighbors for an $n^{th}$ object based on a specified distance metric. The number of received insurance benefits should not be taken into account for this task. \n",
    "\n",
    "You can use a ready implementation of the kNN algorithm from scikit-learn (check [the link](https://scikit-learn.org/stable/modules/generated/sklearn.neighbors.NearestNeighbors.html#sklearn.neighbors.NearestNeighbors)) or use your own.\n",
    "\n",
    "Test it for four combination of two cases\n",
    "- Scaling\n",
    "  - the data is not scaled\n",
    "  - the data is scaled with the [MaxAbsScaler](https://scikit-learn.org/stable/modules/generated/sklearn.preprocessing.MaxAbsScaler.html) scaler\n",
    "- Distance Metrics\n",
    "  - Euclidean\n",
    "  - Manhattan\n",
    "\n",
    "Answer these questions:\n",
    "- Does the data being not scaled affect the kNN algorithm? If so, how does that appear?\n",
    "- How similar are the results using the Manhattan distance metric (regardless of the scaling)?"
   ]
  },
  {
   "cell_type": "code",
   "execution_count": 12,
   "metadata": {},
   "outputs": [],
   "source": [
    "feature_names = ['gender', 'age', 'income', 'family_members']"
   ]
  },
  {
   "cell_type": "code",
   "execution_count": 13,
   "metadata": {
    "scrolled": true
   },
   "outputs": [
    {
     "name": "stdout",
     "output_type": "stream",
     "text": [
      "gender                0\n",
      "age                   0\n",
      "income                0\n",
      "family_members        0\n",
      "insurance_benefits    0\n",
      "distance              0\n",
      "dtype: int64\n"
     ]
    }
   ],
   "source": [
    "from sklearn.neighbors import NearestNeighbors\n",
    "\n",
    "def get_knn(df, n, k, metric):\n",
    "    \n",
    "    \"\"\"\n",
    "    Returns k nearest neighbors\n",
    "\n",
    "    :param df: pandas DataFrame used to find similar objects within\n",
    "    :param n: object no for which the nearest neighbours are looked for\n",
    "    :param k: the number of the nearest neighbours to return\n",
    "    :param metric: name of distance metric\n",
    "    \"\"\"\n",
    "    df = df.copy().reset_index(drop=True)\n",
    "    if n >= df.shape[0]:\n",
    "        raise ValueError(f\"Row index {n} is out of range (max {df.shape[0]-1})\")\n",
    "\n",
    "    nbrs = NearestNeighbors(n_neighbors=k, metric=metric)\n",
    "    nbrs.fit(df[feature_names])# <your code here> \n",
    "    nbrs_distances, nbrs_indices = nbrs.kneighbors([df.iloc[n][feature_names]], k, return_distance=True)\n",
    "    \n",
    "    df_res = pd.concat([\n",
    "        df.iloc[nbrs_indices[0]], \n",
    "        pd.DataFrame(nbrs_distances.T, index=nbrs_indices[0], columns=['distance'])\n",
    "        ], axis=1)\n",
    "    \n",
    "    return df_res\n",
    "\n",
    "df_res = get_knn(df, n=100, k=10, metric=\"euclidean\")\n",
    "print(df_res.isnull().sum())"
   ]
  },
  {
   "cell_type": "markdown",
   "metadata": {},
   "source": [
    "Scaling the data."
   ]
  },
  {
   "cell_type": "code",
   "execution_count": 14,
   "metadata": {},
   "outputs": [],
   "source": [
    "feature_names = ['gender', 'age', 'income', 'family_members']\n",
    "\n",
    "transformer_mas = sklearn.preprocessing.MaxAbsScaler().fit(df[feature_names].to_numpy())\n",
    "\n",
    "df_scaled = df.copy()\n",
    "df_scaled.loc[:, feature_names] = transformer_mas.transform(df[feature_names].to_numpy())"
   ]
  },
  {
   "cell_type": "code",
   "execution_count": 15,
   "metadata": {},
   "outputs": [
    {
     "name": "stdout",
     "output_type": "stream",
     "text": [
      "gender                0\n",
      "age                   0\n",
      "income                0\n",
      "family_members        0\n",
      "insurance_benefits    0\n",
      "dtype: int64\n"
     ]
    }
   ],
   "source": [
    "df_scaled.sample(5)\n",
    "print(df_scaled.isnull().sum())"
   ]
  },
  {
   "cell_type": "markdown",
   "metadata": {},
   "source": [
    "Now, let's get similar records for a given one for every combination"
   ]
  },
  {
   "cell_type": "code",
   "execution_count": 16,
   "metadata": {},
   "outputs": [
    {
     "name": "stdout",
     "output_type": "stream",
     "text": [
      "Configuration: Scale=True, Metric=euclidean\n",
      "      gender       age    income  family_members  insurance_benefits  distance\n",
      "0        1.0  0.661290  0.627848        0.166667                   0  0.000000\n",
      "2688     1.0  0.661290  0.634177        0.166667                   0  0.006329\n",
      "133      1.0  0.645161  0.636709        0.166667                   0  0.018403\n",
      "4868     1.0  0.677419  0.637975        0.166667                   1  0.019045\n",
      "3274     1.0  0.677419  0.651899        0.166667                   1  0.028958\n",
      "Configuration: Scale=True, Metric=manhattan\n",
      "      gender       age    income  family_members  insurance_benefits  distance\n",
      "0        1.0  0.661290  0.627848        0.166667                   0  0.000000\n",
      "2688     1.0  0.661290  0.634177        0.166667                   0  0.006329\n",
      "133      1.0  0.645161  0.636709        0.166667                   0  0.024990\n",
      "4868     1.0  0.677419  0.637975        0.166667                   1  0.026256\n",
      "3364     1.0  0.661290  0.596203        0.166667                   0  0.031646\n",
      "Configuration: Scale=False, Metric=euclidean\n",
      "      gender  age   income  family_members  insurance_benefits  distance\n",
      "0          1   41  49600.0               1                   0  0.000000\n",
      "2021       1   41  49600.0               0                   0  1.000000\n",
      "1224       0   42  49600.0               0                   1  1.732051\n",
      "4030       1   44  49600.0               2                   1  3.162278\n",
      "3423       0   38  49600.0               0                   0  3.316625\n",
      "Configuration: Scale=False, Metric=manhattan\n",
      "      gender  age   income  family_members  insurance_benefits  distance\n",
      "0          1   41  49600.0               1                   0       0.0\n",
      "2021       1   41  49600.0               0                   0       1.0\n",
      "1224       0   42  49600.0               0                   1       3.0\n",
      "4030       1   44  49600.0               2                   1       4.0\n",
      "814        1   37  49600.0               2                   0       5.0\n"
     ]
    }
   ],
   "source": [
    "from sklearn.neighbors import NearestNeighbors\n",
    "\n",
    "scaling_options = [True, False]\n",
    "distance_metrics = ['euclidean', 'manhattan']\n",
    "\n",
    "def scale_data(df, scale):\n",
    "    if scale:\n",
    "        transformer_mas = sklearn.preprocessing.MaxAbsScaler().fit(df[feature_names].to_numpy())\n",
    "        df_scaled = df.copy()\n",
    "        df_scaled.loc[:, feature_names] = transformer_mas.transform(df[feature_names].to_numpy())\n",
    "        return df_scaled\n",
    "    return df\n",
    "\n",
    "for scale in scaling_options:\n",
    "    for metric in distance_metrics:\n",
    "        print(f\"Configuration: Scale={scale}, Metric={metric}\")\n",
    "        \n",
    "        df_transformed = scale_data(df, scale)\n",
    "        \n",
    "        n = 0\n",
    "        k = 5\n",
    "        similar_records = get_knn(df_transformed, n, k, metric)\n",
    "        \n",
    "        print(similar_records)"
   ]
  },
  {
   "cell_type": "markdown",
   "metadata": {},
   "source": [
    "Answers to the questions"
   ]
  },
  {
   "cell_type": "markdown",
   "metadata": {},
   "source": [
    "**Does the data being not scaled affect the kNN algorithm? If so, how does that appear?** \n",
    "\n",
    "Yes, judging from adjusting the n position you will see that data being scaled drastically changes the distance measurement in the kNN algorithm.  That makes sense though since you are scaling every variable down to a value between 0 and 1 you will get a lower distance because the sum of the distances for all the variables will be from variables betweeen 0 and 1."
   ]
  },
  {
   "cell_type": "markdown",
   "metadata": {},
   "source": [
    "**How similar are the results using the Manhattan distance metric (regardless of the scaling)?** \n",
    "\n",
    "For the Manhattan results the distances are slightly higher for both non-scaled and scaled.  That due to the Manhattan distance not being a straight line and more like when you are walking street block by street block zig zagging your way to the location.  When you do that you are going to be traveling a further distance overall unless it was a straight line to begin with."
   ]
  },
  {
   "cell_type": "markdown",
   "metadata": {},
   "source": [
    "# Task 2. Is Customer Likely to Receive Insurance Benefit?"
   ]
  },
  {
   "cell_type": "markdown",
   "metadata": {},
   "source": [
    "In terms of machine learning we can look at this like a binary classification task."
   ]
  },
  {
   "cell_type": "markdown",
   "metadata": {},
   "source": [
    "With `insurance_benefits` being more than zero as the target, evaluate whether the kNN classification approach can do better than a dummy model.\n",
    "\n",
    "Instructions:\n",
    "- Build a KNN-based classifier and measure its quality with the F1 metric for k=1..10 for both the original data and the scaled one. That'd be interesting to see how k may influece the evaluation metric, and whether scaling the data makes any difference. You can use a ready implemention of the kNN classification algorithm from scikit-learn (check [the link](https://scikit-learn.org/stable/modules/generated/sklearn.neighbors.KNeighborsClassifier.html)) or use your own.\n",
    "- Build the dummy model which is just random for this case. It should return \"1\" with some probability. Let's test the model with four probability values: 0, the probability of paying any insurance benefit, 0.5, 1.\n",
    "\n",
    "The probability of paying any insurance benefit can be defined as\n",
    "\n",
    "$$\n",
    "P\\{\\text{insurance benefit received}\\}=\\frac{\\text{number of clients received any insurance benefit}}{\\text{total number of clients}}.\n",
    "$$\n",
    "\n",
    "Split the whole data in the 70:30 proportion for the training/testing parts."
   ]
  },
  {
   "cell_type": "code",
   "execution_count": 17,
   "metadata": {},
   "outputs": [],
   "source": [
    "# calculate the target\n",
    "\n",
    "df['insurance_benefits_received'] = (df['insurance_benefits'] > 0).astype(int)\n",
    "df_scaled['insurance_benefits_received'] = (df_scaled['insurance_benefits']).astype(int) > 0#<your code here>"
   ]
  },
  {
   "cell_type": "code",
   "execution_count": 18,
   "metadata": {},
   "outputs": [
    {
     "name": "stdout",
     "output_type": "stream",
     "text": [
      "gender\n",
      "0    2505\n",
      "1    2494\n",
      "dtype: int64\n",
      "family_members\n",
      "1    1813\n",
      "0    1513\n",
      "2    1071\n",
      "3     439\n",
      "4     124\n",
      "5      32\n",
      "6       7\n",
      "dtype: int64\n",
      "insurance_benefits\n",
      "0    4436\n",
      "1     423\n",
      "2     115\n",
      "3      18\n",
      "4       7\n",
      "dtype: int64\n",
      "   gender  age   income  family_members  insurance_benefits  \\\n",
      "0       1   41  49600.0               1                   0   \n",
      "1       0   46  38000.0               1                   1   \n",
      "2       0   29  21000.0               0                   0   \n",
      "3       0   21  41700.0               2                   0   \n",
      "4       1   28  26100.0               0                   0   \n",
      "5       1   43  41000.0               2                   1   \n",
      "6       1   39  39700.0               2                   0   \n",
      "7       1   25  38600.0               4                   0   \n",
      "8       1   36  49700.0               1                   0   \n",
      "9       1   32  51700.0               1                   0   \n",
      "\n",
      "   insurance_benefits_received  \n",
      "0                            0  \n",
      "1                            1  \n",
      "2                            0  \n",
      "3                            0  \n",
      "4                            0  \n",
      "5                            1  \n",
      "6                            0  \n",
      "7                            0  \n",
      "8                            0  \n",
      "9                            0  \n"
     ]
    }
   ],
   "source": [
    "# check for the class imbalance with value_counts()\n",
    "gender_counts = df.value_counts('gender')\n",
    "family_counts = df.value_counts('family_members')\n",
    "insurance_counts = df.value_counts('insurance_benefits')\n",
    "\n",
    "print(gender_counts)\n",
    "print(family_counts)\n",
    "print(insurance_counts)# <your code here>\n",
    "print(df.head(10))"
   ]
  },
  {
   "cell_type": "code",
   "execution_count": 19,
   "metadata": {},
   "outputs": [],
   "source": [
    "X = df.drop(columns=[\"insurance_benefits_received\", \"insurance_benefits\"])\n",
    "y = df[\"insurance_benefits_received\"].astype(int)\n",
    "\n",
    "\n",
    "X_scaled = df_scaled.drop(columns=[\"insurance_benefits_received\", \"insurance_benefits\"])\n",
    "y_scaled = df_scaled['insurance_benefits_received'].astype(int)\n"
   ]
  },
  {
   "cell_type": "code",
   "execution_count": 20,
   "metadata": {},
   "outputs": [],
   "source": [
    "X_train, X_test, y_train, y_test = train_test_split(X, y, test_size=0.3, random_state=12345)\n",
    "X_train_scaled, X_test_scaled, y_train_scaled, y_test_scaled = train_test_split(X_scaled, y_scaled, test_size=0.3, random_state=12345)"
   ]
  },
  {
   "cell_type": "code",
   "execution_count": 22,
   "metadata": {},
   "outputs": [
    {
     "name": "stdout",
     "output_type": "stream",
     "text": [
      "KNN Results: {1: 0.6122448979591838, 2: 0.33777777777777773, 3: 0.3781512605042017, 4: 0.17821782178217824, 5: 0.19718309859154928, 6: 0.0634920634920635, 7: 0.0634920634920635, 8: 0.03296703296703297, 9: 0.03278688524590164, 10: 0.022099447513812154}\n",
      "KNN Scaled Results: {1: 0.9507246376811594, 2: 0.9085365853658537, 3: 0.9352941176470588, 4: 0.8950617283950617, 5: 0.9069069069069069, 6: 0.877742946708464, 7: 0.9024390243902439, 8: 0.8598726114649682, 9: 0.8757763975155279, 10: 0.8535031847133759}\n",
      "Dummy Model Results: {0: 0.0, 0.5: 0.0, 1: 0.0}\n"
     ]
    }
   ],
   "source": [
    "from sklearn.neighbors import KNeighborsClassifier\n",
    "from sklearn.metrics import f1_score\n",
    "from sklearn.dummy import DummyClassifier\n",
    "\n",
    "knn_results = {}\n",
    "for k in range(1, 11):\n",
    "    knn = KNeighborsClassifier(n_neighbors=k)\n",
    "    knn.fit(X_train, y_train)\n",
    "    y_pred = knn.predict(X_test)\n",
    "    f1 = f1_score(y_test, y_pred)\n",
    "    knn_results[k] = f1\n",
    "\n",
    "knn_scaled_results = {}\n",
    "for k in range(1, 11):\n",
    "    knn = KNeighborsClassifier(n_neighbors=k)\n",
    "    knn.fit(X_train_scaled, y_train_scaled)\n",
    "    y_pred_scaled = knn.predict(X_test_scaled)\n",
    "    f1_scaled = f1_score(y_test_scaled, y_pred_scaled)\n",
    "    knn_scaled_results[k] = f1_scaled\n",
    "\n",
    "dummy_results = {}\n",
    "for prob in [0, 0.5, 1]:\n",
    "    dummy = DummyClassifier(strategy=\"prior\", constant=prob)\n",
    "    dummy.fit(X_train, y_train)\n",
    "    y_pred_dummy = dummy.predict(X_test)\n",
    "    f1_dummy = f1_score(y_test, y_pred_dummy)\n",
    "    dummy_results[prob] = f1_dummy\n",
    "\n",
    "\n",
    "print(\"KNN Results:\", knn_results)\n",
    "print(\"KNN Scaled Results:\", knn_scaled_results)\n",
    "print(\"Dummy Model Results:\", dummy_results)"
   ]
  },
  {
   "cell_type": "markdown",
   "metadata": {},
   "source": [
    "#The precode already in here was not working for me in line 42 so I built my own KNN testing."
   ]
  },
  {
   "cell_type": "markdown",
   "metadata": {},
   "source": [
    "#According to our KNN classifier data for both the scaled and unscaled data the scaled data test far better.  The normal datas best KNN model had an F1 score of 0.61 with a K value of 1 and a worst score of 0.022 for K value of 10.  The average scores out of the 10 K options for the normal data was far below the average score for the scaled data.   The scaled data had an average F1 score that was floating around 0.9.  The F1 score for K value of 1 was 0.951 while the lowest F1 score for the K value of 10 was 0.853.  SCaling the data drastically benefited the model and helped with making predicitions.  Also the higher we made the K score the more the F1 score decreased.  To low of a K1 score and lead to overfitting but to high of a K1 score can smooth predictions and reduce noise but may lose some detail."
   ]
  },
  {
   "cell_type": "markdown",
   "metadata": {},
   "source": [
    "# Task 3. Regression (with Linear Regression)"
   ]
  },
  {
   "cell_type": "markdown",
   "metadata": {},
   "source": [
    "With `insurance_benefits` as the target, evaluate what RMSE would be for a Linear Regression model."
   ]
  },
  {
   "cell_type": "markdown",
   "metadata": {},
   "source": [
    "Build your own implementation of LR. For that, recall how the linear regression task's solution is formulated in terms of LA. Check RMSE for both the original data and the scaled one. Can you see any difference in RMSE between these two cases?\n",
    "\n",
    "Let's denote\n",
    "- $X$ — feature matrix, each row is a case, each column is a feature, the first column consists of unities\n",
    "- $y$ — target (a vector)\n",
    "- $\\hat{y}$ — estimated tagret (a vector)\n",
    "- $w$ — weight vector\n",
    "\n",
    "The task of linear regression in the language of matrices can be formulated as\n",
    "\n",
    "$$\n",
    "y = Xw\n",
    "$$\n",
    "\n",
    "The training objective then is to find such $w$ that it would minimize the L2-distance (MSE) between $Xw$ and $y$:\n",
    "\n",
    "$$\n",
    "\\min_w d_2(Xw, y) \\quad \\text{or} \\quad \\min_w \\text{MSE}(Xw, y)\n",
    "$$\n",
    "\n",
    "It appears that there is analytical solution for the above:\n",
    "\n",
    "$$\n",
    "w = (X^T X)^{-1} X^T y\n",
    "$$\n",
    "\n",
    "The formula above can be used to find the weights $w$ and the latter can be used to calculate predicted values\n",
    "\n",
    "$$\n",
    "\\hat{y} = X_{val}w\n",
    "$$"
   ]
  },
  {
   "cell_type": "markdown",
   "metadata": {},
   "source": [
    "Split the whole data in the 70:30 proportion for the training/validation parts. Use the RMSE metric for the model evaluation."
   ]
  },
  {
   "cell_type": "code",
   "execution_count": 22,
   "metadata": {},
   "outputs": [],
   "source": [
    "import math\n",
    "import sklearn.metrics\n",
    "\n",
    "class MyLinearRegression:\n",
    "    \n",
    "    def __init__(self):\n",
    "        \n",
    "        self.weights = None\n",
    "    \n",
    "    def fit(self, X, y):\n",
    "        \n",
    "        # adding the unities\n",
    "        X2 = np.append(np.ones([len(X), 1]), X, axis=1)\n",
    "        y = y.reshape(-1, 1)\n",
    "        self.weights = np.linalg.inv(X2.T @ X2) @ X2.T @ y# <your code here>\n",
    "\n",
    "    def predict(self, X):\n",
    "        \n",
    "        # adding the unities\n",
    "        X2 = np.append(np.ones((len(X), 1)), X, axis=1)# <your code here>\n",
    "        y_pred = X2 @ self.weights# <your code here>\n",
    "        \n",
    "        return y_pred"
   ]
  },
  {
   "cell_type": "code",
   "execution_count": 23,
   "metadata": {},
   "outputs": [],
   "source": [
    "def eval_regressor(y_true, y_pred):\n",
    "    \n",
    "    rmse = math.sqrt(sklearn.metrics.mean_squared_error(y_true, y_pred))\n",
    "    print(f'RMSE: {rmse:.2f}')\n",
    "    \n",
    "    r2_score = math.sqrt(sklearn.metrics.r2_score(y_true, y_pred))\n",
    "    print(f'R2: {r2_score:.2f}')    "
   ]
  },
  {
   "cell_type": "code",
   "execution_count": 24,
   "metadata": {},
   "outputs": [
    {
     "name": "stdout",
     "output_type": "stream",
     "text": [
      "[[-9.39589935e-01]\n",
      " [ 3.49408689e-02]\n",
      " [ 1.40129187e-02]\n",
      " [ 1.48982444e-07]\n",
      " [-1.00527394e-02]]\n",
      "RMSE: 0.35\n",
      "R2: 0.66\n"
     ]
    }
   ],
   "source": [
    "X = df[['age', 'gender', 'income', 'family_members']].to_numpy()\n",
    "y = df['insurance_benefits'].to_numpy()\n",
    "\n",
    "X_train, X_test, y_train, y_test = train_test_split(X, y, test_size=0.3, random_state=12345)\n",
    "\n",
    "lr = MyLinearRegression()\n",
    "\n",
    "lr.fit(X_train, y_train)\n",
    "print(lr.weights)\n",
    "\n",
    "y_test_pred = lr.predict(X_test)\n",
    "eval_regressor(y_test, y_test_pred)"
   ]
  },
  {
   "cell_type": "code",
   "execution_count": 25,
   "metadata": {},
   "outputs": [],
   "source": [
    "import math\n",
    "import sklearn.metrics\n",
    "\n",
    "class MyLinearRegression:\n",
    "    \n",
    "    def __init__(self):\n",
    "        \n",
    "        self.weights = None\n",
    "    \n",
    "    def fit(self, X_scaled, y_scaled):\n",
    "        \n",
    "        # adding the unities\n",
    "        X2_scaled = np.append(np.ones([len(X_scaled), 1]), X_scaled, axis=1)\n",
    "        y_scaled = y_scaled.reshape(-1, 1)\n",
    "        self.weights_scaled = np.linalg.inv(X2_scaled.T @ X2_scaled) @ X2_scaled.T @ y_scaled# <your code here>\n",
    "\n",
    "    def predict(self, X_scaled):\n",
    "        \n",
    "        # adding the unities\n",
    "        X2_scaled = np.append(np.ones((len(X_scaled), 1)), X_scaled, axis=1)# <your code here>\n",
    "        y_pred_scaled = X2_scaled @ self.weights_scaled# <your code here>\n",
    "        \n",
    "        return y_pred_scaled"
   ]
  },
  {
   "cell_type": "code",
   "execution_count": 26,
   "metadata": {},
   "outputs": [],
   "source": [
    "def eval_regressor(y_true_scaled, y_pred_scaled):\n",
    "    \n",
    "    rmse = math.sqrt(sklearn.metrics.mean_squared_error(y_true_scaled, y_pred_scaled))\n",
    "    print(f'RMSE: {rmse:.2f}')\n",
    "    \n",
    "    r2_score = math.sqrt(sklearn.metrics.r2_score(y_true_scaled, y_pred_scaled))\n",
    "    print(f'R2: {r2_score:.2f}')    "
   ]
  },
  {
   "cell_type": "code",
   "execution_count": 27,
   "metadata": {},
   "outputs": [
    {
     "name": "stdout",
     "output_type": "stream",
     "text": [
      "None\n",
      "RMSE: 0.35\n",
      "R2: 0.66\n"
     ]
    }
   ],
   "source": [
    "X_scaled = df[['age', 'gender', 'income', 'family_members']].to_numpy()\n",
    "y_scaled = df['insurance_benefits'].to_numpy()\n",
    "\n",
    "X_train_scaled, X_test_scaled, y_train_scaled, y_test_scaled = train_test_split(X_scaled, y_scaled, test_size=0.3, random_state=12345)\n",
    "\n",
    "lr_scaled = MyLinearRegression()\n",
    "\n",
    "lr_scaled.fit(X_train_scaled, y_train_scaled)\n",
    "print(lr_scaled.weights)\n",
    "\n",
    "y_test_pred_scaled = lr_scaled.predict(X_test_scaled)\n",
    "eval_regressor(y_test_scaled, y_test_pred_scaled)"
   ]
  },
  {
   "cell_type": "markdown",
   "metadata": {},
   "source": [
    "#Comparing RMSE for the original data and the scaled data shows no difference between the two.  Since the scaling just adjusts the numbers 0 to 1 there will still be differences in the data but it makes sense that the RMSE is the same since distances will just be decreased by equal proportions for scaling."
   ]
  },
  {
   "cell_type": "markdown",
   "metadata": {},
   "source": [
    "# Task 4. Obfuscating Data"
   ]
  },
  {
   "cell_type": "markdown",
   "metadata": {},
   "source": [
    "It best to obfuscate data by multiplying the numerical features (remember, they can be seen as the matrix $X$) by an invertible matrix $P$. \n",
    "\n",
    "$$\n",
    "X' = X \\times P\n",
    "$$\n",
    "\n",
    "Try to do that and check how the features' values will look like after the transformation. By the way, the intertible property is important here so make sure that $P$ is indeed invertible.\n",
    "\n",
    "You may want to review the 'Matrices and Matrix Operations -> Matrix Multiplication' lesson to recall the rule of matrix multiplication and its implementation with NumPy."
   ]
  },
  {
   "cell_type": "code",
   "execution_count": 30,
   "metadata": {},
   "outputs": [],
   "source": [
    "personal_info_column_list = ['gender', 'age', 'income', 'family_members']\n",
    "df_pn = df[personal_info_column_list]"
   ]
  },
  {
   "cell_type": "code",
   "execution_count": 31,
   "metadata": {},
   "outputs": [],
   "source": [
    "X = df_pn.to_numpy()"
   ]
  },
  {
   "cell_type": "markdown",
   "metadata": {},
   "source": [
    "Generating a random matrix $P$."
   ]
  },
  {
   "cell_type": "code",
   "execution_count": 32,
   "metadata": {},
   "outputs": [],
   "source": [
    "rng = np.random.default_rng(seed=42)\n",
    "P = rng.random(size=(X.shape[1], X.shape[1]))"
   ]
  },
  {
   "cell_type": "markdown",
   "metadata": {},
   "source": [
    "Checking the matrix $P$ is invertible"
   ]
  },
  {
   "cell_type": "code",
   "execution_count": 37,
   "metadata": {},
   "outputs": [
    {
     "name": "stdout",
     "output_type": "stream",
     "text": [
      "P is invertible: True\n"
     ]
    }
   ],
   "source": [
    "def is_invertible(matrix):\n",
    "    try:\n",
    "        determinant = np.linalg.det(matrix)\n",
    "        return determinant != 0\n",
    "    except np.linalg.LinAlgError:\n",
    "        return False\n",
    "    \n",
    "print(f\"P is invertible: {is_invertible(P)}\")"
   ]
  },
  {
   "cell_type": "markdown",
   "metadata": {},
   "source": [
    "Can you guess the customers' ages or income after the transformation?"
   ]
  },
  {
   "cell_type": "markdown",
   "metadata": {},
   "source": [
    "#No you cannot after applying obfuscation.  The transformed data looks completely different than the original data.  The relationship between the variables has changed making it extremely difficult to extract individual values."
   ]
  },
  {
   "cell_type": "code",
   "execution_count": 38,
   "metadata": {},
   "outputs": [
    {
     "name": "stdout",
     "output_type": "stream",
     "text": [
      "Original Data (First 5 Rows):\n",
      "   gender   age   income  family_members\n",
      "0     1.0  41.0  49600.0             1.0\n",
      "1     0.0  46.0  38000.0             1.0\n",
      "2     0.0  29.0  21000.0             0.0\n",
      "3     0.0  21.0  41700.0             2.0\n",
      "4     1.0  28.0  26100.0             0.0\n",
      "\n",
      "Obfuscated Data (First 5 Rows):\n",
      "        gender           age        income  family_members\n",
      "0  6359.715273  22380.404676  18424.090742    46000.696690\n",
      "1  4873.294065  17160.367030  14125.780761    35253.455773\n",
      "2  2693.117429   9486.397744   7808.831560    19484.860631\n",
      "3  5345.603937  18803.227203  15479.148373    38663.061863\n",
      "4  3347.176735  11782.829283   9699.998942    24211.273378\n"
     ]
    }
   ],
   "source": [
    "X_obfuscated = X @ P \n",
    "\n",
    "print(\"Original Data (First 5 Rows):\")\n",
    "print(pd.DataFrame(X, columns=personal_info_column_list).head())\n",
    "\n",
    "print(\"\\nObfuscated Data (First 5 Rows):\")\n",
    "print(pd.DataFrame(X_obfuscated, columns=personal_info_column_list).head())"
   ]
  },
  {
   "cell_type": "markdown",
   "metadata": {},
   "source": [
    "Can you recover the original data from $X'$ if you know $P$? Try to check that with calculations by moving $P$ from the right side of the formula above to the left one. The rules of matrix multiplcation are really helpful here."
   ]
  },
  {
   "cell_type": "code",
   "execution_count": 39,
   "metadata": {},
   "outputs": [
    {
     "name": "stdout",
     "output_type": "stream",
     "text": [
      "\n",
      "Recovered Data (First 5 Rows):\n",
      "         gender   age   income  family_members\n",
      "0  1.000000e+00  41.0  49600.0    1.000000e+00\n",
      "1 -4.473636e-12  46.0  38000.0    1.000000e+00\n",
      "2 -2.515869e-12  29.0  21000.0    9.524523e-13\n",
      "3 -4.844982e-12  21.0  41700.0    2.000000e+00\n",
      "4  1.000000e+00  28.0  26100.0   -1.019907e-13\n"
     ]
    }
   ],
   "source": [
    "P_inv = np.linalg.inv(P)\n",
    "\n",
    "X_recovered = X_obfuscated @ P_inv\n",
    "\n",
    "print(\"\\nRecovered Data (First 5 Rows):\")\n",
    "print(pd.DataFrame(X_recovered, columns=personal_info_column_list).head())"
   ]
  },
  {
   "cell_type": "markdown",
   "metadata": {},
   "source": [
    "Print all three cases for a few customers\n",
    "- The original data\n",
    "- The transformed one\n",
    "- The reversed (recovered) one"
   ]
  },
  {
   "cell_type": "code",
   "execution_count": 40,
   "metadata": {},
   "outputs": [
    {
     "name": "stdout",
     "output_type": "stream",
     "text": [
      "\n",
      "Original Data (First 5 Rows):\n",
      "   gender   age   income  family_members\n",
      "0     1.0  41.0  49600.0             1.0\n",
      "1     0.0  46.0  38000.0             1.0\n",
      "2     0.0  29.0  21000.0             0.0\n",
      "3     0.0  21.0  41700.0             2.0\n",
      "4     1.0  28.0  26100.0             0.0\n",
      "\n",
      "Obfuscated Data (First 5 Rows):\n",
      "        gender           age        income  family_members\n",
      "0  6359.715273  22380.404676  18424.090742    46000.696690\n",
      "1  4873.294065  17160.367030  14125.780761    35253.455773\n",
      "2  2693.117429   9486.397744   7808.831560    19484.860631\n",
      "3  5345.603937  18803.227203  15479.148373    38663.061863\n",
      "4  3347.176735  11782.829283   9699.998942    24211.273378\n",
      "\n",
      "Recovered Data (First 5 Rows):\n",
      "         gender   age   income  family_members\n",
      "0  1.000000e+00  41.0  49600.0    1.000000e+00\n",
      "1 -4.473636e-12  46.0  38000.0    1.000000e+00\n",
      "2 -2.515869e-12  29.0  21000.0    9.524523e-13\n",
      "3 -4.844982e-12  21.0  41700.0    2.000000e+00\n",
      "4  1.000000e+00  28.0  26100.0   -1.019907e-13\n"
     ]
    }
   ],
   "source": [
    "df_obfuscated = pd.DataFrame(X_obfuscated, columns=personal_info_column_list)\n",
    "df_recovered = pd.DataFrame(X_recovered, columns=personal_info_column_list)\n",
    "\n",
    "print(\"\\nOriginal Data (First 5 Rows):\")\n",
    "print(pd.DataFrame(X, columns=personal_info_column_list).head())\n",
    "\n",
    "print(\"\\nObfuscated Data (First 5 Rows):\")\n",
    "print(df_obfuscated.head())\n",
    "\n",
    "print(\"\\nRecovered Data (First 5 Rows):\")\n",
    "print(df_recovered.head())"
   ]
  },
  {
   "cell_type": "markdown",
   "metadata": {},
   "source": [
    "You can probably see that some values are not exactly the same as they are in the original data. What might be the reason for that?"
   ]
  },
  {
   "cell_type": "markdown",
   "metadata": {},
   "source": [
    "#I believe the reason some of the values are not the same is because the values take on a whole number and the obfuscation get the numbers close to the whole number but still has an extremely large amount of decimals.  For example gender is either 1 or 0, it looks like in the recovered data it either gives us a value of 1.0000000000001342 (or some combination or decimals with a large amount of 0s or a value extremely close to 0 but not precisely zero."
   ]
  },
  {
   "cell_type": "markdown",
   "metadata": {},
   "source": [
    "## Proof That Data Obfuscation Can Work with LR"
   ]
  },
  {
   "cell_type": "markdown",
   "metadata": {},
   "source": [
    "The regression task has been solved with linear regression in this project. Your next task is to prove _analytically_ that the given obfuscation method won't affect linear regression in terms of predicted values i.e. their values will remain the same. Can you believe that? Well, you don't have to, you should prove it!"
   ]
  },
  {
   "cell_type": "markdown",
   "metadata": {},
   "source": [
    "So, the data is obfuscated and there is $X \\times P$ instead of just $X$ now. Consequently, there are other weights $w_P$ as\n",
    "$$\n",
    "w = (X^T X)^{-1} X^T y \\quad \\Rightarrow \\quad w_P = [(XP)^T XP]^{-1} (XP)^T y\n",
    "$$\n",
    "\n",
    "How would $w$ and $w_P$ be linked if you simplify the formula for $w_P$ above? \n",
    "\n",
    "What would be predicted values with $w_P$? \n",
    "\n",
    "What does that mean for the quality of linear regression if you measure it with RMSE?\n",
    "\n",
    "Check Appendix B Properties of Matrices in the end of the notebook. There are useful formulas in there!\n",
    "\n",
    "No code is necessary in this section, only analytical explanation!"
   ]
  },
  {
   "cell_type": "markdown",
   "metadata": {},
   "source": [
    "**Answer**"
   ]
  },
  {
   "cell_type": "markdown",
   "metadata": {},
   "source": [
    "wp is just a transformed version of w, meaning they are directly related through $ P^{-1} $.  The predicted values remain unchanged.  Since predictions are indentical the RMSE will also be identical.  T"
   ]
  },
  {
   "cell_type": "markdown",
   "metadata": {},
   "source": [
    "**Analytical proof**"
   ]
  },
  {
   "cell_type": "markdown",
   "metadata": {},
   "source": [
    "Normal equation:\n",
    "$$ w = (X^T X)^{-1} X^T y $$\n",
    "If we obfuscate X by multiplying it with an invertible matrix P then new weights of the vectors WP becomes:\n",
    "$$ wp = [(XP)^T XP]^{-1} (XP)^T y $$\n",
    "rewriting the transpose:\n",
    "$$ wp = [P^T X^T X P]^{-1} P^T X^T y $$\n",
    "then with matrix invesrion we know:\n",
    "$$ wp = P^{-1}(X^T X)^{-1} P^{-T} P^T X^T y $$\n",
    "Since P^-T * P^T = I:\n",
    "$$ wp = P^{-1}(X^T X)^{-1} X^T y $$\n",
    "\n",
    "Predictions are given by $ y = Xw $\n",
    "For the obfuscated version:\n",
    "$$ yp = XPwp $$\n",
    "Substituting wp = P^-1 * w:\n",
    "$$ yp = XPP^{-1}w $$\n",
    "Since PP ^ -1 = I, we get:\n",
    "$$ yp = Xw = y $$\n",
    "\n",
    "Therefore the predicted values remain the same."
   ]
  },
  {
   "cell_type": "markdown",
   "metadata": {},
   "source": [
    "## Test Linear Regression With Data Obfuscation"
   ]
  },
  {
   "cell_type": "markdown",
   "metadata": {},
   "source": [
    "Now, let's prove Linear Regression can work computationally with the chosen obfuscation transformation.\n",
    "\n",
    "Build a procedure or a class that runs Linear Regression optionally with the obfuscation. You can use either a ready implementation of Linear Regression from sciki-learn or your own.\n",
    "\n",
    "Run Linear Regression for the original data and the obfuscated one, compare the predicted values and the RMSE, $R^2$ metric values. Is there any difference?"
   ]
  },
  {
   "cell_type": "markdown",
   "metadata": {},
   "source": [
    "**Procedure**\n",
    "\n",
    "- Create a square matrix $P$ of random numbers.\n",
    "- Check that it is invertible. If not, repeat the first point until we get an invertible matrix.\n",
    "- <! your comment here !>\n",
    "- Use $XP$ as the new feature matrix"
   ]
  },
  {
   "cell_type": "code",
   "execution_count": 41,
   "metadata": {},
   "outputs": [
    {
     "name": "stdout",
     "output_type": "stream",
     "text": [
      "RMSE (Original Data): 0.34785\n",
      "RMSE (Obfuscated Data): 0.34785\n"
     ]
    }
   ],
   "source": [
    "from sklearn.linear_model import LinearRegression\n",
    "from sklearn.metrics import mean_squared_error\n",
    "\n",
    "\n",
    "def generate_invertible_matrix(size):\n",
    "    while True:\n",
    "        P = np.random.rand(size, size)  # Generate random matrix\n",
    "        if np.linalg.det(P) != 0:  # Check if it's invertible\n",
    "            return P\n",
    "        \n",
    "P = generate_invertible_matrix(X.shape[1])\n",
    "P_inv = np.linalg.inv(P)\n",
    "\n",
    "X_train_obf = X_train @ P\n",
    "X_test_obf = X_test @ P\n",
    "\n",
    "lr = LinearRegression()\n",
    "lr.fit(X_train, y_train)\n",
    "y_pred_orig = lr.predict(X_test)\n",
    "rmse_orig = math.sqrt(mean_squared_error(y_test, y_pred_orig))\n",
    "\n",
    "lr_obf = LinearRegression()\n",
    "lr_obf.fit(X_train_obf, y_train)\n",
    "y_pred_obf = lr_obf.predict(X_test_obf)\n",
    "rmse_obf = math.sqrt(mean_squared_error(y_test, y_pred_obf))\n",
    "\n",
    "print(f\"RMSE (Original Data): {rmse_orig:.5f}\")\n",
    "print(f\"RMSE (Obfuscated Data): {rmse_obf:.5f}\")"
   ]
  },
  {
   "cell_type": "markdown",
   "metadata": {},
   "source": [
    "RMSE when rounded to 0.35 is indentical to the RMSE on the original data.  Proving the obfuscation does not change the prrediction error on the models and predictions stay the same.  The linear regression model showed no difference between the original data and the obfuscated data.  "
   ]
  },
  {
   "cell_type": "markdown",
   "metadata": {},
   "source": [
    "# Conclusions"
   ]
  },
  {
   "cell_type": "markdown",
   "metadata": {},
   "source": [
    "#Based off our analysis of the data the information shows kNN classification can help us find similar data in our database to compare the likelihood off a insurance benefit being handled out to a customer.  Based on our kNN analysis the scaled data does far better than the original data at predicting whether a client will be getting an insurance benefit or not.  When it comes to linear regression the scaled and normal data perform the same with RMSE's at 0.35, meaning scaling the data did not lead to better models here.  We also learned obfuscation (modifying the information in a way that conceals its original form) will still lead to the same results in in machine learning regression algorithms.  It allows us to protect sensitive data while still allowing models to be trained. "
   ]
  },
  {
   "cell_type": "markdown",
   "metadata": {},
   "source": [
    "# Checklist"
   ]
  },
  {
   "cell_type": "markdown",
   "metadata": {},
   "source": [
    "Type 'x' to check. Then press Shift+Enter."
   ]
  },
  {
   "cell_type": "markdown",
   "metadata": {},
   "source": [
    "- [x]  Jupyter Notebook is open\n",
    "- [X]  Code is error free\n",
    "- [X]  The cells are arranged in order of logic and execution\n",
    "- [X]  Task 1 has been performed\n",
    "    - [X]  There is the procedure that can return k similar customers for a given one\n",
    "    - [X]  The procedure is tested for all four proposed combinations\n",
    "    - [X]  The questions re the scaling/distances are answered\n",
    "- [X]  Task 2 has been performed\n",
    "    - [X]  The random classification model is built and tested for all for probability levels\n",
    "    - [X]  The kNN classification model is built and tested for both the original data and the scaled one, the F1 metric is calculated.\n",
    "- [X]  Task 3 has been performed\n",
    "    - [X]  The linear tegression solution is implemented with matrix operations.\n",
    "    - [X]  RMSE is calculated for the implemented solution.\n",
    "- [X]  Task 4 has been performed\n",
    "    - [X]  The data is obfuscated with a random and invertible matrix P\n",
    "    - [X]  The obfuscated data is recoved, few examples are printed out\n",
    "    - [X]  The analytical proof that the transformation does not affect RMSE is provided \n",
    "    - [X]  The computational proof that the transformation does not affect RMSE is provided\n",
    "- [X]  Conclusions have been made"
   ]
  },
  {
   "cell_type": "markdown",
   "metadata": {},
   "source": [
    "# Appendices \n",
    "\n",
    "## Appendix A: Writing Formulas in Jupyter Notebooks"
   ]
  },
  {
   "cell_type": "markdown",
   "metadata": {},
   "source": [
    "You can write formulas in your Jupyter Notebook in a markup language provided by a high-quality publishing system called $\\LaTeX$ (pronounced \"Lah-tech\"), and they will look like formulas in textbooks.\n",
    "\n",
    "To put a formula in a text, put the dollar sign (\\\\$) before and after the formula's text e.g. $\\frac{1}{2} \\times \\frac{3}{2} = \\frac{3}{4}$ or $y = x^2, x \\ge 1$.\n",
    "\n",
    "If a formula should be in its own paragraph, put the double dollar sign (\\\\$\\\\$) before and after the formula text e.g.\n",
    "\n",
    "$$\n",
    "\\bar{x} = \\frac{1}{n}\\sum_{i=1}^{n} x_i.\n",
    "$$\n",
    "\n",
    "The markup language of [LaTeX](https://en.wikipedia.org/wiki/LaTeX) is very popular among people who use formulas in their articles, books and texts. It can be complex but its basics are easy. Check this two page [cheatsheet](http://tug.ctan.org/info/undergradmath/undergradmath.pdf) for learning how to compose the most common formulas."
   ]
  },
  {
   "cell_type": "markdown",
   "metadata": {},
   "source": [
    "## Appendix B: Properties of Matrices"
   ]
  },
  {
   "cell_type": "markdown",
   "metadata": {},
   "source": [
    "Matrices have many properties in Linear Algebra. A few of them are listed here which can help with the analytical proof in this project."
   ]
  },
  {
   "cell_type": "markdown",
   "metadata": {},
   "source": [
    "<table>\n",
    "<tr>\n",
    "<td>Distributivity</td><td>$A(B+C)=AB+AC$</td>\n",
    "</tr>\n",
    "<tr>\n",
    "<td>Non-commutativity</td><td>$AB \\neq BA$</td>\n",
    "</tr>\n",
    "<tr>\n",
    "<td>Associative property of multiplication</td><td>$(AB)C = A(BC)$</td>\n",
    "</tr>\n",
    "<tr>\n",
    "<td>Multiplicative identity property</td><td>$IA = AI = A$</td>\n",
    "</tr>\n",
    "<tr>\n",
    "<td></td><td>$A^{-1}A = AA^{-1} = I$\n",
    "</td>\n",
    "</tr>    \n",
    "<tr>\n",
    "<td></td><td>$(AB)^{-1} = B^{-1}A^{-1}$</td>\n",
    "</tr>    \n",
    "<tr>\n",
    "<td>Reversivity of the transpose of a product of matrices,</td><td>$(AB)^T = B^TA^T$</td>\n",
    "</tr>    \n",
    "</table>"
   ]
  }
 ],
 "metadata": {
  "ExecuteTimeLog": [
   {
    "duration": 2876,
    "start_time": "2025-02-21T15:36:16.583Z"
   },
   {
    "duration": 12,
    "start_time": "2025-02-21T15:36:24.671Z"
   },
   {
    "duration": 4,
    "start_time": "2025-02-21T15:37:13.176Z"
   },
   {
    "duration": 14,
    "start_time": "2025-02-21T15:37:13.719Z"
   },
   {
    "duration": 11,
    "start_time": "2025-02-21T15:37:16.053Z"
   },
   {
    "duration": 137,
    "start_time": "2025-02-21T15:38:00.518Z"
   },
   {
    "duration": 16,
    "start_time": "2025-02-21T15:38:12.817Z"
   },
   {
    "duration": 323,
    "start_time": "2025-02-21T15:39:02.979Z"
   },
   {
    "duration": 970,
    "start_time": "2025-02-21T15:39:28.499Z"
   },
   {
    "duration": 8,
    "start_time": "2025-02-21T15:39:30.649Z"
   },
   {
    "duration": 4,
    "start_time": "2025-02-21T15:39:31.076Z"
   },
   {
    "duration": 11,
    "start_time": "2025-02-21T15:39:31.447Z"
   },
   {
    "duration": 10,
    "start_time": "2025-02-21T15:39:32.159Z"
   },
   {
    "duration": 4,
    "start_time": "2025-02-21T15:39:34.854Z"
   },
   {
    "duration": 9,
    "start_time": "2025-02-21T15:39:36.770Z"
   },
   {
    "duration": 24,
    "start_time": "2025-02-21T15:39:51.295Z"
   },
   {
    "duration": 345,
    "start_time": "2025-02-21T16:01:32.030Z"
   },
   {
    "duration": 329,
    "start_time": "2025-02-21T16:02:27.711Z"
   },
   {
    "duration": 349,
    "start_time": "2025-02-21T16:04:58.219Z"
   },
   {
    "duration": 8,
    "start_time": "2025-02-21T16:08:27.857Z"
   },
   {
    "duration": 8,
    "start_time": "2025-02-21T16:08:36.029Z"
   },
   {
    "duration": 386,
    "start_time": "2025-02-21T16:08:41.179Z"
   },
   {
    "duration": 2704,
    "start_time": "2025-02-21T16:08:52.168Z"
   },
   {
    "duration": 5,
    "start_time": "2025-02-21T16:20:06.020Z"
   },
   {
    "duration": 11,
    "start_time": "2025-02-21T16:20:23.860Z"
   },
   {
    "duration": 9,
    "start_time": "2025-02-21T16:20:24.307Z"
   },
   {
    "duration": 328,
    "start_time": "2025-02-21T16:24:02.739Z"
   },
   {
    "duration": 4,
    "start_time": "2025-02-21T16:24:47.400Z"
   },
   {
    "duration": 9,
    "start_time": "2025-02-21T16:24:48.280Z"
   },
   {
    "duration": 9,
    "start_time": "2025-02-21T16:24:48.703Z"
   },
   {
    "duration": 52,
    "start_time": "2025-02-21T16:24:52.266Z"
   },
   {
    "duration": 1013,
    "start_time": "2025-02-21T16:25:51.741Z"
   },
   {
    "duration": 7,
    "start_time": "2025-02-21T16:25:52.757Z"
   },
   {
    "duration": 3,
    "start_time": "2025-02-21T16:25:53.886Z"
   },
   {
    "duration": 11,
    "start_time": "2025-02-21T16:25:54.042Z"
   },
   {
    "duration": 10,
    "start_time": "2025-02-21T16:25:54.233Z"
   },
   {
    "duration": 3,
    "start_time": "2025-02-21T16:25:54.364Z"
   },
   {
    "duration": 10,
    "start_time": "2025-02-21T16:25:55.741Z"
   },
   {
    "duration": 18,
    "start_time": "2025-02-21T16:25:56.003Z"
   },
   {
    "duration": 345,
    "start_time": "2025-02-21T16:25:56.219Z"
   },
   {
    "duration": 310,
    "start_time": "2025-02-21T16:25:58.459Z"
   },
   {
    "duration": 2543,
    "start_time": "2025-02-21T16:26:01.858Z"
   },
   {
    "duration": 3,
    "start_time": "2025-02-21T16:26:09.118Z"
   },
   {
    "duration": 4,
    "start_time": "2025-02-21T16:26:10.658Z"
   },
   {
    "duration": 8,
    "start_time": "2025-02-21T16:26:12.368Z"
   },
   {
    "duration": 9,
    "start_time": "2025-02-21T16:26:13.010Z"
   },
   {
    "duration": 52,
    "start_time": "2025-02-21T16:26:16.800Z"
   },
   {
    "duration": 8,
    "start_time": "2025-02-21T16:27:27.107Z"
   },
   {
    "duration": 6,
    "start_time": "2025-02-21T16:27:29.765Z"
   },
   {
    "duration": 61,
    "start_time": "2025-02-21T16:27:34.489Z"
   },
   {
    "duration": 228,
    "start_time": "2025-02-21T16:28:01.637Z"
   },
   {
    "duration": 13,
    "start_time": "2025-02-21T16:30:54.153Z"
   },
   {
    "duration": 13,
    "start_time": "2025-02-21T16:31:10.060Z"
   },
   {
    "duration": 13,
    "start_time": "2025-02-21T16:31:16.726Z"
   },
   {
    "duration": 16,
    "start_time": "2025-02-21T16:36:36.947Z"
   },
   {
    "duration": 26,
    "start_time": "2025-02-21T16:36:42.354Z"
   },
   {
    "duration": 16,
    "start_time": "2025-02-21T16:36:46.134Z"
   },
   {
    "duration": 14,
    "start_time": "2025-02-21T16:36:49.800Z"
   },
   {
    "duration": 20,
    "start_time": "2025-02-21T16:36:54.057Z"
   },
   {
    "duration": 14,
    "start_time": "2025-02-21T16:37:00.015Z"
   },
   {
    "duration": 13,
    "start_time": "2025-02-21T16:39:20.201Z"
   },
   {
    "duration": 12,
    "start_time": "2025-02-21T16:49:35.071Z"
   },
   {
    "duration": 12,
    "start_time": "2025-02-21T16:49:47.983Z"
   },
   {
    "duration": 323,
    "start_time": "2025-02-21T16:50:32.444Z"
   },
   {
    "duration": 13,
    "start_time": "2025-02-21T16:50:46.157Z"
   },
   {
    "duration": 14,
    "start_time": "2025-02-21T16:50:56.790Z"
   },
   {
    "duration": 129,
    "start_time": "2025-02-21T16:52:54.669Z"
   },
   {
    "duration": 969,
    "start_time": "2025-02-21T16:54:33.882Z"
   },
   {
    "duration": 7,
    "start_time": "2025-02-21T16:54:34.853Z"
   },
   {
    "duration": 3,
    "start_time": "2025-02-21T16:54:36.126Z"
   },
   {
    "duration": 12,
    "start_time": "2025-02-21T16:54:37.752Z"
   },
   {
    "duration": 9,
    "start_time": "2025-02-21T16:54:37.986Z"
   },
   {
    "duration": 3,
    "start_time": "2025-02-21T16:54:40.727Z"
   },
   {
    "duration": 9,
    "start_time": "2025-02-21T16:54:41.151Z"
   },
   {
    "duration": 17,
    "start_time": "2025-02-21T16:54:43.533Z"
   },
   {
    "duration": 382,
    "start_time": "2025-02-21T16:54:45.596Z"
   },
   {
    "duration": 389,
    "start_time": "2025-02-21T16:54:47.455Z"
   },
   {
    "duration": 2787,
    "start_time": "2025-02-21T16:54:51.122Z"
   },
   {
    "duration": 3,
    "start_time": "2025-02-21T16:54:55.182Z"
   },
   {
    "duration": 15,
    "start_time": "2025-02-21T16:54:56.715Z"
   },
   {
    "duration": 266,
    "start_time": "2025-02-21T16:55:10.446Z"
   },
   {
    "duration": 34,
    "start_time": "2025-02-21T16:56:00.336Z"
   },
   {
    "duration": 8,
    "start_time": "2025-02-21T16:56:02.313Z"
   },
   {
    "duration": 6,
    "start_time": "2025-02-21T16:56:02.706Z"
   },
   {
    "duration": 54,
    "start_time": "2025-02-21T16:56:04.897Z"
   },
   {
    "duration": 36,
    "start_time": "2025-02-21T17:00:08.723Z"
   },
   {
    "duration": 8,
    "start_time": "2025-02-21T17:00:13.079Z"
   },
   {
    "duration": 6,
    "start_time": "2025-02-21T17:00:14.370Z"
   },
   {
    "duration": 51,
    "start_time": "2025-02-21T17:00:15.395Z"
   },
   {
    "duration": 2666,
    "start_time": "2025-02-21T20:25:48.213Z"
   },
   {
    "duration": 12,
    "start_time": "2025-02-21T20:25:50.882Z"
   },
   {
    "duration": 3,
    "start_time": "2025-02-21T20:25:50.896Z"
   },
   {
    "duration": 10,
    "start_time": "2025-02-21T20:25:50.900Z"
   },
   {
    "duration": 9,
    "start_time": "2025-02-21T20:25:50.912Z"
   },
   {
    "duration": 4,
    "start_time": "2025-02-21T20:25:51.120Z"
   },
   {
    "duration": 9,
    "start_time": "2025-02-21T20:25:51.316Z"
   },
   {
    "duration": 19,
    "start_time": "2025-02-21T20:25:51.591Z"
   },
   {
    "duration": 426,
    "start_time": "2025-02-21T20:25:56.559Z"
   },
   {
    "duration": 353,
    "start_time": "2025-02-21T20:25:58.432Z"
   },
   {
    "duration": 2602,
    "start_time": "2025-02-21T20:26:05.957Z"
   },
   {
    "duration": 3,
    "start_time": "2025-02-21T20:26:11.801Z"
   },
   {
    "duration": 15,
    "start_time": "2025-02-21T20:26:12.407Z"
   },
   {
    "duration": 253,
    "start_time": "2025-02-21T20:26:17.346Z"
   },
   {
    "duration": 9,
    "start_time": "2025-02-21T20:26:23.494Z"
   },
   {
    "duration": 5,
    "start_time": "2025-02-21T20:26:24.343Z"
   },
   {
    "duration": 52,
    "start_time": "2025-02-21T20:26:26.748Z"
   },
   {
    "duration": 32,
    "start_time": "2025-02-21T20:32:32.700Z"
   },
   {
    "duration": 14,
    "start_time": "2025-02-21T20:33:42.129Z"
   },
   {
    "duration": 14,
    "start_time": "2025-02-21T20:33:50.692Z"
   },
   {
    "duration": 8,
    "start_time": "2025-02-21T20:34:12.259Z"
   },
   {
    "duration": 5,
    "start_time": "2025-02-21T20:34:13.075Z"
   },
   {
    "duration": 50,
    "start_time": "2025-02-21T20:34:15.503Z"
   },
   {
    "duration": 8,
    "start_time": "2025-02-21T20:34:39.112Z"
   },
   {
    "duration": 7,
    "start_time": "2025-02-21T20:34:39.656Z"
   },
   {
    "duration": 48,
    "start_time": "2025-02-21T20:35:16.405Z"
   },
   {
    "duration": 28,
    "start_time": "2025-02-21T20:38:01.420Z"
   },
   {
    "duration": 44,
    "start_time": "2025-02-21T20:38:27.243Z"
   },
   {
    "duration": 1425,
    "start_time": "2025-02-21T20:38:38.061Z"
   },
   {
    "duration": 1284,
    "start_time": "2025-02-21T20:40:13.414Z"
   },
   {
    "duration": 1319,
    "start_time": "2025-02-21T20:40:28.127Z"
   },
   {
    "duration": 979,
    "start_time": "2025-02-21T20:42:35.878Z"
   },
   {
    "duration": 8,
    "start_time": "2025-02-21T20:42:36.859Z"
   },
   {
    "duration": 4,
    "start_time": "2025-02-21T20:42:37.474Z"
   },
   {
    "duration": 11,
    "start_time": "2025-02-21T20:42:38.020Z"
   },
   {
    "duration": 10,
    "start_time": "2025-02-21T20:42:38.451Z"
   },
   {
    "duration": 3,
    "start_time": "2025-02-21T20:42:38.676Z"
   },
   {
    "duration": 9,
    "start_time": "2025-02-21T20:42:38.920Z"
   },
   {
    "duration": 16,
    "start_time": "2025-02-21T20:42:39.152Z"
   },
   {
    "duration": 328,
    "start_time": "2025-02-21T20:42:39.350Z"
   },
   {
    "duration": 370,
    "start_time": "2025-02-21T20:42:40.004Z"
   },
   {
    "duration": 2590,
    "start_time": "2025-02-21T20:42:41.261Z"
   },
   {
    "duration": 3,
    "start_time": "2025-02-21T20:42:43.872Z"
   },
   {
    "duration": 12,
    "start_time": "2025-02-21T20:42:44.204Z"
   },
   {
    "duration": 8,
    "start_time": "2025-02-21T20:42:47.398Z"
   },
   {
    "duration": 5,
    "start_time": "2025-02-21T20:42:47.940Z"
   },
   {
    "duration": 247,
    "start_time": "2025-02-21T20:42:50.882Z"
   },
   {
    "duration": 27,
    "start_time": "2025-02-21T20:43:13.204Z"
   },
   {
    "duration": 13,
    "start_time": "2025-02-21T20:43:31.255Z"
   },
   {
    "duration": 8,
    "start_time": "2025-02-21T20:43:32.535Z"
   },
   {
    "duration": 6,
    "start_time": "2025-02-21T20:43:34.346Z"
   },
   {
    "duration": 26,
    "start_time": "2025-02-21T20:43:35.228Z"
   },
   {
    "duration": 26,
    "start_time": "2025-02-21T20:45:07.893Z"
   },
   {
    "duration": 12,
    "start_time": "2025-02-21T20:45:20.867Z"
   },
   {
    "duration": 9,
    "start_time": "2025-02-21T20:45:23.254Z"
   },
   {
    "duration": 5,
    "start_time": "2025-02-21T20:45:24.592Z"
   },
   {
    "duration": 24,
    "start_time": "2025-02-21T20:45:25.434Z"
   },
   {
    "duration": 1358,
    "start_time": "2025-02-21T20:45:58.761Z"
   },
   {
    "duration": 16,
    "start_time": "2025-02-21T20:49:33.688Z"
   },
   {
    "duration": 22095,
    "start_time": "2025-02-21T20:49:54.566Z"
   },
   {
    "duration": 22161,
    "start_time": "2025-02-21T20:50:46.493Z"
   },
   {
    "duration": 57,
    "start_time": "2025-02-21T21:03:48.693Z"
   },
   {
    "duration": 54,
    "start_time": "2025-02-21T21:04:49.317Z"
   },
   {
    "duration": 55,
    "start_time": "2025-02-21T21:05:05.056Z"
   },
   {
    "duration": 58,
    "start_time": "2025-02-21T21:05:11.827Z"
   },
   {
    "duration": 53,
    "start_time": "2025-02-21T21:05:19.352Z"
   },
   {
    "duration": 54,
    "start_time": "2025-02-21T21:05:31.578Z"
   },
   {
    "duration": 53,
    "start_time": "2025-02-21T21:05:47.540Z"
   },
   {
    "duration": 55,
    "start_time": "2025-02-21T21:29:17.625Z"
   },
   {
    "duration": 53,
    "start_time": "2025-02-21T21:29:23.889Z"
   },
   {
    "duration": 53,
    "start_time": "2025-02-21T21:29:28.509Z"
   },
   {
    "duration": 4,
    "start_time": "2025-02-21T21:38:34.136Z"
   },
   {
    "duration": 16,
    "start_time": "2025-02-21T21:38:54.678Z"
   },
   {
    "duration": 11,
    "start_time": "2025-02-21T21:39:07.340Z"
   },
   {
    "duration": 3,
    "start_time": "2025-02-21T21:39:54.377Z"
   },
   {
    "duration": 12,
    "start_time": "2025-02-21T21:39:54.719Z"
   },
   {
    "duration": 12,
    "start_time": "2025-02-21T21:43:26.826Z"
   },
   {
    "duration": 11,
    "start_time": "2025-02-21T21:47:54.572Z"
   },
   {
    "duration": 8,
    "start_time": "2025-02-21T21:48:18.883Z"
   },
   {
    "duration": 3,
    "start_time": "2025-02-21T21:48:21.239Z"
   },
   {
    "duration": 5,
    "start_time": "2025-02-21T21:48:32.897Z"
   },
   {
    "duration": 1005,
    "start_time": "2025-02-21T21:49:00.664Z"
   },
   {
    "duration": 9,
    "start_time": "2025-02-21T21:49:01.671Z"
   },
   {
    "duration": 4,
    "start_time": "2025-02-21T21:49:01.754Z"
   },
   {
    "duration": 12,
    "start_time": "2025-02-21T21:49:01.918Z"
   },
   {
    "duration": 10,
    "start_time": "2025-02-21T21:49:02.077Z"
   },
   {
    "duration": 3,
    "start_time": "2025-02-21T21:49:02.248Z"
   },
   {
    "duration": 9,
    "start_time": "2025-02-21T21:49:02.426Z"
   },
   {
    "duration": 17,
    "start_time": "2025-02-21T21:49:02.619Z"
   },
   {
    "duration": 371,
    "start_time": "2025-02-21T21:49:02.795Z"
   },
   {
    "duration": 371,
    "start_time": "2025-02-21T21:49:03.206Z"
   },
   {
    "duration": 2525,
    "start_time": "2025-02-21T21:49:03.890Z"
   },
   {
    "duration": 3,
    "start_time": "2025-02-21T21:49:06.417Z"
   },
   {
    "duration": 14,
    "start_time": "2025-02-21T21:49:06.422Z"
   },
   {
    "duration": 7,
    "start_time": "2025-02-21T21:49:06.522Z"
   },
   {
    "duration": 5,
    "start_time": "2025-02-21T21:49:06.771Z"
   },
   {
    "duration": 56,
    "start_time": "2025-02-21T21:49:08.768Z"
   },
   {
    "duration": 4,
    "start_time": "2025-02-21T21:49:12.232Z"
   },
   {
    "duration": 8,
    "start_time": "2025-02-21T21:49:12.754Z"
   },
   {
    "duration": 4,
    "start_time": "2025-02-21T21:49:12.973Z"
   },
   {
    "duration": 2,
    "start_time": "2025-02-21T21:49:13.372Z"
   },
   {
    "duration": 230,
    "start_time": "2025-02-21T22:03:58.082Z"
   },
   {
    "duration": 5,
    "start_time": "2025-02-21T22:04:39.501Z"
   },
   {
    "duration": 2559,
    "start_time": "2025-02-21T22:04:49.348Z"
   },
   {
    "duration": 20,
    "start_time": "2025-02-21T22:05:12.135Z"
   },
   {
    "duration": 15,
    "start_time": "2025-02-21T22:23:08.780Z"
   },
   {
    "duration": 751,
    "start_time": "2025-02-21T22:23:34.450Z"
   },
   {
    "duration": 3,
    "start_time": "2025-02-21T22:25:21.645Z"
   },
   {
    "duration": 4,
    "start_time": "2025-02-21T22:28:15.364Z"
   },
   {
    "duration": 2716,
    "start_time": "2025-02-24T15:26:32.294Z"
   },
   {
    "duration": 8,
    "start_time": "2025-02-24T15:26:35.012Z"
   },
   {
    "duration": 3,
    "start_time": "2025-02-24T15:26:35.538Z"
   },
   {
    "duration": 11,
    "start_time": "2025-02-24T15:26:36.064Z"
   },
   {
    "duration": 10,
    "start_time": "2025-02-24T15:26:37.936Z"
   },
   {
    "duration": 4,
    "start_time": "2025-02-24T15:26:38.660Z"
   },
   {
    "duration": 10,
    "start_time": "2025-02-24T15:26:40.007Z"
   },
   {
    "duration": 18,
    "start_time": "2025-02-24T15:26:41.311Z"
   },
   {
    "duration": 381,
    "start_time": "2025-02-24T15:26:42.439Z"
   },
   {
    "duration": 418,
    "start_time": "2025-02-24T15:26:47.260Z"
   },
   {
    "duration": 2598,
    "start_time": "2025-02-24T15:26:51.173Z"
   },
   {
    "duration": 2,
    "start_time": "2025-02-24T15:26:56.735Z"
   },
   {
    "duration": 13,
    "start_time": "2025-02-24T15:26:57.288Z"
   },
   {
    "duration": 9,
    "start_time": "2025-02-24T15:27:01.428Z"
   },
   {
    "duration": 5,
    "start_time": "2025-02-24T15:27:01.804Z"
   },
   {
    "duration": 54,
    "start_time": "2025-02-24T15:27:04.750Z"
   },
   {
    "duration": 3,
    "start_time": "2025-02-24T15:28:45.703Z"
   },
   {
    "duration": 10,
    "start_time": "2025-02-24T15:28:46.374Z"
   },
   {
    "duration": 5,
    "start_time": "2025-02-24T15:28:49.033Z"
   },
   {
    "duration": 3,
    "start_time": "2025-02-24T15:29:27.933Z"
   },
   {
    "duration": 2838,
    "start_time": "2025-02-24T21:00:26.894Z"
   },
   {
    "duration": 13,
    "start_time": "2025-02-24T21:00:29.734Z"
   },
   {
    "duration": 3,
    "start_time": "2025-02-24T21:00:29.748Z"
   },
   {
    "duration": 11,
    "start_time": "2025-02-24T21:00:29.753Z"
   },
   {
    "duration": 9,
    "start_time": "2025-02-24T21:00:29.765Z"
   },
   {
    "duration": 4,
    "start_time": "2025-02-24T21:00:29.787Z"
   },
   {
    "duration": 10,
    "start_time": "2025-02-24T21:00:29.792Z"
   },
   {
    "duration": 17,
    "start_time": "2025-02-24T21:00:29.803Z"
   },
   {
    "duration": 411,
    "start_time": "2025-02-24T21:00:29.822Z"
   },
   {
    "duration": 437,
    "start_time": "2025-02-24T21:00:30.235Z"
   },
   {
    "duration": 2673,
    "start_time": "2025-02-24T21:00:30.674Z"
   },
   {
    "duration": 3,
    "start_time": "2025-02-24T21:00:37.831Z"
   },
   {
    "duration": 13,
    "start_time": "2025-02-24T21:00:38.102Z"
   },
   {
    "duration": 9,
    "start_time": "2025-02-24T21:00:41.347Z"
   },
   {
    "duration": 6,
    "start_time": "2025-02-24T21:00:43.013Z"
   },
   {
    "duration": 56,
    "start_time": "2025-02-24T21:00:46.794Z"
   },
   {
    "duration": 8,
    "start_time": "2025-02-24T21:01:45.038Z"
   },
   {
    "duration": 849,
    "start_time": "2025-02-24T21:01:46.015Z"
   },
   {
    "duration": 3,
    "start_time": "2025-02-24T21:02:20.574Z"
   },
   {
    "duration": 8,
    "start_time": "2025-02-24T21:02:21.039Z"
   },
   {
    "duration": 4,
    "start_time": "2025-02-24T21:02:23.224Z"
   },
   {
    "duration": 42,
    "start_time": "2025-02-24T21:06:23.700Z"
   },
   {
    "duration": 4,
    "start_time": "2025-02-24T21:06:34.139Z"
   },
   {
    "duration": 8,
    "start_time": "2025-02-24T21:06:35.320Z"
   },
   {
    "duration": 5,
    "start_time": "2025-02-24T21:06:35.977Z"
   },
   {
    "duration": 5,
    "start_time": "2025-02-24T21:10:28.458Z"
   },
   {
    "duration": 6,
    "start_time": "2025-02-24T21:10:29.072Z"
   },
   {
    "duration": 22,
    "start_time": "2025-02-24T21:14:48.040Z"
   },
   {
    "duration": 194,
    "start_time": "2025-02-24T21:14:57.782Z"
   },
   {
    "duration": 304,
    "start_time": "2025-02-24T21:15:05.652Z"
   },
   {
    "duration": 5,
    "start_time": "2025-02-24T21:15:10.747Z"
   },
   {
    "duration": 6,
    "start_time": "2025-02-24T21:15:11.168Z"
   },
   {
    "duration": 286,
    "start_time": "2025-02-24T21:15:11.706Z"
   },
   {
    "duration": 681,
    "start_time": "2025-02-24T21:15:48.817Z"
   },
   {
    "duration": 3,
    "start_time": "2025-02-24T21:18:02.297Z"
   },
   {
    "duration": 11,
    "start_time": "2025-02-24T21:18:02.764Z"
   },
   {
    "duration": 6,
    "start_time": "2025-02-24T21:18:04.648Z"
   },
   {
    "duration": 6,
    "start_time": "2025-02-24T21:18:05.224Z"
   },
   {
    "duration": 658,
    "start_time": "2025-02-24T21:18:06.572Z"
   },
   {
    "duration": 624,
    "start_time": "2025-02-24T21:21:00.283Z"
   },
   {
    "duration": 659,
    "start_time": "2025-02-24T21:22:01.223Z"
   },
   {
    "duration": 3,
    "start_time": "2025-02-24T21:22:20.517Z"
   },
   {
    "duration": 3,
    "start_time": "2025-02-24T21:22:29.649Z"
   },
   {
    "duration": 5,
    "start_time": "2025-02-24T21:22:30.071Z"
   },
   {
    "duration": 16,
    "start_time": "2025-02-24T21:22:40.892Z"
   },
   {
    "duration": 615,
    "start_time": "2025-02-24T21:23:43.976Z"
   },
   {
    "duration": 4,
    "start_time": "2025-02-24T21:46:04.622Z"
   },
   {
    "duration": 3,
    "start_time": "2025-02-24T21:46:05.676Z"
   },
   {
    "duration": 16,
    "start_time": "2025-02-24T21:50:11.411Z"
   },
   {
    "duration": 5,
    "start_time": "2025-02-24T21:50:14.715Z"
   },
   {
    "duration": 6,
    "start_time": "2025-02-24T21:50:15.332Z"
   },
   {
    "duration": 632,
    "start_time": "2025-02-24T21:50:16.076Z"
   },
   {
    "duration": 3,
    "start_time": "2025-02-24T21:50:22.514Z"
   },
   {
    "duration": 3,
    "start_time": "2025-02-24T21:50:23.577Z"
   },
   {
    "duration": 4,
    "start_time": "2025-02-24T21:50:52.588Z"
   },
   {
    "duration": 3,
    "start_time": "2025-02-24T21:50:54.503Z"
   },
   {
    "duration": 80,
    "start_time": "2025-02-24T22:10:22.213Z"
   },
   {
    "duration": 1002,
    "start_time": "2025-02-24T22:10:49.991Z"
   },
   {
    "duration": 9,
    "start_time": "2025-02-24T22:10:50.996Z"
   },
   {
    "duration": 3,
    "start_time": "2025-02-24T22:10:51.007Z"
   },
   {
    "duration": 13,
    "start_time": "2025-02-24T22:10:51.014Z"
   },
   {
    "duration": 10,
    "start_time": "2025-02-24T22:10:51.196Z"
   },
   {
    "duration": 4,
    "start_time": "2025-02-24T22:10:51.362Z"
   },
   {
    "duration": 9,
    "start_time": "2025-02-24T22:10:51.535Z"
   },
   {
    "duration": 17,
    "start_time": "2025-02-24T22:10:51.715Z"
   },
   {
    "duration": 325,
    "start_time": "2025-02-24T22:10:51.897Z"
   },
   {
    "duration": 345,
    "start_time": "2025-02-24T22:10:53.388Z"
   },
   {
    "duration": 2521,
    "start_time": "2025-02-24T22:10:54.030Z"
   },
   {
    "duration": 2,
    "start_time": "2025-02-24T22:10:56.632Z"
   },
   {
    "duration": 14,
    "start_time": "2025-02-24T22:10:57.943Z"
   },
   {
    "duration": 9,
    "start_time": "2025-02-24T22:10:58.785Z"
   },
   {
    "duration": 6,
    "start_time": "2025-02-24T22:10:58.973Z"
   },
   {
    "duration": 55,
    "start_time": "2025-02-24T22:11:00.687Z"
   },
   {
    "duration": 5,
    "start_time": "2025-02-24T22:11:04.739Z"
   },
   {
    "duration": 9,
    "start_time": "2025-02-24T22:11:06.251Z"
   },
   {
    "duration": 5,
    "start_time": "2025-02-24T22:11:06.590Z"
   },
   {
    "duration": 6,
    "start_time": "2025-02-24T22:11:08.149Z"
   },
   {
    "duration": 620,
    "start_time": "2025-02-24T22:11:09.062Z"
   },
   {
    "duration": 3,
    "start_time": "2025-02-24T22:11:11.097Z"
   },
   {
    "duration": 3,
    "start_time": "2025-02-24T22:11:11.487Z"
   },
   {
    "duration": 4,
    "start_time": "2025-02-24T22:11:12.894Z"
   },
   {
    "duration": 6,
    "start_time": "2025-02-24T22:11:16.972Z"
   },
   {
    "duration": 3,
    "start_time": "2025-02-24T22:11:18.178Z"
   },
   {
    "duration": 357,
    "start_time": "2025-02-24T22:11:19.189Z"
   },
   {
    "duration": 4,
    "start_time": "2025-02-24T22:11:33.799Z"
   },
   {
    "duration": 3,
    "start_time": "2025-02-24T22:11:47.499Z"
   },
   {
    "duration": 25,
    "start_time": "2025-02-24T22:11:52.218Z"
   },
   {
    "duration": 3,
    "start_time": "2025-02-24T22:12:15.912Z"
   },
   {
    "duration": 2,
    "start_time": "2025-02-24T22:12:16.281Z"
   },
   {
    "duration": 5,
    "start_time": "2025-02-24T22:12:40.060Z"
   },
   {
    "duration": 6,
    "start_time": "2025-02-24T22:12:51.467Z"
   },
   {
    "duration": 630,
    "start_time": "2025-02-24T22:13:08.887Z"
   },
   {
    "duration": 3,
    "start_time": "2025-02-24T22:13:13.713Z"
   },
   {
    "duration": 4,
    "start_time": "2025-02-24T22:13:26.036Z"
   },
   {
    "duration": 3,
    "start_time": "2025-02-24T22:13:32.466Z"
   },
   {
    "duration": 112,
    "start_time": "2025-02-24T22:13:36.877Z"
   },
   {
    "duration": 4,
    "start_time": "2025-02-24T22:15:12.339Z"
   },
   {
    "duration": 3,
    "start_time": "2025-02-24T22:15:12.713Z"
   },
   {
    "duration": 27,
    "start_time": "2025-02-24T22:15:13.570Z"
   },
   {
    "duration": 4,
    "start_time": "2025-02-24T22:15:20.008Z"
   },
   {
    "duration": 3,
    "start_time": "2025-02-24T22:15:20.377Z"
   },
   {
    "duration": 182,
    "start_time": "2025-02-24T22:15:21.274Z"
   },
   {
    "duration": 4,
    "start_time": "2025-02-24T22:16:16.468Z"
   },
   {
    "duration": 3,
    "start_time": "2025-02-24T22:16:16.974Z"
   },
   {
    "duration": 11,
    "start_time": "2025-02-24T22:16:17.710Z"
   },
   {
    "duration": 4,
    "start_time": "2025-02-24T22:20:41.330Z"
   },
   {
    "duration": 3,
    "start_time": "2025-02-24T22:20:41.697Z"
   },
   {
    "duration": 24,
    "start_time": "2025-02-24T22:20:42.108Z"
   },
   {
    "duration": 10,
    "start_time": "2025-02-24T22:20:48.844Z"
   },
   {
    "duration": 24,
    "start_time": "2025-02-24T22:52:09.376Z"
   },
   {
    "duration": 7,
    "start_time": "2025-02-24T22:52:35.479Z"
   },
   {
    "duration": 72,
    "start_time": "2025-02-24T22:52:48.416Z"
   },
   {
    "duration": 6,
    "start_time": "2025-02-24T22:52:55.702Z"
   },
   {
    "duration": 9,
    "start_time": "2025-02-24T22:54:55.068Z"
   },
   {
    "duration": 2606,
    "start_time": "2025-02-25T14:51:24.610Z"
   },
   {
    "duration": 16,
    "start_time": "2025-02-25T14:51:27.218Z"
   },
   {
    "duration": 4,
    "start_time": "2025-02-25T14:51:27.235Z"
   },
   {
    "duration": 10,
    "start_time": "2025-02-25T14:51:27.241Z"
   },
   {
    "duration": 8,
    "start_time": "2025-02-25T14:51:27.252Z"
   },
   {
    "duration": 3,
    "start_time": "2025-02-25T14:51:27.261Z"
   },
   {
    "duration": 7,
    "start_time": "2025-02-25T14:51:27.266Z"
   },
   {
    "duration": 16,
    "start_time": "2025-02-25T14:51:27.275Z"
   },
   {
    "duration": 394,
    "start_time": "2025-02-25T14:51:27.292Z"
   },
   {
    "duration": 397,
    "start_time": "2025-02-25T14:51:27.689Z"
   },
   {
    "duration": 2561,
    "start_time": "2025-02-25T14:51:28.087Z"
   },
   {
    "duration": 2,
    "start_time": "2025-02-25T14:51:30.651Z"
   },
   {
    "duration": 13,
    "start_time": "2025-02-25T14:51:30.655Z"
   },
   {
    "duration": 8,
    "start_time": "2025-02-25T14:51:30.669Z"
   },
   {
    "duration": 4,
    "start_time": "2025-02-25T14:51:30.679Z"
   },
   {
    "duration": 70,
    "start_time": "2025-02-25T14:51:30.685Z"
   },
   {
    "duration": 5,
    "start_time": "2025-02-25T14:51:34.155Z"
   },
   {
    "duration": 8,
    "start_time": "2025-02-25T14:51:34.329Z"
   },
   {
    "duration": 5,
    "start_time": "2025-02-25T14:51:34.523Z"
   },
   {
    "duration": 6,
    "start_time": "2025-02-25T14:51:35.784Z"
   },
   {
    "duration": 926,
    "start_time": "2025-02-25T14:51:36.212Z"
   },
   {
    "duration": 4,
    "start_time": "2025-02-25T14:51:41.664Z"
   },
   {
    "duration": 2,
    "start_time": "2025-02-25T14:51:41.872Z"
   },
   {
    "duration": 13,
    "start_time": "2025-02-25T14:51:42.046Z"
   },
   {
    "duration": 3,
    "start_time": "2025-02-25T14:51:43.870Z"
   },
   {
    "duration": 3,
    "start_time": "2025-02-25T14:51:44.530Z"
   },
   {
    "duration": 14,
    "start_time": "2025-02-25T14:51:47.046Z"
   },
   {
    "duration": 18,
    "start_time": "2025-02-25T14:55:37.720Z"
   },
   {
    "duration": 14,
    "start_time": "2025-02-25T14:55:44.942Z"
   },
   {
    "duration": 3,
    "start_time": "2025-02-25T14:55:49.107Z"
   },
   {
    "duration": 3,
    "start_time": "2025-02-25T14:55:49.399Z"
   },
   {
    "duration": 2,
    "start_time": "2025-02-25T14:55:50.215Z"
   },
   {
    "duration": 3,
    "start_time": "2025-02-25T14:55:51.197Z"
   },
   {
    "duration": 7,
    "start_time": "2025-02-25T15:02:09.581Z"
   },
   {
    "duration": 31,
    "start_time": "2025-02-25T15:03:02.722Z"
   },
   {
    "duration": 6,
    "start_time": "2025-02-25T15:03:13.792Z"
   },
   {
    "duration": 4,
    "start_time": "2025-02-25T15:04:55.498Z"
   },
   {
    "duration": 7,
    "start_time": "2025-02-25T15:04:57.095Z"
   },
   {
    "duration": 6,
    "start_time": "2025-02-25T15:05:01.759Z"
   },
   {
    "duration": 9,
    "start_time": "2025-02-25T15:05:38.420Z"
   },
   {
    "duration": 8,
    "start_time": "2025-02-25T15:07:46.750Z"
   },
   {
    "duration": 2724,
    "start_time": "2025-02-25T15:40:49.463Z"
   },
   {
    "duration": 12,
    "start_time": "2025-02-25T15:40:52.189Z"
   },
   {
    "duration": 3,
    "start_time": "2025-02-25T15:40:52.203Z"
   },
   {
    "duration": 10,
    "start_time": "2025-02-25T15:40:52.208Z"
   },
   {
    "duration": 17,
    "start_time": "2025-02-25T15:40:52.219Z"
   },
   {
    "duration": 3,
    "start_time": "2025-02-25T15:40:52.238Z"
   },
   {
    "duration": 8,
    "start_time": "2025-02-25T15:40:52.242Z"
   },
   {
    "duration": 16,
    "start_time": "2025-02-25T15:40:52.252Z"
   },
   {
    "duration": 392,
    "start_time": "2025-02-25T15:40:52.269Z"
   },
   {
    "duration": 407,
    "start_time": "2025-02-25T15:40:52.663Z"
   },
   {
    "duration": 2557,
    "start_time": "2025-02-25T15:40:53.071Z"
   },
   {
    "duration": 4,
    "start_time": "2025-02-25T15:40:55.630Z"
   },
   {
    "duration": 12,
    "start_time": "2025-02-25T15:40:55.636Z"
   },
   {
    "duration": 7,
    "start_time": "2025-02-25T15:40:55.650Z"
   },
   {
    "duration": 4,
    "start_time": "2025-02-25T15:40:55.659Z"
   },
   {
    "duration": 68,
    "start_time": "2025-02-25T15:40:55.665Z"
   },
   {
    "duration": 4,
    "start_time": "2025-02-25T15:40:59.080Z"
   },
   {
    "duration": 8,
    "start_time": "2025-02-25T15:40:59.223Z"
   },
   {
    "duration": 4,
    "start_time": "2025-02-25T15:40:59.338Z"
   },
   {
    "duration": 5,
    "start_time": "2025-02-25T15:40:59.471Z"
   },
   {
    "duration": 884,
    "start_time": "2025-02-25T15:40:59.603Z"
   },
   {
    "duration": 605,
    "start_time": "2025-02-25T15:41:18.575Z"
   }
  ],
  "kernelspec": {
   "display_name": "Python 3 (ipykernel)",
   "language": "python",
   "name": "python3"
  },
  "language_info": {
   "codemirror_mode": {
    "name": "ipython",
    "version": 3
   },
   "file_extension": ".py",
   "mimetype": "text/x-python",
   "name": "python",
   "nbconvert_exporter": "python",
   "pygments_lexer": "ipython3",
   "version": "3.9.19"
  },
  "toc": {
   "base_numbering": 1,
   "nav_menu": {},
   "number_sections": true,
   "sideBar": true,
   "skip_h1_title": true,
   "title_cell": "Table of Contents",
   "title_sidebar": "Contents",
   "toc_cell": false,
   "toc_position": {},
   "toc_section_display": true,
   "toc_window_display": false
  }
 },
 "nbformat": 4,
 "nbformat_minor": 4
}
