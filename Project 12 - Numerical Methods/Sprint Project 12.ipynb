{
 "cells": [
  {
   "cell_type": "markdown",
   "metadata": {},
   "source": [
    "Rusty Bargain used car sales service is developing an app to attract new customers. In that app, you can quickly find out the market value of your car. You have access to historical data: technical specifications, trim versions, and prices. You need to build the model to determine the value. \n",
    "\n",
    "Rusty Bargain is interested in:\n",
    "\n",
    "- the quality of the prediction;\n",
    "- the speed of the prediction;\n",
    "- the time required for training"
   ]
  },
  {
   "cell_type": "markdown",
   "metadata": {},
   "source": [
    "## Data preparation"
   ]
  },
  {
   "cell_type": "markdown",
   "metadata": {},
   "source": [
    "For this project we are going to analyze a dataset of car sales for a new app.  The goal is to attempt to predict the sale cost of the vehicle based off a wide range of variables (model, mileage, trim, etc.).  First the data needs to be prepared, there are columns with blank values and missing information.  Then we need to split the data into training and test sets.  From there we will run models on the data to see which ones best predicts the price.  We are going to use LinearRegression as a sanity check and use random forest and decision tree models with hyperparameter tuning and then add gradient boosting to see which performs the best for model prediciton."
   ]
  },
  {
   "cell_type": "code",
   "execution_count": 1,
   "metadata": {},
   "outputs": [
    {
     "name": "stdout",
     "output_type": "stream",
     "text": [
      "               Price  RegistrationYear          Power        Mileage  \\\n",
      "count  354369.000000     354369.000000  354369.000000  354369.000000   \n",
      "mean     4416.656776       2004.234448     110.094337  128211.172535   \n",
      "std      4514.158514         90.227958     189.850405   37905.341530   \n",
      "min         0.000000       1000.000000       0.000000    5000.000000   \n",
      "25%      1050.000000       1999.000000      69.000000  125000.000000   \n",
      "50%      2700.000000       2003.000000     105.000000  150000.000000   \n",
      "75%      6400.000000       2008.000000     143.000000  150000.000000   \n",
      "max     20000.000000       9999.000000   20000.000000  150000.000000   \n",
      "\n",
      "       RegistrationMonth  NumberOfPictures     PostalCode  \n",
      "count      354369.000000          354369.0  354369.000000  \n",
      "mean            5.714645               0.0   50508.689087  \n",
      "std             3.726421               0.0   25783.096248  \n",
      "min             0.000000               0.0    1067.000000  \n",
      "25%             3.000000               0.0   30165.000000  \n",
      "50%             6.000000               0.0   49413.000000  \n",
      "75%             9.000000               0.0   71083.000000  \n",
      "max            12.000000               0.0   99998.000000  \n",
      "\n",
      "        DateCrawled  Price  VehicleType  RegistrationYear Gearbox  Power  \\\n",
      "0  24/03/2016 11:52    480          NaN              1993  manual      0   \n",
      "1  24/03/2016 10:58  18300        coupe              2011  manual    190   \n",
      "2  14/03/2016 12:52   9800          suv              2004    auto    163   \n",
      "3  17/03/2016 16:54   1500        small              2001  manual     75   \n",
      "4  31/03/2016 17:25   3600        small              2008  manual     69   \n",
      "5  04/04/2016 17:36    650        sedan              1995  manual    102   \n",
      "6  01/04/2016 20:48   2200  convertible              2004  manual    109   \n",
      "7  21/03/2016 18:54      0        sedan              1980  manual     50   \n",
      "8  04/04/2016 23:42  14500          bus              2014  manual    125   \n",
      "9  17/03/2016 10:53    999        small              1998  manual    101   \n",
      "\n",
      "     Model  Mileage  RegistrationMonth  FuelType       Brand NotRepaired  \\\n",
      "0     golf   150000                  0    petrol  volkswagen         NaN   \n",
      "1      NaN   125000                  5  gasoline        audi         yes   \n",
      "2    grand   125000                  8  gasoline        jeep         NaN   \n",
      "3     golf   150000                  6    petrol  volkswagen          no   \n",
      "4    fabia    90000                  7  gasoline       skoda          no   \n",
      "5      3er   150000                 10    petrol         bmw         yes   \n",
      "6  2_reihe   150000                  8    petrol     peugeot          no   \n",
      "7    other    40000                  7    petrol  volkswagen          no   \n",
      "8    c_max    30000                  8    petrol        ford         NaN   \n",
      "9     golf   150000                  0       NaN  volkswagen         NaN   \n",
      "\n",
      "        DateCreated  NumberOfPictures  PostalCode          LastSeen  \n",
      "0  24/03/2016 00:00                 0       70435  07/04/2016 03:16  \n",
      "1  24/03/2016 00:00                 0       66954  07/04/2016 01:46  \n",
      "2  14/03/2016 00:00                 0       90480  05/04/2016 12:47  \n",
      "3  17/03/2016 00:00                 0       91074  17/03/2016 17:40  \n",
      "4  31/03/2016 00:00                 0       60437  06/04/2016 10:17  \n",
      "5  04/04/2016 00:00                 0       33775  06/04/2016 19:17  \n",
      "6  01/04/2016 00:00                 0       67112  05/04/2016 18:18  \n",
      "7  21/03/2016 00:00                 0       19348  25/03/2016 16:47  \n",
      "8  04/04/2016 00:00                 0       94505  04/04/2016 23:42  \n",
      "9  17/03/2016 00:00                 0       27472  31/03/2016 17:17  \n",
      "\n",
      "<class 'pandas.core.frame.DataFrame'>\n",
      "RangeIndex: 354369 entries, 0 to 354368\n",
      "Data columns (total 16 columns):\n",
      " #   Column             Non-Null Count   Dtype \n",
      "---  ------             --------------   ----- \n",
      " 0   DateCrawled        354369 non-null  object\n",
      " 1   Price              354369 non-null  int64 \n",
      " 2   VehicleType        316879 non-null  object\n",
      " 3   RegistrationYear   354369 non-null  int64 \n",
      " 4   Gearbox            334536 non-null  object\n",
      " 5   Power              354369 non-null  int64 \n",
      " 6   Model              334664 non-null  object\n",
      " 7   Mileage            354369 non-null  int64 \n",
      " 8   RegistrationMonth  354369 non-null  int64 \n",
      " 9   FuelType           321474 non-null  object\n",
      " 10  Brand              354369 non-null  object\n",
      " 11  NotRepaired        283215 non-null  object\n",
      " 12  DateCreated        354369 non-null  object\n",
      " 13  NumberOfPictures   354369 non-null  int64 \n",
      " 14  PostalCode         354369 non-null  int64 \n",
      " 15  LastSeen           354369 non-null  object\n",
      "dtypes: int64(7), object(9)\n",
      "memory usage: 43.3+ MB\n",
      "None\n"
     ]
    }
   ],
   "source": [
    "import pandas as pd\n",
    "import numpy as np\n",
    "import math\n",
    "\n",
    "cars = pd.read_csv('/datasets/car_data.csv')\n",
    "\n",
    "print(cars.describe())\n",
    "print()\n",
    "print(cars.head(10))\n",
    "print()\n",
    "print(cars.info())"
   ]
  },
  {
   "cell_type": "code",
   "execution_count": 2,
   "metadata": {},
   "outputs": [
    {
     "name": "stdout",
     "output_type": "stream",
     "text": [
      "<class 'pandas.core.frame.DataFrame'>\n",
      "RangeIndex: 354369 entries, 0 to 354368\n",
      "Data columns (total 16 columns):\n",
      " #   Column              Non-Null Count   Dtype \n",
      "---  ------              --------------   ----- \n",
      " 0   date_crawled        354369 non-null  object\n",
      " 1   price               354369 non-null  int64 \n",
      " 2   vehicle_type        316879 non-null  object\n",
      " 3   registration_year   354369 non-null  int64 \n",
      " 4   gearbox             334536 non-null  object\n",
      " 5   power               354369 non-null  int64 \n",
      " 6   model               334664 non-null  object\n",
      " 7   mileage             354369 non-null  int64 \n",
      " 8   registration_month  354369 non-null  int64 \n",
      " 9   fuel_type           321474 non-null  object\n",
      " 10  brand               354369 non-null  object\n",
      " 11  not_repaired        283215 non-null  object\n",
      " 12  date_created        354369 non-null  object\n",
      " 13  number_of_pictures  354369 non-null  int64 \n",
      " 14  postal_code         354369 non-null  int64 \n",
      " 15  last_seen           354369 non-null  object\n",
      "dtypes: int64(7), object(9)\n",
      "memory usage: 43.3+ MB\n",
      "None\n"
     ]
    }
   ],
   "source": [
    "import re\n",
    "\n",
    "def lowercase_u(name):\n",
    "    return re.sub(r'([a-z])([A-Z])', r'\\1_\\2', name).lower()\n",
    "\n",
    "cars.columns = [lowercase_u(col) for col in cars.columns]\n",
    "\n",
    "print(cars.info())"
   ]
  },
  {
   "cell_type": "markdown",
   "metadata": {},
   "source": [
    "First I am going to put underscores between words and make all columns lowercase."
   ]
  },
  {
   "cell_type": "code",
   "execution_count": 3,
   "metadata": {},
   "outputs": [
    {
     "data": {
      "image/png": "[encoded data removed]",
      "text/plain": [
       "<Figure size 1200x500 with 2 Axes>"
      ]
     },
     "metadata": {},
     "output_type": "display_data"
    },
    {
     "name": "stdout",
     "output_type": "stream",
     "text": [
      "Potential outliers:\n",
      "         registration_year  power\n",
      "7                    1980     50\n",
      "15                   1910      0\n",
      "28                   1981     50\n",
      "39                   1984     70\n",
      "41                   2002    306\n",
      "...                   ...    ...\n",
      "354302               1984      0\n",
      "354306               2008    269\n",
      "354316               1957     40\n",
      "354337               2004    445\n",
      "354354               2003    260\n",
      "\n",
      "[13499 rows x 2 columns]\n"
     ]
    }
   ],
   "source": [
    "import matplotlib.pyplot as plt\n",
    "import seaborn as sns\n",
    "\n",
    "plt.figure(figsize=(12, 5))\n",
    "\n",
    "plt.subplot(1, 2, 1)\n",
    "sns.histplot(cars[\"registration_year\"], bins=50, kde=True)\n",
    "plt.title(\"Histogram of Registration Year\")\n",
    "\n",
    "plt.subplot(1, 2, 2)\n",
    "sns.histplot(cars[\"power\"], bins=50, kde=True)\n",
    "plt.title(\"Histogram of Power\")\n",
    "\n",
    "plt.show()\n",
    "\n",
    "Q1 = cars[[\"registration_year\", \"power\"]].quantile(0.25)\n",
    "Q3 = cars[[\"registration_year\", \"power\"]].quantile(0.75)\n",
    "IQR = Q3 - Q1\n",
    "\n",
    "outlier_mask = (cars < (Q1 - 1.5 * IQR)) | (cars > (Q3 + 1.5 * IQR))\n",
    "outliers = cars[outlier_mask.any(axis=1)]\n",
    "\n",
    "print(\"Potential outliers:\\n\", outliers[[\"registration_year\", \"power\"]])"
   ]
  },
  {
   "cell_type": "markdown",
   "metadata": {},
   "source": []
  },
  {
   "cell_type": "markdown",
   "metadata": {},
   "source": [
    "The registration year and power data have variables that do not make any sense.  There is registration years past the current year and before 1950 which are impossible and extremely unlikely.  Since all of the data is from 2016 I am going to remove rows after 2016 and before 1950.  For Power since even a golf cart usually has 5 HP and most cars do not have horsepower over several hundred I am going to remove all values outside of the range for both of them."
   ]
  },
  {
   "cell_type": "code",
   "execution_count": 4,
   "metadata": {},
   "outputs": [
    {
     "name": "stdout",
     "output_type": "stream",
     "text": [
      "<class 'pandas.core.frame.DataFrame'>\n",
      "Int64Index: 310632 entries, 1 to 354368\n",
      "Data columns (total 16 columns):\n",
      " #   Column              Non-Null Count   Dtype \n",
      "---  ------              --------------   ----- \n",
      " 0   date_crawled        310632 non-null  object\n",
      " 1   price               310632 non-null  int64 \n",
      " 2   vehicle_type        290868 non-null  object\n",
      " 3   registration_year   310632 non-null  int64 \n",
      " 4   gearbox             304369 non-null  object\n",
      " 5   power               310632 non-null  int64 \n",
      " 6   model               297731 non-null  object\n",
      " 7   mileage             310632 non-null  int64 \n",
      " 8   registration_month  310632 non-null  int64 \n",
      " 9   fuel_type           290777 non-null  object\n",
      " 10  brand               310632 non-null  object\n",
      " 11  not_repaired        262177 non-null  object\n",
      " 12  date_created        310632 non-null  object\n",
      " 13  number_of_pictures  310632 non-null  int64 \n",
      " 14  postal_code         310632 non-null  int64 \n",
      " 15  last_seen           310632 non-null  object\n",
      "dtypes: int64(7), object(9)\n",
      "memory usage: 40.3+ MB\n",
      "None\n",
      "               price  registration_year          power        mileage  \\\n",
      "count  310632.000000      310632.000000  310632.000000  310632.000000   \n",
      "mean     4715.236424        2003.117721     120.327690  128506.126220   \n",
      "std      4597.880043           6.823157      54.093417   36775.004018   \n",
      "min         0.000000        1950.000000       5.000000    5000.000000   \n",
      "25%      1250.000000        1999.000000      75.000000  125000.000000   \n",
      "50%      2999.000000        2003.000000     110.000000  150000.000000   \n",
      "75%      6900.000000        2007.000000     150.000000  150000.000000   \n",
      "max     20000.000000        2017.000000     700.000000  150000.000000   \n",
      "\n",
      "       registration_month  number_of_pictures    postal_code  \n",
      "count       310632.000000            310632.0  310632.000000  \n",
      "mean             5.942170                 0.0   51057.748110  \n",
      "std              3.611492                 0.0   25805.279588  \n",
      "min              0.000000                 0.0    1067.000000  \n",
      "25%              3.000000                 0.0   30855.000000  \n",
      "50%              6.000000                 0.0   49847.000000  \n",
      "75%              9.000000                 0.0   71686.000000  \n",
      "max             12.000000                 0.0   99998.000000  \n"
     ]
    }
   ],
   "source": [
    "cars = cars[(cars[\"registration_year\"] >= 1950) & (cars[\"registration_year\"] <= 2017)]\n",
    "cars = cars[(cars[\"power\"] >= 5) & (cars[\"power\"] <= 700)]\n",
    "\n",
    "print(cars.info())\n",
    "print(cars.describe())"
   ]
  },
  {
   "cell_type": "code",
   "execution_count": 5,
   "metadata": {},
   "outputs": [
    {
     "name": "stdout",
     "output_type": "stream",
     "text": [
      "date_crawled              0\n",
      "price                     0\n",
      "vehicle_type          19764\n",
      "registration_year         0\n",
      "gearbox                6263\n",
      "power                     0\n",
      "model                 12901\n",
      "mileage                   0\n",
      "registration_month        0\n",
      "fuel_type             19855\n",
      "brand                     0\n",
      "not_repaired          48455\n",
      "date_created              0\n",
      "number_of_pictures        0\n",
      "postal_code               0\n",
      "last_seen                 0\n",
      "dtype: int64\n"
     ]
    }
   ],
   "source": [
    "nan_counts = cars.isna().sum()\n",
    "print(nan_counts)"
   ]
  },
  {
   "cell_type": "markdown",
   "metadata": {},
   "source": [
    "#A large amount of missing values occur in 5 different rows.  Vehicle type, gearbox, model, fuel type and not repaired all contain tens of thousands of missing values.  Since vehicle type, gearbox, model and fuel type are all categorical features that cannot switched to 0 or to the mean of the data set I am going to drop those columns from the dataset.  For not repaired since the answer is Yes/No I am going to assume the one with blanks are 'No' and adjust there values."
   ]
  },
  {
   "cell_type": "code",
   "execution_count": 6,
   "metadata": {},
   "outputs": [
    {
     "name": "stdout",
     "output_type": "stream",
     "text": [
      "date_crawled          0\n",
      "price                 0\n",
      "vehicle_type          0\n",
      "registration_year     0\n",
      "gearbox               0\n",
      "power                 0\n",
      "model                 0\n",
      "mileage               0\n",
      "registration_month    0\n",
      "fuel_type             0\n",
      "brand                 0\n",
      "not_repaired          0\n",
      "date_created          0\n",
      "number_of_pictures    0\n",
      "postal_code           0\n",
      "last_seen             0\n",
      "dtype: int64\n"
     ]
    }
   ],
   "source": [
    "cars[['vehicle_type', 'gearbox', 'model', 'fuel_type', 'registration_month', 'number_of_pictures', 'not_repaired']] = cars[['vehicle_type', 'gearbox', 'model', 'fuel_type', 'registration_month', 'number_of_pictures', 'not_repaired']].fillna('Unknown')\n",
    "\n",
    "nan_counts = cars.isna().sum()\n",
    "print(nan_counts)"
   ]
  },
  {
   "cell_type": "markdown",
   "metadata": {},
   "source": [
    "#A few of the columns I do not feel are needed and are just going to take up space and cause models to run longer.  Registration month does not really give us any additional information and we already have registration year which is far more important so I will be dropping the month column.  Number of pictures is a 0 value for every single row, it gives us no details and I will be dropping it as well.  Last seen, date create and date crawled all have various formats of date date in their columns so I will be reformatting them to match as well."
   ]
  },
  {
   "cell_type": "code",
   "execution_count": 7,
   "metadata": {},
   "outputs": [
    {
     "name": "stdout",
     "output_type": "stream",
     "text": [
      "<class 'pandas.core.frame.DataFrame'>\n",
      "Int64Index: 310632 entries, 1 to 354368\n",
      "Data columns (total 11 columns):\n",
      " #   Column             Non-Null Count   Dtype \n",
      "---  ------             --------------   ----- \n",
      " 0   price              310632 non-null  int64 \n",
      " 1   vehicle_type       310632 non-null  object\n",
      " 2   registration_year  310632 non-null  int64 \n",
      " 3   gearbox            310632 non-null  object\n",
      " 4   power              310632 non-null  int64 \n",
      " 5   model              310632 non-null  object\n",
      " 6   mileage            310632 non-null  int64 \n",
      " 7   fuel_type          310632 non-null  object\n",
      " 8   brand              310632 non-null  object\n",
      " 9   not_repaired       310632 non-null  object\n",
      " 10  postal_code        310632 non-null  int64 \n",
      "dtypes: int64(5), object(6)\n",
      "memory usage: 28.4+ MB\n",
      "None\n"
     ]
    }
   ],
   "source": [
    "columns_to_drop = ['registration_month', 'number_of_pictures', 'date_crawled', 'date_created', 'last_seen']\n",
    "cars = cars.drop(columns=columns_to_drop)\n",
    "\n",
    "print(cars.info())"
   ]
  },
  {
   "cell_type": "markdown",
   "metadata": {},
   "source": [
    "#Next I want to see how many unique variables each of the categorical columns have to get an idea of what type of encoding I should use."
   ]
  },
  {
   "cell_type": "code",
   "execution_count": 8,
   "metadata": {},
   "outputs": [
    {
     "name": "stdout",
     "output_type": "stream",
     "text": [
      "vehicle_type      9\n",
      "gearbox           3\n",
      "model           250\n",
      "fuel_type         8\n",
      "brand            40\n",
      "not_repaired      3\n",
      "dtype: int64\n"
     ]
    }
   ],
   "source": [
    "categorical_columns = cars.select_dtypes(include=['object'])\n",
    "unique_counts = categorical_columns.nunique()\n",
    "print(unique_counts)"
   ]
  },
  {
   "cell_type": "markdown",
   "metadata": {},
   "source": [
    "##IGNORE NOW #I will be using OneHotEncoding for vehicle type and fuel type since this is best for low cardinality features and good for decision trees.  Both of these have fewer than 10 features.  For gearbox and not_repaired I will be using binary coding changing the value to either 1 or 0 since there is only 2 options.  For model and brand I will use target encoding since there are so many unique values and OneHotEncoding would create to many columns."
   ]
  },
  {
   "cell_type": "markdown",
   "metadata": {},
   "source": [
    "#Now that I have encoded the data I can proceed with my various model trainings."
   ]
  },
  {
   "cell_type": "markdown",
   "metadata": {},
   "source": [
    "## Model training"
   ]
  },
  {
   "cell_type": "code",
   "execution_count": 9,
   "metadata": {},
   "outputs": [],
   "source": [
    "from sklearn.model_selection import train_test_split\n",
    "from catboost import CatBoostClassifier\n",
    "from sklearn.linear_model import LinearRegression\n",
    "from sklearn.metrics import mean_squared_error\n",
    "from sklearn.preprocessing import OneHotEncoder\n",
    "from sklearn.compose import ColumnTransformer\n",
    "from sklearn.preprocessing import StandardScaler\n",
    "import lightgbm as lgb\n",
    "import xgboost as xgb\n",
    "import numpy as np\n",
    "\n",
    "#Splitting the data into features and target variables using a test size of 0.3.  \n",
    "#Encoding the data using OneHotEncoder for categorical features to run on linear regression models\n",
    "\n",
    "features = cars.drop(['price'], axis=1)\n",
    "target = cars['price']\n",
    "\n",
    "categorical_features = ['vehicle_type', 'gearbox', 'model', 'fuel_type', 'brand', 'not_repaired']\n",
    "numerical_features = ['registration_year', 'power', 'mileage', 'postal_code']\n",
    "\n",
    "\n",
    "\n",
    "features_train, features_test, target_train, target_test = train_test_split(features, target, test_size=0.3, random_state=12345)\n",
    "\n",
    "preprocessor = ColumnTransformer(\n",
    "    transformers=[\n",
    "        ('cat', OneHotEncoder(handle_unknown='ignore'), categorical_features),\n",
    "        ('num', StandardScaler(), numerical_features)\n",
    "    ],\n",
    "    remainder='passthrough'  # Keeps other columns as they are\n",
    ")\n",
    "\n",
    "features_train_transformed = preprocessor.fit_transform(features_train)\n",
    "features_test_transformed = preprocessor.transform(features_test)"
   ]
  },
  {
   "cell_type": "code",
   "execution_count": 11,
   "metadata": {
    "scrolled": false
   },
   "outputs": [
    {
     "name": "stdout",
     "output_type": "stream",
     "text": [
      "CPU times: user 2.76 s, sys: 5.34 s, total: 8.1 s\n",
      "Wall time: 8.03 s\n",
      "CPU times: user 1.57 ms, sys: 10.1 ms, total: 11.7 ms\n",
      "Wall time: 2.93 ms\n",
      "CPU times: user 2.68 ms, sys: 3.22 ms, total: 5.91 ms\n",
      "Wall time: 1.54 ms\n",
      "RMSE for target data: 2660.18\n",
      "RMSE for training data: 2641.69\n"
     ]
    }
   ],
   "source": [
    "#Linear Regression Model Training\n",
    "model = LinearRegression()\n",
    "\n",
    "%time model.fit(features_train_transformed, target_train)\n",
    "%time pred_train = model.predict(features_train_transformed)\n",
    "%time pred_test = model.predict(features_test_transformed)\n",
    "print(f\"RMSE for target data:\", mean_squared_error(target_test, pred_test, squared=False).round(2))\n",
    "print(f\"RMSE for training data:\", mean_squared_error(target_train, pred_train, squared=False).round(2))\n"
   ]
  },
  {
   "cell_type": "code",
   "execution_count": 15,
   "metadata": {
    "scrolled": true
   },
   "outputs": [
    {
     "name": "stdout",
     "output_type": "stream",
     "text": [
      "[LightGBM] [Warning] bagging_fraction is set=0.8, subsample=1.0 will be ignored. Current value: bagging_fraction=0.8\n",
      "[LightGBM] [Warning] bagging_freq is set=5, subsample_freq=0 will be ignored. Current value: bagging_freq=5\n",
      "[LightGBM] [Warning] bagging_fraction is set=0.8, subsample=1.0 will be ignored. Current value: bagging_fraction=0.8\n",
      "[LightGBM] [Warning] bagging_freq is set=5, subsample_freq=0 will be ignored. Current value: bagging_freq=5\n",
      "[LightGBM] [Warning] bagging_fraction is set=0.8, subsample=1.0 will be ignored. Current value: bagging_fraction=0.8\n",
      "[LightGBM] [Warning] bagging_freq is set=5, subsample_freq=0 will be ignored. Current value: bagging_freq=5\n",
      "[LightGBM] [Warning] bagging_fraction is set=0.8, subsample=1.0 will be ignored. Current value: bagging_fraction=0.8\n",
      "[LightGBM] [Warning] bagging_freq is set=5, subsample_freq=0 will be ignored. Current value: bagging_freq=5\n",
      "[LightGBM] [Warning] bagging_fraction is set=0.8, subsample=1.0 will be ignored. Current value: bagging_fraction=0.8\n",
      "[LightGBM] [Warning] bagging_freq is set=5, subsample_freq=0 will be ignored. Current value: bagging_freq=5\n",
      "[LightGBM] [Warning] bagging_fraction is set=0.8, subsample=1.0 will be ignored. Current value: bagging_fraction=0.8\n",
      "[LightGBM] [Warning] bagging_freq is set=5, subsample_freq=0 will be ignored. Current value: bagging_freq=5\n",
      "[LightGBM] [Warning] bagging_fraction is set=0.8, subsample=1.0 will be ignored. Current value: bagging_fraction=0.8\n",
      "[LightGBM] [Warning] bagging_freq is set=5, subsample_freq=0 will be ignored. Current value: bagging_freq=5\n",
      "[LightGBM] [Warning] bagging_fraction is set=0.8, subsample=1.0 will be ignored. Current value: bagging_fraction=0.8\n",
      "[LightGBM] [Warning] bagging_freq is set=5, subsample_freq=0 will be ignored. Current value: bagging_freq=5\n",
      "[LightGBM] [Warning] bagging_fraction is set=0.8, subsample=1.0 will be ignored. Current value: bagging_fraction=0.8\n",
      "[LightGBM] [Warning] bagging_freq is set=5, subsample_freq=0 will be ignored. Current value: bagging_freq=5\n",
      "[LightGBM] [Warning] bagging_fraction is set=0.8, subsample=1.0 will be ignored. Current value: bagging_fraction=0.8\n",
      "[LightGBM] [Warning] bagging_freq is set=5, subsample_freq=0 will be ignored. Current value: bagging_freq=5\n",
      "[LightGBM] [Warning] bagging_fraction is set=0.8, subsample=1.0 will be ignored. Current value: bagging_fraction=0.8\n",
      "[LightGBM] [Warning] bagging_freq is set=5, subsample_freq=0 will be ignored. Current value: bagging_freq=5\n",
      "[LightGBM] [Warning] bagging_fraction is set=0.8, subsample=1.0 will be ignored. Current value: bagging_fraction=0.8\n",
      "[LightGBM] [Warning] bagging_freq is set=5, subsample_freq=0 will be ignored. Current value: bagging_freq=5\n",
      "[LightGBM] [Warning] bagging_fraction is set=0.8, subsample=1.0 will be ignored. Current value: bagging_fraction=0.8\n",
      "[LightGBM] [Warning] bagging_freq is set=5, subsample_freq=0 will be ignored. Current value: bagging_freq=5\n",
      "[LightGBM] [Warning] bagging_fraction is set=0.8, subsample=1.0 will be ignored. Current value: bagging_fraction=0.8\n",
      "[LightGBM] [Warning] bagging_freq is set=5, subsample_freq=0 will be ignored. Current value: bagging_freq=5\n",
      "[LightGBM] [Warning] bagging_fraction is set=0.8, subsample=1.0 will be ignored. Current value: bagging_fraction=0.8\n",
      "[LightGBM] [Warning] bagging_freq is set=5, subsample_freq=0 will be ignored. Current value: bagging_freq=5\n",
      "[LightGBM] [Warning] bagging_fraction is set=0.8, subsample=1.0 will be ignored. Current value: bagging_fraction=0.8\n",
      "[LightGBM] [Warning] bagging_freq is set=5, subsample_freq=0 will be ignored. Current value: bagging_freq=5\n",
      "[LightGBM] [Warning] bagging_fraction is set=0.8, subsample=1.0 will be ignored. Current value: bagging_fraction=0.8\n",
      "[LightGBM] [Warning] bagging_freq is set=5, subsample_freq=0 will be ignored. Current value: bagging_freq=5\n",
      "[LightGBM] [Warning] bagging_fraction is set=0.8, subsample=1.0 will be ignored. Current value: bagging_fraction=0.8\n",
      "[LightGBM] [Warning] bagging_freq is set=5, subsample_freq=0 will be ignored. Current value: bagging_freq=5\n",
      "[LightGBM] [Warning] bagging_fraction is set=0.8, subsample=1.0 will be ignored. Current value: bagging_fraction=0.8\n",
      "[LightGBM] [Warning] bagging_freq is set=5, subsample_freq=0 will be ignored. Current value: bagging_freq=5\n",
      "[LightGBM] [Warning] bagging_fraction is set=0.8, subsample=1.0 will be ignored. Current value: bagging_fraction=0.8\n",
      "[LightGBM] [Warning] bagging_freq is set=5, subsample_freq=0 will be ignored. Current value: bagging_freq=5\n",
      "Best parameter model time:\n",
      "CPU times: user 4.19 s, sys: 12.4 ms, total: 4.2 s\n",
      "Wall time: 4.2 s\n",
      "Prediction model time:\n",
      "CPU times: user 385 ms, sys: 0 ns, total: 385 ms\n",
      "Wall time: 398 ms\n",
      "Best Parameters: {'bagging_fraction': 0.8, 'bagging_freq': 5, 'max_depth': 10, 'n_estimators': 100}\n",
      "LightGBM Random Forest RMSE (Tuned): 2424.82\n"
     ]
    }
   ],
   "source": [
    "from sklearn.model_selection import GridSearchCV\n",
    "from sklearn.ensemble import RandomForestRegressor\n",
    "from lightgbm import LGBMRegressor\n",
    "from sklearn.preprocessing import StandardScaler, OrdinalEncoder\n",
    "from sklearn.preprocessing import OrdinalEncoder\n",
    "import time\n",
    "\n",
    "# scaler = StandardScaler()\n",
    "# features_scaled = scaler.fit_transform(features)\n",
    "encoder = OrdinalEncoder()\n",
    "\n",
    "features[categorical_features] = encoder.fit_transform(features[categorical_features])\n",
    "\n",
    "features_train, features_test, target_train, target_test = train_test_split(\n",
    "    features, target, test_size=0.3, random_state=12345\n",
    ")\n",
    "\n",
    "lgbm = LGBMRegressor(boosting_type='rf', random_state=12345, n_jobs=-1)\n",
    "\n",
    "param_grid = {'n_estimators': [100, 250], 'max_depth': [10, 20], \"bagging_freq\": [5], \"bagging_fraction\": [0.8]}\n",
    "\n",
    "grid_search = GridSearchCV(estimator=lgbm, param_grid=param_grid, scoring='neg_mean_squared_error', n_jobs=-1)\n",
    "grid_search.fit(features_train, target_train)\n",
    "\n",
    "best_params = grid_search.best_params_\n",
    "final_model = LGBMRegressor(**best_params, boosting_type='rf', n_jobs=-1)\n",
    "print(\"Best parameter model time:\")\n",
    "%time final_model.fit(features_train, target_train)\n",
    "best_model = grid_search.best_estimator_\n",
    "print(\"Prediction model time:\")\n",
    "%time y_pred_lgbrf = best_model.predict(features_test)\n",
    "\n",
    "rmse_lgbrf = np.sqrt(mean_squared_error(target_test, y_pred_lgbrf))\n",
    "\n",
    "print(f\"Best Parameters: {grid_search.best_params_}\")\n",
    "print(f\"LightGBM Random Forest RMSE (Tuned): {rmse_lgbrf:.2f}\")"
   ]
  },
  {
   "cell_type": "code",
   "execution_count": 16,
   "metadata": {},
   "outputs": [
    {
     "name": "stdout",
     "output_type": "stream",
     "text": [
      "Best parameter model time:\n",
      "CPU times: user 26.4 s, sys: 40.9 ms, total: 26.4 s\n",
      "Wall time: 26.5 s\n",
      "Prediction Model Time:\n",
      "CPU times: user 102 ms, sys: 12 µs, total: 102 ms\n",
      "Wall time: 102 ms\n",
      "Best Parameters Catboost: {'depth': 10, 'iterations': 500, 'learning_rate': 0.1}\n",
      "Catboost Random Forest RMSE (Tuned): 1673.65\n"
     ]
    }
   ],
   "source": [
    "from catboost import CatBoostRegressor\n",
    "\n",
    "catboost_model =  CatBoostRegressor(random_seed=12345, silent=True)\n",
    "\n",
    "param_grid = {'iterations': [100, 500], 'depth': [6, 10], 'learning_rate': [0.01, 0.1]}\n",
    "grid_search = GridSearchCV(estimator=catboost_model, param_grid=param_grid, scoring='neg_mean_squared_error', n_jobs=-1)\n",
    "grid_search.fit(features_train, target_train)\n",
    "\n",
    "best_params = grid_search.best_params_\n",
    "final_model = CatBoostRegressor(**best_params, random_seed=12345, silent=True)\n",
    "print(\"Best parameter model time:\")\n",
    "%time final_model.fit(features_train, target_train)\n",
    "\n",
    "best_model_cbrf = grid_search.best_estimator_\n",
    "print(\"Prediction Model Time:\")\n",
    "%time y_pred_cbrf = best_model_cbrf.predict(features_test)\n",
    "\n",
    "rmse_cbrf = np.sqrt(mean_squared_error(target_test, y_pred_cbrf))\n",
    "print(f\"Best Parameters Catboost: {grid_search.best_params_}\")\n",
    "print(f\"Catboost Random Forest RMSE (Tuned): {rmse_cbrf:.2f}\")"
   ]
  },
  {
   "cell_type": "code",
   "execution_count": 19,
   "metadata": {},
   "outputs": [
    {
     "name": "stdout",
     "output_type": "stream",
     "text": [
      "Best parameter model time:\n",
      "[17:20:59] WARNING: ../src/learner.cc:576: \n",
      "Parameters: { \"depth\", \"iterations\" } might not be used.\n",
      "\n",
      "  This could be a false alarm, with some parameters getting used by language bindings but\n",
      "  then being mistakenly passed down to XGBoost core, or some parameter actually being used\n",
      "  but getting flagged wrongly here. Please open an issue if you find any such cases.\n",
      "\n",
      "\n",
      "CPU times: user 33.8 s, sys: 35.7 ms, total: 33.9 s\n",
      "Wall time: 33.9 s\n",
      "Prediction model time:\n",
      "CPU times: user 552 ms, sys: 0 ns, total: 552 ms\n",
      "Wall time: 576 ms\n",
      "Best XGBoost Parameters: {'learning_rate': 0.1, 'max_depth': 10}\n",
      "XGBoost RMSE: 1656.6378\n"
     ]
    }
   ],
   "source": [
    "from sklearn.tree import DecisionTreeClassifier\n",
    "from xgboost import XGBRegressor\n",
    "\n",
    "xgb = XGBRegressor(objective='reg:squarederror', random_state=12345)\n",
    "\n",
    "param_grid_xgb = {'learning_rate': [0.01, 0.1], 'max_depth': [10]}\n",
    "\n",
    "grid_search_xgb = GridSearchCV(xgb, param_grid_xgb, scoring='neg_mean_squared_error', n_jobs=-1)\n",
    "grid_search_xgb.fit(features_train, target_train)\n",
    "\n",
    "best_params = grid_search.best_params_\n",
    "final_model = XGBRegressor(**best_params, objective='reg:squarederror', random_state=12345)\n",
    "print(\"Best parameter model time:\")\n",
    "%time final_model.fit(features_train, target_train)\n",
    "\n",
    "best_xgb = grid_search_xgb.best_estimator_\n",
    "print(\"Prediction model time:\")\n",
    "%time y_pred_xgb = best_xgb.predict(features_test)\n",
    "\n",
    "rmse_xgb = np.sqrt(mean_squared_error(target_test, y_pred_xgb))\n",
    "\n",
    "print(f\"Best XGBoost Parameters: {grid_search_xgb.best_params_}\")\n",
    "print(f\"XGBoost RMSE: {rmse_xgb:.4f}\")"
   ]
  },
  {
   "cell_type": "markdown",
   "metadata": {},
   "source": [
    "## Model analysis"
   ]
  },
  {
   "cell_type": "markdown",
   "metadata": {},
   "source": [
    "After examining the following models: linear regression, Random Forest with LightGBM Boost and CatBoost and Decision Tree with XGBRegressor I discovered the random forest and decision tree models to be more accurate.  I used param grid to adjust hyperparameters for the random forest and decision tree classifiers as well.  With the XGBoost model and Catboost model being the most accurate model with an RMSE of 1657 and 1674, respectively.  The two models were very similar in performance but XGB took longer at a wall time of over 8 minutes while CatBoost was a wall time of 6 minutes and 49 seconds.  For the prediction models it was slightly different the CatBoost model was the fastest with a wall time of 102 milliseconds, 2nd fastest was the LightGBM model with a wall time of 390 milliseconds.  3rd Fastest was XGBoost which had a wall tim eof 488 milliseconds.  All of them run the prediction best model very fast but took significant amount of time on the original run through for checking the best parameters.  Overall the model of choice is the XGB or CatBoost models.  They are the most accurate but XGB took a litte bit more time to run.  RMSE is slightly better with the XGB so I would choose that model."
   ]
  },
  {
   "cell_type": "markdown",
   "metadata": {},
   "source": [
    "# Checklist"
   ]
  },
  {
   "cell_type": "markdown",
   "metadata": {},
   "source": [
    "Type 'x' to check. Then press Shift+Enter."
   ]
  },
  {
   "cell_type": "markdown",
   "metadata": {},
   "source": [
    "- [x]  Jupyter Notebook is open\n",
    "- [X]  Code is error free\n",
    "- [X]  The cells with the code have been arranged in order of execution\n",
    "- [X]  The data has been downloaded and prepared\n",
    "- [X]  The models have been trained\n",
    "- [X]  The analysis of speed and quality of the models has been performed"
   ]
  }
 ],
 "metadata": {
  "ExecuteTimeLog": [
   {
    "duration": 820,
    "start_time": "2025-02-25T21:42:28.039Z"
   },
   {
    "duration": 524,
    "start_time": "2025-02-25T21:42:52.903Z"
   },
   {
    "duration": 638,
    "start_time": "2025-02-25T21:44:30.099Z"
   },
   {
    "duration": 447,
    "start_time": "2025-02-25T21:44:38.148Z"
   },
   {
    "duration": 514,
    "start_time": "2025-02-25T21:45:07.154Z"
   },
   {
    "duration": 548,
    "start_time": "2025-02-25T21:45:23.547Z"
   },
   {
    "duration": 572,
    "start_time": "2025-02-25T21:48:41.848Z"
   },
   {
    "duration": 5,
    "start_time": "2025-02-25T21:49:06.632Z"
   },
   {
    "duration": 95,
    "start_time": "2025-02-25T21:49:10.742Z"
   },
   {
    "duration": 539,
    "start_time": "2025-02-25T21:53:02.802Z"
   },
   {
    "duration": 87,
    "start_time": "2025-02-25T21:53:05.944Z"
   },
   {
    "duration": 182,
    "start_time": "2025-02-25T21:55:34.534Z"
   },
   {
    "duration": 963,
    "start_time": "2025-02-25T21:57:13.064Z"
   },
   {
    "duration": 555,
    "start_time": "2025-02-25T21:57:58.539Z"
   },
   {
    "duration": 897,
    "start_time": "2025-02-25T21:58:08.135Z"
   },
   {
    "duration": 191,
    "start_time": "2025-02-25T22:00:47.447Z"
   },
   {
    "duration": 28,
    "start_time": "2025-02-25T22:00:55.425Z"
   },
   {
    "duration": 26,
    "start_time": "2025-02-25T22:01:22.129Z"
   },
   {
    "duration": 25,
    "start_time": "2025-02-25T22:01:27.357Z"
   },
   {
    "duration": 24,
    "start_time": "2025-02-25T22:01:57.296Z"
   },
   {
    "duration": 854,
    "start_time": "2025-02-25T22:02:05.335Z"
   },
   {
    "duration": 196,
    "start_time": "2025-02-25T22:02:06.191Z"
   },
   {
    "duration": 0,
    "start_time": "2025-02-25T22:02:06.389Z"
   },
   {
    "duration": 92,
    "start_time": "2025-02-25T22:02:17.878Z"
   },
   {
    "duration": 86,
    "start_time": "2025-02-25T22:02:24.622Z"
   },
   {
    "duration": 71,
    "start_time": "2025-02-25T22:04:42.828Z"
   },
   {
    "duration": 661,
    "start_time": "2025-02-25T22:05:13.659Z"
   },
   {
    "duration": 879,
    "start_time": "2025-02-25T22:06:15.417Z"
   },
   {
    "duration": 97,
    "start_time": "2025-02-25T22:06:16.299Z"
   },
   {
    "duration": 94,
    "start_time": "2025-02-25T22:06:16.398Z"
   },
   {
    "duration": 81,
    "start_time": "2025-02-25T22:06:17.644Z"
   },
   {
    "duration": 846,
    "start_time": "2025-02-25T22:11:11.318Z"
   },
   {
    "duration": 865,
    "start_time": "2025-02-25T22:11:21.326Z"
   },
   {
    "duration": 102,
    "start_time": "2025-02-25T22:11:22.194Z"
   },
   {
    "duration": 92,
    "start_time": "2025-02-25T22:11:22.297Z"
   },
   {
    "duration": 84,
    "start_time": "2025-02-25T22:11:23.226Z"
   },
   {
    "duration": 181,
    "start_time": "2025-02-25T22:24:29.260Z"
   },
   {
    "duration": 2454,
    "start_time": "2025-02-25T22:24:37.986Z"
   },
   {
    "duration": 3300,
    "start_time": "2025-02-25T22:24:57.914Z"
   },
   {
    "duration": 3629,
    "start_time": "2025-02-25T22:25:29.222Z"
   },
   {
    "duration": 3472,
    "start_time": "2025-02-25T22:25:50.438Z"
   },
   {
    "duration": 3291,
    "start_time": "2025-02-25T22:26:03.938Z"
   },
   {
    "duration": 3540,
    "start_time": "2025-02-25T22:26:16.032Z"
   },
   {
    "duration": 59,
    "start_time": "2025-02-25T22:50:35.613Z"
   },
   {
    "duration": 83,
    "start_time": "2025-02-25T22:52:02.506Z"
   },
   {
    "duration": 102,
    "start_time": "2025-02-25T22:52:46.981Z"
   },
   {
    "duration": 901,
    "start_time": "2025-02-25T22:53:19.595Z"
   },
   {
    "duration": 1419,
    "start_time": "2025-02-25T22:53:20.498Z"
   },
   {
    "duration": 142,
    "start_time": "2025-02-25T22:53:41.730Z"
   },
   {
    "duration": 4188,
    "start_time": "2025-02-25T22:53:43.025Z"
   },
   {
    "duration": 5,
    "start_time": "2025-02-25T22:53:57.536Z"
   },
   {
    "duration": 3916,
    "start_time": "2025-02-25T22:53:58.104Z"
   },
   {
    "duration": 58,
    "start_time": "2025-02-25T22:55:10.785Z"
   },
   {
    "duration": 982,
    "start_time": "2025-02-25T22:55:36.169Z"
   },
   {
    "duration": 98,
    "start_time": "2025-02-25T22:55:37.153Z"
   },
   {
    "duration": 5,
    "start_time": "2025-02-25T22:55:37.254Z"
   },
   {
    "duration": 0,
    "start_time": "2025-02-25T22:55:37.261Z"
   },
   {
    "duration": 200,
    "start_time": "2025-02-25T22:55:38.222Z"
   },
   {
    "duration": 77,
    "start_time": "2025-02-25T22:55:41.300Z"
   },
   {
    "duration": 109,
    "start_time": "2025-02-25T22:55:43.095Z"
   },
   {
    "duration": 879,
    "start_time": "2025-02-25T22:56:00.388Z"
   },
   {
    "duration": 96,
    "start_time": "2025-02-25T22:56:01.269Z"
   },
   {
    "duration": 3,
    "start_time": "2025-02-25T22:56:04.101Z"
   },
   {
    "duration": 4192,
    "start_time": "2025-02-25T22:56:15.258Z"
   },
   {
    "duration": 264,
    "start_time": "2025-02-25T22:56:22.754Z"
   },
   {
    "duration": 171,
    "start_time": "2025-02-25T22:56:38.773Z"
   },
   {
    "duration": 77,
    "start_time": "2025-02-25T22:56:41.112Z"
   },
   {
    "duration": 75,
    "start_time": "2025-02-25T22:56:45.415Z"
   },
   {
    "duration": 676,
    "start_time": "2025-02-25T23:03:43.645Z"
   },
   {
    "duration": 174,
    "start_time": "2025-02-25T23:04:13.201Z"
   },
   {
    "duration": 954,
    "start_time": "2025-02-25T23:04:59.363Z"
   },
   {
    "duration": 98,
    "start_time": "2025-02-25T23:05:00.320Z"
   },
   {
    "duration": 4657,
    "start_time": "2025-02-25T23:05:00.421Z"
   },
   {
    "duration": 288,
    "start_time": "2025-02-25T23:05:05.080Z"
   },
   {
    "duration": 78,
    "start_time": "2025-02-25T23:05:09.227Z"
   },
   {
    "duration": 222,
    "start_time": "2025-02-25T23:05:15.764Z"
   },
   {
    "duration": 138,
    "start_time": "2025-02-25T23:06:52.723Z"
   },
   {
    "duration": 93,
    "start_time": "2025-02-25T23:07:54.073Z"
   },
   {
    "duration": 858,
    "start_time": "2025-02-25T23:13:32.383Z"
   },
   {
    "duration": 999,
    "start_time": "2025-02-25T23:13:44.083Z"
   },
   {
    "duration": 123,
    "start_time": "2025-02-25T23:13:45.086Z"
   },
   {
    "duration": 4923,
    "start_time": "2025-02-25T23:13:45.219Z"
   },
   {
    "duration": 315,
    "start_time": "2025-02-25T23:13:50.145Z"
   },
   {
    "duration": 89,
    "start_time": "2025-02-25T23:13:50.462Z"
   },
   {
    "duration": 176,
    "start_time": "2025-02-25T23:13:50.554Z"
   },
   {
    "duration": 294,
    "start_time": "2025-02-25T23:13:50.732Z"
   },
   {
    "duration": 810,
    "start_time": "2025-02-25T23:14:04.419Z"
   },
   {
    "duration": 936,
    "start_time": "2025-02-25T23:14:17.561Z"
   },
   {
    "duration": 126,
    "start_time": "2025-02-25T23:14:18.504Z"
   },
   {
    "duration": 4885,
    "start_time": "2025-02-25T23:14:18.632Z"
   },
   {
    "duration": 328,
    "start_time": "2025-02-25T23:14:23.520Z"
   },
   {
    "duration": 96,
    "start_time": "2025-02-25T23:14:23.850Z"
   },
   {
    "duration": 181,
    "start_time": "2025-02-25T23:14:23.947Z"
   },
   {
    "duration": 1420,
    "start_time": "2025-02-25T23:14:29.542Z"
   },
   {
    "duration": 1067,
    "start_time": "2025-02-25T23:14:59.546Z"
   },
   {
    "duration": 112,
    "start_time": "2025-02-25T23:15:00.618Z"
   },
   {
    "duration": 4969,
    "start_time": "2025-02-25T23:15:00.732Z"
   },
   {
    "duration": 294,
    "start_time": "2025-02-25T23:15:05.715Z"
   },
   {
    "duration": 108,
    "start_time": "2025-02-25T23:15:06.026Z"
   },
   {
    "duration": 188,
    "start_time": "2025-02-25T23:15:06.136Z"
   },
   {
    "duration": 1287,
    "start_time": "2025-02-25T23:15:07.943Z"
   },
   {
    "duration": 525,
    "start_time": "2025-02-25T23:15:15.423Z"
   },
   {
    "duration": 210,
    "start_time": "2025-02-25T23:16:37.816Z"
   },
   {
    "duration": 1272,
    "start_time": "2025-02-25T23:19:22.734Z"
   },
   {
    "duration": 142,
    "start_time": "2025-02-25T23:19:24.018Z"
   },
   {
    "duration": 6125,
    "start_time": "2025-02-25T23:19:24.162Z"
   },
   {
    "duration": 358,
    "start_time": "2025-02-25T23:19:30.289Z"
   },
   {
    "duration": 126,
    "start_time": "2025-02-25T23:19:30.650Z"
   },
   {
    "duration": 202,
    "start_time": "2025-02-25T23:19:30.786Z"
   },
   {
    "duration": 1726,
    "start_time": "2025-02-25T23:19:30.991Z"
   },
   {
    "duration": 193,
    "start_time": "2025-02-25T23:19:36.836Z"
   },
   {
    "duration": 250,
    "start_time": "2025-02-25T23:27:26.360Z"
   },
   {
    "duration": 396,
    "start_time": "2025-02-25T23:31:33.147Z"
   },
   {
    "duration": 445,
    "start_time": "2025-02-25T23:31:40.605Z"
   },
   {
    "duration": 1181,
    "start_time": "2025-02-25T23:32:23.084Z"
   },
   {
    "duration": 120,
    "start_time": "2025-02-25T23:32:24.268Z"
   },
   {
    "duration": 4574,
    "start_time": "2025-02-25T23:32:24.391Z"
   },
   {
    "duration": 366,
    "start_time": "2025-02-25T23:32:28.968Z"
   },
   {
    "duration": 96,
    "start_time": "2025-02-25T23:32:29.336Z"
   },
   {
    "duration": 192,
    "start_time": "2025-02-25T23:32:29.434Z"
   },
   {
    "duration": 1130,
    "start_time": "2025-02-25T23:32:29.628Z"
   },
   {
    "duration": 136,
    "start_time": "2025-02-25T23:32:30.761Z"
   },
   {
    "duration": 657,
    "start_time": "2025-02-25T23:32:30.898Z"
   },
   {
    "duration": 403,
    "start_time": "2025-02-25T23:33:15.546Z"
   },
   {
    "duration": 943,
    "start_time": "2025-02-25T23:33:25.424Z"
   },
   {
    "duration": 145,
    "start_time": "2025-02-25T23:33:26.369Z"
   },
   {
    "duration": 4603,
    "start_time": "2025-02-25T23:33:26.517Z"
   },
   {
    "duration": 288,
    "start_time": "2025-02-25T23:33:31.122Z"
   },
   {
    "duration": 112,
    "start_time": "2025-02-25T23:33:31.411Z"
   },
   {
    "duration": 147,
    "start_time": "2025-02-25T23:33:31.524Z"
   },
   {
    "duration": 1133,
    "start_time": "2025-02-25T23:33:31.672Z"
   },
   {
    "duration": 133,
    "start_time": "2025-02-25T23:33:32.807Z"
   },
   {
    "duration": 367,
    "start_time": "2025-02-25T23:33:32.942Z"
   },
   {
    "duration": 248,
    "start_time": "2025-02-25T23:47:04.485Z"
   },
   {
    "duration": 132,
    "start_time": "2025-02-26T01:01:40.485Z"
   },
   {
    "duration": 59,
    "start_time": "2025-02-26T01:02:01.941Z"
   },
   {
    "duration": 7,
    "start_time": "2025-02-26T01:08:45.231Z"
   },
   {
    "duration": 57,
    "start_time": "2025-02-26T01:08:53.627Z"
   },
   {
    "duration": 6,
    "start_time": "2025-02-26T01:08:54.011Z"
   },
   {
    "duration": 39,
    "start_time": "2025-02-26T01:09:38.728Z"
   },
   {
    "duration": 1759,
    "start_time": "2025-02-26T01:10:21.768Z"
   },
   {
    "duration": 80,
    "start_time": "2025-02-26T01:13:21.145Z"
   },
   {
    "duration": 6,
    "start_time": "2025-02-26T01:15:03.769Z"
   },
   {
    "duration": 63,
    "start_time": "2025-02-26T01:15:04.723Z"
   },
   {
    "duration": 633,
    "start_time": "2025-02-26T01:15:06.062Z"
   },
   {
    "duration": 34,
    "start_time": "2025-02-26T01:16:26.803Z"
   },
   {
    "duration": 89,
    "start_time": "2025-02-26T01:17:23.134Z"
   },
   {
    "duration": 44,
    "start_time": "2025-02-26T01:17:23.481Z"
   },
   {
    "duration": 42,
    "start_time": "2025-02-26T01:18:13.472Z"
   },
   {
    "duration": 24,
    "start_time": "2025-02-26T01:19:10.024Z"
   },
   {
    "duration": 47,
    "start_time": "2025-02-26T01:20:20.365Z"
   },
   {
    "duration": 24,
    "start_time": "2025-02-26T01:21:30.612Z"
   },
   {
    "duration": 44,
    "start_time": "2025-02-26T01:21:38.971Z"
   },
   {
    "duration": 24,
    "start_time": "2025-02-26T01:22:02.730Z"
   },
   {
    "duration": 89,
    "start_time": "2025-02-26T01:22:11.588Z"
   },
   {
    "duration": 86,
    "start_time": "2025-02-26T01:22:22.935Z"
   },
   {
    "duration": 48,
    "start_time": "2025-02-26T01:23:30.885Z"
   },
   {
    "duration": 90,
    "start_time": "2025-02-26T01:23:54.360Z"
   },
   {
    "duration": 45,
    "start_time": "2025-02-26T01:25:52.879Z"
   },
   {
    "duration": 42,
    "start_time": "2025-02-26T01:26:32.276Z"
   },
   {
    "duration": 507,
    "start_time": "2025-02-26T01:28:18.905Z"
   },
   {
    "duration": 1018,
    "start_time": "2025-02-26T19:47:05.122Z"
   },
   {
    "duration": 95,
    "start_time": "2025-02-26T19:47:06.142Z"
   },
   {
    "duration": 6103,
    "start_time": "2025-02-26T19:47:06.239Z"
   },
   {
    "duration": 204,
    "start_time": "2025-02-26T19:47:12.344Z"
   },
   {
    "duration": 81,
    "start_time": "2025-02-26T19:47:12.550Z"
   },
   {
    "duration": 146,
    "start_time": "2025-02-26T19:47:12.633Z"
   },
   {
    "duration": 1071,
    "start_time": "2025-02-26T19:47:12.781Z"
   },
   {
    "duration": 133,
    "start_time": "2025-02-26T19:47:13.991Z"
   },
   {
    "duration": 339,
    "start_time": "2025-02-26T19:47:16.645Z"
   },
   {
    "duration": 5,
    "start_time": "2025-02-26T19:47:33.385Z"
   },
   {
    "duration": 181,
    "start_time": "2025-02-26T19:47:34.821Z"
   },
   {
    "duration": 524,
    "start_time": "2025-02-26T19:51:24.710Z"
   },
   {
    "duration": 547,
    "start_time": "2025-02-26T19:53:05.929Z"
   },
   {
    "duration": 421,
    "start_time": "2025-02-26T19:54:26.191Z"
   },
   {
    "duration": 10,
    "start_time": "2025-02-26T19:56:15.786Z"
   },
   {
    "duration": 527,
    "start_time": "2025-02-26T19:56:20.790Z"
   },
   {
    "duration": 398,
    "start_time": "2025-02-26T19:56:58.734Z"
   },
   {
    "duration": 390,
    "start_time": "2025-02-26T19:57:19.833Z"
   },
   {
    "duration": 876,
    "start_time": "2025-02-26T19:57:29.171Z"
   },
   {
    "duration": 110,
    "start_time": "2025-02-26T19:57:30.049Z"
   },
   {
    "duration": 4181,
    "start_time": "2025-02-26T19:57:30.161Z"
   },
   {
    "duration": 273,
    "start_time": "2025-02-26T19:57:34.345Z"
   },
   {
    "duration": 89,
    "start_time": "2025-02-26T19:57:34.620Z"
   },
   {
    "duration": 139,
    "start_time": "2025-02-26T19:57:34.711Z"
   },
   {
    "duration": 1025,
    "start_time": "2025-02-26T19:57:34.852Z"
   },
   {
    "duration": 122,
    "start_time": "2025-02-26T19:57:35.878Z"
   },
   {
    "duration": 288,
    "start_time": "2025-02-26T19:57:36.003Z"
   },
   {
    "duration": 16,
    "start_time": "2025-02-26T19:57:36.293Z"
   },
   {
    "duration": 142,
    "start_time": "2025-02-26T19:57:36.310Z"
   },
   {
    "duration": 672,
    "start_time": "2025-02-26T19:57:36.454Z"
   },
   {
    "duration": 398,
    "start_time": "2025-02-26T20:03:31.428Z"
   },
   {
    "duration": 319,
    "start_time": "2025-02-26T20:07:45.695Z"
   },
   {
    "duration": 375,
    "start_time": "2025-02-26T20:08:02.751Z"
   },
   {
    "duration": 381,
    "start_time": "2025-02-26T20:08:56.050Z"
   },
   {
    "duration": 22,
    "start_time": "2025-02-26T20:09:04.697Z"
   },
   {
    "duration": 66,
    "start_time": "2025-02-26T20:09:18.633Z"
   },
   {
    "duration": 132,
    "start_time": "2025-02-26T20:09:52.956Z"
   },
   {
    "duration": 72,
    "start_time": "2025-02-26T20:12:07.854Z"
   },
   {
    "duration": 827,
    "start_time": "2025-02-26T20:12:23.200Z"
   },
   {
    "duration": 91,
    "start_time": "2025-02-26T20:12:24.030Z"
   },
   {
    "duration": 4255,
    "start_time": "2025-02-26T20:12:24.122Z"
   },
   {
    "duration": 249,
    "start_time": "2025-02-26T20:12:28.379Z"
   },
   {
    "duration": 85,
    "start_time": "2025-02-26T20:12:28.630Z"
   },
   {
    "duration": 153,
    "start_time": "2025-02-26T20:12:28.718Z"
   },
   {
    "duration": 1039,
    "start_time": "2025-02-26T20:12:28.873Z"
   },
   {
    "duration": 129,
    "start_time": "2025-02-26T20:12:29.915Z"
   },
   {
    "duration": 289,
    "start_time": "2025-02-26T20:12:30.046Z"
   },
   {
    "duration": 5,
    "start_time": "2025-02-26T20:12:30.337Z"
   },
   {
    "duration": 148,
    "start_time": "2025-02-26T20:12:31.506Z"
   },
   {
    "duration": 843,
    "start_time": "2025-02-26T20:12:34.250Z"
   },
   {
    "duration": 3011,
    "start_time": "2025-02-26T20:15:14.324Z"
   },
   {
    "duration": 2881,
    "start_time": "2025-02-26T20:16:08.569Z"
   },
   {
    "duration": 2930,
    "start_time": "2025-02-26T20:16:38.626Z"
   },
   {
    "duration": 867,
    "start_time": "2025-02-26T20:17:11.575Z"
   },
   {
    "duration": 94,
    "start_time": "2025-02-26T20:17:12.444Z"
   },
   {
    "duration": 4252,
    "start_time": "2025-02-26T20:17:12.540Z"
   },
   {
    "duration": 246,
    "start_time": "2025-02-26T20:17:16.795Z"
   },
   {
    "duration": 85,
    "start_time": "2025-02-26T20:17:17.043Z"
   },
   {
    "duration": 186,
    "start_time": "2025-02-26T20:17:17.131Z"
   },
   {
    "duration": 1029,
    "start_time": "2025-02-26T20:17:17.319Z"
   },
   {
    "duration": 127,
    "start_time": "2025-02-26T20:17:18.351Z"
   },
   {
    "duration": 303,
    "start_time": "2025-02-26T20:17:18.480Z"
   },
   {
    "duration": 6,
    "start_time": "2025-02-26T20:17:18.785Z"
   },
   {
    "duration": 154,
    "start_time": "2025-02-26T20:17:18.793Z"
   },
   {
    "duration": 3167,
    "start_time": "2025-02-26T20:17:19.649Z"
   },
   {
    "duration": 2976,
    "start_time": "2025-02-26T20:17:49.278Z"
   },
   {
    "duration": 3343,
    "start_time": "2025-02-26T20:18:16.221Z"
   },
   {
    "duration": 3195,
    "start_time": "2025-02-26T20:25:54.849Z"
   },
   {
    "duration": 3198,
    "start_time": "2025-02-26T20:26:57.343Z"
   },
   {
    "duration": 3121,
    "start_time": "2025-02-26T20:27:11.737Z"
   },
   {
    "duration": 3332,
    "start_time": "2025-02-26T20:28:20.319Z"
   },
   {
    "duration": 3796,
    "start_time": "2025-02-26T20:47:05.255Z"
   },
   {
    "duration": 3226,
    "start_time": "2025-02-26T20:48:35.815Z"
   },
   {
    "duration": 3098,
    "start_time": "2025-02-26T20:49:09.344Z"
   },
   {
    "duration": 38,
    "start_time": "2025-02-26T20:50:29.287Z"
   },
   {
    "duration": 3092,
    "start_time": "2025-02-26T20:55:10.028Z"
   },
   {
    "duration": 3132,
    "start_time": "2025-02-26T20:55:37.708Z"
   },
   {
    "duration": 3160,
    "start_time": "2025-02-26T20:59:15.099Z"
   },
   {
    "duration": 3151,
    "start_time": "2025-02-26T21:00:05.798Z"
   },
   {
    "duration": 876,
    "start_time": "2025-02-26T21:00:19.209Z"
   },
   {
    "duration": 93,
    "start_time": "2025-02-26T21:00:20.088Z"
   },
   {
    "duration": 4276,
    "start_time": "2025-02-26T21:00:20.183Z"
   },
   {
    "duration": 252,
    "start_time": "2025-02-26T21:00:24.462Z"
   },
   {
    "duration": 93,
    "start_time": "2025-02-26T21:00:24.716Z"
   },
   {
    "duration": 147,
    "start_time": "2025-02-26T21:00:24.811Z"
   },
   {
    "duration": 1069,
    "start_time": "2025-02-26T21:00:24.960Z"
   },
   {
    "duration": 129,
    "start_time": "2025-02-26T21:00:26.032Z"
   },
   {
    "duration": 304,
    "start_time": "2025-02-26T21:00:26.163Z"
   },
   {
    "duration": 5,
    "start_time": "2025-02-26T21:00:26.469Z"
   },
   {
    "duration": 177,
    "start_time": "2025-02-26T21:00:26.476Z"
   },
   {
    "duration": 3455,
    "start_time": "2025-02-26T21:00:27.338Z"
   },
   {
    "duration": 910,
    "start_time": "2025-02-26T21:00:38.545Z"
   },
   {
    "duration": 95,
    "start_time": "2025-02-26T21:00:39.457Z"
   },
   {
    "duration": 4234,
    "start_time": "2025-02-26T21:00:39.554Z"
   },
   {
    "duration": 260,
    "start_time": "2025-02-26T21:00:43.790Z"
   },
   {
    "duration": 81,
    "start_time": "2025-02-26T21:00:44.051Z"
   },
   {
    "duration": 164,
    "start_time": "2025-02-26T21:00:44.134Z"
   },
   {
    "duration": 1083,
    "start_time": "2025-02-26T21:00:44.300Z"
   },
   {
    "duration": 127,
    "start_time": "2025-02-26T21:00:45.385Z"
   },
   {
    "duration": 304,
    "start_time": "2025-02-26T21:00:45.514Z"
   },
   {
    "duration": 6,
    "start_time": "2025-02-26T21:00:45.821Z"
   },
   {
    "duration": 163,
    "start_time": "2025-02-26T21:00:45.829Z"
   },
   {
    "duration": 3604,
    "start_time": "2025-02-26T21:00:45.994Z"
   },
   {
    "duration": 3123,
    "start_time": "2025-02-26T21:01:03.123Z"
   },
   {
    "duration": 919,
    "start_time": "2025-02-26T21:01:46.453Z"
   },
   {
    "duration": 98,
    "start_time": "2025-02-26T21:01:47.375Z"
   },
   {
    "duration": 4187,
    "start_time": "2025-02-26T21:01:47.475Z"
   },
   {
    "duration": 267,
    "start_time": "2025-02-26T21:01:51.664Z"
   },
   {
    "duration": 81,
    "start_time": "2025-02-26T21:01:51.933Z"
   },
   {
    "duration": 142,
    "start_time": "2025-02-26T21:01:52.015Z"
   },
   {
    "duration": 1073,
    "start_time": "2025-02-26T21:01:52.159Z"
   },
   {
    "duration": 127,
    "start_time": "2025-02-26T21:01:53.233Z"
   },
   {
    "duration": 294,
    "start_time": "2025-02-26T21:01:53.362Z"
   },
   {
    "duration": 5,
    "start_time": "2025-02-26T21:01:53.659Z"
   },
   {
    "duration": 166,
    "start_time": "2025-02-26T21:01:53.666Z"
   },
   {
    "duration": 3477,
    "start_time": "2025-02-26T21:01:53.834Z"
   },
   {
    "duration": 3080,
    "start_time": "2025-02-26T21:14:56.071Z"
   },
   {
    "duration": 60,
    "start_time": "2025-02-26T21:16:49.746Z"
   },
   {
    "duration": 3088,
    "start_time": "2025-02-26T21:17:03.162Z"
   },
   {
    "duration": 14,
    "start_time": "2025-02-26T21:19:30.946Z"
   },
   {
    "duration": 3053,
    "start_time": "2025-02-26T21:19:31.813Z"
   },
   {
    "duration": 3,
    "start_time": "2025-02-26T21:19:49.220Z"
   },
   {
    "duration": 45,
    "start_time": "2025-02-26T21:19:51.960Z"
   },
   {
    "duration": 51,
    "start_time": "2025-02-26T21:21:42.876Z"
   },
   {
    "duration": 48,
    "start_time": "2025-02-26T21:26:17.072Z"
   },
   {
    "duration": 53,
    "start_time": "2025-02-26T21:26:38.539Z"
   },
   {
    "duration": 75,
    "start_time": "2025-02-26T21:26:45.851Z"
   },
   {
    "duration": 53,
    "start_time": "2025-02-26T21:26:56.372Z"
   },
   {
    "duration": 55,
    "start_time": "2025-02-26T21:27:14.183Z"
   },
   {
    "duration": 9502,
    "start_time": "2025-02-26T21:32:54.272Z"
   },
   {
    "duration": 5093,
    "start_time": "2025-02-26T21:34:23.600Z"
   },
   {
    "duration": 6136,
    "start_time": "2025-02-26T21:34:46.518Z"
   },
   {
    "duration": 5854,
    "start_time": "2025-02-26T21:36:21.915Z"
   },
   {
    "duration": 5,
    "start_time": "2025-02-26T21:58:05.065Z"
   },
   {
    "duration": 104,
    "start_time": "2025-02-26T21:58:19.711Z"
   },
   {
    "duration": 843,
    "start_time": "2025-02-26T21:59:32.266Z"
   },
   {
    "duration": 101,
    "start_time": "2025-02-26T21:59:33.111Z"
   },
   {
    "duration": 4187,
    "start_time": "2025-02-26T21:59:33.214Z"
   },
   {
    "duration": 251,
    "start_time": "2025-02-26T21:59:37.403Z"
   },
   {
    "duration": 88,
    "start_time": "2025-02-26T21:59:37.656Z"
   },
   {
    "duration": 147,
    "start_time": "2025-02-26T21:59:37.745Z"
   },
   {
    "duration": 1050,
    "start_time": "2025-02-26T21:59:37.894Z"
   },
   {
    "duration": 127,
    "start_time": "2025-02-26T21:59:38.946Z"
   },
   {
    "duration": 309,
    "start_time": "2025-02-26T21:59:39.074Z"
   },
   {
    "duration": 6,
    "start_time": "2025-02-26T21:59:39.385Z"
   },
   {
    "duration": 144,
    "start_time": "2025-02-26T21:59:39.392Z"
   },
   {
    "duration": 3,
    "start_time": "2025-02-26T21:59:39.538Z"
   },
   {
    "duration": 323,
    "start_time": "2025-02-26T21:59:39.543Z"
   },
   {
    "duration": 131,
    "start_time": "2025-02-26T22:01:10.257Z"
   },
   {
    "duration": 68,
    "start_time": "2025-02-26T22:01:58.432Z"
   },
   {
    "duration": 67,
    "start_time": "2025-02-26T22:04:00.461Z"
   },
   {
    "duration": 885,
    "start_time": "2025-02-26T22:04:21.974Z"
   },
   {
    "duration": 97,
    "start_time": "2025-02-26T22:04:22.861Z"
   },
   {
    "duration": 4185,
    "start_time": "2025-02-26T22:04:22.960Z"
   },
   {
    "duration": 269,
    "start_time": "2025-02-26T22:04:27.148Z"
   },
   {
    "duration": 77,
    "start_time": "2025-02-26T22:04:27.420Z"
   },
   {
    "duration": 155,
    "start_time": "2025-02-26T22:04:27.499Z"
   },
   {
    "duration": 1057,
    "start_time": "2025-02-26T22:04:27.655Z"
   },
   {
    "duration": 126,
    "start_time": "2025-02-26T22:04:28.715Z"
   },
   {
    "duration": 287,
    "start_time": "2025-02-26T22:04:28.843Z"
   },
   {
    "duration": 6,
    "start_time": "2025-02-26T22:04:31.247Z"
   },
   {
    "duration": 168,
    "start_time": "2025-02-26T22:04:37.811Z"
   },
   {
    "duration": 304,
    "start_time": "2025-02-26T22:04:57.107Z"
   },
   {
    "duration": 208,
    "start_time": "2025-02-26T22:05:49.519Z"
   },
   {
    "duration": 6,
    "start_time": "2025-02-26T22:22:09.190Z"
   },
   {
    "duration": 447,
    "start_time": "2025-02-26T22:22:14.795Z"
   },
   {
    "duration": 0,
    "start_time": "2025-02-26T22:23:15.158Z"
   },
   {
    "duration": 16895,
    "start_time": "2025-02-26T22:31:32.094Z"
   },
   {
    "duration": 892,
    "start_time": "2025-02-26T22:32:01.034Z"
   },
   {
    "duration": 95,
    "start_time": "2025-02-26T22:32:01.928Z"
   },
   {
    "duration": 4210,
    "start_time": "2025-02-26T22:32:02.025Z"
   },
   {
    "duration": 265,
    "start_time": "2025-02-26T22:32:06.237Z"
   },
   {
    "duration": 75,
    "start_time": "2025-02-26T22:32:06.509Z"
   },
   {
    "duration": 153,
    "start_time": "2025-02-26T22:32:06.585Z"
   },
   {
    "duration": 1072,
    "start_time": "2025-02-26T22:32:06.740Z"
   },
   {
    "duration": 136,
    "start_time": "2025-02-26T22:32:07.816Z"
   },
   {
    "duration": 299,
    "start_time": "2025-02-26T22:32:07.954Z"
   },
   {
    "duration": 7,
    "start_time": "2025-02-26T22:32:08.255Z"
   },
   {
    "duration": 163,
    "start_time": "2025-02-26T22:32:08.264Z"
   },
   {
    "duration": 384,
    "start_time": "2025-02-26T22:32:08.430Z"
   },
   {
    "duration": 17469,
    "start_time": "2025-02-26T22:32:08.816Z"
   },
   {
    "duration": 32196,
    "start_time": "2025-02-26T22:33:27.856Z"
   },
   {
    "duration": 15996,
    "start_time": "2025-02-26T22:34:45.133Z"
   },
   {
    "duration": 459789,
    "start_time": "2025-02-26T22:37:54.831Z"
   },
   {
    "duration": 458655,
    "start_time": "2025-02-26T22:51:56.164Z"
   },
   {
    "duration": 905,
    "start_time": "2025-02-26T22:59:34.822Z"
   },
   {
    "duration": 787,
    "start_time": "2025-02-26T23:01:43.903Z"
   },
   {
    "duration": 433604,
    "start_time": "2025-02-26T23:27:47.732Z"
   },
   {
    "duration": 425364,
    "start_time": "2025-02-26T23:39:27.098Z"
   },
   {
    "duration": 6707,
    "start_time": "2025-02-27T00:15:28.534Z"
   },
   {
    "duration": 994,
    "start_time": "2025-02-27T02:30:59.335Z"
   },
   {
    "duration": 103,
    "start_time": "2025-02-27T02:31:00.332Z"
   },
   {
    "duration": 4446,
    "start_time": "2025-02-27T02:31:00.437Z"
   },
   {
    "duration": 277,
    "start_time": "2025-02-27T02:31:04.885Z"
   },
   {
    "duration": 92,
    "start_time": "2025-02-27T02:31:05.164Z"
   },
   {
    "duration": 172,
    "start_time": "2025-02-27T02:31:05.258Z"
   },
   {
    "duration": 1079,
    "start_time": "2025-02-27T02:31:05.432Z"
   },
   {
    "duration": 129,
    "start_time": "2025-02-27T02:31:06.513Z"
   },
   {
    "duration": 302,
    "start_time": "2025-02-27T02:31:06.644Z"
   },
   {
    "duration": 5,
    "start_time": "2025-02-27T02:31:06.950Z"
   },
   {
    "duration": 182,
    "start_time": "2025-02-27T02:31:06.957Z"
   },
   {
    "duration": 291,
    "start_time": "2025-02-27T02:31:07.141Z"
   },
   {
    "duration": 851,
    "start_time": "2025-02-27T03:17:54.147Z"
   },
   {
    "duration": 121,
    "start_time": "2025-02-27T03:17:55.001Z"
   },
   {
    "duration": 4453,
    "start_time": "2025-02-27T03:17:55.123Z"
   },
   {
    "duration": 269,
    "start_time": "2025-02-27T03:17:59.578Z"
   },
   {
    "duration": 88,
    "start_time": "2025-02-27T03:17:59.849Z"
   },
   {
    "duration": 150,
    "start_time": "2025-02-27T03:17:59.938Z"
   },
   {
    "duration": 1092,
    "start_time": "2025-02-27T03:18:00.090Z"
   },
   {
    "duration": 125,
    "start_time": "2025-02-27T03:18:01.184Z"
   },
   {
    "duration": 294,
    "start_time": "2025-02-27T03:18:01.310Z"
   },
   {
    "duration": 6,
    "start_time": "2025-02-27T03:18:01.609Z"
   },
   {
    "duration": 192,
    "start_time": "2025-02-27T03:18:01.617Z"
   },
   {
    "duration": 311,
    "start_time": "2025-02-27T03:18:01.811Z"
   },
   {
    "duration": 0,
    "start_time": "2025-02-27T03:36:21.636Z"
   },
   {
    "duration": 0,
    "start_time": "2025-02-27T03:36:21.637Z"
   },
   {
    "duration": 0,
    "start_time": "2025-02-27T03:36:21.638Z"
   },
   {
    "duration": 957,
    "start_time": "2025-02-27T03:36:33.831Z"
   },
   {
    "duration": 96,
    "start_time": "2025-02-27T03:36:34.791Z"
   },
   {
    "duration": 4504,
    "start_time": "2025-02-27T03:36:34.889Z"
   },
   {
    "duration": 273,
    "start_time": "2025-02-27T03:36:39.396Z"
   },
   {
    "duration": 89,
    "start_time": "2025-02-27T03:36:39.670Z"
   },
   {
    "duration": 164,
    "start_time": "2025-02-27T03:36:39.761Z"
   },
   {
    "duration": 1059,
    "start_time": "2025-02-27T03:36:39.927Z"
   },
   {
    "duration": 192,
    "start_time": "2025-02-27T03:36:40.989Z"
   },
   {
    "duration": 296,
    "start_time": "2025-02-27T03:36:41.183Z"
   },
   {
    "duration": 5,
    "start_time": "2025-02-27T03:36:41.482Z"
   },
   {
    "duration": 175,
    "start_time": "2025-02-27T03:36:41.490Z"
   },
   {
    "duration": 354,
    "start_time": "2025-02-27T03:36:45.355Z"
   },
   {
    "duration": 854,
    "start_time": "2025-02-27T04:04:33.485Z"
   },
   {
    "duration": 141,
    "start_time": "2025-02-27T04:04:34.341Z"
   },
   {
    "duration": 4593,
    "start_time": "2025-02-27T04:04:34.485Z"
   },
   {
    "duration": 270,
    "start_time": "2025-02-27T04:04:39.081Z"
   },
   {
    "duration": 85,
    "start_time": "2025-02-27T04:04:39.353Z"
   },
   {
    "duration": 162,
    "start_time": "2025-02-27T04:04:39.440Z"
   },
   {
    "duration": 1035,
    "start_time": "2025-02-27T04:04:39.609Z"
   },
   {
    "duration": 179,
    "start_time": "2025-02-27T04:04:40.646Z"
   },
   {
    "duration": 309,
    "start_time": "2025-02-27T04:04:40.827Z"
   },
   {
    "duration": 6,
    "start_time": "2025-02-27T04:04:41.138Z"
   },
   {
    "duration": 166,
    "start_time": "2025-02-27T04:04:41.146Z"
   },
   {
    "duration": 303,
    "start_time": "2025-02-27T04:04:41.314Z"
   },
   {
    "duration": 32037,
    "start_time": "2025-02-27T04:04:41.619Z"
   },
   {
    "duration": 0,
    "start_time": "2025-02-27T04:05:13.658Z"
   },
   {
    "duration": 954,
    "start_time": "2025-02-27T04:05:27.279Z"
   },
   {
    "duration": 143,
    "start_time": "2025-02-27T04:05:28.236Z"
   },
   {
    "duration": 4301,
    "start_time": "2025-02-27T04:05:28.381Z"
   },
   {
    "duration": 329,
    "start_time": "2025-02-27T04:05:32.685Z"
   },
   {
    "duration": 78,
    "start_time": "2025-02-27T04:05:33.016Z"
   },
   {
    "duration": 167,
    "start_time": "2025-02-27T04:05:33.095Z"
   },
   {
    "duration": 1099,
    "start_time": "2025-02-27T04:05:33.264Z"
   },
   {
    "duration": 129,
    "start_time": "2025-02-27T04:05:34.365Z"
   },
   {
    "duration": 346,
    "start_time": "2025-02-27T04:05:34.497Z"
   },
   {
    "duration": 7,
    "start_time": "2025-02-27T04:05:34.846Z"
   },
   {
    "duration": 206,
    "start_time": "2025-02-27T04:05:34.854Z"
   },
   {
    "duration": 171,
    "start_time": "2025-02-27T04:05:39.557Z"
   },
   {
    "duration": 909,
    "start_time": "2025-02-27T15:12:56.408Z"
   },
   {
    "duration": 95,
    "start_time": "2025-02-27T15:12:57.320Z"
   },
   {
    "duration": 5954,
    "start_time": "2025-02-27T15:12:57.499Z"
   },
   {
    "duration": 200,
    "start_time": "2025-02-27T15:13:03.455Z"
   },
   {
    "duration": 79,
    "start_time": "2025-02-27T15:13:03.657Z"
   },
   {
    "duration": 140,
    "start_time": "2025-02-27T15:13:05.308Z"
   },
   {
    "duration": 1050,
    "start_time": "2025-02-27T15:13:06.954Z"
   },
   {
    "duration": 118,
    "start_time": "2025-02-27T15:13:08.672Z"
   },
   {
    "duration": 346,
    "start_time": "2025-02-27T15:13:10.586Z"
   },
   {
    "duration": 5,
    "start_time": "2025-02-27T15:13:14.142Z"
   },
   {
    "duration": 146,
    "start_time": "2025-02-27T15:13:16.620Z"
   },
   {
    "duration": 226,
    "start_time": "2025-02-27T15:13:21.953Z"
   },
   {
    "duration": 129840,
    "start_time": "2025-02-27T15:13:25.641Z"
   },
   {
    "duration": 424500,
    "start_time": "2025-02-27T15:15:57.066Z"
   },
   {
    "duration": 602149,
    "start_time": "2025-02-27T15:23:29.338Z"
   },
   {
    "duration": 180,
    "start_time": "2025-02-27T15:37:19.702Z"
   },
   {
    "duration": 968,
    "start_time": "2025-02-27T20:11:45.657Z"
   },
   {
    "duration": 100,
    "start_time": "2025-02-27T20:11:47.961Z"
   },
   {
    "duration": 6254,
    "start_time": "2025-02-27T20:11:51.002Z"
   },
   {
    "duration": 212,
    "start_time": "2025-02-27T20:11:57.260Z"
   },
   {
    "duration": 88,
    "start_time": "2025-02-27T20:11:57.474Z"
   },
   {
    "duration": 136,
    "start_time": "2025-02-27T20:13:50.903Z"
   },
   {
    "duration": 71,
    "start_time": "2025-02-27T20:15:09.097Z"
   },
   {
    "duration": 141,
    "start_time": "2025-02-27T20:16:11.529Z"
   },
   {
    "duration": 346,
    "start_time": "2025-02-27T20:18:57.826Z"
   },
   {
    "duration": 825,
    "start_time": "2025-02-27T20:21:19.861Z"
   },
   {
    "duration": 98,
    "start_time": "2025-02-27T20:21:21.328Z"
   },
   {
    "duration": 4302,
    "start_time": "2025-02-27T20:21:22.622Z"
   },
   {
    "duration": 244,
    "start_time": "2025-02-27T20:21:26.926Z"
   },
   {
    "duration": 82,
    "start_time": "2025-02-27T20:21:27.171Z"
   },
   {
    "duration": 155,
    "start_time": "2025-02-27T20:21:27.256Z"
   },
   {
    "duration": 78,
    "start_time": "2025-02-27T20:21:27.412Z"
   },
   {
    "duration": 153,
    "start_time": "2025-02-27T20:21:27.492Z"
   },
   {
    "duration": 588,
    "start_time": "2025-02-27T20:23:34.043Z"
   },
   {
    "duration": 236,
    "start_time": "2025-02-27T20:24:03.252Z"
   },
   {
    "duration": 984,
    "start_time": "2025-02-27T20:29:01.225Z"
   },
   {
    "duration": 95,
    "start_time": "2025-02-27T20:29:02.212Z"
   },
   {
    "duration": 4357,
    "start_time": "2025-02-27T20:29:02.309Z"
   },
   {
    "duration": 262,
    "start_time": "2025-02-27T20:29:06.668Z"
   },
   {
    "duration": 85,
    "start_time": "2025-02-27T20:29:06.931Z"
   },
   {
    "duration": 150,
    "start_time": "2025-02-27T20:29:07.017Z"
   },
   {
    "duration": 72,
    "start_time": "2025-02-27T20:29:07.189Z"
   },
   {
    "duration": 143,
    "start_time": "2025-02-27T20:29:10.614Z"
   },
   {
    "duration": 608,
    "start_time": "2025-02-27T20:31:06.755Z"
   },
   {
    "duration": 7980,
    "start_time": "2025-02-27T20:31:23.319Z"
   },
   {
    "duration": 815,
    "start_time": "2025-02-27T20:41:12.773Z"
   },
   {
    "duration": 393,
    "start_time": "2025-02-27T20:41:38.953Z"
   },
   {
    "duration": 124828,
    "start_time": "2025-02-27T20:41:48.765Z"
   },
   {
    "duration": 408014,
    "start_time": "2025-02-27T20:46:40.185Z"
   },
   {
    "duration": 482193,
    "start_time": "2025-02-27T20:54:55.514Z"
   },
   {
    "duration": 950,
    "start_time": "2025-02-28T15:37:14.932Z"
   },
   {
    "duration": 100,
    "start_time": "2025-02-28T15:37:16.451Z"
   },
   {
    "duration": 6304,
    "start_time": "2025-02-28T15:37:19.253Z"
   },
   {
    "duration": 211,
    "start_time": "2025-02-28T15:37:25.560Z"
   },
   {
    "duration": 94,
    "start_time": "2025-02-28T15:37:25.772Z"
   },
   {
    "duration": 160,
    "start_time": "2025-02-28T15:37:27.395Z"
   },
   {
    "duration": 78,
    "start_time": "2025-02-28T15:37:29.927Z"
   },
   {
    "duration": 158,
    "start_time": "2025-02-28T15:37:32.203Z"
   },
   {
    "duration": 980,
    "start_time": "2025-02-28T15:50:03.620Z"
   },
   {
    "duration": 499,
    "start_time": "2025-02-28T15:50:50.915Z"
   },
   {
    "duration": 869,
    "start_time": "2025-02-28T15:51:17.031Z"
   },
   {
    "duration": 107,
    "start_time": "2025-02-28T15:51:17.903Z"
   },
   {
    "duration": 4360,
    "start_time": "2025-02-28T15:51:18.012Z"
   },
   {
    "duration": 252,
    "start_time": "2025-02-28T15:51:22.374Z"
   },
   {
    "duration": 85,
    "start_time": "2025-02-28T15:51:22.628Z"
   },
   {
    "duration": 145,
    "start_time": "2025-02-28T15:51:22.716Z"
   },
   {
    "duration": 76,
    "start_time": "2025-02-28T15:51:22.863Z"
   },
   {
    "duration": 148,
    "start_time": "2025-02-28T15:51:22.942Z"
   },
   {
    "duration": 1056,
    "start_time": "2025-02-28T15:51:23.092Z"
   },
   {
    "duration": 442,
    "start_time": "2025-02-28T15:55:03.856Z"
   },
   {
    "duration": 446,
    "start_time": "2025-02-28T15:56:11.702Z"
   },
   {
    "duration": 439,
    "start_time": "2025-02-28T15:57:21.369Z"
   },
   {
    "duration": 418,
    "start_time": "2025-02-28T16:00:14.218Z"
   },
   {
    "duration": 166,
    "start_time": "2025-02-28T16:00:44.878Z"
   },
   {
    "duration": 8173,
    "start_time": "2025-02-28T16:01:09.316Z"
   },
   {
    "duration": 452,
    "start_time": "2025-02-28T16:04:55.393Z"
   },
   {
    "duration": 442,
    "start_time": "2025-02-28T16:05:28.609Z"
   },
   {
    "duration": 417,
    "start_time": "2025-02-28T16:05:45.892Z"
   },
   {
    "duration": 402,
    "start_time": "2025-02-28T16:06:04.766Z"
   },
   {
    "duration": 8089,
    "start_time": "2025-02-28T16:06:07.306Z"
   },
   {
    "duration": 126986,
    "start_time": "2025-02-28T16:06:18.406Z"
   },
   {
    "duration": 409591,
    "start_time": "2025-02-28T16:08:45.466Z"
   },
   {
    "duration": 492628,
    "start_time": "2025-02-28T16:15:57.279Z"
   },
   {
    "duration": 1074,
    "start_time": "2025-03-01T00:21:37.875Z"
   },
   {
    "duration": 935,
    "start_time": "2025-03-01T00:22:04.578Z"
   },
   {
    "duration": 99,
    "start_time": "2025-03-01T00:22:05.515Z"
   },
   {
    "duration": 5984,
    "start_time": "2025-03-01T00:22:05.616Z"
   },
   {
    "duration": 199,
    "start_time": "2025-03-01T00:22:11.603Z"
   },
   {
    "duration": 81,
    "start_time": "2025-03-01T00:22:11.804Z"
   },
   {
    "duration": 152,
    "start_time": "2025-03-01T00:22:11.887Z"
   },
   {
    "duration": 72,
    "start_time": "2025-03-01T00:22:12.043Z"
   },
   {
    "duration": 152,
    "start_time": "2025-03-01T00:22:12.117Z"
   },
   {
    "duration": 691,
    "start_time": "2025-03-01T00:22:12.272Z"
   },
   {
    "duration": 8792,
    "start_time": "2025-03-01T00:22:12.965Z"
   },
   {
    "duration": 0,
    "start_time": "2025-03-01T00:22:21.759Z"
   },
   {
    "duration": 827,
    "start_time": "2025-03-01T00:35:16.893Z"
   },
   {
    "duration": 98,
    "start_time": "2025-03-01T00:35:17.723Z"
   },
   {
    "duration": 4190,
    "start_time": "2025-03-01T00:35:17.823Z"
   },
   {
    "duration": 258,
    "start_time": "2025-03-01T00:35:22.016Z"
   },
   {
    "duration": 84,
    "start_time": "2025-03-01T00:35:22.275Z"
   },
   {
    "duration": 143,
    "start_time": "2025-03-01T00:35:22.360Z"
   },
   {
    "duration": 81,
    "start_time": "2025-03-01T00:35:22.505Z"
   },
   {
    "duration": 149,
    "start_time": "2025-03-01T00:35:22.589Z"
   },
   {
    "duration": 631,
    "start_time": "2025-03-01T00:35:22.742Z"
   },
   {
    "duration": 8742,
    "start_time": "2025-03-01T00:35:23.375Z"
   },
   {
    "duration": 975,
    "start_time": "2025-03-01T16:27:02.775Z"
   },
   {
    "duration": 95,
    "start_time": "2025-03-01T16:27:03.752Z"
   },
   {
    "duration": 5963,
    "start_time": "2025-03-01T16:27:03.849Z"
   },
   {
    "duration": 206,
    "start_time": "2025-03-01T16:27:09.815Z"
   },
   {
    "duration": 80,
    "start_time": "2025-03-01T16:27:10.023Z"
   },
   {
    "duration": 147,
    "start_time": "2025-03-01T16:27:10.104Z"
   },
   {
    "duration": 74,
    "start_time": "2025-03-01T16:27:10.253Z"
   },
   {
    "duration": 148,
    "start_time": "2025-03-01T16:27:10.329Z"
   },
   {
    "duration": 678,
    "start_time": "2025-03-01T16:27:12.262Z"
   },
   {
    "duration": 8627,
    "start_time": "2025-03-01T16:27:16.852Z"
   },
   {
    "duration": 8046,
    "start_time": "2025-03-01T16:27:44.742Z"
   },
   {
    "duration": 123044,
    "start_time": "2025-03-01T16:28:05.541Z"
   },
   {
    "duration": 144869,
    "start_time": "2025-03-01T16:30:32.816Z"
   },
   {
    "duration": 123627,
    "start_time": "2025-03-01T16:33:24.251Z"
   },
   {
    "duration": 125788,
    "start_time": "2025-03-01T16:36:04.585Z"
   },
   {
    "duration": 435132,
    "start_time": "2025-03-01T16:38:56.687Z"
   },
   {
    "duration": 478640,
    "start_time": "2025-03-01T16:46:29.039Z"
   },
   {
    "duration": 497982,
    "start_time": "2025-03-01T16:54:58.807Z"
   },
   {
    "duration": 537977,
    "start_time": "2025-03-01T17:12:35.710Z"
   }
  ],
  "kernelspec": {
   "display_name": "Python 3 (ipykernel)",
   "language": "python",
   "name": "python3"
  },
  "language_info": {
   "codemirror_mode": {
    "name": "ipython",
    "version": 3
   },
   "file_extension": ".py",
   "mimetype": "text/x-python",
   "name": "python",
   "nbconvert_exporter": "python",
   "pygments_lexer": "ipython3",
   "version": "3.9.19"
  },
  "toc": {
   "base_numbering": 1,
   "nav_menu": {},
   "number_sections": true,
   "sideBar": true,
   "skip_h1_title": true,
   "title_cell": "Table of Contents",
   "title_sidebar": "Contents",
   "toc_cell": false,
   "toc_position": {},
   "toc_section_display": true,
   "toc_window_display": false
  }
 },
 "nbformat": 4,
 "nbformat_minor": 2
}
