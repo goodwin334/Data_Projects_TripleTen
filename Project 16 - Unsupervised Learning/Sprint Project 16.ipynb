{
 "cells": [
  {
   "cell_type": "code",
   "execution_count": null,
   "metadata": {},
   "outputs": [],
   "source": [
    "import pandas as pd\n",
    "from pyod.models.knn import KNN\n",
    "from sklearn.ensemble import IsolationForest\n",
    "\n",
    "df = pd.read_csv('/datasets/sales.csv')\n",
    "data = df[['Sales', 'Profit']]\n",
    "\n",
    "model = KNN()\n",
    "model.fit(data)\n",
    "\n",
    "\n",
    "estimation_knn = model.fit_predict(data) == 1# < write code here >\n",
    "outliers_knn = estimation_knn.sum()# < write code here >\n",
    "print('Number of anomalies (KNN): ', outliers_knn)\n",
    "\n",
    "model = IsolationForest(n_estimators=100)\n",
    "estimation_iforest = model.fit_predict(data) == -1\n",
    "outliers_iforest = estimation_iforest.sum()\n",
    "print('Number of anomalies (isolation forest): ', outliers_iforest)\n",
    "\n",
    "print('Matched: ', (estimation_knn & estimation_iforest).sum())"
   ]
  }
 ],
 "metadata": {
  "language_info": {
   "name": "python"
  }
 },
 "nbformat": 4,
 "nbformat_minor": 2
}
