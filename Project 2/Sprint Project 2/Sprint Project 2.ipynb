{
 "cells": [
  {
   "cell_type": "code",
   "execution_count": null,
   "id": "fbf1adab",
   "metadata": {},
   "outputs": [],
   "source": [
    "#We are analyzing a dataset from instacart, a grocery delivery platform where customers order groceries online and have them delivered to them.\n",
    "#For this project our goal is to clean up and prepare the data from the report that gives insights to shopping habits of instacart customers.\n",
    "#There are 5 different tables in the dataset we are using.  The first one is instacart_orders where each row corresponds to one order on the instacart app.\n",
    "#The second is a products, where each row corresponds to a unique product that customers can buy.\n",
    "#The third one is order_products which corresponds to one item placed in an order.\n",
    "#The fourth one is aisles which represents the unique ID number for each aisle and the name of the aisle.\n",
    "#The fifth one is departments which represents the unique ID for each grocery department and its name.\n",
    "#I will reach my goal by using various sorting and filtering techniques to gather the data required.   From there I will be using graphs and charts to get answers to the questions asked and to visually see the data.\n",
    "\n"
   ]
  },
  {
   "cell_type": "code",
   "execution_count": 2,
   "id": "ad36396d",
   "metadata": {},
   "outputs": [
    {
     "name": "stdout",
     "output_type": "stream",
     "text": [
      "        order_id  user_id  order_number  order_dow  order_hour_of_day  \\\n",
      "0        1515936   183418            11          6                 13   \n",
      "1        1690866   163593             5          5                 12   \n",
      "2        1454967    39980             4          5                 19   \n",
      "3        1768857    82516            56          0                 20   \n",
      "4        3007858   196724             2          4                 12   \n",
      "...          ...      ...           ...        ...                ...   \n",
      "478962   3210681     5617             5          1                 14   \n",
      "478963   3270802   112087             2          3                 13   \n",
      "478964    885349    82944            16          2                 11   \n",
      "478965    216274     4391             3          3                  8   \n",
      "478966   2071924     1730            18          1                 14   \n",
      "\n",
      "        days_since_prior_order  \n",
      "0                         30.0  \n",
      "1                          9.0  \n",
      "2                          2.0  \n",
      "3                         10.0  \n",
      "4                         17.0  \n",
      "...                        ...  \n",
      "478962                     7.0  \n",
      "478963                     6.0  \n",
      "478964                     6.0  \n",
      "478965                     8.0  \n",
      "478966                    15.0  \n",
      "\n",
      "[478967 rows x 6 columns]\n",
      "<class 'pandas.core.frame.DataFrame'>\n",
      "RangeIndex: 478967 entries, 0 to 478966\n",
      "Data columns (total 6 columns):\n",
      " #   Column                  Non-Null Count   Dtype  \n",
      "---  ------                  --------------   -----  \n",
      " 0   order_id                478967 non-null  int64  \n",
      " 1   user_id                 478967 non-null  int64  \n",
      " 2   order_number            478967 non-null  int64  \n",
      " 3   order_dow               478967 non-null  int64  \n",
      " 4   order_hour_of_day       478967 non-null  int64  \n",
      " 5   days_since_prior_order  450148 non-null  float64\n",
      "dtypes: float64(1), int64(5)\n",
      "memory usage: 21.9 MB\n",
      "         order_id  product_id  add_to_cart_order  reordered\n",
      "0         2141543       11440               17.0          0\n",
      "1          567889        1560                1.0          1\n",
      "2         2261212       26683                1.0          1\n",
      "3          491251        8670               35.0          1\n",
      "4         2571142        1940                5.0          1\n",
      "...           ...         ...                ...        ...\n",
      "4545002    577211       15290               12.0          1\n",
      "4545003   1219554       21914                9.0          0\n",
      "4545004    692640       47766                4.0          1\n",
      "4545005    319435         691                8.0          1\n",
      "4545006   1398151       28733                9.0          0\n",
      "\n",
      "[4545007 rows x 4 columns]\n",
      "<class 'pandas.core.frame.DataFrame'>\n",
      "RangeIndex: 478967 entries, 0 to 478966\n",
      "Data columns (total 6 columns):\n",
      " #   Column                  Non-Null Count   Dtype  \n",
      "---  ------                  --------------   -----  \n",
      " 0   order_id                478967 non-null  int64  \n",
      " 1   user_id                 478967 non-null  int64  \n",
      " 2   order_number            478967 non-null  int64  \n",
      " 3   order_dow               478967 non-null  int64  \n",
      " 4   order_hour_of_day       478967 non-null  int64  \n",
      " 5   days_since_prior_order  450148 non-null  float64\n",
      "dtypes: float64(1), int64(5)\n",
      "memory usage: 21.9 MB\n",
      "       product_id                                       product_name  \\\n",
      "0               1                         Chocolate Sandwich Cookies   \n",
      "1               2                                   All-Seasons Salt   \n",
      "2               3               Robust Golden Unsweetened Oolong Tea   \n",
      "3               4  Smart Ones Classic Favorites Mini Rigatoni Wit...   \n",
      "4               5                          Green Chile Anytime Sauce   \n",
      "...           ...                                                ...   \n",
      "49689       49690                      HIGH PERFORMANCE ENERGY DRINK   \n",
      "49690       49691                      ORIGINAL PANCAKE & WAFFLE MIX   \n",
      "49691       49692    ORGANIC INSTANT OATMEAL LIGHT MAPLE BROWN SUGAR   \n",
      "49692       49693                             SPRING WATER BODY WASH   \n",
      "49693       49694                            BURRITO- STEAK & CHEESE   \n",
      "\n",
      "       aisle_id  department_id  \n",
      "0            61             19  \n",
      "1           104             13  \n",
      "2            94              7  \n",
      "3            38              1  \n",
      "4             5             13  \n",
      "...         ...            ...  \n",
      "49689        64              7  \n",
      "49690       130             14  \n",
      "49691       130             14  \n",
      "49692       127             11  \n",
      "49693        38              1  \n",
      "\n",
      "[49694 rows x 4 columns]\n",
      "<class 'pandas.core.frame.DataFrame'>\n",
      "RangeIndex: 49694 entries, 0 to 49693\n",
      "Data columns (total 4 columns):\n",
      " #   Column         Non-Null Count  Dtype \n",
      "---  ------         --------------  ----- \n",
      " 0   product_id     49694 non-null  int64 \n",
      " 1   product_name   48436 non-null  object\n",
      " 2   aisle_id       49694 non-null  int64 \n",
      " 3   department_id  49694 non-null  int64 \n",
      "dtypes: int64(3), object(1)\n",
      "memory usage: 1.5+ MB\n",
      "     aisle_id                       aisle\n",
      "0           1       prepared soups salads\n",
      "1           2           specialty cheeses\n",
      "2           3         energy granola bars\n",
      "3           4               instant foods\n",
      "4           5  marinades meat preparation\n",
      "..        ...                         ...\n",
      "129       130    hot cereal pancake mixes\n",
      "130       131                   dry pasta\n",
      "131       132                      beauty\n",
      "132       133  muscles joints pain relief\n",
      "133       134  specialty wines champagnes\n",
      "\n",
      "[134 rows x 2 columns]\n",
      "<class 'pandas.core.frame.DataFrame'>\n",
      "RangeIndex: 134 entries, 0 to 133\n",
      "Data columns (total 2 columns):\n",
      " #   Column    Non-Null Count  Dtype \n",
      "---  ------    --------------  ----- \n",
      " 0   aisle_id  134 non-null    int64 \n",
      " 1   aisle     134 non-null    object\n",
      "dtypes: int64(1), object(1)\n",
      "memory usage: 2.2+ KB\n",
      "    department_id       department\n",
      "0               1           frozen\n",
      "1               2            other\n",
      "2               3           bakery\n",
      "3               4          produce\n",
      "4               5          alcohol\n",
      "5               6    international\n",
      "6               7        beverages\n",
      "7               8             pets\n",
      "8               9  dry goods pasta\n",
      "9              10             bulk\n",
      "10             11    personal care\n",
      "11             12     meat seafood\n",
      "12             13           pantry\n",
      "13             14        breakfast\n",
      "14             15     canned goods\n",
      "15             16       dairy eggs\n",
      "16             17        household\n",
      "17             18           babies\n",
      "18             19           snacks\n",
      "19             20             deli\n",
      "20             21          missing\n"
     ]
    }
   ],
   "source": [
    "import pandas as pd\n",
    "instacart_orders = pd.read_csv('/datasets/instacart_orders.csv', sep=';')\n",
    "print(instacart_orders)\n",
    "instacart_orders.info()\n",
    "\n",
    "order_products = pd.read_csv('/datasets/order_products.csv', sep=';')\n",
    "print(order_products)\n",
    "instacart_orders.info()\n",
    "\n",
    "\n",
    "products = pd.read_csv('/datasets/products.csv', sep=';')\n",
    "print(products)\n",
    "products.info()\n",
    "\n",
    "aisles = pd.read_csv('/datasets/aisles.csv', sep=';')\n",
    "print(aisles)\n",
    "aisles.info()\n",
    "\n",
    "departments = pd.read_csv('/datasets/departments.csv', sep=';')\n",
    "print(departments)"
   ]
  },
  {
   "cell_type": "code",
   "execution_count": 3,
   "id": "59e2090f",
   "metadata": {},
   "outputs": [],
   "source": [
    "#Looking at the data we have 5 seperate spreadsheets to gather data from.  The main one is instacart_orders which details every where but that connects to the order_products table which connects to the products table which connects to the aisles and departments table."
   ]
  },
  {
   "cell_type": "code",
   "execution_count": null,
   "id": "b99297a5-405a-463d-8535-9adc3da4ad74",
   "metadata": {},
   "outputs": [
    {
     "name": "stdout",
     "output_type": "stream",
     "text": [
      "        order_id  user_id  order_number  order_dow  order_hour_of_day  \\\n",
      "30371    1918001   188546            14          3                  2   \n",
      "99462     794638    50898            24          3                  2   \n",
      "119251    408114    68324             4          3                  2   \n",
      "142258   2845099    31189            11          3                  2   \n",
      "145574    794638    50898            24          3                  2   \n",
      "164581   1112182   202304            84          3                  2   \n",
      "200059   1782114   106752             1          3                  2   \n",
      "204042   2125197    14050            48          3                  2   \n",
      "215294   2160484   107525            16          3                  2   \n",
      "223105   2160484   107525            16          3                  2   \n",
      "230807   1918001   188546            14          3                  2   \n",
      "242618   1021560    53767             3          3                  2   \n",
      "250626    467134    63189            21          3                  2   \n",
      "257934   1919531   191501            32          3                  2   \n",
      "259636   2282673    86751            49          3                  2   \n",
      "266232   1782114   106752             1          3                  2   \n",
      "273805   1112182   202304            84          3                  2   \n",
      "284038   2845099    31189            11          3                  2   \n",
      "311713   1021560    53767             3          3                  2   \n",
      "314427   1286742   183220            48          3                  2   \n",
      "321100    408114    68324             4          3                  2   \n",
      "323900   1919531   191501            32          3                  2   \n",
      "324868   2232988    82565             1          3                  2   \n",
      "345917   2232988    82565             1          3                  2   \n",
      "354993    391768    57671            19          3                  2   \n",
      "371905    391768    57671            19          3                  2   \n",
      "394347    467134    63189            21          3                  2   \n",
      "411408   1286742   183220            48          3                  2   \n",
      "415163   2282673    86751            49          3                  2   \n",
      "441599   2125197    14050            48          3                  2   \n",
      "\n",
      "        days_since_prior_order  \n",
      "30371                     16.0  \n",
      "99462                      2.0  \n",
      "119251                    18.0  \n",
      "142258                     7.0  \n",
      "145574                     2.0  \n",
      "164581                     6.0  \n",
      "200059                     NaN  \n",
      "204042                     3.0  \n",
      "215294                    30.0  \n",
      "223105                    30.0  \n",
      "230807                    16.0  \n",
      "242618                     9.0  \n",
      "250626                     2.0  \n",
      "257934                     7.0  \n",
      "259636                     2.0  \n",
      "266232                     NaN  \n",
      "273805                     6.0  \n",
      "284038                     7.0  \n",
      "311713                     9.0  \n",
      "314427                     4.0  \n",
      "321100                    18.0  \n",
      "323900                     7.0  \n",
      "324868                     NaN  \n",
      "345917                     NaN  \n",
      "354993                    10.0  \n",
      "371905                    10.0  \n",
      "394347                     2.0  \n",
      "411408                     4.0  \n",
      "415163                     2.0  \n",
      "441599                     3.0  \n"
     ]
    }
   ],
   "source": [
    "# Check for duplicated orders\n",
    "duplicates = instacart_orders[instacart_orders.duplicated(subset='order_id', keep=False)]\n",
    "print(duplicates)\n"
   ]
  },
  {
   "cell_type": "code",
   "execution_count": null,
   "id": "0d44de5d",
   "metadata": {},
   "outputs": [
    {
     "name": "stdout",
     "output_type": "stream",
     "text": [
      "        order_id  user_id  order_number  order_dow  order_hour_of_day  \\\n",
      "4838     2766110   162084            41          3                  2   \n",
      "5156     2190225   138285            18          3                  2   \n",
      "15506     553049    58599            13          3                  2   \n",
      "18420     382357   120200            19          3                  2   \n",
      "24691     690242    77357             2          3                  2   \n",
      "...          ...      ...           ...        ...                ...   \n",
      "457013   3384021    14881             6          3                  2   \n",
      "458816    910166   164782            18          3                  2   \n",
      "459635   1680532   106435             6          3                  2   \n",
      "468324    222962    54979            59          3                  2   \n",
      "477526   2592344    46860            38          3                  2   \n",
      "\n",
      "        days_since_prior_order  \n",
      "4838                      16.0  \n",
      "5156                      11.0  \n",
      "15506                      7.0  \n",
      "18420                     11.0  \n",
      "24691                      9.0  \n",
      "...                        ...  \n",
      "457013                    30.0  \n",
      "458816                     4.0  \n",
      "459635                    21.0  \n",
      "468324                     3.0  \n",
      "477526                     3.0  \n",
      "\n",
      "[121 rows x 6 columns]\n"
     ]
    }
   ],
   "source": [
    "# Check for all orders placed Wednesday at 2:00 AM\n",
    "wednesday_2am_orders = instacart_orders[(instacart_orders['order_dow'] == 3) & (instacart_orders['order_hour_of_day'] == 2)]\n",
    "print(wednesday_2am_orders)\n"
   ]
  },
  {
   "cell_type": "code",
   "execution_count": null,
   "id": "480563c7",
   "metadata": {},
   "outputs": [
    {
     "name": "stdout",
     "output_type": "stream",
     "text": [
      "        order_id  user_id  order_number  order_dow  order_hour_of_day  \\\n",
      "0        1515936   183418            11          6                 13   \n",
      "1        1690866   163593             5          5                 12   \n",
      "2        1454967    39980             4          5                 19   \n",
      "3        1768857    82516            56          0                 20   \n",
      "4        3007858   196724             2          4                 12   \n",
      "...          ...      ...           ...        ...                ...   \n",
      "478962   3210681     5617             5          1                 14   \n",
      "478963   3270802   112087             2          3                 13   \n",
      "478964    885349    82944            16          2                 11   \n",
      "478965    216274     4391             3          3                  8   \n",
      "478966   2071924     1730            18          1                 14   \n",
      "\n",
      "        days_since_prior_order  \n",
      "0                         30.0  \n",
      "1                          9.0  \n",
      "2                          2.0  \n",
      "3                         10.0  \n",
      "4                         17.0  \n",
      "...                        ...  \n",
      "478962                     7.0  \n",
      "478963                     6.0  \n",
      "478964                     6.0  \n",
      "478965                     8.0  \n",
      "478966                    15.0  \n",
      "\n",
      "[478952 rows x 6 columns]\n"
     ]
    }
   ],
   "source": [
    "# Remove duplicate orders\n",
    "instacart_orders_cleaned = instacart_orders.drop_duplicates(subset='order_id', keep='first')\n",
    "print(instacart_orders_cleaned)\n"
   ]
  },
  {
   "cell_type": "code",
   "execution_count": null,
   "id": "0b2396a2",
   "metadata": {},
   "outputs": [
    {
     "name": "stdout",
     "output_type": "stream",
     "text": [
      "Empty DataFrame\n",
      "Columns: [order_id, user_id, order_number, order_dow, order_hour_of_day, days_since_prior_order]\n",
      "Index: []\n"
     ]
    }
   ],
   "source": [
    "# Double check for duplicate rows\n",
    "instacart_orders_cleaned = instacart_orders_cleaned[instacart_orders_cleaned.duplicated(keep=False)]\n",
    "print(instacart_orders_cleaned)\n"
   ]
  },
  {
   "cell_type": "code",
   "execution_count": null,
   "id": "f6113ef1",
   "metadata": {},
   "outputs": [
    {
     "name": "stdout",
     "output_type": "stream",
     "text": [
      "Empty DataFrame\n",
      "Columns: [order_id, user_id, order_number, order_dow, order_hour_of_day, days_since_prior_order]\n",
      "Index: []\n"
     ]
    }
   ],
   "source": [
    "# Double check for duplicate order IDs only\n",
    "instacart_orders_cleaned = instacart_orders_cleaned[instacart_orders_cleaned.duplicated(subset='orders_id', keep=False)]\n",
    "print(instacart_orders_cleaned)\n",
    "\n",
    "#The data has been cleaned from duplicates and doucle checked by filtering out duplicates then creating a new cleaned dataset and looking for duplicates again."
   ]
  },
  {
   "cell_type": "code",
   "execution_count": null,
   "id": "5f526b5b-8175-46fa-a0fd-441767d50e64",
   "metadata": {},
   "outputs": [
    {
     "name": "stdout",
     "output_type": "stream",
     "text": [
      "Empty DataFrame\n",
      "Columns: [product_id, product_name, aisle_id, department_id]\n",
      "Index: []\n"
     ]
    }
   ],
   "source": [
    "# Check for fully duplicate rows\n",
    "duplicates = products[products.duplicated(keep=False)]\n",
    "print(duplicates)\n"
   ]
  },
  {
   "cell_type": "code",
   "execution_count": null,
   "id": "88daa4f4",
   "metadata": {},
   "outputs": [
    {
     "name": "stdout",
     "output_type": "stream",
     "text": [
      "Empty DataFrame\n",
      "Columns: [product_id, product_name, aisle_id, department_id]\n",
      "Index: []\n"
     ]
    }
   ],
   "source": [
    "# Check for just duplicate product IDs\n",
    "duplicates = products[products.duplicated(subset='product_id', keep=False)]\n",
    "print(duplicates)\n"
   ]
  },
  {
   "cell_type": "code",
   "execution_count": null,
   "id": "c773f0bf",
   "metadata": {},
   "outputs": [
    {
     "name": "stdout",
     "output_type": "stream",
     "text": [
      "       product_id product_name  aisle_id  department_id product_name_lower\n",
      "37             38          NaN       100             21                NaN\n",
      "71             72          NaN       100             21                NaN\n",
      "109           110          NaN       100             21                NaN\n",
      "296           297          NaN       100             21                NaN\n",
      "416           417          NaN       100             21                NaN\n",
      "...           ...          ...       ...            ...                ...\n",
      "49552       49553          NaN       100             21                NaN\n",
      "49574       49575          NaN       100             21                NaN\n",
      "49640       49641          NaN       100             21                NaN\n",
      "49663       49664          NaN       100             21                NaN\n",
      "49668       49669          NaN       100             21                NaN\n",
      "\n",
      "[1258 rows x 5 columns]\n"
     ]
    }
   ],
   "source": [
    "# Check for just duplicate product names (convert names to lowercase to compare better)\n",
    "products['product_name_lower'] = products['product_name'].str.lower()\n",
    "duplicate_products = products[products.duplicated(subset='product_name', keep=False)]\n",
    "print(duplicate_products)\n"
   ]
  },
  {
   "cell_type": "code",
   "execution_count": null,
   "id": "01efd02e",
   "metadata": {},
   "outputs": [
    {
     "name": "stdout",
     "output_type": "stream",
     "text": [
      "       product_id                                     product_name  aisle_id  \\\n",
      "41             42                                  Biotin 1000 mcg        47   \n",
      "185           186       Fresh Scent Dishwasher Detergent with Dawn        74   \n",
      "515           516                           American Cheese Slices        21   \n",
      "1538         1539                                 Cauliflower head        83   \n",
      "1783         1784              NUTrition Protein Mix Blueberry Nut       117   \n",
      "...           ...                                              ...       ...   \n",
      "49689       49690                    HIGH PERFORMANCE ENERGY DRINK        64   \n",
      "49690       49691                    ORIGINAL PANCAKE & WAFFLE MIX       130   \n",
      "49691       49692  ORGANIC INSTANT OATMEAL LIGHT MAPLE BROWN SUGAR       130   \n",
      "49692       49693                           SPRING WATER BODY WASH       127   \n",
      "49693       49694                          BURRITO- STEAK & CHEESE        38   \n",
      "\n",
      "       department_id                               product_name_lower  \n",
      "41                11                                  biotin 1000 mcg  \n",
      "185               17       fresh scent dishwasher detergent with dawn  \n",
      "515               16                           american cheese slices  \n",
      "1538               4                                 cauliflower head  \n",
      "1783              19              nutrition protein mix blueberry nut  \n",
      "...              ...                                              ...  \n",
      "49689              7                    high performance energy drink  \n",
      "49690             14                    original pancake & waffle mix  \n",
      "49691             14  organic instant oatmeal light maple brown sugar  \n",
      "49692             11                           spring water body wash  \n",
      "49693              1                          burrito- steak & cheese  \n",
      "\n",
      "[207 rows x 5 columns]\n"
     ]
    }
   ],
   "source": [
    "# Check for duplicate product names that aren't missing\n",
    "products_non_nan = products[products['product_name_lower'].notna()]\n",
    "duplicate_products = products_non_nan[products_non_nan.duplicated(subset='product_name_lower', keep=False)]\n",
    "print(duplicate_products)"
   ]
  },
  {
   "cell_type": "code",
   "execution_count": 13,
   "id": "fb410ad4-0fbf-4b80-bb09-23fdea79afe3",
   "metadata": {},
   "outputs": [
    {
     "name": "stdout",
     "output_type": "stream",
     "text": [
      "Empty DataFrame\n",
      "Columns: [department_id, department]\n",
      "Index: []\n"
     ]
    }
   ],
   "source": [
    "duplicates_departments = departments[departments.duplicated(keep=False)]\n",
    "print(duplicates_departments)"
   ]
  },
  {
   "cell_type": "code",
   "execution_count": 14,
   "id": "332b12bb",
   "metadata": {},
   "outputs": [
    {
     "name": "stdout",
     "output_type": "stream",
     "text": [
      "    department_id       department\n",
      "0               1           frozen\n",
      "1               2            other\n",
      "2               3           bakery\n",
      "3               4          produce\n",
      "4               5          alcohol\n",
      "5               6    international\n",
      "6               7        beverages\n",
      "7               8             pets\n",
      "8               9  dry goods pasta\n",
      "9              10             bulk\n",
      "10             11    personal care\n",
      "11             12     meat seafood\n",
      "12             13           pantry\n",
      "13             14        breakfast\n",
      "14             15     canned goods\n",
      "15             16       dairy eggs\n",
      "16             17        household\n",
      "17             18           babies\n",
      "18             19           snacks\n",
      "19             20             deli\n",
      "20             21          missing\n",
      "<class 'pandas.core.frame.DataFrame'>\n",
      "RangeIndex: 21 entries, 0 to 20\n",
      "Data columns (total 2 columns):\n",
      " #   Column         Non-Null Count  Dtype \n",
      "---  ------         --------------  ----- \n",
      " 0   department_id  21 non-null     int64 \n",
      " 1   department     21 non-null     object\n",
      "dtypes: int64(1), object(1)\n",
      "memory usage: 464.0+ bytes\n"
     ]
    }
   ],
   "source": [
    "print(departments)\n",
    "departments.info()"
   ]
  },
  {
   "cell_type": "markdown",
   "id": "bd30d78e",
   "metadata": {},
   "source": []
  },
  {
   "cell_type": "markdown",
   "id": "889349c1",
   "metadata": {},
   "source": [
    "### `aisles` data frame"
   ]
  },
  {
   "cell_type": "code",
   "execution_count": 15,
   "id": "9da89fb9-4679-40f5-ad0d-c34df753a3f8",
   "metadata": {},
   "outputs": [
    {
     "name": "stdout",
     "output_type": "stream",
     "text": [
      "Empty DataFrame\n",
      "Columns: [aisle_id, aisle]\n",
      "Index: []\n"
     ]
    }
   ],
   "source": [
    "duplicates_aisles = aisles[aisles.duplicated(keep=False)]\n",
    "print(duplicates_aisles)"
   ]
  },
  {
   "cell_type": "code",
   "execution_count": 16,
   "id": "da7c2822",
   "metadata": {},
   "outputs": [
    {
     "name": "stdout",
     "output_type": "stream",
     "text": [
      "     aisle_id                       aisle\n",
      "0           1       prepared soups salads\n",
      "1           2           specialty cheeses\n",
      "2           3         energy granola bars\n",
      "3           4               instant foods\n",
      "4           5  marinades meat preparation\n",
      "..        ...                         ...\n",
      "129       130    hot cereal pancake mixes\n",
      "130       131                   dry pasta\n",
      "131       132                      beauty\n",
      "132       133  muscles joints pain relief\n",
      "133       134  specialty wines champagnes\n",
      "\n",
      "[134 rows x 2 columns]\n",
      "<class 'pandas.core.frame.DataFrame'>\n",
      "RangeIndex: 134 entries, 0 to 133\n",
      "Data columns (total 2 columns):\n",
      " #   Column    Non-Null Count  Dtype \n",
      "---  ------    --------------  ----- \n",
      " 0   aisle_id  134 non-null    int64 \n",
      " 1   aisle     134 non-null    object\n",
      "dtypes: int64(1), object(1)\n",
      "memory usage: 2.2+ KB\n"
     ]
    }
   ],
   "source": [
    "print(aisles)\n",
    "aisles.info()"
   ]
  },
  {
   "cell_type": "markdown",
   "id": "ac63826f",
   "metadata": {},
   "source": []
  },
  {
   "cell_type": "markdown",
   "id": "274cd06a",
   "metadata": {},
   "source": [
    "### `order_products` data frame"
   ]
  },
  {
   "cell_type": "code",
   "execution_count": 17,
   "id": "52326689-84a8-4b8f-a881-7c68780f62c9",
   "metadata": {},
   "outputs": [
    {
     "name": "stdout",
     "output_type": "stream",
     "text": [
      "Empty DataFrame\n",
      "Columns: [order_id, product_id, add_to_cart_order, reordered]\n",
      "Index: []\n"
     ]
    }
   ],
   "source": [
    "duplicates = order_products[order_products.duplicated(keep=False)]\n",
    "print(duplicates)# Check for fullly duplicate rows\n"
   ]
  },
  {
   "cell_type": "code",
   "execution_count": 18,
   "id": "7b861391",
   "metadata": {},
   "outputs": [
    {
     "name": "stdout",
     "output_type": "stream",
     "text": [
      "Empty DataFrame\n",
      "Columns: [order_id, product_id, add_to_cart_order, reordered]\n",
      "Index: []\n",
      "\n",
      "Empty DataFrame\n",
      "Columns: [order_id, product_id, add_to_cart_order, reordered]\n",
      "Index: []\n"
     ]
    }
   ],
   "source": [
    "# Double check for any other tricky duplicates\n",
    "partial_duplicates = order_products[order_products.duplicated(subset=['order_id', 'product_id'], keep=False)]\n",
    "duplicates = order_products[order_products.duplicated(keep=False)]\n",
    "print(partial_duplicates)\n",
    "print()\n",
    "print(duplicates)"
   ]
  },
  {
   "cell_type": "markdown",
   "id": "1e46de76",
   "metadata": {},
   "source": [
    "## Find and remove missing values\n"
   ]
  },
  {
   "cell_type": "markdown",
   "id": "c0aebd78",
   "metadata": {},
   "source": [
    "### `products` data frame"
   ]
  },
  {
   "cell_type": "code",
   "execution_count": null,
   "id": "e96167bc",
   "metadata": {},
   "outputs": [
    {
     "name": "stdout",
     "output_type": "stream",
     "text": [
      "       product_id product_name  aisle_id  department_id product_name_lower\n",
      "37             38          NaN       100             21                NaN\n",
      "71             72          NaN       100             21                NaN\n",
      "109           110          NaN       100             21                NaN\n",
      "296           297          NaN       100             21                NaN\n",
      "416           417          NaN       100             21                NaN\n",
      "...           ...          ...       ...            ...                ...\n",
      "49552       49553          NaN       100             21                NaN\n",
      "49574       49575          NaN       100             21                NaN\n",
      "49640       49641          NaN       100             21                NaN\n",
      "49663       49664          NaN       100             21                NaN\n",
      "49668       49669          NaN       100             21                NaN\n",
      "\n",
      "[1258 rows x 5 columns]\n",
      "       product_id product_name  aisle_id  department_id product_name_lower\n",
      "37             38          NaN       100             21                NaN\n",
      "71             72          NaN       100             21                NaN\n",
      "109           110          NaN       100             21                NaN\n",
      "296           297          NaN       100             21                NaN\n",
      "416           417          NaN       100             21                NaN\n",
      "...           ...          ...       ...            ...                ...\n",
      "49552       49553          NaN       100             21                NaN\n",
      "49574       49575          NaN       100             21                NaN\n",
      "49640       49641          NaN       100             21                NaN\n",
      "49663       49664          NaN       100             21                NaN\n",
      "49668       49669          NaN       100             21                NaN\n",
      "\n",
      "[1258 rows x 5 columns]\n"
     ]
    }
   ],
   "source": [
    "# Are all of the missing product names associated with aisle ID 100?\n",
    "#both dataframes have 1258 rows so all missing product names are in aisle 100\n",
    "missing_product_names = products[products['product_name'].isna()]\n",
    "missing_with_aisle_100 = missing_product_names[missing_product_names['aisle_id'] == 100]\n",
    "print(missing_product_names)\n",
    "print(missing_with_aisle_100)\n"
   ]
  },
  {
   "cell_type": "code",
   "execution_count": null,
   "id": "8fd0a541",
   "metadata": {
    "scrolled": true
   },
   "outputs": [
    {
     "name": "stdout",
     "output_type": "stream",
     "text": [
      "       product_id product_name  aisle_id  department_id product_name_lower\n",
      "37             38          NaN       100             21                NaN\n",
      "71             72          NaN       100             21                NaN\n",
      "109           110          NaN       100             21                NaN\n",
      "296           297          NaN       100             21                NaN\n",
      "416           417          NaN       100             21                NaN\n",
      "...           ...          ...       ...            ...                ...\n",
      "49552       49553          NaN       100             21                NaN\n",
      "49574       49575          NaN       100             21                NaN\n",
      "49640       49641          NaN       100             21                NaN\n",
      "49663       49664          NaN       100             21                NaN\n",
      "49668       49669          NaN       100             21                NaN\n",
      "\n",
      "[1258 rows x 5 columns]\n",
      "       product_id product_name  aisle_id  department_id product_name_lower\n",
      "37             38          NaN       100             21                NaN\n",
      "71             72          NaN       100             21                NaN\n",
      "109           110          NaN       100             21                NaN\n",
      "296           297          NaN       100             21                NaN\n",
      "416           417          NaN       100             21                NaN\n",
      "...           ...          ...       ...            ...                ...\n",
      "49552       49553          NaN       100             21                NaN\n",
      "49574       49575          NaN       100             21                NaN\n",
      "49640       49641          NaN       100             21                NaN\n",
      "49663       49664          NaN       100             21                NaN\n",
      "49668       49669          NaN       100             21                NaN\n",
      "\n",
      "[1258 rows x 5 columns]\n"
     ]
    }
   ],
   "source": [
    "# Are all of the missing product names associated with department ID 21?\n",
    "missing_product_names = products[products['product_name'].isna()]\n",
    "missing_with_department_21 = missing_product_names[missing_product_names['department_id'] == 21]\n",
    "print(missing_product_names)\n",
    "print(missing_with_department_21)\n",
    "\n",
    "\n"
   ]
  },
  {
   "cell_type": "markdown",
   "id": "d5843d95",
   "metadata": {},
   "source": [
    "# both dataframes have 1258 columns so yes"
   ]
  },
  {
   "cell_type": "code",
   "execution_count": 21,
   "id": "325c3464",
   "metadata": {},
   "outputs": [
    {
     "name": "stdout",
     "output_type": "stream",
     "text": [
      "Index(['aisle_id', 'aisle'], dtype='object')\n",
      "The aisle is: missing and the department is: missing\n"
     ]
    }
   ],
   "source": [
    "print(aisles.columns)\n",
    "aisle_name = aisles[aisles['aisle_id'] == 100]['aisle'].values[0]\n",
    "department_name = departments[departments['department_id'] == 21]['department'].values[0]\n",
    "print(f\"The aisle is: {aisle_name} and the department is: {department_name}\")# What is this ailse and department?\n"
   ]
  },
  {
   "cell_type": "code",
   "execution_count": null,
   "id": "6b295120",
   "metadata": {},
   "outputs": [
    {
     "name": "stdout",
     "output_type": "stream",
     "text": [
      "    aisle_id    aisle\n",
      "99       100  Unknown\n",
      "\n",
      "    department_id       department\n",
      "0               1           frozen\n",
      "1               2            other\n",
      "2               3           bakery\n",
      "3               4          produce\n",
      "4               5          alcohol\n",
      "5               6    international\n",
      "6               7        beverages\n",
      "7               8             pets\n",
      "8               9  dry goods pasta\n",
      "9              10             bulk\n",
      "10             11    personal care\n",
      "11             12     meat seafood\n",
      "12             13           pantry\n",
      "13             14        breakfast\n",
      "14             15     canned goods\n",
      "15             16       dairy eggs\n",
      "16             17        household\n",
      "17             18           babies\n",
      "18             19           snacks\n",
      "19             20             deli\n",
      "20             21          Unknown\n",
      "       product_id                                       product_name  \\\n",
      "0               1                         Chocolate Sandwich Cookies   \n",
      "1               2                                   All-Seasons Salt   \n",
      "2               3               Robust Golden Unsweetened Oolong Tea   \n",
      "3               4  Smart Ones Classic Favorites Mini Rigatoni Wit...   \n",
      "4               5                          Green Chile Anytime Sauce   \n",
      "...           ...                                                ...   \n",
      "49689       49690                      HIGH PERFORMANCE ENERGY DRINK   \n",
      "49690       49691                      ORIGINAL PANCAKE & WAFFLE MIX   \n",
      "49691       49692    ORGANIC INSTANT OATMEAL LIGHT MAPLE BROWN SUGAR   \n",
      "49692       49693                             SPRING WATER BODY WASH   \n",
      "49693       49694                            BURRITO- STEAK & CHEESE   \n",
      "\n",
      "       aisle_id  department_id  \\\n",
      "0            61             19   \n",
      "1           104             13   \n",
      "2            94              7   \n",
      "3            38              1   \n",
      "4             5             13   \n",
      "...         ...            ...   \n",
      "49689        64              7   \n",
      "49690       130             14   \n",
      "49691       130             14   \n",
      "49692       127             11   \n",
      "49693        38              1   \n",
      "\n",
      "                                      product_name_lower  \n",
      "0                             chocolate sandwich cookies  \n",
      "1                                       all-seasons salt  \n",
      "2                   robust golden unsweetened oolong tea  \n",
      "3      smart ones classic favorites mini rigatoni wit...  \n",
      "4                              green chile anytime sauce  \n",
      "...                                                  ...  \n",
      "49689                      high performance energy drink  \n",
      "49690                      original pancake & waffle mix  \n",
      "49691    organic instant oatmeal light maple brown sugar  \n",
      "49692                             spring water body wash  \n",
      "49693                            burrito- steak & cheese  \n",
      "\n",
      "[49694 rows x 5 columns]\n"
     ]
    }
   ],
   "source": [
    "# Fill missing aisle, department and product names with 'Unknown'\n",
    "aisles['aisle'] = aisles['aisle'].replace('missing', 'Unknown')\n",
    "aisle_100_row = aisles[aisles['aisle_id'] == 100]\n",
    "departments['department'] = departments['department'].replace('missing', 'Unknown')\n",
    "products = products.fillna('Unknown')\n",
    "print(aisle_100_row)\n",
    "print()\n",
    "print(departments)\n",
    "print(products)\n"
   ]
  },
  {
   "cell_type": "markdown",
   "id": "fc70e5ad",
   "metadata": {},
   "source": []
  },
  {
   "cell_type": "markdown",
   "id": "7eb45c86",
   "metadata": {},
   "source": [
    "### `orders` data frame"
   ]
  },
  {
   "cell_type": "code",
   "execution_count": 23,
   "id": "93e41d96",
   "metadata": {},
   "outputs": [
    {
     "name": "stdout",
     "output_type": "stream",
     "text": [
      "Empty DataFrame\n",
      "Columns: [order_id, user_id, order_number, order_dow, order_hour_of_day, days_since_prior_order]\n",
      "Index: []\n",
      "<class 'pandas.core.frame.DataFrame'>\n",
      "RangeIndex: 478967 entries, 0 to 478966\n",
      "Data columns (total 6 columns):\n",
      " #   Column                  Non-Null Count   Dtype  \n",
      "---  ------                  --------------   -----  \n",
      " 0   order_id                478967 non-null  int64  \n",
      " 1   user_id                 478967 non-null  int64  \n",
      " 2   order_number            478967 non-null  int64  \n",
      " 3   order_dow               478967 non-null  int64  \n",
      " 4   order_hour_of_day       478967 non-null  int64  \n",
      " 5   days_since_prior_order  450148 non-null  float64\n",
      "dtypes: float64(1), int64(5)\n",
      "memory usage: 21.9 MB\n"
     ]
    }
   ],
   "source": [
    "print(instacart_orders_cleaned)\n",
    "instacart_orders.info()"
   ]
  },
  {
   "cell_type": "code",
   "execution_count": 24,
   "id": "166e5a86",
   "metadata": {},
   "outputs": [
    {
     "name": "stdout",
     "output_type": "stream",
     "text": [
      "order_id                  0.0\n",
      "user_id                   0.0\n",
      "order_number              0.0\n",
      "order_dow                 0.0\n",
      "order_hour_of_day         0.0\n",
      "days_since_prior_order    0.0\n",
      "dtype: float64\n"
     ]
    }
   ],
   "source": [
    "filtered_orders = instacart_orders_cleaned[instacart_orders_cleaned['order_number'] >= 2]\n",
    "missing_values = filtered_orders.isna().sum()\n",
    "print(missing_values)# Are there any missing values where it's not a customer's first order?\n"
   ]
  },
  {
   "cell_type": "markdown",
   "id": "81377e98",
   "metadata": {},
   "source": [
    "# There are no missing values where it was not a customers first order."
   ]
  },
  {
   "cell_type": "markdown",
   "id": "4e23d089",
   "metadata": {},
   "source": []
  },
  {
   "cell_type": "markdown",
   "id": "69dc9ca4",
   "metadata": {},
   "source": [
    "### `order_products` data frame"
   ]
  },
  {
   "cell_type": "code",
   "execution_count": 25,
   "id": "b8240253",
   "metadata": {},
   "outputs": [
    {
     "name": "stdout",
     "output_type": "stream",
     "text": [
      "         order_id  product_id  add_to_cart_order  reordered\n",
      "0         2141543       11440               17.0          0\n",
      "1          567889        1560                1.0          1\n",
      "2         2261212       26683                1.0          1\n",
      "3          491251        8670               35.0          1\n",
      "4         2571142        1940                5.0          1\n",
      "...           ...         ...                ...        ...\n",
      "4545002    577211       15290               12.0          1\n",
      "4545003   1219554       21914                9.0          0\n",
      "4545004    692640       47766                4.0          1\n",
      "4545005    319435         691                8.0          1\n",
      "4545006   1398151       28733                9.0          0\n",
      "\n",
      "[4545007 rows x 4 columns]\n",
      "<class 'pandas.core.frame.DataFrame'>\n",
      "RangeIndex: 4545007 entries, 0 to 4545006\n",
      "Data columns (total 4 columns):\n",
      " #   Column             Dtype  \n",
      "---  ------             -----  \n",
      " 0   order_id           int64  \n",
      " 1   product_id         int64  \n",
      " 2   add_to_cart_order  float64\n",
      " 3   reordered          int64  \n",
      "dtypes: float64(1), int64(3)\n",
      "memory usage: 138.7 MB\n"
     ]
    }
   ],
   "source": [
    "print(order_products)\n",
    "order_products.info()"
   ]
  },
  {
   "cell_type": "code",
   "execution_count": null,
   "id": "9a78e5ee",
   "metadata": {},
   "outputs": [
    {
     "name": "stdout",
     "output_type": "stream",
     "text": [
      "4\n",
      "3421079\n",
      "1\n",
      "49694\n",
      "1.0\n",
      "64.0\n"
     ]
    }
   ],
   "source": [
    "order_products.describe()# What are the min and max values in this column?  \n",
    "min_order_id = order_products['order_id'].min()\n",
    "max_order_id = order_products['order_id'].max()\n",
    "min_product_id = order_products['product_id'].min()\n",
    "max_product_id = order_products['product_id'].max()\n",
    "min_add_to_cart_id = order_products['add_to_cart_order'].min()\n",
    "max_add_to_cart_id = order_products['add_to_cart_order'].max()\n",
    "print(min_order_id)\n",
    "print(max_order_id)\n",
    "print(min_product_id)\n",
    "print(max_product_id)\n",
    "print(min_add_to_cart_id)\n",
    "print(max_add_to_cart_id)"
   ]
  },
  {
   "cell_type": "code",
   "execution_count": null,
   "id": "ab9d0c2b",
   "metadata": {},
   "outputs": [
    {
     "name": "stdout",
     "output_type": "stream",
     "text": [
      "         order_id  product_id  add_to_cart_order  reordered\n",
      "737       2449164        5068                NaN          0\n",
      "9926      1968313       43867                NaN          0\n",
      "14394     2926893       11688                NaN          0\n",
      "16418     1717990        4142                NaN          0\n",
      "30114     1959075       42828                NaN          1\n",
      "...           ...         ...                ...        ...\n",
      "4505662   1800005        7411                NaN          0\n",
      "4511400   1633337         260                NaN          0\n",
      "4517562    404157        9517                NaN          0\n",
      "4534112   1673227       17835                NaN          0\n",
      "4535739   1832957       17949                NaN          1\n",
      "\n",
      "[836 rows x 4 columns]\n"
     ]
    }
   ],
   "source": [
    "orders_with_missing_cart_order = order_products[order_products['add_to_cart_order'].isna()]\n",
    "print(orders_with_missing_cart_order)\n"
   ]
  },
  {
   "cell_type": "code",
   "execution_count": null,
   "id": "54c31695",
   "metadata": {},
   "outputs": [
    {
     "name": "stdout",
     "output_type": "stream",
     "text": [
      "Minimum number of products in orders with missing 'add_to_cart_order': 65\n",
      "All orders with missing values have more than 64 products.\n"
     ]
    }
   ],
   "source": [
    "#Save the IDs of the orders with missing 'add_to_cart_order' to a list\n",
    "order_ids_with_missing_cart_order = order_products[order_products['add_to_cart_order'].isna()]['order_id'].unique().tolist()\n",
    "\n",
    "#Select all entries attributed to those order IDs into a separate dataframe\n",
    "orders_with_missing_cart_order_entries = order_products[order_products['order_id'].isin(order_ids_with_missing_cart_order)]\n",
    "\n",
    "#Group this new dataframe by 'order_id' and find the minimum size of those groups\n",
    "product_counts_per_order_with_missing = orders_with_missing_cart_order_entries.groupby('order_id').size()\n",
    "min_product_count = product_counts_per_order_with_missing.min()\n",
    "\n",
    "#Print the minimum number of products in orders with missing 'add_to_cart_order'\n",
    "print(\"Minimum number of products in orders with missing 'add_to_cart_order':\", min_product_count)\n",
    "\n",
    "#Additional check to see if all have more than 64 products\n",
    "if min_product_count > 64:\n",
    "    print(\"All orders with missing values have more than 64 products.\")\n",
    "else:\n",
    "    print(\"Not all orders with missing values have more than 64 products.\")\n",
    "   \n"
   ]
  },
  {
   "cell_type": "code",
   "execution_count": 29,
   "id": "7a987d08",
   "metadata": {},
   "outputs": [
    {
     "name": "stdout",
     "output_type": "stream",
     "text": [
      "0    17\n",
      "1     1\n",
      "2     1\n",
      "3    35\n",
      "4     5\n",
      "Name: add_to_cart_order, dtype: int64\n"
     ]
    }
   ],
   "source": [
    "order_products['add_to_cart_order'].fillna(999, inplace=True)\n",
    "order_products['add_to_cart_order'] = order_products['add_to_cart_order'].astype(int)\n",
    "print(order_products['add_to_cart_order'].head())# Replace missing values with 999 and convert column to integer type\n"
   ]
  },
  {
   "cell_type": "markdown",
   "id": "3b168b0b",
   "metadata": {},
   "source": [
    "# I have removed missing values or replaced them with Unknown. There is no missing values when it is not a customers first order so there has to be an issues on data collection on the first order.  There is also an issue with the data collection when there are more than 64 products ordered."
   ]
  },
  {
   "cell_type": "markdown",
   "id": "fea4bcc7",
   "metadata": {},
   "source": []
  },
  {
   "cell_type": "markdown",
   "id": "turkish-kidney",
   "metadata": {},
   "source": [
    "# [A] Easy (must complete all to pass)"
   ]
  },
  {
   "cell_type": "markdown",
   "id": "short-capability",
   "metadata": {},
   "source": [
    "### [A1] Verify that the `'order_hour_of_day'` and `'order_dow'` values in the `orders` tables are sensible (i.e. `'order_hour_of_day'` ranges from 0 to 23 and `'order_dow'` ranges from 0 to 6)"
   ]
  },
  {
   "cell_type": "code",
   "execution_count": 30,
   "id": "growing-fruit",
   "metadata": {},
   "outputs": [
    {
     "name": "stdout",
     "output_type": "stream",
     "text": [
      "0\n",
      "23\n"
     ]
    }
   ],
   "source": [
    "min_order_hour_of_day = instacart_orders['order_hour_of_day'].min()\n",
    "max_order_hour_of_day = instacart_orders['order_hour_of_day'].max()\n",
    "print(min_order_hour_of_day)\n",
    "print(max_order_hour_of_day)"
   ]
  },
  {
   "cell_type": "code",
   "execution_count": 31,
   "id": "accessory-malaysia",
   "metadata": {},
   "outputs": [
    {
     "name": "stdout",
     "output_type": "stream",
     "text": [
      "0\n",
      "6\n"
     ]
    }
   ],
   "source": [
    "min_order_dow = instacart_orders['order_dow'].min()\n",
    "max_order_dow = instacart_orders['order_dow'].max()\n",
    "print(min_order_dow)\n",
    "print(max_order_dow)"
   ]
  },
  {
   "cell_type": "markdown",
   "id": "a6743a70",
   "metadata": {},
   "source": [
    "### [A2] What time of day do people shop for groceries?"
   ]
  },
  {
   "cell_type": "code",
   "execution_count": 32,
   "id": "a36cca27",
   "metadata": {
    "scrolled": false
   },
   "outputs": [
    {
     "data": {
      "image/png": "[encoded data removed]",
      "text/plain": [
       "<Figure size 1000x600 with 1 Axes>"
      ]
     },
     "metadata": {},
     "output_type": "display_data"
    }
   ],
   "source": [
    "import matplotlib.pyplot as plt\n",
    "import pandas as pd\n",
    "\n",
    "order_count_by_hour = instacart_orders.groupby('order_hour_of_day').size()\n",
    "plt.figure(figsize=(10,6))\n",
    "plt.bar(order_count_by_hour.index, order_count_by_hour.values)\n",
    "plt.title('Numbe of Orders by Hour of Day')\n",
    "plt.xlabel('Hour of Day')\n",
    "plt.ylabel('Number of Orders')\n",
    "plt.grid(True, axis='y')\n",
    "plt.xticks(range(24))\n",
    "plt.show()"
   ]
  },
  {
   "cell_type": "markdown",
   "id": "d2f80e74",
   "metadata": {},
   "source": [
    "#The most popular times of the day that people shop for groceries are between 10-12 am and between 2-4 pm."
   ]
  },
  {
   "cell_type": "markdown",
   "id": "documented-command",
   "metadata": {},
   "source": [
    "### [A3] What day of the week do people shop for groceries?"
   ]
  },
  {
   "cell_type": "code",
   "execution_count": 33,
   "id": "chief-digit",
   "metadata": {},
   "outputs": [
    {
     "data": {
      "image/png": "[encoded data removed]",
      "text/plain": [
       "<Figure size 1000x600 with 1 Axes>"
      ]
     },
     "metadata": {},
     "output_type": "display_data"
    }
   ],
   "source": [
    "import matplotlib.pyplot as plt\n",
    "import pandas as pd\n",
    "\n",
    "order_count_by_day_of_week = instacart_orders.groupby('order_dow').size()\n",
    "plt.figure(figsize=(10,6))\n",
    "plt.bar(order_count_by_day_of_week.index, order_count_by_day_of_week.values)\n",
    "plt.title('Number of Orders Day')\n",
    "plt.xlabel('Day of Week')\n",
    "plt.ylabel('Number of Orders')\n",
    "plt.grid(True, axis='y')\n",
    "plt.xticks(range(7))\n",
    "plt.show()"
   ]
  },
  {
   "cell_type": "code",
   "execution_count": null,
   "id": "5c65ee54",
   "metadata": {},
   "outputs": [],
   "source": [
    "#The most popular day of the week for people to shop for groceries is Sunday, the 2nd most popular is Monday."
   ]
  },
  {
   "cell_type": "markdown",
   "id": "cutting-concert",
   "metadata": {},
   "source": [
    "### [A4] How long do people wait until placing another order?"
   ]
  },
  {
   "cell_type": "code",
   "execution_count": 35,
   "id": "c231f523",
   "metadata": {},
   "outputs": [
    {
     "data": {
      "image/png": "[encoded data removed]",
      "text/plain": [
       "<Figure size 1000x600 with 1 Axes>"
      ]
     },
     "metadata": {},
     "output_type": "display_data"
    }
   ],
   "source": [
    "import matplotlib.pyplot as plt\n",
    "import pandas as pd\n",
    "\n",
    "days_since_prior_order_sum = instacart_orders.groupby('days_since_prior_order').size()\n",
    "plt.figure(figsize=(10,6))\n",
    "plt.bar(days_since_prior_order_sum.index, days_since_prior_order_sum.values)\n",
    "plt.title('Days Since Prior Order')\n",
    "plt.xlabel('# of Days')\n",
    "plt.ylabel('Number of Orders')\n",
    "plt.grid(True, axis='y')\n",
    "plt.xticks(range(31))\n",
    "plt.show()"
   ]
  },
  {
   "cell_type": "code",
   "execution_count": null,
   "id": "53f5ca79",
   "metadata": {},
   "outputs": [],
   "source": [
    "#A lot of people wait 30 days to place another order but that could just be because the data stops at 30 and does not go higher.\n",
    "#If you exlude the outlier of 30 from the data the most popular reorder times are 7 then 6 days."
   ]
  },
  {
   "cell_type": "code",
   "execution_count": 37,
   "id": "exciting-fantasy",
   "metadata": {},
   "outputs": [
    {
     "name": "stdout",
     "output_type": "stream",
     "text": [
      "The minimum number of days since prior order is 0.0\n",
      "The maximum number of days since prior order is 30.0\n"
     ]
    }
   ],
   "source": [
    "days_since_prior_order_min = instacart_orders['days_since_prior_order'].min()\n",
    "days_since_prior_order_max = instacart_orders['days_since_prior_order'].max()\n",
    "print(f\"The minimum number of days since prior order is {days_since_prior_order_min}\")\n",
    "print(f\"The maximum number of days since prior order is {days_since_prior_order_max}\")"
   ]
  },
  {
   "cell_type": "markdown",
   "id": "8d926614",
   "metadata": {},
   "source": []
  },
  {
   "cell_type": "markdown",
   "id": "tight-staff",
   "metadata": {},
   "source": [
    "# [B] Medium (must complete all to pass)"
   ]
  },
  {
   "cell_type": "markdown",
   "id": "packed-classic",
   "metadata": {},
   "source": [
    "### [B1] Is there a difference in `'order_hour_of_day'` distributions on Wednesdays and Saturdays? Plot the histograms for both days and describe the differences that you see."
   ]
  },
  {
   "cell_type": "code",
   "execution_count": 38,
   "id": "d89b8403",
   "metadata": {},
   "outputs": [],
   "source": [
    "wednesday_orders = instacart_orders[instacart_orders['order_dow'] == 3]\n",
    "saturday_orders = instacart_orders[instacart_orders['order_dow'] == 6]"
   ]
  },
  {
   "cell_type": "code",
   "execution_count": 39,
   "id": "94e54e8a",
   "metadata": {},
   "outputs": [
    {
     "data": {
      "image/png": "[encoded data removed]",
      "text/plain": [
       "<Figure size 1200x600 with 2 Axes>"
      ]
     },
     "metadata": {},
     "output_type": "display_data"
    }
   ],
   "source": [
    "import matplotlib.pyplot as plt\n",
    "\n",
    "plt.figure(figsize=(12,6))\n",
    "plt.subplot(1, 2, 1)\n",
    "plt.hist(wednesday_orders['order_hour_of_day'], bins=24, range=(0, 23), alpha=0.7)\n",
    "plt.title('Orders on Wednesday')\n",
    "plt.xlabel('Hour of Day')\n",
    "plt.ylabel('Number of Orders')\n",
    "plt.xticks(range(24))\n",
    "\n",
    "plt.subplot(1, 2, 2)\n",
    "plt.hist(saturday_orders['order_hour_of_day'], bins=24, range=(0, 23), alpha=0.7)\n",
    "plt.title('Orders on Saturday')\n",
    "plt.xlabel('Hour of Day')\n",
    "plt.ylabel('Number of Orders')\n",
    "plt.xticks(range(24))\n",
    "plt.show()\n"
   ]
  },
  {
   "cell_type": "code",
   "execution_count": 40,
   "id": "797c90a8",
   "metadata": {},
   "outputs": [],
   "source": [
    "#The distribution on the timing of orders is fairly similar but there is still two noticeable differences.\n",
    "#The first being that around lunch time (between noon and 2pm) there is usually a fall of on orders on Wednesday's.\n",
    "#On Saturday's it is the opposite, between noon and 2pm is peak order time.\n",
    "#Also on Saturday nights there is a more orders taking place late at night than on Wednesday nights."
   ]
  },
  {
   "cell_type": "markdown",
   "id": "e3891143",
   "metadata": {},
   "source": [
    "### [B2] What's the distribution for the number of orders per customer?"
   ]
  },
  {
   "cell_type": "code",
   "execution_count": 41,
   "id": "d8c26c23",
   "metadata": {},
   "outputs": [],
   "source": [
    "orders_per_customer = instacart_orders.groupby('user_id').size()\n",
    "orders_distribution = orders_per_customer.value_counts().sort_index()"
   ]
  },
  {
   "cell_type": "code",
   "execution_count": 42,
   "id": "00e69a66",
   "metadata": {},
   "outputs": [
    {
     "data": {
      "image/png": "[encoded data removed]",
      "text/plain": [
       "<Figure size 1000x600 with 1 Axes>"
      ]
     },
     "metadata": {},
     "output_type": "display_data"
    }
   ],
   "source": [
    "plt.figure(figsize=(10,6))\n",
    "plt.bar(orders_distribution.index, orders_distribution.values)\n",
    "plt.title('Distribution of orders per customer')\n",
    "plt.xlabel('Number of Orders')\n",
    "plt.ylabel('Number of Customers')\n",
    "plt.grid(True, axis='y')\n",
    "plt.show()"
   ]
  },
  {
   "cell_type": "markdown",
   "id": "d2eff7d5",
   "metadata": {},
   "source": []
  },
  {
   "cell_type": "markdown",
   "id": "54a0319c",
   "metadata": {},
   "source": [
    "### [B3] What are the top 20 popular products (display their id and name)?"
   ]
  },
  {
   "cell_type": "code",
   "execution_count": 43,
   "id": "exterior-arizona",
   "metadata": {
    "scrolled": true
   },
   "outputs": [],
   "source": [
    "product_order_count = order_products.groupby('product_id').size().reset_index(name='order_count')\n",
    "top_20_products = product_order_count.sort_values(by='order_count', ascending=False).head(20)"
   ]
  },
  {
   "cell_type": "code",
   "execution_count": 44,
   "id": "universal-facial",
   "metadata": {},
   "outputs": [],
   "source": [
    "top_20_products = top_20_products.merge(products[['product_id', 'product_name']], on='product_id', how='left')"
   ]
  },
  {
   "cell_type": "code",
   "execution_count": 45,
   "id": "bbcdd20b",
   "metadata": {},
   "outputs": [
    {
     "name": "stdout",
     "output_type": "stream",
     "text": [
      "    product_id  order_count              product_name\n",
      "0        24852        66050                    Banana\n",
      "1        13176        53297    Bag of Organic Bananas\n",
      "2        21137        37039      Organic Strawberries\n",
      "3        21903        33971      Organic Baby Spinach\n",
      "4        47209        29773      Organic Hass Avocado\n",
      "5        47766        24689           Organic Avocado\n",
      "6        47626        21495               Large Lemon\n",
      "7        16797        20018              Strawberries\n",
      "8        26209        19690                     Limes\n",
      "9        27845        19600        Organic Whole Milk\n",
      "10       27966        19197       Organic Raspberries\n",
      "11       22935        15898      Organic Yellow Onion\n",
      "12       24964        15292            Organic Garlic\n",
      "13       45007        14584          Organic Zucchini\n",
      "14       39275        13879       Organic Blueberries\n",
      "15       49683        13675            Cucumber Kirby\n",
      "16       28204        12544        Organic Fuji Apple\n",
      "17        5876        12232             Organic Lemon\n",
      "18        8277        11993  Apple Honeycrisp Organic\n",
      "19       40706        11781    Organic Grape Tomatoes\n"
     ]
    }
   ],
   "source": [
    "print(top_20_products)"
   ]
  },
  {
   "cell_type": "markdown",
   "id": "7df00f47",
   "metadata": {},
   "source": []
  },
  {
   "cell_type": "markdown",
   "id": "gross-theme",
   "metadata": {},
   "source": [
    "# [C] Hard (must complete at least two to pass)"
   ]
  },
  {
   "cell_type": "markdown",
   "id": "romantic-deposit",
   "metadata": {},
   "source": [
    "### [C1] How many items do people typically buy in one order? What does the distribution look like?"
   ]
  },
  {
   "cell_type": "code",
   "execution_count": 46,
   "id": "virtual-punch",
   "metadata": {},
   "outputs": [
    {
     "name": "stdout",
     "output_type": "stream",
     "text": [
      "Mean number of items per order: 10.098983215049127\n",
      "Median number of items per order: 8.0\n"
     ]
    }
   ],
   "source": [
    "items_per_order = order_products.groupby('order_id').size()\n",
    "mean_items = items_per_order.mean()\n",
    "median_items = items_per_order.median()\n",
    "print(f\"Mean number of items per order: {mean_items}\")\n",
    "print(f\"Median number of items per order: {median_items}\")"
   ]
  },
  {
   "cell_type": "code",
   "execution_count": 47,
   "id": "sensitive-breathing",
   "metadata": {},
   "outputs": [
    {
     "data": {
      "image/png": "[encoded data removed]",
      "text/plain": [
       "<Figure size 1000x600 with 1 Axes>"
      ]
     },
     "metadata": {},
     "output_type": "display_data"
    }
   ],
   "source": [
    "import matplotlib.pyplot as plt\n",
    "plt.figure(figsize=(10,6))\n",
    "plt.hist(items_per_order, bins=range(1, items_per_order.max() +1), edgecolor='black', alpha=0.7)\n",
    "plt.title('Distribution of Items per Order')\n",
    "plt.xlabel('Number of Items')\n",
    "plt.ylabel('Number of Orders')\n",
    "plt.grid(True, axis='y')\n",
    "plt.show()"
   ]
  },
  {
   "cell_type": "code",
   "execution_count": 48,
   "id": "completed-frank",
   "metadata": {},
   "outputs": [],
   "source": [
    "#The mean number of products per order is slightly above 10 while the median is 8.\n",
    "#The distribution looks like a log normal distribution, rising slightly to start from 0 to 5 products\n",
    "#then falling exponentially from there."
   ]
  },
  {
   "cell_type": "markdown",
   "id": "5e6b5537",
   "metadata": {},
   "source": [
    "### [C2] What are the top 20 items that are reordered most frequently (display their names and product IDs)?"
   ]
  },
  {
   "cell_type": "code",
   "execution_count": 49,
   "id": "9374e55a",
   "metadata": {},
   "outputs": [],
   "source": [
    "reordered_products = order_products[order_products['reordered'] == 1]\n"
   ]
  },
  {
   "cell_type": "code",
   "execution_count": 50,
   "id": "possible-change",
   "metadata": {
    "scrolled": true
   },
   "outputs": [],
   "source": [
    "reorder_count = reordered_products.groupby('product_id').size().reset_index(name='reorder_count')\n"
   ]
  },
  {
   "cell_type": "code",
   "execution_count": 51,
   "id": "professional-surfing",
   "metadata": {
    "scrolled": true
   },
   "outputs": [],
   "source": [
    "top_20_reordered_products = reorder_count.sort_values(by='reorder_count', ascending=False).head(20)\n",
    "top_20_reordered_products = top_20_reordered_products.merge(products[['product_id', 'product_name']], on='product_id', how='left')\n"
   ]
  },
  {
   "cell_type": "code",
   "execution_count": 52,
   "id": "48dd3658",
   "metadata": {},
   "outputs": [
    {
     "name": "stdout",
     "output_type": "stream",
     "text": [
      "    product_id  reorder_count              product_name\n",
      "0        24852          55763                    Banana\n",
      "1        13176          44450    Bag of Organic Bananas\n",
      "2        21137          28639      Organic Strawberries\n",
      "3        21903          26233      Organic Baby Spinach\n",
      "4        47209          23629      Organic Hass Avocado\n",
      "5        47766          18743           Organic Avocado\n",
      "6        27845          16251        Organic Whole Milk\n",
      "7        47626          15044               Large Lemon\n",
      "8        27966          14748       Organic Raspberries\n",
      "9        16797          13945              Strawberries\n",
      "10       26209          13327                     Limes\n",
      "11       22935          11145      Organic Yellow Onion\n",
      "12       24964          10411            Organic Garlic\n",
      "13       45007          10076          Organic Zucchini\n",
      "14       49683           9538            Cucumber Kirby\n",
      "15       28204           8989        Organic Fuji Apple\n",
      "16        8277           8836  Apple Honeycrisp Organic\n",
      "17       39275           8799       Organic Blueberries\n",
      "18        5876           8412             Organic Lemon\n",
      "19       49235           8389       Organic Half & Half\n"
     ]
    }
   ],
   "source": [
    "print(top_20_reordered_products)"
   ]
  },
  {
   "cell_type": "markdown",
   "id": "9d312b14",
   "metadata": {},
   "source": [
    "### [C3] For each product, what proportion of its orders are reorders?"
   ]
  },
  {
   "cell_type": "code",
   "execution_count": 53,
   "id": "8ae9f4b1",
   "metadata": {},
   "outputs": [],
   "source": [
    "product_order_count = order_products.groupby('product_id').size().reset_index(name='order_count')\n",
    "top_products = product_order_count.sort_values(by='order_count', ascending=False)\n",
    "top_products = top_products.merge(products[['product_id', 'product_name']], on='product_id', how='left')\n",
    "\n",
    "reordered_products = order_products[order_products['reordered'] == 1]\n",
    "reorder_count = reordered_products.groupby('product_id').size().reset_index(name='reorder_count')\n",
    "reordered_products = reorder_count.sort_values(by='reorder_count', ascending=False)\n",
    "reordered_products = reordered_products.merge(products[['product_id', 'product_name']], on='product_id', how='left')\n"
   ]
  },
  {
   "cell_type": "code",
   "execution_count": 54,
   "id": "103e7fe1",
   "metadata": {},
   "outputs": [
    {
     "name": "stdout",
     "output_type": "stream",
     "text": [
      "       product_id                                       product_name  \\\n",
      "0               1                         Chocolate Sandwich Cookies   \n",
      "1               2                                   All-Seasons Salt   \n",
      "2               3               Robust Golden Unsweetened Oolong Tea   \n",
      "3               4  Smart Ones Classic Favorites Mini Rigatoni Wit...   \n",
      "4               7                     Pure Coconut Water With Orange   \n",
      "...           ...                                                ...   \n",
      "45568       49690                      HIGH PERFORMANCE ENERGY DRINK   \n",
      "45569       49691                      ORIGINAL PANCAKE & WAFFLE MIX   \n",
      "45570       49692    ORGANIC INSTANT OATMEAL LIGHT MAPLE BROWN SUGAR   \n",
      "45571       49693                             SPRING WATER BODY WASH   \n",
      "45572       49694                            BURRITO- STEAK & CHEESE   \n",
      "\n",
      "       order_count  reorder_count  reorder_proportion  \n",
      "0              280          158.0            0.564286  \n",
      "1               11            0.0            0.000000  \n",
      "2               42           31.0            0.738095  \n",
      "3               49           25.0            0.510204  \n",
      "4                2            1.0            0.500000  \n",
      "...            ...            ...                 ...  \n",
      "45568            5            4.0            0.800000  \n",
      "45569           72           31.0            0.430556  \n",
      "45570           12            5.0            0.416667  \n",
      "45571           25           11.0            0.440000  \n",
      "45572            9            3.0            0.333333  \n",
      "\n",
      "[45573 rows x 5 columns]\n"
     ]
    }
   ],
   "source": [
    "product_reorder_data = product_order_count.merge(reorder_count, on='product_id', how='left').fillna(0)\n",
    "product_reorder_data['reorder_proportion'] = product_reorder_data['reorder_count'] / product_reorder_data['order_count']\n",
    "product_reorder_data = product_reorder_data.merge(products[['product_id', 'product_name']], on='product_id', how='left')\n",
    "print(product_reorder_data[['product_id', 'product_name', 'order_count', 'reorder_count', 'reorder_proportion']])"
   ]
  },
  {
   "cell_type": "code",
   "execution_count": null,
   "id": "89ee38b6",
   "metadata": {},
   "outputs": [
    {
     "data": {
      "text/html": [
       "<style  type=\"text/css\" >\n",
       "</style><table id=\"T_3ce1d_\" ><thead>    <tr>        <th class=\"blank\" ></th>        <th class=\"blank level0\" ></th>        <th class=\"col_heading level0 col0\" >reordered</th>    </tr>    <tr>        <th class=\"index_name level0\" >product_id</th>        <th class=\"index_name level1\" >product_name</th>        <th class=\"blank\" ></th>    </tr></thead><tbody>\n",
       "                <tr>\n",
       "                        <th id=\"T_3ce1d_level0_row0\" class=\"row_heading level0 row0\" >1</th>\n",
       "                        <th id=\"T_3ce1d_level1_row0\" class=\"row_heading level1 row0\" >Chocolate Sandwich Cookies</th>\n",
       "                        <td id=\"T_3ce1d_row0_col0\" class=\"data row0 col0\" >56.4%</td>\n",
       "            </tr>\n",
       "            <tr>\n",
       "                        <th id=\"T_3ce1d_level0_row1\" class=\"row_heading level0 row1\" >2</th>\n",
       "                        <th id=\"T_3ce1d_level1_row1\" class=\"row_heading level1 row1\" >All-Seasons Salt</th>\n",
       "                        <td id=\"T_3ce1d_row1_col0\" class=\"data row1 col0\" >0.0%</td>\n",
       "            </tr>\n",
       "            <tr>\n",
       "                        <th id=\"T_3ce1d_level0_row2\" class=\"row_heading level0 row2\" >3</th>\n",
       "                        <th id=\"T_3ce1d_level1_row2\" class=\"row_heading level1 row2\" >Robust Golden Unsweetened Oolong Tea</th>\n",
       "                        <td id=\"T_3ce1d_row2_col0\" class=\"data row2 col0\" >73.8%</td>\n",
       "            </tr>\n",
       "            <tr>\n",
       "                        <th id=\"T_3ce1d_level0_row3\" class=\"row_heading level0 row3\" >4</th>\n",
       "                        <th id=\"T_3ce1d_level1_row3\" class=\"row_heading level1 row3\" >Smart Ones Classic Favorites Mini Rigatoni With Vodka Cream Sauce</th>\n",
       "                        <td id=\"T_3ce1d_row3_col0\" class=\"data row3 col0\" >51.0%</td>\n",
       "            </tr>\n",
       "            <tr>\n",
       "                        <th id=\"T_3ce1d_level0_row4\" class=\"row_heading level0 row4\" >7</th>\n",
       "                        <th id=\"T_3ce1d_level1_row4\" class=\"row_heading level1 row4\" >Pure Coconut Water With Orange</th>\n",
       "                        <td id=\"T_3ce1d_row4_col0\" class=\"data row4 col0\" >50.0%</td>\n",
       "            </tr>\n",
       "            <tr>\n",
       "                        <th id=\"T_3ce1d_level0_row5\" class=\"row_heading level0 row5\" >8</th>\n",
       "                        <th id=\"T_3ce1d_level1_row5\" class=\"row_heading level1 row5\" >Cut Russet Potatoes Steam N' Mash</th>\n",
       "                        <td id=\"T_3ce1d_row5_col0\" class=\"data row5 col0\" >31.6%</td>\n",
       "            </tr>\n",
       "            <tr>\n",
       "                        <th id=\"T_3ce1d_level0_row6\" class=\"row_heading level0 row6\" >9</th>\n",
       "                        <th id=\"T_3ce1d_level1_row6\" class=\"row_heading level1 row6\" >Light Strawberry Blueberry Yogurt</th>\n",
       "                        <td id=\"T_3ce1d_row6_col0\" class=\"data row6 col0\" >76.2%</td>\n",
       "            </tr>\n",
       "            <tr>\n",
       "                        <th id=\"T_3ce1d_level0_row7\" class=\"row_heading level0 row7\" >10</th>\n",
       "                        <th id=\"T_3ce1d_level1_row7\" class=\"row_heading level1 row7\" >Sparkling Orange Juice & Prickly Pear Beverage</th>\n",
       "                        <td id=\"T_3ce1d_row7_col0\" class=\"data row7 col0\" >44.8%</td>\n",
       "            </tr>\n",
       "            <tr>\n",
       "                        <th id=\"T_3ce1d_level0_row8\" class=\"row_heading level0 row8\" >11</th>\n",
       "                        <th id=\"T_3ce1d_level1_row8\" class=\"row_heading level1 row8\" >Peach Mango Juice</th>\n",
       "                        <td id=\"T_3ce1d_row8_col0\" class=\"data row8 col0\" >62.5%</td>\n",
       "            </tr>\n",
       "            <tr>\n",
       "                        <th id=\"T_3ce1d_level0_row9\" class=\"row_heading level0 row9\" >12</th>\n",
       "                        <th id=\"T_3ce1d_level1_row9\" class=\"row_heading level1 row9\" >Chocolate Fudge Layer Cake</th>\n",
       "                        <td id=\"T_3ce1d_row9_col0\" class=\"data row9 col0\" >39.0%</td>\n",
       "            </tr>\n",
       "            <tr>\n",
       "                        <th id=\"T_3ce1d_level0_row10\" class=\"row_heading level0 row10\" >13</th>\n",
       "                        <th id=\"T_3ce1d_level1_row10\" class=\"row_heading level1 row10\" >Saline Nasal Mist</th>\n",
       "                        <td id=\"T_3ce1d_row10_col0\" class=\"data row10 col0\" >50.0%</td>\n",
       "            </tr>\n",
       "            <tr>\n",
       "                        <th id=\"T_3ce1d_level0_row11\" class=\"row_heading level0 row11\" >14</th>\n",
       "                        <th id=\"T_3ce1d_level1_row11\" class=\"row_heading level1 row11\" >Fresh Scent Dishwasher Cleaner</th>\n",
       "                        <td id=\"T_3ce1d_row11_col0\" class=\"data row11 col0\" >0.0%</td>\n",
       "            </tr>\n",
       "            <tr>\n",
       "                        <th id=\"T_3ce1d_level0_row12\" class=\"row_heading level0 row12\" >17</th>\n",
       "                        <th id=\"T_3ce1d_level1_row12\" class=\"row_heading level1 row12\" >Rendered Duck Fat</th>\n",
       "                        <td id=\"T_3ce1d_row12_col0\" class=\"data row12 col0\" >0.0%</td>\n",
       "            </tr>\n",
       "            <tr>\n",
       "                        <th id=\"T_3ce1d_level0_row13\" class=\"row_heading level0 row13\" >18</th>\n",
       "                        <th id=\"T_3ce1d_level1_row13\" class=\"row_heading level1 row13\" >Pizza for One Suprema  Frozen Pizza</th>\n",
       "                        <td id=\"T_3ce1d_row13_col0\" class=\"data row13 col0\" >53.3%</td>\n",
       "            </tr>\n",
       "            <tr>\n",
       "                        <th id=\"T_3ce1d_level0_row14\" class=\"row_heading level0 row14\" >19</th>\n",
       "                        <th id=\"T_3ce1d_level1_row14\" class=\"row_heading level1 row14\" >Gluten Free Quinoa Three Cheese & Mushroom Blend</th>\n",
       "                        <td id=\"T_3ce1d_row14_col0\" class=\"data row14 col0\" >0.0%</td>\n",
       "            </tr>\n",
       "            <tr>\n",
       "                        <th id=\"T_3ce1d_level0_row15\" class=\"row_heading level0 row15\" >21</th>\n",
       "                        <th id=\"T_3ce1d_level1_row15\" class=\"row_heading level1 row15\" >Small & Medium Dental Dog Treats</th>\n",
       "                        <td id=\"T_3ce1d_row15_col0\" class=\"data row15 col0\" >0.0%</td>\n",
       "            </tr>\n",
       "            <tr>\n",
       "                        <th id=\"T_3ce1d_level0_row16\" class=\"row_heading level0 row16\" >22</th>\n",
       "                        <th id=\"T_3ce1d_level1_row16\" class=\"row_heading level1 row16\" >Fresh Breath Oral Rinse Mild Mint</th>\n",
       "                        <td id=\"T_3ce1d_row16_col0\" class=\"data row16 col0\" >50.0%</td>\n",
       "            </tr>\n",
       "            <tr>\n",
       "                        <th id=\"T_3ce1d_level0_row17\" class=\"row_heading level0 row17\" >23</th>\n",
       "                        <th id=\"T_3ce1d_level1_row17\" class=\"row_heading level1 row17\" >Organic Turkey Burgers</th>\n",
       "                        <td id=\"T_3ce1d_row17_col0\" class=\"data row17 col0\" >38.1%</td>\n",
       "            </tr>\n",
       "            <tr>\n",
       "                        <th id=\"T_3ce1d_level0_row18\" class=\"row_heading level0 row18\" >24</th>\n",
       "                        <th id=\"T_3ce1d_level1_row18\" class=\"row_heading level1 row18\" >Tri-Vi-Sol® Vitamins A-C-and D Supplement Drops for Infants</th>\n",
       "                        <td id=\"T_3ce1d_row18_col0\" class=\"data row18 col0\" >0.0%</td>\n",
       "            </tr>\n",
       "            <tr>\n",
       "                        <th id=\"T_3ce1d_level0_row19\" class=\"row_heading level0 row19\" >25</th>\n",
       "                        <th id=\"T_3ce1d_level1_row19\" class=\"row_heading level1 row19\" >Salted Caramel Lean Protein & Fiber Bar</th>\n",
       "                        <td id=\"T_3ce1d_row19_col0\" class=\"data row19 col0\" >67.5%</td>\n",
       "            </tr>\n",
       "    </tbody></table>"
      ],
      "text/plain": [
       "<pandas.io.formats.style.Styler at 0x7f8cbec2cb50>"
      ]
     },
     "execution_count": 55,
     "metadata": {},
     "output_type": "execute_result"
    }
   ],
   "source": [
    "#Upload the dataframes. You can skip that step and use your own dataframes\n",
    "df_order_products = pd.read_csv('/datasets/order_products.csv', sep=';')\n",
    "df_products = pd.read_csv('/datasets/products.csv', sep=';')\n",
    "\n",
    "#Merge sales and products\n",
    "reorder_pct = df_order_products.merge(df_products)\n",
    "\n",
    "#Get the reorder ratio\n",
    "reorder_pct = reorder_pct.groupby(['product_id', 'product_name'])['reordered'].mean().to_frame()\n",
    "\n",
    "#Format the output\n",
    "reorder_pct.head(20).style.format({'reordered': '{:.1%}'})"
   ]
  },
  {
   "cell_type": "markdown",
   "id": "585e6813",
   "metadata": {},
   "source": [
    "#My ending analysis of the data would state that most orders during the day happen between 10am and 5pm.  Sunday and Monday are the most popular days of the week that orders are placed.  Customers usually wait 6-7 days to reorder but also a large amount of the group has 30 days waited.  That outlier could just be because of how the data is collected though.  Order times on the weekend are slightly different than order times during the week.  Peak hours are between 1pm and 4pm during the weekend while peak hours during the weekdays are between 10am-Noon and between 2pm and 5pm.  A majority of the customers have placed less than 3 orders.  The majority of orders are for between 3 and 8 items."
   ]
  }
 ],
 "metadata": {
  "ExecuteTimeLog": [
   {
    "duration": 163,
    "start_time": "2024-10-24T15:20:08.266Z"
   },
   {
    "duration": 613,
    "start_time": "2024-10-24T15:20:32.542Z"
   },
   {
    "duration": 51,
    "start_time": "2024-10-24T15:20:41.934Z"
   },
   {
    "duration": 8,
    "start_time": "2024-10-24T15:20:50.461Z"
   },
   {
    "duration": 8,
    "start_time": "2024-10-24T15:20:52.293Z"
   },
   {
    "duration": 1894,
    "start_time": "2024-10-24T15:20:54.305Z"
   },
   {
    "duration": 287,
    "start_time": "2024-10-24T15:21:21.885Z"
   },
   {
    "duration": 255,
    "start_time": "2024-10-24T15:21:32.471Z"
   },
   {
    "duration": 38,
    "start_time": "2024-10-24T15:21:46.245Z"
   },
   {
    "duration": 10,
    "start_time": "2024-10-24T15:21:53.817Z"
   },
   {
    "duration": 1983,
    "start_time": "2024-10-24T15:22:03.619Z"
   },
   {
    "duration": 1981,
    "start_time": "2024-10-24T15:22:21.142Z"
   },
   {
    "duration": 200,
    "start_time": "2024-10-24T15:29:17.327Z"
   },
   {
    "duration": 22,
    "start_time": "2024-10-24T15:31:48.655Z"
   },
   {
    "duration": 120,
    "start_time": "2024-10-24T15:35:18.192Z"
   },
   {
    "duration": 39,
    "start_time": "2024-10-24T15:35:27.196Z"
   },
   {
    "duration": 12,
    "start_time": "2024-10-24T15:35:47.043Z"
   },
   {
    "duration": 7,
    "start_time": "2024-10-24T15:35:56.066Z"
   },
   {
    "duration": 782,
    "start_time": "2024-10-24T15:36:03.536Z"
   },
   {
    "duration": 44,
    "start_time": "2024-10-24T15:36:13.471Z"
   },
   {
    "duration": 16,
    "start_time": "2024-10-24T15:41:58.725Z"
   },
   {
    "duration": 55,
    "start_time": "2024-10-24T15:44:22.492Z"
   },
   {
    "duration": 50,
    "start_time": "2024-10-24T15:44:46.308Z"
   },
   {
    "duration": 46,
    "start_time": "2024-10-24T15:45:23.894Z"
   },
   {
    "duration": 45,
    "start_time": "2024-10-24T15:47:17.628Z"
   },
   {
    "duration": 4,
    "start_time": "2024-10-24T15:48:30.558Z"
   },
   {
    "duration": 5,
    "start_time": "2024-10-24T15:48:47.733Z"
   },
   {
    "duration": 13,
    "start_time": "2024-10-24T15:50:45.119Z"
   },
   {
    "duration": 5,
    "start_time": "2024-10-24T15:51:10.433Z"
   },
   {
    "duration": 3,
    "start_time": "2024-10-24T15:51:33.830Z"
   },
   {
    "duration": 2,
    "start_time": "2024-10-24T15:51:36.745Z"
   },
   {
    "duration": 25,
    "start_time": "2024-10-24T15:55:58.474Z"
   },
   {
    "duration": 18,
    "start_time": "2024-10-24T15:58:38.108Z"
   },
   {
    "duration": 9,
    "start_time": "2024-10-24T16:00:05.285Z"
   },
   {
    "duration": 6,
    "start_time": "2024-10-24T16:00:06.645Z"
   },
   {
    "duration": 5,
    "start_time": "2024-10-24T16:00:57.296Z"
   },
   {
    "duration": 11,
    "start_time": "2024-10-24T16:00:58.519Z"
   },
   {
    "duration": 753,
    "start_time": "2024-10-24T16:01:42.516Z"
   },
   {
    "duration": 199,
    "start_time": "2024-10-24T16:10:33.169Z"
   },
   {
    "duration": 346,
    "start_time": "2024-10-24T16:10:48.423Z"
   },
   {
    "duration": 1486,
    "start_time": "2024-10-24T16:13:53.451Z"
   },
   {
    "duration": 9,
    "start_time": "2024-10-24T16:21:15.337Z"
   },
   {
    "duration": 12,
    "start_time": "2024-10-24T16:22:08.696Z"
   },
   {
    "duration": 11,
    "start_time": "2024-10-24T16:23:26.416Z"
   },
   {
    "duration": 38,
    "start_time": "2024-10-24T16:25:40.413Z"
   },
   {
    "duration": 5,
    "start_time": "2024-10-24T16:30:04.676Z"
   },
   {
    "duration": 38,
    "start_time": "2024-10-24T16:30:21.420Z"
   },
   {
    "duration": 38,
    "start_time": "2024-10-24T16:31:42.038Z"
   },
   {
    "duration": 42,
    "start_time": "2024-10-24T16:32:14.525Z"
   },
   {
    "duration": 41,
    "start_time": "2024-10-24T16:35:47.736Z"
   },
   {
    "duration": 40,
    "start_time": "2024-10-24T16:36:04.736Z"
   },
   {
    "duration": 6,
    "start_time": "2024-10-24T16:37:24.958Z"
   },
   {
    "duration": 11,
    "start_time": "2024-10-24T16:37:27.391Z"
   },
   {
    "duration": 765,
    "start_time": "2024-10-24T16:37:30.182Z"
   },
   {
    "duration": 1454,
    "start_time": "2024-10-24T16:37:32.454Z"
   },
   {
    "duration": 41,
    "start_time": "2024-10-24T16:37:34.720Z"
   },
   {
    "duration": 13,
    "start_time": "2024-10-24T16:37:38.096Z"
   },
   {
    "duration": 12,
    "start_time": "2024-10-24T16:37:40.033Z"
   },
   {
    "duration": 5,
    "start_time": "2024-10-24T16:37:42.021Z"
   },
   {
    "duration": 7,
    "start_time": "2024-10-24T16:40:30.755Z"
   },
   {
    "duration": 6,
    "start_time": "2024-10-24T16:41:52.094Z"
   },
   {
    "duration": 112,
    "start_time": "2024-10-24T16:46:57.911Z"
   },
   {
    "duration": 14,
    "start_time": "2024-10-24T16:55:07.545Z"
   },
   {
    "duration": 696,
    "start_time": "2024-10-24T16:56:24.322Z"
   },
   {
    "duration": 497,
    "start_time": "2024-10-24T16:56:57.677Z"
   },
   {
    "duration": 530,
    "start_time": "2024-10-24T16:59:49.778Z"
   },
   {
    "duration": 527,
    "start_time": "2024-10-24T17:00:40.575Z"
   },
   {
    "duration": 13,
    "start_time": "2024-10-24T17:03:27.234Z"
   },
   {
    "duration": 2,
    "start_time": "2024-10-24T17:05:32.853Z"
   },
   {
    "duration": 9,
    "start_time": "2024-10-24T17:08:22.809Z"
   },
   {
    "duration": 24,
    "start_time": "2024-10-24T17:10:35.161Z"
   },
   {
    "duration": 4,
    "start_time": "2024-10-24T17:53:14.620Z"
   },
   {
    "duration": 3,
    "start_time": "2024-10-24T17:53:46.618Z"
   },
   {
    "duration": 2041,
    "start_time": "2024-10-24T17:59:19.120Z"
   },
   {
    "duration": 189,
    "start_time": "2024-10-24T17:59:30.120Z"
   },
   {
    "duration": 243,
    "start_time": "2024-10-24T18:00:47.000Z"
   },
   {
    "duration": 128,
    "start_time": "2024-10-24T18:00:53.192Z"
   },
   {
    "duration": 131,
    "start_time": "2024-10-24T18:01:02.577Z"
   },
   {
    "duration": 137,
    "start_time": "2024-10-24T19:24:04.559Z"
   },
   {
    "duration": 860,
    "start_time": "2024-10-24T19:24:13.728Z"
   },
   {
    "duration": 203,
    "start_time": "2024-10-24T19:24:22.170Z"
   },
   {
    "duration": 206,
    "start_time": "2024-10-24T19:24:28.794Z"
   },
   {
    "duration": 225,
    "start_time": "2024-10-24T19:24:41.621Z"
   },
   {
    "duration": 205,
    "start_time": "2024-10-24T19:24:45.631Z"
   },
   {
    "duration": 437,
    "start_time": "2024-10-24T19:25:42.128Z"
   },
   {
    "duration": 46,
    "start_time": "2024-10-24T19:25:42.567Z"
   },
   {
    "duration": 20,
    "start_time": "2024-10-24T19:25:42.615Z"
   },
   {
    "duration": 7,
    "start_time": "2024-10-24T19:25:42.783Z"
   },
   {
    "duration": 766,
    "start_time": "2024-10-24T19:25:42.970Z"
   },
   {
    "duration": 50,
    "start_time": "2024-10-24T19:25:43.865Z"
   },
   {
    "duration": 7,
    "start_time": "2024-10-24T19:25:44.049Z"
   },
   {
    "duration": 50,
    "start_time": "2024-10-24T19:25:44.238Z"
   },
   {
    "duration": 109,
    "start_time": "2024-10-24T19:25:44.408Z"
   },
   {
    "duration": 4,
    "start_time": "2024-10-24T19:25:44.583Z"
   },
   {
    "duration": 13,
    "start_time": "2024-10-24T19:25:45.114Z"
   },
   {
    "duration": 6,
    "start_time": "2024-10-24T19:25:45.295Z"
   },
   {
    "duration": 24,
    "start_time": "2024-10-24T19:25:45.487Z"
   },
   {
    "duration": 17,
    "start_time": "2024-10-24T19:25:45.646Z"
   },
   {
    "duration": 6,
    "start_time": "2024-10-24T19:25:46.175Z"
   },
   {
    "duration": 9,
    "start_time": "2024-10-24T19:25:46.361Z"
   },
   {
    "duration": 5,
    "start_time": "2024-10-24T19:25:46.886Z"
   },
   {
    "duration": 9,
    "start_time": "2024-10-24T19:25:47.103Z"
   },
   {
    "duration": 918,
    "start_time": "2024-10-24T19:25:47.638Z"
   },
   {
    "duration": 1700,
    "start_time": "2024-10-24T19:25:48.557Z"
   },
   {
    "duration": 44,
    "start_time": "2024-10-24T19:25:50.259Z"
   },
   {
    "duration": 10,
    "start_time": "2024-10-24T19:25:50.305Z"
   },
   {
    "duration": 10,
    "start_time": "2024-10-24T19:25:50.332Z"
   },
   {
    "duration": 4,
    "start_time": "2024-10-24T19:25:50.344Z"
   },
   {
    "duration": 7,
    "start_time": "2024-10-24T19:25:50.350Z"
   },
   {
    "duration": 164,
    "start_time": "2024-10-24T19:25:50.358Z"
   },
   {
    "duration": 20,
    "start_time": "2024-10-24T19:25:50.524Z"
   },
   {
    "duration": 716,
    "start_time": "2024-10-24T19:25:50.546Z"
   },
   {
    "duration": 535,
    "start_time": "2024-10-24T19:25:51.264Z"
   },
   {
    "duration": 12,
    "start_time": "2024-10-24T19:25:51.801Z"
   },
   {
    "duration": 19,
    "start_time": "2024-10-24T19:25:51.816Z"
   },
   {
    "duration": 21,
    "start_time": "2024-10-24T19:25:51.837Z"
   },
   {
    "duration": 4,
    "start_time": "2024-10-24T19:25:52.090Z"
   },
   {
    "duration": 3,
    "start_time": "2024-10-24T19:25:52.527Z"
   },
   {
    "duration": 352,
    "start_time": "2024-10-24T19:25:52.956Z"
   },
   {
    "duration": 132,
    "start_time": "2024-10-24T19:25:53.846Z"
   },
   {
    "duration": 204,
    "start_time": "2024-10-24T19:25:55.862Z"
   },
   {
    "duration": 7,
    "start_time": "2024-10-24T19:28:29.908Z"
   },
   {
    "duration": 267,
    "start_time": "2024-10-24T19:35:06.774Z"
   },
   {
    "duration": 8,
    "start_time": "2024-10-24T19:35:24.469Z"
   },
   {
    "duration": 91,
    "start_time": "2024-10-24T19:35:27.024Z"
   },
   {
    "duration": 9,
    "start_time": "2024-10-24T19:35:38.879Z"
   },
   {
    "duration": 159,
    "start_time": "2024-10-24T19:35:40.199Z"
   },
   {
    "duration": 175,
    "start_time": "2024-10-24T19:36:07.421Z"
   },
   {
    "duration": 212,
    "start_time": "2024-10-24T19:36:13.927Z"
   },
   {
    "duration": 8,
    "start_time": "2024-10-24T19:36:18.702Z"
   },
   {
    "duration": 189,
    "start_time": "2024-10-24T19:36:36.382Z"
   },
   {
    "duration": 186,
    "start_time": "2024-10-24T19:36:49.080Z"
   },
   {
    "duration": 191,
    "start_time": "2024-10-24T19:36:54.254Z"
   },
   {
    "duration": 384,
    "start_time": "2024-10-24T19:37:03.380Z"
   },
   {
    "duration": 198,
    "start_time": "2024-10-24T19:37:19.120Z"
   },
   {
    "duration": 288,
    "start_time": "2024-10-24T19:37:36.318Z"
   },
   {
    "duration": 292,
    "start_time": "2024-10-24T19:38:04.117Z"
   },
   {
    "duration": 303,
    "start_time": "2024-10-24T19:38:19.579Z"
   },
   {
    "duration": 360,
    "start_time": "2024-10-24T19:38:29.013Z"
   },
   {
    "duration": 37,
    "start_time": "2024-10-24T19:44:16.062Z"
   },
   {
    "duration": 120,
    "start_time": "2024-10-24T19:45:38.793Z"
   },
   {
    "duration": 133,
    "start_time": "2024-10-24T19:45:45.007Z"
   },
   {
    "duration": 145,
    "start_time": "2024-10-24T19:45:57.441Z"
   },
   {
    "duration": 405,
    "start_time": "2024-10-24T19:48:05.717Z"
   },
   {
    "duration": 99,
    "start_time": "2024-10-24T19:49:12.225Z"
   },
   {
    "duration": 12,
    "start_time": "2024-10-24T19:50:09.325Z"
   },
   {
    "duration": 9,
    "start_time": "2024-10-24T19:50:16.303Z"
   },
   {
    "duration": 5,
    "start_time": "2024-10-24T19:50:45.248Z"
   },
   {
    "duration": 265,
    "start_time": "2024-10-24T19:54:14.284Z"
   },
   {
    "duration": 260,
    "start_time": "2024-10-24T19:56:25.451Z"
   },
   {
    "duration": 236,
    "start_time": "2024-10-24T19:56:25.975Z"
   },
   {
    "duration": 105,
    "start_time": "2024-10-24T20:21:20.229Z"
   },
   {
    "duration": 169,
    "start_time": "2024-10-24T20:28:51.171Z"
   },
   {
    "duration": 63,
    "start_time": "2024-10-24T20:29:31.385Z"
   },
   {
    "duration": 47,
    "start_time": "2024-10-24T20:29:32.169Z"
   },
   {
    "duration": 11,
    "start_time": "2024-10-24T20:29:32.656Z"
   },
   {
    "duration": 4,
    "start_time": "2024-10-24T20:29:33.143Z"
   },
   {
    "duration": 29,
    "start_time": "2024-10-24T20:39:18.887Z"
   },
   {
    "duration": 29,
    "start_time": "2024-10-24T20:39:32.134Z"
   },
   {
    "duration": 23,
    "start_time": "2024-10-24T20:39:40.011Z"
   },
   {
    "duration": 464,
    "start_time": "2024-10-24T21:13:14.944Z"
   },
   {
    "duration": 61,
    "start_time": "2024-10-24T21:13:15.410Z"
   },
   {
    "duration": 13,
    "start_time": "2024-10-24T21:13:15.473Z"
   },
   {
    "duration": 8,
    "start_time": "2024-10-24T21:13:15.488Z"
   },
   {
    "duration": 837,
    "start_time": "2024-10-24T21:13:15.497Z"
   },
   {
    "duration": 60,
    "start_time": "2024-10-24T21:13:16.336Z"
   },
   {
    "duration": 8,
    "start_time": "2024-10-24T21:13:16.398Z"
   },
   {
    "duration": 50,
    "start_time": "2024-10-24T21:13:16.408Z"
   },
   {
    "duration": 130,
    "start_time": "2024-10-24T21:13:16.459Z"
   },
   {
    "duration": 4,
    "start_time": "2024-10-24T21:13:16.592Z"
   },
   {
    "duration": 15,
    "start_time": "2024-10-24T21:13:16.597Z"
   },
   {
    "duration": 6,
    "start_time": "2024-10-24T21:13:16.614Z"
   },
   {
    "duration": 25,
    "start_time": "2024-10-24T21:13:16.621Z"
   },
   {
    "duration": 49,
    "start_time": "2024-10-24T21:13:16.648Z"
   },
   {
    "duration": 4,
    "start_time": "2024-10-24T21:13:16.699Z"
   },
   {
    "duration": 9,
    "start_time": "2024-10-24T21:13:16.705Z"
   },
   {
    "duration": 5,
    "start_time": "2024-10-24T21:13:16.715Z"
   },
   {
    "duration": 9,
    "start_time": "2024-10-24T21:13:16.722Z"
   },
   {
    "duration": 916,
    "start_time": "2024-10-24T21:13:16.733Z"
   },
   {
    "duration": 1720,
    "start_time": "2024-10-24T21:13:17.651Z"
   },
   {
    "duration": 48,
    "start_time": "2024-10-24T21:13:19.373Z"
   },
   {
    "duration": 10,
    "start_time": "2024-10-24T21:13:19.423Z"
   },
   {
    "duration": 10,
    "start_time": "2024-10-24T21:13:19.435Z"
   },
   {
    "duration": 4,
    "start_time": "2024-10-24T21:13:19.447Z"
   },
   {
    "duration": 6,
    "start_time": "2024-10-24T21:13:19.453Z"
   },
   {
    "duration": 154,
    "start_time": "2024-10-24T21:13:19.461Z"
   },
   {
    "duration": 14,
    "start_time": "2024-10-24T21:13:19.617Z"
   },
   {
    "duration": 732,
    "start_time": "2024-10-24T21:13:19.636Z"
   },
   {
    "duration": 548,
    "start_time": "2024-10-24T21:13:20.369Z"
   },
   {
    "duration": 13,
    "start_time": "2024-10-24T21:13:20.919Z"
   },
   {
    "duration": 8,
    "start_time": "2024-10-24T21:13:20.933Z"
   },
   {
    "duration": 43,
    "start_time": "2024-10-24T21:13:20.943Z"
   },
   {
    "duration": 4,
    "start_time": "2024-10-24T21:13:20.988Z"
   },
   {
    "duration": 4,
    "start_time": "2024-10-24T21:13:20.994Z"
   },
   {
    "duration": 2087,
    "start_time": "2024-10-24T21:13:20.999Z"
   },
   {
    "duration": 156,
    "start_time": "2024-10-24T21:13:23.089Z"
   },
   {
    "duration": 217,
    "start_time": "2024-10-24T21:13:23.247Z"
   },
   {
    "duration": 6,
    "start_time": "2024-10-24T21:13:23.465Z"
   },
   {
    "duration": 22,
    "start_time": "2024-10-24T21:13:23.473Z"
   },
   {
    "duration": 342,
    "start_time": "2024-10-24T21:13:23.497Z"
   },
   {
    "duration": 3,
    "start_time": "2024-10-24T21:13:23.841Z"
   },
   {
    "duration": 54,
    "start_time": "2024-10-24T21:13:23.845Z"
   },
   {
    "duration": 150,
    "start_time": "2024-10-24T21:13:23.901Z"
   },
   {
    "duration": 115,
    "start_time": "2024-10-24T21:13:24.052Z"
   },
   {
    "duration": 17,
    "start_time": "2024-10-24T21:13:24.170Z"
   },
   {
    "duration": 5,
    "start_time": "2024-10-24T21:13:24.188Z"
   },
   {
    "duration": 258,
    "start_time": "2024-10-24T21:13:24.194Z"
   },
   {
    "duration": 248,
    "start_time": "2024-10-24T21:13:24.454Z"
   },
   {
    "duration": 2,
    "start_time": "2024-10-24T21:13:24.704Z"
   },
   {
    "duration": 120,
    "start_time": "2024-10-24T21:13:24.707Z"
   },
   {
    "duration": 66,
    "start_time": "2024-10-24T21:13:24.829Z"
   },
   {
    "duration": 11,
    "start_time": "2024-10-24T21:13:24.897Z"
   },
   {
    "duration": 4,
    "start_time": "2024-10-24T21:13:24.910Z"
   },
   {
    "duration": 273,
    "start_time": "2024-10-24T21:13:24.916Z"
   },
   {
    "duration": 24,
    "start_time": "2024-10-24T21:13:25.191Z"
   },
   {
    "duration": 2785,
    "start_time": "2024-10-24T22:44:35.542Z"
   },
   {
    "duration": 489,
    "start_time": "2024-10-24T22:45:46.807Z"
   },
   {
    "duration": 61,
    "start_time": "2024-10-24T22:45:47.298Z"
   },
   {
    "duration": 12,
    "start_time": "2024-10-24T22:45:47.361Z"
   },
   {
    "duration": 7,
    "start_time": "2024-10-24T22:45:47.375Z"
   },
   {
    "duration": 802,
    "start_time": "2024-10-24T22:45:47.384Z"
   },
   {
    "duration": 49,
    "start_time": "2024-10-24T22:45:48.188Z"
   },
   {
    "duration": 8,
    "start_time": "2024-10-24T22:45:48.239Z"
   },
   {
    "duration": 60,
    "start_time": "2024-10-24T22:45:48.248Z"
   },
   {
    "duration": 119,
    "start_time": "2024-10-24T22:45:48.310Z"
   },
   {
    "duration": 5,
    "start_time": "2024-10-24T22:45:48.432Z"
   },
   {
    "duration": 13,
    "start_time": "2024-10-24T22:45:48.439Z"
   },
   {
    "duration": 20,
    "start_time": "2024-10-24T22:45:48.453Z"
   },
   {
    "duration": 23,
    "start_time": "2024-10-24T22:45:48.475Z"
   },
   {
    "duration": 16,
    "start_time": "2024-10-24T22:45:48.500Z"
   },
   {
    "duration": 4,
    "start_time": "2024-10-24T22:45:48.518Z"
   },
   {
    "duration": 8,
    "start_time": "2024-10-24T22:45:48.524Z"
   },
   {
    "duration": 5,
    "start_time": "2024-10-24T22:45:48.533Z"
   },
   {
    "duration": 10,
    "start_time": "2024-10-24T22:45:48.570Z"
   },
   {
    "duration": 902,
    "start_time": "2024-10-24T22:45:48.581Z"
   },
   {
    "duration": 1672,
    "start_time": "2024-10-24T22:45:49.485Z"
   },
   {
    "duration": 47,
    "start_time": "2024-10-24T22:45:51.159Z"
   },
   {
    "duration": 10,
    "start_time": "2024-10-24T22:45:51.208Z"
   },
   {
    "duration": 10,
    "start_time": "2024-10-24T22:45:51.220Z"
   },
   {
    "duration": 5,
    "start_time": "2024-10-24T22:45:51.232Z"
   },
   {
    "duration": 33,
    "start_time": "2024-10-24T22:45:51.239Z"
   },
   {
    "duration": 144,
    "start_time": "2024-10-24T22:45:51.274Z"
   },
   {
    "duration": 14,
    "start_time": "2024-10-24T22:45:51.420Z"
   },
   {
    "duration": 731,
    "start_time": "2024-10-24T22:45:51.439Z"
   },
   {
    "duration": 533,
    "start_time": "2024-10-24T22:45:52.172Z"
   },
   {
    "duration": 13,
    "start_time": "2024-10-24T22:45:52.707Z"
   },
   {
    "duration": 8,
    "start_time": "2024-10-24T22:45:52.722Z"
   },
   {
    "duration": 43,
    "start_time": "2024-10-24T22:45:52.732Z"
   },
   {
    "duration": 4,
    "start_time": "2024-10-24T22:45:52.778Z"
   },
   {
    "duration": 4,
    "start_time": "2024-10-24T22:45:52.784Z"
   },
   {
    "duration": 373,
    "start_time": "2024-10-24T22:45:52.789Z"
   },
   {
    "duration": 136,
    "start_time": "2024-10-24T22:45:53.164Z"
   },
   {
    "duration": 216,
    "start_time": "2024-10-24T22:45:53.302Z"
   },
   {
    "duration": 7,
    "start_time": "2024-10-24T22:45:53.520Z"
   },
   {
    "duration": 9,
    "start_time": "2024-10-24T22:45:53.528Z"
   },
   {
    "duration": 311,
    "start_time": "2024-10-24T22:45:53.539Z"
   },
   {
    "duration": 4,
    "start_time": "2024-10-24T22:45:53.852Z"
   },
   {
    "duration": 46,
    "start_time": "2024-10-24T22:45:53.857Z"
   },
   {
    "duration": 141,
    "start_time": "2024-10-24T22:45:53.904Z"
   },
   {
    "duration": 107,
    "start_time": "2024-10-24T22:45:54.047Z"
   },
   {
    "duration": 15,
    "start_time": "2024-10-24T22:45:54.155Z"
   },
   {
    "duration": 4,
    "start_time": "2024-10-24T22:45:54.172Z"
   },
   {
    "duration": 270,
    "start_time": "2024-10-24T22:45:54.178Z"
   },
   {
    "duration": 249,
    "start_time": "2024-10-24T22:45:54.450Z"
   },
   {
    "duration": 3,
    "start_time": "2024-10-24T22:45:54.701Z"
   },
   {
    "duration": 117,
    "start_time": "2024-10-24T22:45:54.706Z"
   },
   {
    "duration": 67,
    "start_time": "2024-10-24T22:45:54.825Z"
   },
   {
    "duration": 11,
    "start_time": "2024-10-24T22:45:54.894Z"
   },
   {
    "duration": 4,
    "start_time": "2024-10-24T22:45:54.906Z"
   },
   {
    "duration": 253,
    "start_time": "2024-10-24T22:45:54.912Z"
   },
   {
    "duration": 23,
    "start_time": "2024-10-24T22:45:55.169Z"
   },
   {
    "duration": 1816,
    "start_time": "2024-10-24T22:46:49.958Z"
   },
   {
    "duration": 1403,
    "start_time": "2024-10-29T23:57:23.525Z"
   },
   {
    "duration": 3,
    "start_time": "2024-10-29T23:59:00.056Z"
   },
   {
    "duration": 2,
    "start_time": "2024-10-29T23:59:03.080Z"
   },
   {
    "duration": 65,
    "start_time": "2024-10-30T00:00:30.579Z"
   },
   {
    "duration": 17,
    "start_time": "2024-10-30T00:00:38.524Z"
   },
   {
    "duration": 69,
    "start_time": "2024-10-30T00:00:43.795Z"
   },
   {
    "duration": 112,
    "start_time": "2024-10-30T00:00:48.488Z"
   },
   {
    "duration": 6,
    "start_time": "2024-10-30T00:00:53.372Z"
   },
   {
    "duration": 4,
    "start_time": "2024-10-30T00:01:29.106Z"
   },
   {
    "duration": 12,
    "start_time": "2024-10-30T00:01:46.665Z"
   },
   {
    "duration": 6,
    "start_time": "2024-10-30T00:01:47.403Z"
   },
   {
    "duration": 27,
    "start_time": "2024-10-30T00:01:48.076Z"
   },
   {
    "duration": 22,
    "start_time": "2024-10-30T00:01:51.267Z"
   },
   {
    "duration": 5,
    "start_time": "2024-10-30T00:02:43.346Z"
   },
   {
    "duration": 10,
    "start_time": "2024-10-30T00:03:00.928Z"
   },
   {
    "duration": 5,
    "start_time": "2024-10-30T00:03:36.177Z"
   },
   {
    "duration": 8,
    "start_time": "2024-10-30T00:03:47.113Z"
   },
   {
    "duration": 9,
    "start_time": "2024-10-30T00:03:58.882Z"
   },
   {
    "duration": 5,
    "start_time": "2024-10-30T00:04:15.113Z"
   },
   {
    "duration": 10,
    "start_time": "2024-10-30T00:04:17.520Z"
   },
   {
    "duration": 12,
    "start_time": "2024-10-30T00:05:27.028Z"
   },
   {
    "duration": 12,
    "start_time": "2024-10-30T00:06:43.397Z"
   },
   {
    "duration": 5,
    "start_time": "2024-10-30T00:06:53.983Z"
   },
   {
    "duration": 8,
    "start_time": "2024-10-30T00:09:58.365Z"
   },
   {
    "duration": 12,
    "start_time": "2024-10-30T00:10:09.615Z"
   },
   {
    "duration": 15,
    "start_time": "2024-10-30T00:10:57.826Z"
   },
   {
    "duration": 5,
    "start_time": "2024-10-30T00:12:00.684Z"
   },
   {
    "duration": 10,
    "start_time": "2024-10-30T00:13:00.316Z"
   },
   {
    "duration": 14,
    "start_time": "2024-10-30T00:17:00.293Z"
   },
   {
    "duration": 8,
    "start_time": "2024-10-30T00:17:16.258Z"
   },
   {
    "duration": 66,
    "start_time": "2024-10-30T00:20:30.323Z"
   },
   {
    "duration": 2,
    "start_time": "2024-10-30T00:26:27.823Z"
   },
   {
    "duration": 7,
    "start_time": "2024-10-30T00:27:59.717Z"
   },
   {
    "duration": 2243,
    "start_time": "2024-10-30T00:28:17.125Z"
   },
   {
    "duration": 96,
    "start_time": "2024-10-30T00:28:30.081Z"
   },
   {
    "duration": 4,
    "start_time": "2024-10-30T00:28:52.697Z"
   },
   {
    "duration": 293,
    "start_time": "2024-10-30T00:28:56.232Z"
   },
   {
    "duration": 10,
    "start_time": "2024-10-30T00:30:38.677Z"
   },
   {
    "duration": 375,
    "start_time": "2024-10-30T00:30:41.469Z"
   },
   {
    "duration": 295,
    "start_time": "2024-10-30T00:30:51.574Z"
   },
   {
    "duration": 4,
    "start_time": "2024-10-30T06:40:16.833Z"
   },
   {
    "duration": 1404,
    "start_time": "2024-10-30T06:40:16.839Z"
   },
   {
    "duration": 3,
    "start_time": "2024-10-30T06:40:18.245Z"
   },
   {
    "duration": 62,
    "start_time": "2024-10-30T06:40:18.249Z"
   },
   {
    "duration": 12,
    "start_time": "2024-10-30T06:40:18.314Z"
   },
   {
    "duration": 69,
    "start_time": "2024-10-30T06:40:18.328Z"
   },
   {
    "duration": 120,
    "start_time": "2024-10-30T06:40:18.399Z"
   },
   {
    "duration": 5,
    "start_time": "2024-10-30T06:40:18.520Z"
   },
   {
    "duration": 13,
    "start_time": "2024-10-30T06:40:18.526Z"
   },
   {
    "duration": 5,
    "start_time": "2024-10-30T06:40:18.540Z"
   },
   {
    "duration": 23,
    "start_time": "2024-10-30T06:40:18.549Z"
   },
   {
    "duration": 16,
    "start_time": "2024-10-30T06:40:18.574Z"
   },
   {
    "duration": 34,
    "start_time": "2024-10-30T06:40:18.592Z"
   },
   {
    "duration": 9,
    "start_time": "2024-10-30T06:40:18.628Z"
   },
   {
    "duration": 4,
    "start_time": "2024-10-30T06:40:18.639Z"
   },
   {
    "duration": 9,
    "start_time": "2024-10-30T06:40:18.644Z"
   },
   {
    "duration": 908,
    "start_time": "2024-10-30T06:40:18.654Z"
   },
   {
    "duration": 1648,
    "start_time": "2024-10-30T06:40:19.564Z"
   },
   {
    "duration": 14,
    "start_time": "2024-10-30T06:40:21.214Z"
   },
   {
    "duration": 12,
    "start_time": "2024-10-30T06:40:21.230Z"
   },
   {
    "duration": 4,
    "start_time": "2024-10-30T06:40:21.245Z"
   },
   {
    "duration": 13,
    "start_time": "2024-10-30T06:40:21.251Z"
   },
   {
    "duration": 11,
    "start_time": "2024-10-30T06:40:21.267Z"
   },
   {
    "duration": 5,
    "start_time": "2024-10-30T06:40:21.280Z"
   },
   {
    "duration": 42,
    "start_time": "2024-10-30T06:40:21.287Z"
   },
   {
    "duration": 576,
    "start_time": "2024-10-30T06:40:21.330Z"
   },
   {
    "duration": 15,
    "start_time": "2024-10-30T06:40:21.909Z"
   },
   {
    "duration": 66,
    "start_time": "2024-10-30T06:40:21.925Z"
   },
   {
    "duration": 36,
    "start_time": "2024-10-30T06:40:21.996Z"
   },
   {
    "duration": 4,
    "start_time": "2024-10-30T06:40:22.034Z"
   },
   {
    "duration": 3,
    "start_time": "2024-10-30T06:40:22.040Z"
   },
   {
    "duration": 2039,
    "start_time": "2024-10-30T06:40:22.045Z"
   },
   {
    "duration": 133,
    "start_time": "2024-10-30T06:40:24.086Z"
   },
   {
    "duration": 2,
    "start_time": "2024-10-30T06:40:24.224Z"
   },
   {
    "duration": 211,
    "start_time": "2024-10-30T06:40:24.228Z"
   },
   {
    "duration": 2,
    "start_time": "2024-10-30T06:40:24.441Z"
   },
   {
    "duration": 7,
    "start_time": "2024-10-30T06:40:24.444Z"
   },
   {
    "duration": 10,
    "start_time": "2024-10-30T06:40:24.452Z"
   },
   {
    "duration": 353,
    "start_time": "2024-10-30T06:40:24.464Z"
   },
   {
    "duration": 11,
    "start_time": "2024-10-30T06:40:24.818Z"
   },
   {
    "duration": 57,
    "start_time": "2024-10-30T06:40:24.831Z"
   },
   {
    "duration": 197,
    "start_time": "2024-10-30T06:40:24.890Z"
   },
   {
    "duration": 107,
    "start_time": "2024-10-30T06:40:25.089Z"
   },
   {
    "duration": 13,
    "start_time": "2024-10-30T06:40:25.197Z"
   },
   {
    "duration": 16,
    "start_time": "2024-10-30T06:40:25.212Z"
   },
   {
    "duration": 313,
    "start_time": "2024-10-30T06:40:25.230Z"
   },
   {
    "duration": 289,
    "start_time": "2024-10-30T06:40:25.545Z"
   },
   {
    "duration": 3,
    "start_time": "2024-10-30T06:40:25.836Z"
   },
   {
    "duration": 125,
    "start_time": "2024-10-30T06:40:25.841Z"
   },
   {
    "duration": 62,
    "start_time": "2024-10-30T06:40:25.968Z"
   },
   {
    "duration": 12,
    "start_time": "2024-10-30T06:40:26.031Z"
   },
   {
    "duration": 4,
    "start_time": "2024-10-30T06:40:26.045Z"
   },
   {
    "duration": 253,
    "start_time": "2024-10-30T06:40:26.051Z"
   },
   {
    "duration": 32,
    "start_time": "2024-10-30T06:40:26.306Z"
   },
   {
    "duration": 1987,
    "start_time": "2024-10-30T06:40:26.339Z"
   },
   {
    "duration": 3,
    "start_time": "2024-10-30T07:53:47.448Z"
   },
   {
    "duration": 1337,
    "start_time": "2024-10-30T07:53:47.453Z"
   },
   {
    "duration": 2,
    "start_time": "2024-10-30T07:53:48.793Z"
   },
   {
    "duration": 62,
    "start_time": "2024-10-30T07:53:48.796Z"
   },
   {
    "duration": 8,
    "start_time": "2024-10-30T07:53:48.869Z"
   },
   {
    "duration": 66,
    "start_time": "2024-10-30T07:53:48.879Z"
   },
   {
    "duration": 126,
    "start_time": "2024-10-30T07:53:48.947Z"
   },
   {
    "duration": 4,
    "start_time": "2024-10-30T07:53:49.075Z"
   },
   {
    "duration": 15,
    "start_time": "2024-10-30T07:53:49.080Z"
   },
   {
    "duration": 7,
    "start_time": "2024-10-30T07:53:49.096Z"
   },
   {
    "duration": 24,
    "start_time": "2024-10-30T07:53:49.107Z"
   },
   {
    "duration": 50,
    "start_time": "2024-10-30T07:53:49.133Z"
   },
   {
    "duration": 5,
    "start_time": "2024-10-30T07:53:49.185Z"
   },
   {
    "duration": 8,
    "start_time": "2024-10-30T07:53:49.192Z"
   },
   {
    "duration": 4,
    "start_time": "2024-10-30T07:53:49.202Z"
   },
   {
    "duration": 9,
    "start_time": "2024-10-30T07:53:49.208Z"
   },
   {
    "duration": 913,
    "start_time": "2024-10-30T07:53:49.219Z"
   },
   {
    "duration": 1662,
    "start_time": "2024-10-30T07:53:50.134Z"
   },
   {
    "duration": 13,
    "start_time": "2024-10-30T07:53:51.798Z"
   },
   {
    "duration": 13,
    "start_time": "2024-10-30T07:53:51.812Z"
   },
   {
    "duration": 4,
    "start_time": "2024-10-30T07:53:51.827Z"
   },
   {
    "duration": 44,
    "start_time": "2024-10-30T07:53:51.833Z"
   },
   {
    "duration": 11,
    "start_time": "2024-10-30T07:53:51.878Z"
   },
   {
    "duration": 5,
    "start_time": "2024-10-30T07:53:51.891Z"
   },
   {
    "duration": 9,
    "start_time": "2024-10-30T07:53:51.898Z"
   },
   {
    "duration": 573,
    "start_time": "2024-10-30T07:53:51.908Z"
   },
   {
    "duration": 10,
    "start_time": "2024-10-30T07:53:52.483Z"
   },
   {
    "duration": 87,
    "start_time": "2024-10-30T07:53:52.494Z"
   },
   {
    "duration": 23,
    "start_time": "2024-10-30T07:53:52.587Z"
   },
   {
    "duration": 4,
    "start_time": "2024-10-30T07:53:52.612Z"
   },
   {
    "duration": 4,
    "start_time": "2024-10-30T07:53:52.618Z"
   },
   {
    "duration": 2053,
    "start_time": "2024-10-30T07:53:52.624Z"
   },
   {
    "duration": 143,
    "start_time": "2024-10-30T07:53:54.680Z"
   },
   {
    "duration": 3,
    "start_time": "2024-10-30T07:53:54.825Z"
   },
   {
    "duration": 258,
    "start_time": "2024-10-30T07:53:54.830Z"
   },
   {
    "duration": 3,
    "start_time": "2024-10-30T07:53:55.090Z"
   },
   {
    "duration": 8,
    "start_time": "2024-10-30T07:53:55.095Z"
   },
   {
    "duration": 10,
    "start_time": "2024-10-30T07:53:55.105Z"
   },
   {
    "duration": 334,
    "start_time": "2024-10-30T07:53:55.116Z"
   },
   {
    "duration": 3,
    "start_time": "2024-10-30T07:53:55.452Z"
   },
   {
    "duration": 53,
    "start_time": "2024-10-30T07:53:55.457Z"
   },
   {
    "duration": 150,
    "start_time": "2024-10-30T07:53:55.512Z"
   },
   {
    "duration": 115,
    "start_time": "2024-10-30T07:53:55.664Z"
   },
   {
    "duration": 12,
    "start_time": "2024-10-30T07:53:55.781Z"
   },
   {
    "duration": 4,
    "start_time": "2024-10-30T07:53:55.795Z"
   },
   {
    "duration": 284,
    "start_time": "2024-10-30T07:53:55.801Z"
   },
   {
    "duration": 249,
    "start_time": "2024-10-30T07:53:56.087Z"
   },
   {
    "duration": 3,
    "start_time": "2024-10-30T07:53:56.341Z"
   },
   {
    "duration": 119,
    "start_time": "2024-10-30T07:53:56.347Z"
   },
   {
    "duration": 63,
    "start_time": "2024-10-30T07:53:56.470Z"
   },
   {
    "duration": 14,
    "start_time": "2024-10-30T07:53:56.535Z"
   },
   {
    "duration": 17,
    "start_time": "2024-10-30T07:53:56.558Z"
   },
   {
    "duration": 258,
    "start_time": "2024-10-30T07:53:56.578Z"
   },
   {
    "duration": 32,
    "start_time": "2024-10-30T07:53:56.838Z"
   },
   {
    "duration": 1788,
    "start_time": "2024-10-30T07:53:56.873Z"
   }
  ],
  "kernelspec": {
   "display_name": "Python 3 (ipykernel)",
   "language": "python",
   "name": "python3"
  },
  "language_info": {
   "codemirror_mode": {
    "name": "ipython",
    "version": 3
   },
   "file_extension": ".py",
   "mimetype": "text/x-python",
   "name": "python",
   "nbconvert_exporter": "python",
   "pygments_lexer": "ipython3",
   "version": "3.9.19"
  },
  "toc": {
   "base_numbering": 1,
   "nav_menu": {},
   "number_sections": true,
   "sideBar": true,
   "skip_h1_title": true,
   "title_cell": "Table of Contents",
   "title_sidebar": "Contents",
   "toc_cell": false,
   "toc_position": {},
   "toc_section_display": true,
   "toc_window_display": false
  },
  "vscode": {
   "interpreter": {
    "hash": "01a7be9ec63e704a62cefc5fe7a4756944464ee731be31632bdf42a4cb4688cf"
   }
  }
 },
 "nbformat": 4,
 "nbformat_minor": 5
}
