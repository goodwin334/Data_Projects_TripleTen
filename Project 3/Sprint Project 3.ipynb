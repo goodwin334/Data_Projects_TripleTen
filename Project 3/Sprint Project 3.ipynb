{
 "cells": [
  {
   "cell_type": "markdown",
   "metadata": {},
   "source": [
    "# Which one is a better plan?\n",
    "\n",
    "You work as an analyst for the telecom operator Megaline. The company offers its clients two prepaid plans, Surf and Ultimate. The commercial department wants to know which of the plans brings in more revenue in order to adjust the advertising budget.\n",
    "\n",
    "You are going to carry out a preliminary analysis of the plans based on a relatively small client selection. You'll have the data on 500 Megaline clients: who the clients are, where they're from, which plan they use, and the number of calls they made and text messages they sent in 2018. Your job is to analyze the clients' behavior and determine which prepaid plan brings in more revenue."
   ]
  },
  {
   "cell_type": "markdown",
   "metadata": {},
   "source": [
    "[We've provided you with some commentary to guide your thinking as you complete this project. However, make sure to remove all the bracketed comments before submitting your project.]\n",
    "\n",
    "[Before you dive into analyzing your data, explain for yourself the purpose of the project and actions you plan to take.]\n",
    "\n",
    "[Please bear in mind that studying, amending, and analyzing data is an iterative process. It is normal to return to previous steps and correct/expand them to allow for further steps.]"
   ]
  },
  {
   "cell_type": "markdown",
   "metadata": {},
   "source": [
    "## Initialization"
   ]
  },
  {
   "cell_type": "code",
   "execution_count": 2,
   "metadata": {},
   "outputs": [],
   "source": [
    "import pandas as pd\n",
    "import numpy as np\n",
    "from matplotlib import pyplot as plt\n",
    "from math import factorial\n",
    "from scipy import stats as st\n",
    "import math as mt\n",
    "\n",
    "\n",
    "# Loading all the libraries\n",
    "\n"
   ]
  },
  {
   "cell_type": "markdown",
   "metadata": {},
   "source": [
    "## Load data"
   ]
  },
  {
   "cell_type": "code",
   "execution_count": 3,
   "metadata": {},
   "outputs": [
    {
     "name": "stdout",
     "output_type": "stream",
     "text": [
      "              id  user_id   call_date  duration\n",
      "0        1000_93     1000  2018-12-27      8.52\n",
      "1       1000_145     1000  2018-12-27     13.66\n",
      "2       1000_247     1000  2018-12-27     14.48\n",
      "3       1000_309     1000  2018-12-28      5.76\n",
      "4       1000_380     1000  2018-12-30      4.22\n",
      "...          ...      ...         ...       ...\n",
      "137730  1499_199     1499  2018-11-21      8.72\n",
      "137731  1499_200     1499  2018-10-20     10.89\n",
      "137732  1499_201     1499  2018-09-21      8.12\n",
      "137733  1499_202     1499  2018-10-10      0.37\n",
      "137734  1499_203     1499  2018-12-29     13.86\n",
      "\n",
      "[137735 rows x 4 columns]\n",
      "\n",
      "              id  user_id session_date  mb_used\n",
      "0        1000_13     1000   2018-12-29    89.86\n",
      "1       1000_204     1000   2018-12-31     0.00\n",
      "2       1000_379     1000   2018-12-28   660.40\n",
      "3       1000_413     1000   2018-12-26   270.99\n",
      "4       1000_442     1000   2018-12-27   880.22\n",
      "...          ...      ...          ...      ...\n",
      "104820  1499_215     1499   2018-10-20   218.06\n",
      "104821  1499_216     1499   2018-12-30   304.72\n",
      "104822  1499_217     1499   2018-09-22   292.75\n",
      "104823  1499_218     1499   2018-12-07     0.00\n",
      "104824  1499_219     1499   2018-12-24   758.31\n",
      "\n",
      "[104825 rows x 4 columns]\n",
      "\n",
      "             id  user_id message_date\n",
      "0      1000_125     1000   2018-12-27\n",
      "1      1000_160     1000   2018-12-31\n",
      "2      1000_223     1000   2018-12-31\n",
      "3      1000_251     1000   2018-12-27\n",
      "4      1000_255     1000   2018-12-26\n",
      "...         ...      ...          ...\n",
      "76046  1497_526     1497   2018-12-24\n",
      "76047  1497_536     1497   2018-12-24\n",
      "76048  1497_547     1497   2018-12-31\n",
      "76049  1497_558     1497   2018-12-24\n",
      "76050  1497_613     1497   2018-12-23\n",
      "\n",
      "[76051 rows x 3 columns]\n",
      "\n",
      "   messages_included  mb_per_month_included  minutes_included  \\\n",
      "0                 50                  15360               500   \n",
      "1               1000                  30720              3000   \n",
      "\n",
      "   usd_monthly_pay  usd_per_gb  usd_per_message  usd_per_minute plan_name  \n",
      "0               20          10             0.03            0.03      surf  \n",
      "1               70           7             0.01            0.01  ultimate  \n",
      "\n",
      "     user_id first_name   last_name  age  \\\n",
      "0       1000   Anamaria       Bauer   45   \n",
      "1       1001     Mickey   Wilkerson   28   \n",
      "2       1002     Carlee     Hoffman   36   \n",
      "3       1003   Reynaldo     Jenkins   52   \n",
      "4       1004    Leonila    Thompson   40   \n",
      "..       ...        ...         ...  ...   \n",
      "495     1495      Fidel      Sharpe   67   \n",
      "496     1496      Ariel    Shepherd   49   \n",
      "497     1497      Donte     Barrera   49   \n",
      "498     1498       Scot  Williamson   51   \n",
      "499     1499      Shena     Dickson   37   \n",
      "\n",
      "                                          city    reg_date      plan  \\\n",
      "0        Atlanta-Sandy Springs-Roswell, GA MSA  2018-12-24  ultimate   \n",
      "1              Seattle-Tacoma-Bellevue, WA MSA  2018-08-13      surf   \n",
      "2         Las Vegas-Henderson-Paradise, NV MSA  2018-10-21      surf   \n",
      "3                                Tulsa, OK MSA  2018-01-28      surf   \n",
      "4              Seattle-Tacoma-Bellevue, WA MSA  2018-05-23      surf   \n",
      "..                                         ...         ...       ...   \n",
      "495  New York-Newark-Jersey City, NY-NJ-PA MSA  2018-09-04      surf   \n",
      "496               New Orleans-Metairie, LA MSA  2018-02-20      surf   \n",
      "497     Los Angeles-Long Beach-Anaheim, CA MSA  2018-12-10  ultimate   \n",
      "498  New York-Newark-Jersey City, NY-NJ-PA MSA  2018-02-04      surf   \n",
      "499          Orlando-Kissimmee-Sanford, FL MSA  2018-05-06      surf   \n",
      "\n",
      "    churn_date  \n",
      "0          NaN  \n",
      "1          NaN  \n",
      "2          NaN  \n",
      "3          NaN  \n",
      "4          NaN  \n",
      "..         ...  \n",
      "495        NaN  \n",
      "496        NaN  \n",
      "497        NaN  \n",
      "498        NaN  \n",
      "499        NaN  \n",
      "\n",
      "[500 rows x 8 columns]\n"
     ]
    }
   ],
   "source": [
    "calls = pd.read_csv('/datasets/megaline_calls.csv')\n",
    "internet = pd.read_csv('/datasets/megaline_internet.csv')\n",
    "messages = pd.read_csv('/datasets/megaline_messages.csv')\n",
    "plans = pd.read_csv('/datasets/megaline_plans.csv')\n",
    "users = pd.read_csv('/datasets/megaline_users.csv')\n",
    "print(calls)\n",
    "print()\n",
    "print(internet)\n",
    "print()\n",
    "print(messages)\n",
    "print()\n",
    "print(plans)\n",
    "print()\n",
    "print(users)\n",
    "# Load the data files into different DataFrames\n",
    "\n"
   ]
  },
  {
   "cell_type": "markdown",
   "metadata": {},
   "source": [
    "## Prepare the data"
   ]
  },
  {
   "cell_type": "markdown",
   "metadata": {},
   "source": [
    "[The data for this project is split into several tables. Explore each one to get an initial understanding of the data. Do necessary corrections to each table if necessary.]"
   ]
  },
  {
   "cell_type": "markdown",
   "metadata": {},
   "source": [
    "## Plans"
   ]
  },
  {
   "cell_type": "code",
   "execution_count": 4,
   "metadata": {},
   "outputs": [
    {
     "name": "stdout",
     "output_type": "stream",
     "text": [
      "<class 'pandas.core.frame.DataFrame'>\n",
      "RangeIndex: 2 entries, 0 to 1\n",
      "Data columns (total 8 columns):\n",
      " #   Column                 Non-Null Count  Dtype  \n",
      "---  ------                 --------------  -----  \n",
      " 0   messages_included      2 non-null      int64  \n",
      " 1   mb_per_month_included  2 non-null      int64  \n",
      " 2   minutes_included       2 non-null      int64  \n",
      " 3   usd_monthly_pay        2 non-null      int64  \n",
      " 4   usd_per_gb             2 non-null      int64  \n",
      " 5   usd_per_message        2 non-null      float64\n",
      " 6   usd_per_minute         2 non-null      float64\n",
      " 7   plan_name              2 non-null      object \n",
      "dtypes: float64(2), int64(5), object(1)\n",
      "memory usage: 256.0+ bytes\n",
      "None\n"
     ]
    }
   ],
   "source": [
    "# Print the general/summary information about the plans' DataFrame\n",
    "print(plans.info())"
   ]
  },
  {
   "cell_type": "markdown",
   "metadata": {},
   "source": [
    "#The plans datafram is fairly basic, containing only two rows.  The first row includes the information for the surf plan (i.e. the amount of messages included, the mb per month, minutes include, cost per month, cost for excess MB per month and cost for excess calls and messages per month).  The 2nd row does the same thing for the ultimate plan."
   ]
  },
  {
   "cell_type": "code",
   "execution_count": 5,
   "metadata": {},
   "outputs": [
    {
     "name": "stdout",
     "output_type": "stream",
     "text": [
      "   messages_included  mb_per_month_included  minutes_included  \\\n",
      "0                 50                  15360               500   \n",
      "1               1000                  30720              3000   \n",
      "\n",
      "   usd_monthly_pay  usd_per_gb  usd_per_message  usd_per_minute plan_name  \n",
      "0               20          10             0.03            0.03      surf  \n",
      "1               70           7             0.01            0.01  ultimate  \n"
     ]
    }
   ],
   "source": [
    "# Print a sample of data for plans\n",
    "print(plans.head(5))\n"
   ]
  },
  {
   "cell_type": "markdown",
   "metadata": {},
   "source": [
    "#No missing data or inappropriate data types in this dataframe, the decimals are floats and the whole numbers are integers.  The strings are objects."
   ]
  },
  {
   "cell_type": "markdown",
   "metadata": {},
   "source": [
    "[Describe what you see and notice in the general information and the printed data sample for the above price of data. Are there any issues (inappropriate data types, missing data etc) that may need further investigation and changes? How that can be fixed?]"
   ]
  },
  {
   "cell_type": "markdown",
   "metadata": {},
   "source": [
    "## Fix data"
   ]
  },
  {
   "cell_type": "markdown",
   "metadata": {},
   "source": [
    "[Fix obvious issues with the data given the initial observations.]"
   ]
  },
  {
   "cell_type": "markdown",
   "metadata": {},
   "source": [
    "#No issues with this workbook."
   ]
  },
  {
   "cell_type": "markdown",
   "metadata": {},
   "source": [
    "## Users"
   ]
  },
  {
   "cell_type": "code",
   "execution_count": 7,
   "metadata": {},
   "outputs": [
    {
     "name": "stdout",
     "output_type": "stream",
     "text": [
      "<class 'pandas.core.frame.DataFrame'>\n",
      "RangeIndex: 500 entries, 0 to 499\n",
      "Data columns (total 8 columns):\n",
      " #   Column      Non-Null Count  Dtype \n",
      "---  ------      --------------  ----- \n",
      " 0   user_id     500 non-null    int64 \n",
      " 1   first_name  500 non-null    object\n",
      " 2   last_name   500 non-null    object\n",
      " 3   age         500 non-null    int64 \n",
      " 4   city        500 non-null    object\n",
      " 5   reg_date    500 non-null    object\n",
      " 6   plan        500 non-null    object\n",
      " 7   churn_date  34 non-null     object\n",
      "dtypes: int64(2), object(6)\n",
      "memory usage: 31.4+ KB\n",
      "None\n"
     ]
    }
   ],
   "source": [
    "# Print the general/summary information about the users' DataFrame\n",
    "print(users.info())\n"
   ]
  },
  {
   "cell_type": "code",
   "execution_count": 8,
   "metadata": {},
   "outputs": [
    {
     "name": "stdout",
     "output_type": "stream",
     "text": [
      "     user_id first_name  last_name  age  \\\n",
      "315     1315       Mora  Schroeder   45   \n",
      "372     1372     Patria        Kim   26   \n",
      "450     1450      Errol    Marquez   67   \n",
      "56      1056      Denis   Chandler   33   \n",
      "310     1310    Vincent        Fry   73   \n",
      "401     1401   Charmain     Bryant   67   \n",
      "494     1494    Preston      Downs   70   \n",
      "226     1226     Denver    Harrell   64   \n",
      "62      1062   Kristeen       Head   41   \n",
      "91      1091     Taylor     Oliver   38   \n",
      "\n",
      "                                          city    reg_date      plan  \\\n",
      "315                       Raleigh-Cary, NC MSA  2018-04-26      surf   \n",
      "372  New York-Newark-Jersey City, NY-NJ-PA MSA  2018-10-08      surf   \n",
      "450                        Bakersfield, CA MSA  2018-06-16  ultimate   \n",
      "56                    Cincinnati, OH-KY-IN MSA  2018-03-01      surf   \n",
      "310    Portland-Vancouver-Hillsboro, OR-WA MSA  2018-11-29      surf   \n",
      "401                           Richmond, VA MSA  2018-08-24  ultimate   \n",
      "494  New York-Newark-Jersey City, NY-NJ-PA MSA  2018-04-19      surf   \n",
      "226   Riverside-San Bernardino-Ontario, CA MSA  2018-03-15  ultimate   \n",
      "62           San Antonio-New Braunfels, TX MSA  2018-02-06  ultimate   \n",
      "91    Riverside-San Bernardino-Ontario, CA MSA  2018-05-04  ultimate   \n",
      "\n",
      "     churn_date  \n",
      "315  2018-10-03  \n",
      "372         NaN  \n",
      "450         NaN  \n",
      "56          NaN  \n",
      "310         NaN  \n",
      "401         NaN  \n",
      "494         NaN  \n",
      "226         NaN  \n",
      "62          NaN  \n",
      "91          NaN  \n"
     ]
    }
   ],
   "source": [
    "# Print a sample of data for users\n",
    "print(users.sample(n=10))\n"
   ]
  },
  {
   "cell_type": "markdown",
   "metadata": {},
   "source": [
    "[Describe what you see and notice in the general information and the printed data sample for the above price of data. Are there any issues (inappropriate data types, missing data etc) that may need further investigation and changes? How that can be fixed?]"
   ]
  },
  {
   "cell_type": "markdown",
   "metadata": {},
   "source": [
    "### Fix Data"
   ]
  },
  {
   "cell_type": "markdown",
   "metadata": {},
   "source": [
    "[Fix obvious issues with the data given the initial observations.]"
   ]
  },
  {
   "cell_type": "code",
   "execution_count": 9,
   "metadata": {},
   "outputs": [
    {
     "name": "stdout",
     "output_type": "stream",
     "text": [
      "0\n",
      "<class 'pandas.core.frame.DataFrame'>\n",
      "RangeIndex: 500 entries, 0 to 499\n",
      "Data columns (total 8 columns):\n",
      " #   Column      Non-Null Count  Dtype         \n",
      "---  ------      --------------  -----         \n",
      " 0   user_id     500 non-null    int64         \n",
      " 1   first_name  500 non-null    object        \n",
      " 2   last_name   500 non-null    object        \n",
      " 3   age         500 non-null    int64         \n",
      " 4   city        500 non-null    object        \n",
      " 5   reg_date    500 non-null    datetime64[ns]\n",
      " 6   plan        500 non-null    object        \n",
      " 7   churn_date  34 non-null     datetime64[ns]\n",
      "dtypes: datetime64[ns](2), int64(2), object(4)\n",
      "memory usage: 31.4+ KB\n",
      "None\n"
     ]
    }
   ],
   "source": [
    "duplicates = users.duplicated()\n",
    "print(duplicates.sum())\n",
    "\n",
    "users['reg_date'] = pd.to_datetime(users['reg_date'])\n",
    "users['churn_date'] = pd.to_datetime(users['churn_date'])\n",
    "print(users.info())"
   ]
  },
  {
   "cell_type": "markdown",
   "metadata": {},
   "source": [
    "### Enrich Data"
   ]
  },
  {
   "cell_type": "code",
   "execution_count": 10,
   "metadata": {},
   "outputs": [
    {
     "name": "stdout",
     "output_type": "stream",
     "text": [
      "<class 'pandas.core.frame.DataFrame'>\n",
      "RangeIndex: 500 entries, 0 to 499\n",
      "Data columns (total 8 columns):\n",
      " #   Column      Non-Null Count  Dtype         \n",
      "---  ------      --------------  -----         \n",
      " 0   user_id     500 non-null    int64         \n",
      " 1   first_name  500 non-null    object        \n",
      " 2   last_name   500 non-null    object        \n",
      " 3   age         500 non-null    int64         \n",
      " 4   city        500 non-null    object        \n",
      " 5   reg_date    500 non-null    datetime64[ns]\n",
      " 6   plan        500 non-null    object        \n",
      " 7   churn_date  34 non-null     datetime64[ns]\n",
      "dtypes: datetime64[ns](2), int64(2), object(4)\n",
      "memory usage: 31.4+ KB\n",
      "None\n",
      "     user_id first_name last_name  age  \\\n",
      "354     1354     Leonel      Dyer   41   \n",
      "107     1107       Lane      Cash   61   \n",
      "304     1304   Dominque      Cole   69   \n",
      "47      1047        Yuk    French   22   \n",
      "356     1356        Hae      Ryan   46   \n",
      "118     1118      Deane   Ramirez   28   \n",
      "323     1323    Pamelia    Atkins   42   \n",
      "431     1431   Napoleon      Burt   74   \n",
      "336     1336      Vance  Bradshaw   34   \n",
      "161     1161   Florance   Estrada   52   \n",
      "\n",
      "                                          city   reg_date      plan churn_date  \n",
      "354  New York-Newark-Jersey City, NY-NJ-PA MSA 2018-08-24  ultimate        NaT  \n",
      "107  New York-Newark-Jersey City, NY-NJ-PA MSA 2018-11-15  ultimate        NaT  \n",
      "304                  Birmingham-Hoover, AL MSA 2018-10-28  ultimate        NaT  \n",
      "47        Indianapolis-Carmel-Anderson, IN MSA 2018-06-16  ultimate        NaT  \n",
      "356                 Milwaukee-Waukesha, WI MSA 2018-05-16      surf        NaT  \n",
      "118                           Columbus, OH MSA 2018-12-08      surf        NaT  \n",
      "323          Baltimore-Columbia-Towson, MD MSA 2018-12-30      surf        NaT  \n",
      "431        Sacramento–Roseville–Folsom, CA MSA 2018-01-28      surf        NaT  \n",
      "336    Portland-Vancouver-Hillsboro, OR-WA MSA 2018-04-04      surf        NaT  \n",
      "161  New York-Newark-Jersey City, NY-NJ-PA MSA 2018-11-27  ultimate        NaT  \n"
     ]
    }
   ],
   "source": [
    "users['churn_date'] = users['churn_date'].replace(' ', pd.NA)\n",
    "print(users.info())\n",
    "print(users.sample(10))"
   ]
  },
  {
   "cell_type": "markdown",
   "metadata": {},
   "source": [
    "## Calls"
   ]
  },
  {
   "cell_type": "code",
   "execution_count": 11,
   "metadata": {},
   "outputs": [
    {
     "name": "stdout",
     "output_type": "stream",
     "text": [
      "<class 'pandas.core.frame.DataFrame'>\n",
      "RangeIndex: 137735 entries, 0 to 137734\n",
      "Data columns (total 4 columns):\n",
      " #   Column     Non-Null Count   Dtype  \n",
      "---  ------     --------------   -----  \n",
      " 0   id         137735 non-null  object \n",
      " 1   user_id    137735 non-null  int64  \n",
      " 2   call_date  137735 non-null  object \n",
      " 3   duration   137735 non-null  float64\n",
      "dtypes: float64(1), int64(1), object(2)\n",
      "memory usage: 4.2+ MB\n",
      "None\n",
      "             user_id       duration\n",
      "count  137735.000000  137735.000000\n",
      "mean     1247.658046       6.745927\n",
      "std       139.416268       5.839241\n",
      "min      1000.000000       0.000000\n",
      "25%      1128.000000       1.290000\n",
      "50%      1247.000000       5.980000\n",
      "75%      1365.000000      10.690000\n",
      "max      1499.000000      37.600000\n"
     ]
    }
   ],
   "source": [
    "# Print the general/summary information about the calls' DataFrame\n",
    "print(calls.info())\n",
    "print(calls.describe())\n"
   ]
  },
  {
   "cell_type": "code",
   "execution_count": 12,
   "metadata": {},
   "outputs": [
    {
     "name": "stdout",
     "output_type": "stream",
     "text": [
      "              id  user_id   call_date  duration\n",
      "5447    1026_258     1026  2018-08-04      0.00\n",
      "86400    1320_69     1320  2018-12-09     14.58\n",
      "24537   1094_465     1094  2018-11-01      0.00\n",
      "134173  1488_309     1488  2018-06-08      7.55\n",
      "82488   1299_146     1299  2018-07-31      8.25\n",
      "114953   1403_27     1403  2018-03-22     14.97\n",
      "50800   1183_144     1183  2018-11-02      0.06\n",
      "63756   1231_470     1231  2018-07-08      0.00\n",
      "7550    1036_142     1036  2018-11-10      0.00\n",
      "17541    1067_59     1067  2018-12-30      8.17\n",
      "         id  user_id   call_date  duration\n",
      "0   1000_93     1000  2018-12-27      8.52\n",
      "1  1000_145     1000  2018-12-27     13.66\n",
      "2  1000_247     1000  2018-12-27     14.48\n",
      "3  1000_309     1000  2018-12-28      5.76\n",
      "4  1000_380     1000  2018-12-30      4.22\n",
      "5  1000_388     1000  2018-12-31      2.20\n",
      "6  1000_510     1000  2018-12-27      5.75\n",
      "7  1000_521     1000  2018-12-28     14.18\n",
      "8  1000_530     1000  2018-12-28      5.77\n",
      "9  1000_544     1000  2018-12-26      4.40\n"
     ]
    }
   ],
   "source": [
    "# Print a sample of data for calls\n",
    "print(calls.sample(10))\n",
    "print(calls.head(10)) #printing head 10 to view the first 10 rows and compare to the first 10 rows after i round\n"
   ]
  },
  {
   "cell_type": "markdown",
   "metadata": {},
   "source": [
    "[Describe what you see and notice in the general information and the printed data sample for the above price of data. Are there any issues (inappropriate data types, missing data etc) that may need further investigation and changes? How that can be fixed?]"
   ]
  },
  {
   "cell_type": "markdown",
   "metadata": {},
   "source": [
    "### Fix data"
   ]
  },
  {
   "cell_type": "code",
   "execution_count": 13,
   "metadata": {},
   "outputs": [
    {
     "name": "stdout",
     "output_type": "stream",
     "text": [
      "0\n"
     ]
    }
   ],
   "source": [
    "duplicates_calls = calls.duplicated()\n",
    "print(duplicates_calls.sum())\n",
    "\n",
    "calls['call_date'] = pd.to_datetime(calls['call_date'])"
   ]
  },
  {
   "cell_type": "markdown",
   "metadata": {},
   "source": [
    "### Enrich data"
   ]
  },
  {
   "cell_type": "markdown",
   "metadata": {},
   "source": [
    "[Add additional factors to the data if you believe they might be useful.]"
   ]
  },
  {
   "cell_type": "code",
   "execution_count": 14,
   "metadata": {},
   "outputs": [
    {
     "name": "stdout",
     "output_type": "stream",
     "text": [
      "         id  user_id  call_date  duration  duration_round  month\n",
      "0   1000_93     1000 2018-12-27      8.52               9     12\n",
      "1  1000_145     1000 2018-12-27     13.66              14     12\n",
      "2  1000_247     1000 2018-12-27     14.48              15     12\n",
      "3  1000_309     1000 2018-12-28      5.76               6     12\n",
      "4  1000_380     1000 2018-12-30      4.22               5     12\n",
      "5  1000_388     1000 2018-12-31      2.20               3     12\n",
      "6  1000_510     1000 2018-12-27      5.75               6     12\n",
      "7  1000_521     1000 2018-12-28     14.18              15     12\n",
      "8  1000_530     1000 2018-12-28      5.77               6     12\n",
      "9  1000_544     1000 2018-12-26      4.40               5     12\n",
      "              id  user_id  call_date  duration  duration_round  month\n",
      "0        1000_93     1000 2018-12-27      8.52               9     12\n",
      "1       1000_145     1000 2018-12-27     13.66              14     12\n",
      "2       1000_247     1000 2018-12-27     14.48              15     12\n",
      "3       1000_309     1000 2018-12-28      5.76               6     12\n",
      "4       1000_380     1000 2018-12-30      4.22               5     12\n",
      "...          ...      ...        ...       ...             ...    ...\n",
      "137730  1499_199     1499 2018-11-21      8.72               9     11\n",
      "137731  1499_200     1499 2018-10-20     10.89              11     10\n",
      "137732  1499_201     1499 2018-09-21      8.12               9      9\n",
      "137733  1499_202     1499 2018-10-10      0.37               1     10\n",
      "137734  1499_203     1499 2018-12-29     13.86              14     12\n",
      "\n",
      "[137735 rows x 6 columns]\n"
     ]
    }
   ],
   "source": [
    "calls['duration_round'] = np.ceil(calls['duration']).astype(int)\n",
    "calls['month'] = calls['call_date'].dt.month\n",
    "print(calls.head(10))\n",
    "print(calls)"
   ]
  },
  {
   "cell_type": "markdown",
   "metadata": {},
   "source": [
    "## Messages"
   ]
  },
  {
   "cell_type": "code",
   "execution_count": 15,
   "metadata": {},
   "outputs": [
    {
     "name": "stdout",
     "output_type": "stream",
     "text": [
      "<class 'pandas.core.frame.DataFrame'>\n",
      "RangeIndex: 76051 entries, 0 to 76050\n",
      "Data columns (total 3 columns):\n",
      " #   Column        Non-Null Count  Dtype \n",
      "---  ------        --------------  ----- \n",
      " 0   id            76051 non-null  object\n",
      " 1   user_id       76051 non-null  int64 \n",
      " 2   message_date  76051 non-null  object\n",
      "dtypes: int64(1), object(2)\n",
      "memory usage: 1.7+ MB\n",
      "None\n",
      "\n",
      "            user_id\n",
      "count  76051.000000\n",
      "mean    1245.972768\n",
      "std      139.843635\n",
      "min     1000.000000\n",
      "25%     1123.000000\n",
      "50%     1251.000000\n",
      "75%     1362.000000\n",
      "max     1497.000000\n"
     ]
    }
   ],
   "source": [
    "# Print the general/summary information about the messages' DataFrame\n",
    "print(messages.info())\n",
    "print()\n",
    "print(messages.describe())\n"
   ]
  },
  {
   "cell_type": "code",
   "execution_count": 16,
   "metadata": {},
   "outputs": [
    {
     "name": "stdout",
     "output_type": "stream",
     "text": [
      "             id  user_id message_date\n",
      "75656    1492_2     1492   2018-12-18\n",
      "68452   1442_24     1442   2018-12-31\n",
      "56495  1357_106     1357   2018-07-28\n",
      "52213  1336_164     1336   2018-09-07\n",
      "12385  1081_136     1081   2018-12-31\n",
      "40707  1261_367     1261   2018-09-07\n",
      "827    1007_129     1007   2018-10-23\n",
      "50004  1328_962     1328   2018-06-18\n",
      "41303  1264_503     1264   2018-10-20\n",
      "34058  1214_152     1214   2018-03-09\n",
      "\n",
      "         id  user_id message_date\n",
      "0  1000_125     1000   2018-12-27\n",
      "1  1000_160     1000   2018-12-31\n",
      "2  1000_223     1000   2018-12-31\n",
      "3  1000_251     1000   2018-12-27\n",
      "4  1000_255     1000   2018-12-26\n",
      "5  1000_346     1000   2018-12-29\n",
      "6  1000_386     1000   2018-12-30\n",
      "7  1000_413     1000   2018-12-31\n",
      "8  1000_502     1000   2018-12-27\n",
      "9  1000_525     1000   2018-12-28\n"
     ]
    }
   ],
   "source": [
    "# Print a sample of data for messages\n",
    "print(messages.sample(10))\n",
    "print()\n",
    "print(messages.head(10))"
   ]
  },
  {
   "cell_type": "markdown",
   "metadata": {},
   "source": [
    "[Describe what you see and notice in the general information and the printed data sample for the above price of data. Are there any issues (inappropriate data types, missing data etc) that may need further investigation and changes? How that can be fixed?]"
   ]
  },
  {
   "cell_type": "markdown",
   "metadata": {},
   "source": [
    "### Fix data"
   ]
  },
  {
   "cell_type": "code",
   "execution_count": 17,
   "metadata": {},
   "outputs": [
    {
     "name": "stdout",
     "output_type": "stream",
     "text": [
      "0\n"
     ]
    }
   ],
   "source": [
    "duplicates_messages = messages.duplicated()\n",
    "print(duplicates_messages.sum())\n",
    "\n",
    "messages['message_date'] = pd.to_datetime(messages['message_date'])"
   ]
  },
  {
   "cell_type": "markdown",
   "metadata": {},
   "source": [
    "### Enrich data"
   ]
  },
  {
   "cell_type": "code",
   "execution_count": 18,
   "metadata": {},
   "outputs": [
    {
     "name": "stdout",
     "output_type": "stream",
     "text": [
      "         id  user_id message_date  month\n",
      "0  1000_125     1000   2018-12-27     12\n",
      "1  1000_160     1000   2018-12-31     12\n",
      "2  1000_223     1000   2018-12-31     12\n",
      "3  1000_251     1000   2018-12-27     12\n",
      "4  1000_255     1000   2018-12-26     12\n",
      "5  1000_346     1000   2018-12-29     12\n",
      "6  1000_386     1000   2018-12-30     12\n",
      "7  1000_413     1000   2018-12-31     12\n",
      "8  1000_502     1000   2018-12-27     12\n",
      "9  1000_525     1000   2018-12-28     12\n",
      "0\n"
     ]
    }
   ],
   "source": [
    "messages['month'] = messages['message_date'].dt.month\n",
    "print(messages.head(10))\n",
    "nan_count = messages['month'].isna().sum()\n",
    "print(nan_count)"
   ]
  },
  {
   "cell_type": "markdown",
   "metadata": {},
   "source": [
    "## Internet"
   ]
  },
  {
   "cell_type": "code",
   "execution_count": 19,
   "metadata": {},
   "outputs": [
    {
     "name": "stdout",
     "output_type": "stream",
     "text": [
      "<class 'pandas.core.frame.DataFrame'>\n",
      "RangeIndex: 104825 entries, 0 to 104824\n",
      "Data columns (total 4 columns):\n",
      " #   Column        Non-Null Count   Dtype  \n",
      "---  ------        --------------   -----  \n",
      " 0   id            104825 non-null  object \n",
      " 1   user_id       104825 non-null  int64  \n",
      " 2   session_date  104825 non-null  object \n",
      " 3   mb_used       104825 non-null  float64\n",
      "dtypes: float64(1), int64(1), object(2)\n",
      "memory usage: 3.2+ MB\n",
      "None\n",
      "\n",
      "             user_id        mb_used\n",
      "count  104825.000000  104825.000000\n",
      "mean     1242.496361     366.713701\n",
      "std       142.053913     277.170542\n",
      "min      1000.000000       0.000000\n",
      "25%      1122.000000     136.080000\n",
      "50%      1236.000000     343.980000\n",
      "75%      1367.000000     554.610000\n",
      "max      1499.000000    1693.470000\n"
     ]
    }
   ],
   "source": [
    "# Print the general/summary information about the internet DataFrame\n",
    "print(internet.info())\n",
    "print()\n",
    "print(internet.describe())\n"
   ]
  },
  {
   "cell_type": "code",
   "execution_count": 20,
   "metadata": {},
   "outputs": [
    {
     "name": "stdout",
     "output_type": "stream",
     "text": [
      "             id  user_id session_date  mb_used\n",
      "39555  1178_147     1178   2018-12-26   126.52\n",
      "46896  1209_124     1209   2018-12-29  1288.66\n",
      "26245  1122_200     1122   2018-08-09   408.48\n",
      "25994   1121_87     1121   2018-12-08   131.21\n",
      "91504   1422_35     1422   2018-12-26     0.00\n",
      "98377  1465_283     1465   2018-08-26     0.00\n",
      "21859   1100_63     1100   2018-09-10   214.77\n",
      "30184  1138_420     1138   2018-05-10   522.43\n",
      "98868    1467_5     1467   2018-05-19   286.07\n",
      "51110   1231_39     1231   2018-11-24   114.99\n",
      "\n",
      "         id  user_id session_date  mb_used\n",
      "0   1000_13     1000   2018-12-29    89.86\n",
      "1  1000_204     1000   2018-12-31     0.00\n",
      "2  1000_379     1000   2018-12-28   660.40\n",
      "3  1000_413     1000   2018-12-26   270.99\n",
      "4  1000_442     1000   2018-12-27   880.22\n",
      "5    1001_0     1001   2018-08-24   284.68\n",
      "6    1001_3     1001   2018-12-09   656.04\n",
      "7    1001_4     1001   2018-11-04    16.97\n",
      "8   1001_10     1001   2018-11-27   135.18\n",
      "9   1001_15     1001   2018-12-13   761.92\n"
     ]
    }
   ],
   "source": [
    "# Print a sample of data for the internet traffic\n",
    "print(internet.sample(10))\n",
    "print()\n",
    "print(internet.head(10))\n"
   ]
  },
  {
   "cell_type": "markdown",
   "metadata": {},
   "source": [
    "[Describe what you see and notice in the general information and the printed data sample for the above price of data. Are there any issues (inappropriate data types, missing data etc) that may need further investigation and changes? How that can be fixed?]"
   ]
  },
  {
   "cell_type": "markdown",
   "metadata": {},
   "source": [
    "### Fix data"
   ]
  },
  {
   "cell_type": "markdown",
   "metadata": {},
   "source": [
    "[Fix obvious issues with the data given the initial observations.]"
   ]
  },
  {
   "cell_type": "code",
   "execution_count": 21,
   "metadata": {},
   "outputs": [
    {
     "name": "stdout",
     "output_type": "stream",
     "text": [
      "0\n",
      "         id  user_id session_date  mb_used\n",
      "0   1000_13     1000   2018-12-29    89.86\n",
      "1  1000_204     1000   2018-12-31      NaN\n",
      "2  1000_379     1000   2018-12-28   660.40\n",
      "3  1000_413     1000   2018-12-26   270.99\n",
      "4  1000_442     1000   2018-12-27   880.22\n",
      "5    1001_0     1001   2018-08-24   284.68\n",
      "6    1001_3     1001   2018-12-09   656.04\n",
      "7    1001_4     1001   2018-11-04    16.97\n",
      "8   1001_10     1001   2018-11-27   135.18\n",
      "9   1001_15     1001   2018-12-13   761.92\n"
     ]
    }
   ],
   "source": [
    "duplicates_internet = internet.duplicated()\n",
    "print(duplicates_internet.sum())\n",
    "\n",
    "internet['session_date'] = pd.to_datetime(internet['session_date'])\n",
    "\n",
    "internet['mb_used'] = internet['mb_used'].replace(0, np.nan)\n",
    "print(internet.head(10))"
   ]
  },
  {
   "cell_type": "markdown",
   "metadata": {},
   "source": [
    "### Enrich data"
   ]
  },
  {
   "cell_type": "markdown",
   "metadata": {},
   "source": [
    "[Add additional factors to the data if you believe they might be useful.]"
   ]
  },
  {
   "cell_type": "code",
   "execution_count": 22,
   "metadata": {},
   "outputs": [
    {
     "name": "stdout",
     "output_type": "stream",
     "text": [
      "         id  user_id session_date  mb_used  month   gb\n",
      "0   1000_13     1000   2018-12-29    89.86     12  1.0\n",
      "1  1000_204     1000   2018-12-31      NaN     12  NaN\n",
      "2  1000_379     1000   2018-12-28   660.40     12  1.0\n",
      "3  1000_413     1000   2018-12-26   270.99     12  1.0\n",
      "4  1000_442     1000   2018-12-27   880.22     12  1.0\n",
      "5    1001_0     1001   2018-08-24   284.68      8  1.0\n",
      "6    1001_3     1001   2018-12-09   656.04     12  1.0\n",
      "7    1001_4     1001   2018-11-04    16.97     11  1.0\n",
      "8   1001_10     1001   2018-11-27   135.18     11  1.0\n",
      "9   1001_15     1001   2018-12-13   761.92     12  1.0\n",
      "             id  user_id session_date  mb_used  month   gb\n",
      "99967   1474_51     1474   2018-09-02      NaN      9  NaN\n",
      "52295  1236_140     1236   2018-09-04   403.64      9  1.0\n",
      "60514   1274_52     1274   2018-12-20    59.99     12  1.0\n",
      "38951  1174_214     1174   2018-11-18   545.10     11  1.0\n",
      "97349  1458_442     1458   2018-09-01   645.98      9  1.0\n",
      "25559   1120_51     1120   2018-12-27   307.71     12  1.0\n",
      "93660   1437_38     1437   2018-12-15   465.15     12  1.0\n",
      "86665   1403_13     1403   2018-08-29   391.11      8  1.0\n",
      "99981   1474_87     1474   2018-09-30   459.25      9  1.0\n",
      "98181  1464_253     1464   2018-11-29   580.42     11  1.0\n"
     ]
    }
   ],
   "source": [
    "internet['mb_used'] = internet['mb_used'].replace(0, np.nan)\n",
    "internet['month'] = internet['session_date'].dt.month\n",
    "internet['gb'] = np.ceil(internet['mb_used'] / 1024)   #np.ceil(calls['duration']).astype(int)\n",
    "print(internet.head(10))\n",
    "print(internet.sample(10))"
   ]
  },
  {
   "cell_type": "markdown",
   "metadata": {},
   "source": [
    "## Study plan conditions"
   ]
  },
  {
   "cell_type": "markdown",
   "metadata": {},
   "source": [
    "[It is critical to understand how the plans work, how users are charged based on their plan subscription. So, we suggest printing out the plan information to view their conditions once again.]"
   ]
  },
  {
   "cell_type": "code",
   "execution_count": 23,
   "metadata": {},
   "outputs": [
    {
     "name": "stdout",
     "output_type": "stream",
     "text": [
      "   messages_included  mb_per_month_included  minutes_included  \\\n",
      "0                 50                  15360               500   \n",
      "1               1000                  30720              3000   \n",
      "\n",
      "   usd_monthly_pay  usd_per_gb  usd_per_message  usd_per_minute plan_name  \n",
      "0               20          10             0.03            0.03      surf  \n",
      "1               70           7             0.01            0.01  ultimate  \n"
     ]
    }
   ],
   "source": [
    "# Print out the plan conditions and make sure they are clear for you\n",
    "#The surf plan is an automatic monthly charge of $20, with that you get 500 minutes, 50 texts and 15 gb of data.  For every 1 minute you go over 500 you get charged 3 cents.  For every text message over 50 you get charged 3 cents.  For every GB over 15 you get charged $10.\n",
    "#The ultimate plan is an automatic monthly charge of $70, with that you get 3000 minutes, 1000 texts and 30 gb of data.  For every 1 minute you go over 3000 you get charged 1 cent.  For every text message over 1000 you get charged 1 cent.  For every GB over 30 you get charged $7.\n",
    "print(plans)"
   ]
  },
  {
   "cell_type": "markdown",
   "metadata": {},
   "source": [
    "## Aggregate data per user\n",
    "\n",
    "[Now, as the data is clean, aggregate data per user per period in order to have just one record per user per period. It should ease the further analysis a lot.]"
   ]
  },
  {
   "cell_type": "code",
   "execution_count": 24,
   "metadata": {},
   "outputs": [
    {
     "name": "stdout",
     "output_type": "stream",
     "text": [
      "      user_id  month  monthly_calls\n",
      "0        1000     12             16\n",
      "1        1001      8             27\n",
      "2        1001      9             49\n",
      "3        1001     10             65\n",
      "4        1001     11             64\n",
      "...       ...    ...            ...\n",
      "2253     1498     12             39\n",
      "2254     1499      9             41\n",
      "2255     1499     10             53\n",
      "2256     1499     11             45\n",
      "2257     1499     12             65\n",
      "\n",
      "[2258 rows x 3 columns]\n"
     ]
    }
   ],
   "source": [
    "# Calculate the number of calls made by each user per month. Save the result.\n",
    "monthly_calls = calls.groupby(['user_id', 'month']).size().reset_index(name='monthly_calls')\n",
    "print(monthly_calls)\n"
   ]
  },
  {
   "cell_type": "code",
   "execution_count": 25,
   "metadata": {},
   "outputs": [
    {
     "name": "stdout",
     "output_type": "stream",
     "text": [
      "      user_id  month  monthly_minutes\n",
      "0        1000     12              124\n",
      "1        1001      8              182\n",
      "2        1001      9              315\n",
      "3        1001     10              393\n",
      "4        1001     11              426\n",
      "...       ...    ...              ...\n",
      "2253     1498     12              339\n",
      "2254     1499      9              346\n",
      "2255     1499     10              385\n",
      "2256     1499     11              308\n",
      "2257     1499     12              496\n",
      "\n",
      "[2258 rows x 3 columns]\n"
     ]
    }
   ],
   "source": [
    "# Calculate the amount of minutes spent by each user per month. Save the result.\n",
    "monthly_minutes = calls.groupby(['user_id', 'month'])['duration_round'].sum().reset_index()\n",
    "monthly_minutes.rename(columns={'duration_round': 'monthly_minutes'}, inplace=True)\n",
    "print(monthly_minutes)\n"
   ]
  },
  {
   "cell_type": "code",
   "execution_count": 26,
   "metadata": {},
   "outputs": [
    {
     "name": "stdout",
     "output_type": "stream",
     "text": [
      "      user_id  month  monthly_texts\n",
      "0        1000     12             11\n",
      "1        1001      8             30\n",
      "2        1001      9             44\n",
      "3        1001     10             53\n",
      "4        1001     11             36\n",
      "...       ...    ...            ...\n",
      "1801     1496      9             21\n",
      "1802     1496     10             18\n",
      "1803     1496     11             13\n",
      "1804     1496     12             11\n",
      "1805     1497     12             50\n",
      "\n",
      "[1806 rows x 3 columns]\n"
     ]
    }
   ],
   "source": [
    "# Calculate the number of messages sent by each user per month. Save the result.\n",
    "monthly_texts = messages.groupby(['user_id', 'month']).size().reset_index(name='monthly_texts')\n",
    "print(monthly_texts)\n",
    "\n"
   ]
  },
  {
   "cell_type": "code",
   "execution_count": 27,
   "metadata": {},
   "outputs": [
    {
     "name": "stdout",
     "output_type": "stream",
     "text": [
      "      user_id  month  monthly_gbs\n",
      "0        1000     12          4.0\n",
      "1        1001      8         21.0\n",
      "2        1001      9         41.0\n",
      "3        1001     10         50.0\n",
      "4        1001     11         49.0\n",
      "...       ...    ...          ...\n",
      "2272     1498     12         56.0\n",
      "2273     1499      9         37.0\n",
      "2274     1499     10         52.0\n",
      "2275     1499     11         43.0\n",
      "2276     1499     12         58.0\n",
      "\n",
      "[2277 rows x 3 columns]\n"
     ]
    }
   ],
   "source": [
    "# Calculate the volume of internet traffic used by each user per month. Save the result.\n",
    "monthly_gbs = internet.groupby(['user_id', 'month'])['gb'].sum().reset_index()\n",
    "monthly_gbs.rename(columns={'gb': 'monthly_gbs'}, inplace=True)\n",
    "print(monthly_gbs)\n"
   ]
  },
  {
   "cell_type": "markdown",
   "metadata": {},
   "source": [
    "[Put the aggregate data together into one DataFrame so that one record in it would represent what an unique user consumed in a given month.]"
   ]
  },
  {
   "cell_type": "code",
   "execution_count": 28,
   "metadata": {},
   "outputs": [
    {
     "name": "stdout",
     "output_type": "stream",
     "text": [
      "      user_id  month  monthly_calls  monthly_minutes  monthly_texts  \\\n",
      "0        1000     12           16.0            124.0           11.0   \n",
      "1        1001      8           27.0            182.0           30.0   \n",
      "2        1001      9           49.0            315.0           44.0   \n",
      "3        1001     10           65.0            393.0           53.0   \n",
      "4        1001     11           64.0            426.0           36.0   \n",
      "...       ...    ...            ...              ...            ...   \n",
      "2288     1349     12            0.0              0.0           61.0   \n",
      "2289     1361      5            0.0              0.0            2.0   \n",
      "2290     1482     10            0.0              0.0            2.0   \n",
      "2291     1108     12            0.0              0.0            0.0   \n",
      "2292     1311      6            0.0              0.0            0.0   \n",
      "\n",
      "      monthly_gbs  \n",
      "0             4.0  \n",
      "1            21.0  \n",
      "2            41.0  \n",
      "3            50.0  \n",
      "4            49.0  \n",
      "...           ...  \n",
      "2288         27.0  \n",
      "2289          7.0  \n",
      "2290          0.0  \n",
      "2291          2.0  \n",
      "2292          7.0  \n",
      "\n",
      "[2293 rows x 6 columns]\n"
     ]
    }
   ],
   "source": [
    "# Merge the data for calls, minutes, messages, internet based on user_id and month\n",
    "merged_data = pd.merge(monthly_calls, monthly_minutes, on=['user_id', 'month'], how='outer')\n",
    "merged_data = pd.merge(merged_data, monthly_texts, on=['user_id', 'month'], how='outer')\n",
    "merged_data = pd.merge(merged_data, monthly_gbs, on=['user_id', 'month'], how='outer')\n",
    "merged_data.fillna(0,inplace=True)\n",
    "print(merged_data)"
   ]
  },
  {
   "cell_type": "code",
   "execution_count": 29,
   "metadata": {},
   "outputs": [
    {
     "name": "stdout",
     "output_type": "stream",
     "text": [
      "      user_id  month  monthly_calls  monthly_minutes  monthly_texts  \\\n",
      "0        1000   12.0           16.0            124.0           11.0   \n",
      "1        1001    8.0           27.0            182.0           30.0   \n",
      "2        1001    9.0           49.0            315.0           44.0   \n",
      "3        1001   10.0           65.0            393.0           53.0   \n",
      "4        1001   11.0           64.0            426.0           36.0   \n",
      "...       ...    ...            ...              ...            ...   \n",
      "2298     1307    0.0            0.0              0.0            0.0   \n",
      "2299     1319    0.0            0.0              0.0            0.0   \n",
      "2300     1378    0.0            0.0              0.0            0.0   \n",
      "2301     1463    0.0            0.0              0.0            0.0   \n",
      "2302     1473    0.0            0.0              0.0            0.0   \n",
      "\n",
      "      monthly_gbs plan_name  messages_included  mb_per_month_included  \\\n",
      "0             4.0  ultimate               1000                  30720   \n",
      "1            21.0      surf                 50                  15360   \n",
      "2            41.0      surf                 50                  15360   \n",
      "3            50.0      surf                 50                  15360   \n",
      "4            49.0      surf                 50                  15360   \n",
      "...           ...       ...                ...                    ...   \n",
      "2298          0.0      surf                 50                  15360   \n",
      "2299          0.0      surf                 50                  15360   \n",
      "2300          0.0      surf                 50                  15360   \n",
      "2301          0.0  ultimate               1000                  30720   \n",
      "2302          0.0      surf                 50                  15360   \n",
      "\n",
      "      minutes_included  usd_monthly_pay  usd_per_gb  usd_per_message  \\\n",
      "0                 3000               70           7             0.01   \n",
      "1                  500               20          10             0.03   \n",
      "2                  500               20          10             0.03   \n",
      "3                  500               20          10             0.03   \n",
      "4                  500               20          10             0.03   \n",
      "...                ...              ...         ...              ...   \n",
      "2298               500               20          10             0.03   \n",
      "2299               500               20          10             0.03   \n",
      "2300               500               20          10             0.03   \n",
      "2301              3000               70           7             0.01   \n",
      "2302               500               20          10             0.03   \n",
      "\n",
      "      usd_per_minute  \n",
      "0               0.01  \n",
      "1               0.03  \n",
      "2               0.03  \n",
      "3               0.03  \n",
      "4               0.03  \n",
      "...              ...  \n",
      "2298            0.03  \n",
      "2299            0.03  \n",
      "2300            0.03  \n",
      "2301            0.01  \n",
      "2302            0.03  \n",
      "\n",
      "[2303 rows x 14 columns]\n"
     ]
    }
   ],
   "source": [
    "# Add the plan information\n",
    "merged_data = pd.merge(merged_data, users[['user_id', 'plan']], on=['user_id'], how='outer')\n",
    "merged_data.rename(columns={'plan': 'plan_name'}, inplace=True)\n",
    "merged_data = pd.merge(merged_data, plans, on='plan_name', how='left')\n",
    "merged_data.fillna(0,inplace=True)\n",
    "print(merged_data)"
   ]
  },
  {
   "cell_type": "markdown",
   "metadata": {},
   "source": [
    "[Calculate the monthly revenue from each user (subtract the free package limit from the total number of calls, text messages, and data; multiply the result by the calling plan value; add the monthly charge depending on the calling plan). N.B. This might not be as trivial as just a couple of lines given the plan conditions! So, it's okay to spend some time on it.]"
   ]
  },
  {
   "cell_type": "code",
   "execution_count": 30,
   "metadata": {},
   "outputs": [
    {
     "name": "stdout",
     "output_type": "stream",
     "text": [
      "      user_id  month  monthly_revenue\n",
      "0        1000   12.0            70.00\n",
      "1        1001    8.0            80.00\n",
      "2        1001    9.0           280.00\n",
      "3        1001   10.0           370.09\n",
      "4        1001   11.0           360.00\n",
      "...       ...    ...              ...\n",
      "2298     1307    0.0            20.00\n",
      "2299     1319    0.0            20.00\n",
      "2300     1378    0.0            20.00\n",
      "2301     1463    0.0            70.00\n",
      "2302     1473    0.0            20.00\n",
      "\n",
      "[2303 rows x 3 columns]\n"
     ]
    }
   ],
   "source": [
    "# Calculate the monthly revenue for each user\n",
    "merged_data['extra_minutes'] = (merged_data['monthly_minutes'] - merged_data['minutes_included']).clip(lower=0)\n",
    "merged_data['extra_texts'] = (merged_data['monthly_texts'] - merged_data['messages_included']).clip(lower=0)\n",
    "merged_data['extra_gbs'] = (merged_data['monthly_gbs'] - (merged_data['mb_per_month_included'] / 1024)).clip(lower=0)\n",
    "\n",
    "merged_data['extra_minutes_charge'] = (merged_data['extra_minutes'] * merged_data['usd_per_minute'])\n",
    "merged_data['extra_texts_charge'] = (merged_data['extra_texts'] * merged_data['usd_per_message'])\n",
    "merged_data['extra_data_charge'] = (merged_data['extra_gbs'] * merged_data['usd_per_gb'])\n",
    "\n",
    "merged_data['monthly_revenue'] = (merged_data['usd_monthly_pay'] + merged_data['extra_minutes_charge'] + merged_data['extra_texts_charge'] + merged_data['extra_data_charge'])\n",
    "\n",
    "print(merged_data[['user_id', 'month', 'monthly_revenue']])"
   ]
  },
  {
   "cell_type": "markdown",
   "metadata": {},
   "source": [
    "## Study user behaviour"
   ]
  },
  {
   "cell_type": "markdown",
   "metadata": {},
   "source": [
    "[Calculate some useful descriptive statistics for the aggregated and merged data, which typically reveal an overall picture captured by the data. Draw useful plots to help the understanding. Given that the main task is to compare the plans and decide on which one is more profitable, the statistics and the plots should be calculated on a per-plan basis.]\n",
    "\n",
    "[There are relevant hints in the comments for Calls but they are not provided for Messages and Internet though the principle of statistical study is the same for them as for Calls.]"
   ]
  },
  {
   "cell_type": "markdown",
   "metadata": {},
   "source": [
    "### Calls"
   ]
  },
  {
   "cell_type": "code",
   "execution_count": 30,
   "metadata": {},
   "outputs": [
    {
     "data": {
      "image/png": "[encoded data removed]",
      "text/plain": [
       "<Figure size 1200x600 with 1 Axes>"
      ]
     },
     "metadata": {},
     "output_type": "display_data"
    }
   ],
   "source": [
    "# Compare average duration of calls per each plan per each distinct month. Plot a bar plat to visualize it.\n",
    "merged_data['average_call_duration'] = merged_data['monthly_minutes'] / merged_data['monthly_calls']\n",
    "average_duration_per_plan_month = merged_data.groupby(['plan_name', 'month'])['average_call_duration'].mean().reset_index()\n",
    "\n",
    "plt.figure(figsize=(12, 6))\n",
    "bar_width = 0.4\n",
    "for i, plan in enumerate(average_duration_per_plan_month['plan_name'].unique()):\n",
    "    subset = average_duration_per_plan_month[average_duration_per_plan_month['plan_name'] == plan]\n",
    "   \n",
    "    plt.bar(subset['month'] + (i - 0.5) * bar_width, subset['average_call_duration'], width=bar_width, label=plan)\n",
    "    alpha_value = 0.6\n",
    "    plt.xlabel('Month')\n",
    "    plt.ylabel(\"Average Call Duration (minutes)\")\n",
    "    plt.title('Average Call Duration per Plan per Month')\n",
    "    plt.legend(title='Plan Name')\n",
    "    plt.xticks(ticks=average_duration_per_plan_month['month'].unique())\n",
    "    plt.show"
   ]
  },
  {
   "cell_type": "code",
   "execution_count": 31,
   "metadata": {},
   "outputs": [
    {
     "data": {
      "image/png": "[encoded data removed]",
      "text/plain": [
       "<Figure size 1200x600 with 1 Axes>"
      ]
     },
     "metadata": {},
     "output_type": "display_data"
    }
   ],
   "source": [
    "surf_data = merged_data[merged_data['plan_name'] == 'surf']['monthly_minutes']\n",
    "ultimate_data = merged_data[merged_data['plan_name'] == 'ultimate']['monthly_minutes']\n",
    "\n",
    "plt.figure(figsize=(12, 6))\n",
    "plt.hist(surf_data, bins=12, alpha=0.6, label='Surf Plan', color='blue')\n",
    "plt.hist(ultimate_data, bins=12, alpha=0.6, label='Ultimate Plan', color='orange')\n",
    "\n",
    "plt.xlabel(\"Monthly Minutes\")\n",
    "plt.ylabel(\"Frequency\")\n",
    "plt.title(\"Distribution of Monthly Minutes Required per Plan\")\n",
    "plt.legend(title=\"Plan Name\")\n",
    "plt.show()\n",
    "\n"
   ]
  },
  {
   "cell_type": "markdown",
   "metadata": {},
   "source": [
    "#Looking at this data it is obvious there are way more monthly users who use the surf plan.  Also judging from the data the monthly minutes used distribution is fairly similar across the plans.  If they have similar minutes that means the surf plan will be generating a lot of revenue from the extra minutes the plan users use each month."
   ]
  },
  {
   "cell_type": "markdown",
   "metadata": {},
   "source": [
    "#"
   ]
  },
  {
   "cell_type": "markdown",
   "metadata": {},
   "source": [
    "[Calculate the mean and the variable of the call duration to reason on whether users on the different plans have different behaviours for their calls.]"
   ]
  },
  {
   "cell_type": "code",
   "execution_count": 32,
   "metadata": {},
   "outputs": [
    {
     "name": "stdout",
     "output_type": "stream",
     "text": [
      "Mean Monthly Call Duration (minutes):\n",
      "plan_name\n",
      "surf        427.120329\n",
      "ultimate    428.071823\n",
      "Name: monthly_minutes, dtype: float64\n",
      "\n",
      "Variance of Monthly Call Duration (minutes):\n",
      "plan_name\n",
      "surf        55455.577400\n",
      "ultimate    58543.878652\n",
      "Name: monthly_minutes, dtype: float64\n"
     ]
    }
   ],
   "source": [
    "# Calculate the mean and the variance of the monthly call duration\n",
    "mean_duration = merged_data.groupby('plan_name')['monthly_minutes'].mean()\n",
    "variance_duration = merged_data.groupby('plan_name')['monthly_minutes'].var()\n",
    "\n",
    "print(\"Mean Monthly Call Duration (minutes):\")\n",
    "print(mean_duration)\n",
    "print(\"\\nVariance of Monthly Call Duration (minutes):\")\n",
    "print(variance_duration)\n",
    "\n"
   ]
  },
  {
   "cell_type": "markdown",
   "metadata": {},
   "source": [
    "#Call duration and variance is very similar between the two plans.  For ultimate the mean is slightly higher and the variables are slightly more spread out."
   ]
  },
  {
   "cell_type": "code",
   "execution_count": 31,
   "metadata": {},
   "outputs": [
    {
     "data": {
      "image/png": "[encoded data removed]",
      "text/plain": [
       "<Figure size 1000x600 with 1 Axes>"
      ]
     },
     "metadata": {},
     "output_type": "display_data"
    }
   ],
   "source": [
    "# Plot a boxplot to visualize the distribution of the monthly call duration\n",
    "\n",
    "import matplotlib.pyplot as plt\n",
    "plt.figure(figsize=(10, 6))\n",
    "plt.boxplot(\n",
    "    [merged_data[merged_data['plan_name'] == 'surf']['monthly_minutes'],\n",
    "     merged_data[merged_data['plan_name'] == 'ultimate']['monthly_minutes']],\n",
    "    labels=['Surf Plan', 'Ultimate Plan']\n",
    ")\n",
    "\n",
    "plt.xlabel(\"Plan Name\")\n",
    "plt.ylabel(\"Monthly Call Duration (minutes)\")\n",
    "plt.title(\"Distribution of Monthly Call Duration per Plan\")\n",
    "plt.show()\n"
   ]
  },
  {
   "cell_type": "markdown",
   "metadata": {},
   "source": [
    "#Just like before average is very similar but ultimate plan has more a wider variance even though it appears the surf plan has larger outliers."
   ]
  },
  {
   "cell_type": "markdown",
   "metadata": {},
   "source": [
    "[Formulate conclusions on how the users behave in terms of calling. Is their behaviour different between the plans?]"
   ]
  },
  {
   "cell_type": "markdown",
   "metadata": {},
   "source": [
    "### Messages"
   ]
  },
  {
   "cell_type": "code",
   "execution_count": 32,
   "metadata": {},
   "outputs": [
    {
     "data": {
      "image/png": "[encoded data removed]",
      "text/plain": [
       "<Figure size 1200x600 with 1 Axes>"
      ]
     },
     "metadata": {},
     "output_type": "display_data"
    }
   ],
   "source": [
    "# Compare the number of messages users of each plan tend to send each month\n",
    "average_texts_per_user_per_plan = merged_data.groupby(['plan_name', 'month'])['monthly_texts'].mean().reset_index()\n",
    "\n",
    "plt.figure(figsize=(12,6))\n",
    "surf_data = average_texts_per_user_per_plan[average_texts_per_user_per_plan['plan_name'] == 'surf']\n",
    "plt.bar(surf_data['month'] - 0.15, surf_data['monthly_texts'], width=0.3, label=\"Surf Plan\")\n",
    "\n",
    "ultimate_data = average_texts_per_user_per_plan[average_texts_per_user_per_plan['plan_name'] == 'ultimate']\n",
    "plt.bar(surf_data['month'] + 0.15, ultimate_data['monthly_texts'], width=0.3, label=\"Ultimate Plan\")\n",
    "\n",
    "plt.xlabel(\"Month\")\n",
    "plt.ylabel(\"Average Monthly Texts\")\n",
    "plt.title(\"Average Monhtly Texts Sent Per Plan\")\n",
    "plt.legend(title=\"Plan Name\")\n",
    "plt.show()"
   ]
  },
  {
   "cell_type": "code",
   "execution_count": 33,
   "metadata": {},
   "outputs": [
    {
     "data": {
      "image/png": "[encoded data removed]",
      "text/plain": [
       "<Figure size 1200x600 with 1 Axes>"
      ]
     },
     "metadata": {},
     "output_type": "display_data"
    }
   ],
   "source": [
    "# Compare the amount of internet traffic consumed by users per plan\n",
    "average_gbs_per_user_per_plan = merged_data.groupby(['plan_name', 'month'])['monthly_gbs'].mean().reset_index()\n",
    "\n",
    "plt.figure(figsize=(12,6))\n",
    "surf_data = average_gbs_per_user_per_plan[average_gbs_per_user_per_plan['plan_name'] == 'surf']\n",
    "plt.bar(surf_data['month'] - 0.15, surf_data['monthly_gbs'], width=0.5, label=\"Surf Plan\")\n",
    "\n",
    "ultimate_data = average_gbs_per_user_per_plan[average_gbs_per_user_per_plan['plan_name'] == 'ultimate']\n",
    "plt.bar(surf_data['month'] + 0.15, ultimate_data['monthly_gbs'], width=0.5, label=\"Ultimate Plan\")\n",
    "\n",
    "plt.xlabel(\"Month\")\n",
    "plt.ylabel(\"Average Monthly GBs\")\n",
    "plt.title(\"Average Monthly GBs Per Plan\")\n",
    "plt.legend(title=\"Plan Name\")\n",
    "plt.show()\n"
   ]
  },
  {
   "cell_type": "markdown",
   "metadata": {},
   "source": [
    "#Monthly users on the ultimate plan tend to send about 5 to 10 more messages per month than users on the surf plan.  An interesting point about the data is the average amount of texts sent per user per month tends to increase with each month.  Increasing from about 10 in January to about 40 in December for the Surf Plan.  Increasing from about 15 to almost 50 per month for the ultimate plan."
   ]
  },
  {
   "cell_type": "markdown",
   "metadata": {},
   "source": [
    "[Formulate conclusions on how the users behave in terms of messaging. Is their behaviour different between the plans?]"
   ]
  },
  {
   "cell_type": "markdown",
   "metadata": {},
   "source": [
    "### Internet"
   ]
  },
  {
   "cell_type": "markdown",
   "metadata": {},
   "source": [
    "#Users in the ultimate plan used more data than users on the surf plan 8 out of the 12 months.  It is fairly surprising the surf plan had any months where users were using more data than ultimate plan people.  This will show up later that a lot of revenue will be getting generated from the surf plan users going over their data limits and getting charged per GB."
   ]
  },
  {
   "cell_type": "markdown",
   "metadata": {},
   "source": [
    "#The first 5 months there was a decent amount of difference between data usage between the plans but the last 7 months the usage was fairly similar.  Just like with messages users were using far more data at the end of the year than they were at the beginning."
   ]
  },
  {
   "cell_type": "markdown",
   "metadata": {},
   "source": [
    "[Formulate conclusions on how the users tend to consume the internet traffic? Is their behaviour different between the plans?]"
   ]
  },
  {
   "cell_type": "markdown",
   "metadata": {},
   "source": [
    "## Revenue"
   ]
  },
  {
   "cell_type": "markdown",
   "metadata": {},
   "source": [
    "[Likewise you have studied the user behaviour, statistically describe the revenue between the plans.]"
   ]
  },
  {
   "cell_type": "code",
   "execution_count": 34,
   "metadata": {},
   "outputs": [
    {
     "data": {
      "image/png": "[encoded data removed]",
      "text/plain": [
       "<Figure size 1200x600 with 1 Axes>"
      ]
     },
     "metadata": {},
     "output_type": "display_data"
    }
   ],
   "source": [
    "average_revenue_per_user_per_plan = merged_data.groupby(['plan_name', 'month'])['monthly_revenue'].mean().reset_index()\n",
    "\n",
    "plt.figure(figsize=(12,6))\n",
    "surf_data = average_revenue_per_user_per_plan[average_revenue_per_user_per_plan['plan_name'] == 'surf']\n",
    "plt.bar(surf_data['month'] - 0.15, surf_data['monthly_revenue'], width=0.5, label=\"Surf Plan\")\n",
    "\n",
    "ultimate_data = average_revenue_per_user_per_plan[average_revenue_per_user_per_plan['plan_name'] == 'ultimate']\n",
    "plt.bar(surf_data['month'] + 0.15, ultimate_data['monthly_revenue'], width=0.5, label=\"Ultimate Plan\")\n",
    "\n",
    "plt.xlabel(\"Month\")\n",
    "plt.ylabel(\"Average Monthly Revenue\")\n",
    "plt.title(\"Average Monthly Revenue Per Plan\")\n",
    "plt.legend(title=\"Plan Name\")\n",
    "plt.show()"
   ]
  },
  {
   "cell_type": "markdown",
   "metadata": {},
   "source": [
    "#In the first two months the ultimate plan was generating more revenue than the surf plan but after that the surf plan exceeded the ultimate plan.  In the last 8 months of the year the surf plan drastically outperformed the ultimate plan when it came to revenue generation.  The average surf plan user generated more than $100 in revenue than the average ultimate plan member in 7 of the last 8 months of the year.  The data above helps explain this as surf plan users were using just as much texts and internet data as the ultimate plan members were the last 8 months of the year while having way lower limits."
   ]
  },
  {
   "cell_type": "markdown",
   "metadata": {},
   "source": [
    "[Formulate conclusions about how the revenue differs between the plans.]"
   ]
  },
  {
   "cell_type": "markdown",
   "metadata": {},
   "source": [
    "## Test statistical hypotheses"
   ]
  },
  {
   "cell_type": "markdown",
   "metadata": {},
   "source": [
    "[Test the hypothesis that the average revenue from users of the Ultimate and Surf calling plans differs.]"
   ]
  },
  {
   "cell_type": "markdown",
   "metadata": {},
   "source": [
    "[Formulate the null and the alternative hypotheses, choose the statistical test, decide on the alpha value.]"
   ]
  },
  {
   "cell_type": "code",
   "execution_count": 36,
   "metadata": {},
   "outputs": [
    {
     "name": "stdout",
     "output_type": "stream",
     "text": [
      "T-test for revenue differences between Ultimate and Surf plans:\n",
      "T-statistic: -21.926511855969686\n",
      "P-value: 9.57259390199446e-97\n",
      "\n",
      "H0: x1 = x2\n",
      "H1: x1 != x2\n",
      "\n",
      "Reject the null hypothesis (H0) - there is a significant difference in average revenue between the two plans.\n"
     ]
    }
   ],
   "source": [
    "# Test the hypotheses\n",
    "from scipy.stats import ttest_ind\n",
    "\n",
    "ultimate_revenue = merged_data[merged_data['plan_name'] == 'ultimate']['monthly_revenue']\n",
    "surf_revenue = merged_data[merged_data['plan_name'] == 'surf']['monthly_revenue']\n",
    "t_stat, p_value = ttest_ind(ultimate_revenue, surf_revenue, equal_var=False)\n",
    "alpha = 0.05\n",
    "\n",
    "print('T-test for revenue differences between Ultimate and Surf plans:')\n",
    "print(f\"T-statistic: {t_stat}\")\n",
    "print(f\"P-value: {p_value}\")\n",
    "print()\n",
    "print(f\"H0: x1 = x2\")\n",
    "print(f\"H1: x1 != x2\")\n",
    "print()\n",
    "if p_value < alpha:\n",
    "    print(\"Reject the null hypothesis (H0) - there is a significant difference in average revenue between the two plans.\")\n",
    "else:\n",
    "    print(\"Fail to reject the null hypothesis, there is no statistical difference in revenue between the two plans.\")\n",
    "\n"
   ]
  },
  {
   "cell_type": "markdown",
   "metadata": {},
   "source": [
    "[Test the hypothesis that the average revenue from users in the NY-NJ area is different from that of the users from the other regions.]"
   ]
  },
  {
   "cell_type": "markdown",
   "metadata": {},
   "source": [
    "[Formulate the null and the alternative hypotheses, choose the statistical test, decide on the alpha value.]"
   ]
  },
  {
   "cell_type": "code",
   "execution_count": 37,
   "metadata": {},
   "outputs": [
    {
     "name": "stdout",
     "output_type": "stream",
     "text": [
      "T-test for revenue differences between NY-NJ Region and Other Regions:\n",
      "T-statistic: 2.8972963084302625\n",
      "P-value: 0.003912047986573631\n",
      "\n",
      "H0: x1 = x2\n",
      "H1: x1 != x2\n",
      "\n",
      "Reject the null hypothesis - there is a significant difference in average revenue between the two regions.\n"
     ]
    }
   ],
   "source": [
    "# Test the hypotheses\n",
    "merged_data = pd.merge(merged_data, users[['user_id', 'city']], on=['user_id'], how='outer')\n",
    "\n",
    "ny_nj_revenue = merged_data[merged_data['city'] == 'New York-Newark-Jersey City, NY-NJ-PA MSA']['monthly_revenue']\n",
    "other_revenue = merged_data[merged_data['city'] != 'New York-Newark-Jersey City, NY-NJ-PA MSA']['monthly_revenue']\n",
    "\n",
    "t_stat, p_value = ttest_ind(ny_nj_revenue, other_revenue, equal_var=False)\n",
    "\n",
    "print('T-test for revenue differences between NY-NJ Region and Other Regions:')\n",
    "print(f\"T-statistic: {t_stat}\")\n",
    "print(f\"P-value: {p_value}\")\n",
    "print()\n",
    "print(f\"H0: x1 = x2\")\n",
    "print(f\"H1: x1 != x2\")\n",
    "print()\n",
    "if p_value < alpha:\n",
    "    print(\"Reject the null hypothesis - there is a significant difference in average revenue between the two regions.\")\n",
    "else:\n",
    "    print(\"Fail to reject the null hypothesis, there is no statistical difference in revenue between the two regions.\")\n",
    "\n"
   ]
  },
  {
   "cell_type": "markdown",
   "metadata": {},
   "source": [
    "## General conclusion\n",
    "\n",
    "[List your important conclusions in this final section, make sure they cover all those important decisions (assumptions) that you've made and that led you to the way you processed and analyzed the data.]"
   ]
  },
  {
   "cell_type": "markdown",
   "metadata": {},
   "source": [
    " #We used a t-test for both hypothesis tests to compare independent samples means.  Overall my conclusion is the company should focus on the surf plan for new customers.  Users on the surf plan tended to use the same amount of messages and data as users on the ultimate plan but generated far more revenue for the company since their limits are way lower.  The extra charges from the users greatly increased the revenues from the Surf users.  It was also shown to be statistically significant that the surf users generate more revenue than the ultimate users."
   ]
  }
 ],
 "metadata": {
  "ExecuteTimeLog": [
   {
    "duration": 828,
    "start_time": "2021-11-16T09:21:11.304Z"
   },
   {
    "duration": 893,
    "start_time": "2021-11-16T09:21:17.728Z"
   },
   {
    "duration": 1150,
    "start_time": "2021-11-16T09:21:29.568Z"
   },
   {
    "duration": 3,
    "start_time": "2021-11-16T09:24:14.495Z"
   },
   {
    "duration": 120,
    "start_time": "2021-11-16T09:24:46.630Z"
   },
   {
    "duration": 3,
    "start_time": "2021-11-16T09:28:27.882Z"
   },
   {
    "duration": 4,
    "start_time": "2021-11-16T09:29:54.281Z"
   },
   {
    "duration": 3,
    "start_time": "2021-11-16T09:30:45.936Z"
   },
   {
    "duration": 4,
    "start_time": "2021-11-16T09:31:06.300Z"
   },
   {
    "duration": 113,
    "start_time": "2021-11-16T09:31:37.208Z"
   },
   {
    "duration": 143,
    "start_time": "2021-11-16T09:31:48.656Z"
   },
   {
    "duration": 98,
    "start_time": "2021-11-16T09:31:55.678Z"
   },
   {
    "duration": 3,
    "start_time": "2021-11-16T09:32:08.535Z"
   },
   {
    "duration": 111,
    "start_time": "2021-11-16T09:32:10.120Z"
   },
   {
    "duration": 3,
    "start_time": "2021-11-16T09:32:15.732Z"
   },
   {
    "duration": 4,
    "start_time": "2021-11-16T09:32:29.423Z"
   },
   {
    "duration": 3,
    "start_time": "2021-11-16T10:03:03.074Z"
   },
   {
    "duration": 3,
    "start_time": "2021-11-16T10:10:01.288Z"
   },
   {
    "duration": 3,
    "start_time": "2021-11-16T10:10:46.923Z"
   },
   {
    "duration": 121,
    "start_time": "2021-11-16T10:37:46.494Z"
   },
   {
    "duration": 125,
    "start_time": "2021-11-16T10:38:20.632Z"
   },
   {
    "duration": 112,
    "start_time": "2021-11-16T10:46:53.001Z"
   },
   {
    "duration": 110,
    "start_time": "2021-11-16T10:48:25.775Z"
   },
   {
    "duration": 3,
    "start_time": "2021-11-16T10:50:18.720Z"
   },
   {
    "duration": 4,
    "start_time": "2021-11-16T10:50:37.649Z"
   },
   {
    "duration": 2,
    "start_time": "2021-11-16T10:50:51.884Z"
   },
   {
    "duration": 3,
    "start_time": "2021-11-16T10:51:56.237Z"
   },
   {
    "duration": 101,
    "start_time": "2021-11-16T10:53:13.791Z"
   },
   {
    "duration": 3,
    "start_time": "2021-11-16T10:55:59.186Z"
   },
   {
    "duration": 3,
    "start_time": "2021-11-16T10:56:10.751Z"
   },
   {
    "duration": 3,
    "start_time": "2021-11-16T10:56:49.038Z"
   },
   {
    "duration": 3,
    "start_time": "2021-11-16T10:56:49.174Z"
   },
   {
    "duration": 4,
    "start_time": "2021-11-16T10:56:49.414Z"
   },
   {
    "duration": 3,
    "start_time": "2021-11-16T10:56:49.680Z"
   },
   {
    "duration": 3,
    "start_time": "2021-11-16T10:56:50.370Z"
   },
   {
    "duration": 114,
    "start_time": "2021-11-16T10:59:34.518Z"
   },
   {
    "duration": 3,
    "start_time": "2021-11-16T11:01:41.201Z"
   },
   {
    "duration": 116,
    "start_time": "2021-11-16T11:01:48.754Z"
   },
   {
    "duration": 3,
    "start_time": "2021-11-16T11:02:16.685Z"
   },
   {
    "duration": 3,
    "start_time": "2021-11-16T11:02:19.479Z"
   },
   {
    "duration": 3,
    "start_time": "2021-11-16T11:02:47.067Z"
   },
   {
    "duration": 3,
    "start_time": "2021-11-16T11:02:49.353Z"
   },
   {
    "duration": 3,
    "start_time": "2021-11-16T11:03:07.835Z"
   },
   {
    "duration": 3,
    "start_time": "2021-11-16T11:03:07.953Z"
   },
   {
    "duration": 112,
    "start_time": "2021-11-16T11:07:52.072Z"
   },
   {
    "duration": 187,
    "start_time": "2021-11-16T11:09:23.468Z"
   },
   {
    "duration": 4,
    "start_time": "2021-11-16T11:10:01.455Z"
   },
   {
    "duration": 3,
    "start_time": "2021-11-16T11:10:05.069Z"
   },
   {
    "duration": 4,
    "start_time": "2021-11-16T11:10:13.376Z"
   },
   {
    "duration": 3,
    "start_time": "2021-11-16T11:10:14.434Z"
   },
   {
    "duration": 3,
    "start_time": "2021-11-16T11:10:22.853Z"
   },
   {
    "duration": 4,
    "start_time": "2021-11-16T11:27:29.279Z"
   },
   {
    "duration": 4,
    "start_time": "2021-11-16T11:29:08.919Z"
   },
   {
    "duration": 118,
    "start_time": "2021-11-16T11:29:46.703Z"
   },
   {
    "duration": 437,
    "start_time": "2021-11-16T11:36:02.181Z"
   },
   {
    "duration": 157,
    "start_time": "2021-11-16T11:36:14.388Z"
   },
   {
    "duration": 207,
    "start_time": "2021-11-16T11:47:15.898Z"
   },
   {
    "duration": 3,
    "start_time": "2021-11-16T11:53:52.092Z"
   },
   {
    "duration": 3,
    "start_time": "2021-11-16T11:53:52.236Z"
   },
   {
    "duration": 3,
    "start_time": "2021-11-16T11:59:12.005Z"
   },
   {
    "duration": 112,
    "start_time": "2021-11-16T12:00:33.446Z"
   },
   {
    "duration": 3,
    "start_time": "2021-11-16T12:02:14.453Z"
   },
   {
    "duration": 3,
    "start_time": "2021-11-16T12:02:39.512Z"
   },
   {
    "duration": 106,
    "start_time": "2021-11-16T12:03:03.460Z"
   },
   {
    "duration": 3,
    "start_time": "2021-11-17T20:37:21.139Z"
   },
   {
    "duration": 3,
    "start_time": "2021-11-17T20:37:22.229Z"
   },
   {
    "duration": 3,
    "start_time": "2021-11-17T20:38:38.806Z"
   },
   {
    "duration": 3,
    "start_time": "2021-11-17T20:38:41.958Z"
   },
   {
    "duration": 3,
    "start_time": "2021-11-17T20:43:46.551Z"
   },
   {
    "duration": 4,
    "start_time": "2021-11-17T20:58:21.835Z"
   },
   {
    "duration": 3,
    "start_time": "2021-11-17T20:59:21.872Z"
   },
   {
    "duration": 4,
    "start_time": "2021-11-17T20:59:45.352Z"
   },
   {
    "duration": 4,
    "start_time": "2021-11-17T20:59:49.646Z"
   },
   {
    "duration": 159,
    "start_time": "2021-11-17T21:02:26.949Z"
   },
   {
    "duration": 3,
    "start_time": "2021-11-17T21:03:53.461Z"
   },
   {
    "duration": 3,
    "start_time": "2021-11-17T21:03:53.694Z"
   },
   {
    "duration": 3,
    "start_time": "2021-11-17T21:05:28.145Z"
   },
   {
    "duration": 116,
    "start_time": "2021-11-17T21:05:57.787Z"
   },
   {
    "duration": 3,
    "start_time": "2021-11-17T21:06:37.993Z"
   },
   {
    "duration": 3,
    "start_time": "2021-11-17T21:06:38.261Z"
   },
   {
    "duration": 3,
    "start_time": "2021-11-17T21:11:54.358Z"
   },
   {
    "duration": 3,
    "start_time": "2021-11-17T21:12:43.846Z"
   },
   {
    "duration": 4,
    "start_time": "2021-11-17T21:13:08.773Z"
   },
   {
    "duration": 3,
    "start_time": "2021-11-17T21:14:44.441Z"
   },
   {
    "duration": 3,
    "start_time": "2021-11-17T21:15:42.059Z"
   },
   {
    "duration": 4,
    "start_time": "2021-11-17T21:15:51.995Z"
   },
   {
    "duration": 3,
    "start_time": "2021-11-17T21:15:53.923Z"
   },
   {
    "duration": 3,
    "start_time": "2021-11-17T21:15:55.282Z"
   },
   {
    "duration": 3,
    "start_time": "2021-11-17T21:16:28.492Z"
   },
   {
    "duration": 3,
    "start_time": "2021-11-17T21:16:32.603Z"
   },
   {
    "duration": 3,
    "start_time": "2021-11-17T21:17:06.941Z"
   },
   {
    "duration": 98,
    "start_time": "2021-11-17T21:18:05.733Z"
   },
   {
    "duration": 4,
    "start_time": "2021-11-17T21:21:35.255Z"
   },
   {
    "duration": 3,
    "start_time": "2021-11-17T21:21:37.804Z"
   },
   {
    "duration": 4,
    "start_time": "2021-11-17T21:23:06.071Z"
   },
   {
    "duration": 3,
    "start_time": "2021-11-17T21:23:24.799Z"
   },
   {
    "duration": 3,
    "start_time": "2021-11-17T21:23:32.591Z"
   },
   {
    "duration": 98,
    "start_time": "2021-11-17T21:28:31.559Z"
   },
   {
    "duration": 3,
    "start_time": "2021-11-17T21:28:45.448Z"
   },
   {
    "duration": 3,
    "start_time": "2021-11-17T21:29:17.303Z"
   },
   {
    "duration": 3,
    "start_time": "2021-11-17T21:29:29.617Z"
   },
   {
    "duration": 3,
    "start_time": "2021-11-17T21:29:32.681Z"
   },
   {
    "duration": 3,
    "start_time": "2021-11-17T21:36:11.474Z"
   },
   {
    "duration": 3,
    "start_time": "2021-11-17T21:36:14.791Z"
   },
   {
    "duration": 3,
    "start_time": "2021-11-17T21:36:53.943Z"
   },
   {
    "duration": 3,
    "start_time": "2021-11-17T21:36:56.165Z"
   },
   {
    "duration": 4,
    "start_time": "2021-11-17T21:37:16.590Z"
   },
   {
    "duration": 3,
    "start_time": "2021-11-17T21:37:22.702Z"
   },
   {
    "duration": 4,
    "start_time": "2021-11-17T21:38:03.479Z"
   },
   {
    "duration": 3,
    "start_time": "2021-11-17T21:38:08.601Z"
   },
   {
    "duration": 3,
    "start_time": "2021-11-17T21:38:12.928Z"
   },
   {
    "duration": 3,
    "start_time": "2021-11-17T21:38:48.896Z"
   },
   {
    "duration": 2,
    "start_time": "2021-11-17T21:38:49.171Z"
   },
   {
    "duration": 4,
    "start_time": "2021-11-17T21:39:57.889Z"
   },
   {
    "duration": 3,
    "start_time": "2021-11-17T21:39:58.057Z"
   },
   {
    "duration": 3,
    "start_time": "2021-11-17T21:41:20.108Z"
   },
   {
    "duration": 3,
    "start_time": "2021-11-17T21:41:20.629Z"
   },
   {
    "duration": 3,
    "start_time": "2021-11-17T21:42:49.136Z"
   },
   {
    "duration": 3,
    "start_time": "2021-11-17T21:43:15.137Z"
   },
   {
    "duration": 4,
    "start_time": "2021-11-17T21:43:16.766Z"
   },
   {
    "duration": 4,
    "start_time": "2021-11-17T21:43:31.711Z"
   },
   {
    "duration": 3,
    "start_time": "2021-11-17T21:43:36.312Z"
   },
   {
    "duration": 4,
    "start_time": "2021-11-17T21:45:08.825Z"
   },
   {
    "duration": 4,
    "start_time": "2021-11-17T21:45:10.119Z"
   },
   {
    "duration": 4,
    "start_time": "2021-11-17T21:45:13.748Z"
   },
   {
    "duration": 3,
    "start_time": "2021-11-17T21:45:22.219Z"
   },
   {
    "duration": 3,
    "start_time": "2021-11-17T21:45:33.412Z"
   },
   {
    "duration": 2,
    "start_time": "2021-11-17T21:46:01.885Z"
   },
   {
    "duration": 3,
    "start_time": "2021-11-17T21:46:03.628Z"
   },
   {
    "duration": 107,
    "start_time": "2021-11-17T21:47:32.512Z"
   },
   {
    "duration": 103,
    "start_time": "2021-11-17T21:50:36.243Z"
   },
   {
    "duration": 3,
    "start_time": "2021-11-18T06:28:31.440Z"
   },
   {
    "duration": 3,
    "start_time": "2021-11-18T06:29:00.168Z"
   },
   {
    "duration": 3,
    "start_time": "2021-11-18T06:31:27.008Z"
   },
   {
    "duration": 2,
    "start_time": "2021-11-18T06:35:34.288Z"
   },
   {
    "duration": 2,
    "start_time": "2021-11-18T06:38:04.527Z"
   },
   {
    "duration": 529,
    "start_time": "2024-10-30T18:37:34.270Z"
   },
   {
    "duration": 917,
    "start_time": "2024-10-30T18:39:51.298Z"
   },
   {
    "duration": 289,
    "start_time": "2024-10-30T18:41:41.407Z"
   },
   {
    "duration": 2,
    "start_time": "2024-10-30T18:47:50.303Z"
   },
   {
    "duration": 3408,
    "start_time": "2024-10-30T18:47:56.755Z"
   },
   {
    "duration": 274,
    "start_time": "2024-10-30T18:48:00.165Z"
   },
   {
    "duration": 12,
    "start_time": "2024-10-30T18:49:13.477Z"
   },
   {
    "duration": 12,
    "start_time": "2024-10-30T18:49:26.857Z"
   },
   {
    "duration": 17,
    "start_time": "2024-10-30T18:53:02.769Z"
   },
   {
    "duration": 11,
    "start_time": "2024-10-30T18:53:05.918Z"
   },
   {
    "duration": 11,
    "start_time": "2024-10-30T18:55:32.223Z"
   },
   {
    "duration": 8,
    "start_time": "2024-10-30T18:57:19.914Z"
   },
   {
    "duration": 6,
    "start_time": "2024-10-30T19:00:15.048Z"
   },
   {
    "duration": 12,
    "start_time": "2024-10-30T19:08:22.766Z"
   },
   {
    "duration": 15,
    "start_time": "2024-10-30T19:35:22.861Z"
   },
   {
    "duration": 15,
    "start_time": "2024-10-30T19:35:47.393Z"
   },
   {
    "duration": 10,
    "start_time": "2024-10-30T19:37:52.161Z"
   },
   {
    "duration": 10,
    "start_time": "2024-10-30T19:38:21.357Z"
   },
   {
    "duration": 15,
    "start_time": "2024-10-30T19:38:37.683Z"
   },
   {
    "duration": 15,
    "start_time": "2024-10-30T19:40:52.028Z"
   },
   {
    "duration": 15,
    "start_time": "2024-10-30T19:41:06.847Z"
   },
   {
    "duration": 13,
    "start_time": "2024-10-30T19:41:25.791Z"
   },
   {
    "duration": 35,
    "start_time": "2024-10-30T19:42:17.679Z"
   },
   {
    "duration": 8,
    "start_time": "2024-10-30T19:43:27.928Z"
   },
   {
    "duration": 8,
    "start_time": "2024-10-30T19:48:53.765Z"
   },
   {
    "duration": 12,
    "start_time": "2024-10-30T19:49:01.758Z"
   },
   {
    "duration": 31,
    "start_time": "2024-10-30T19:50:51.424Z"
   },
   {
    "duration": 7,
    "start_time": "2024-10-30T19:50:55.704Z"
   },
   {
    "duration": 285,
    "start_time": "2024-10-30T19:53:22.621Z"
   },
   {
    "duration": 73,
    "start_time": "2024-10-30T19:54:22.773Z"
   },
   {
    "duration": 14,
    "start_time": "2024-10-30T19:54:26.275Z"
   },
   {
    "duration": 38,
    "start_time": "2024-10-30T19:55:52.205Z"
   },
   {
    "duration": 11,
    "start_time": "2024-10-30T19:56:03.870Z"
   },
   {
    "duration": 10,
    "start_time": "2024-10-30T19:56:22.366Z"
   },
   {
    "duration": 20,
    "start_time": "2024-10-30T19:56:40.097Z"
   },
   {
    "duration": 22,
    "start_time": "2024-10-30T19:56:49.811Z"
   },
   {
    "duration": 7,
    "start_time": "2024-10-30T19:57:06.814Z"
   },
   {
    "duration": 25,
    "start_time": "2024-10-30T19:58:17.107Z"
   },
   {
    "duration": 9,
    "start_time": "2024-10-30T19:58:58.401Z"
   },
   {
    "duration": 8,
    "start_time": "2024-10-30T19:59:06.321Z"
   },
   {
    "duration": 29,
    "start_time": "2024-10-30T19:59:41.241Z"
   },
   {
    "duration": 10,
    "start_time": "2024-10-30T19:59:43.253Z"
   },
   {
    "duration": 10,
    "start_time": "2024-10-30T19:59:57.610Z"
   },
   {
    "duration": 53,
    "start_time": "2024-10-30T20:02:02.330Z"
   },
   {
    "duration": 149,
    "start_time": "2024-10-30T20:05:13.897Z"
   },
   {
    "duration": 9,
    "start_time": "2024-10-30T20:09:35.917Z"
   },
   {
    "duration": 11,
    "start_time": "2024-10-30T20:09:48.874Z"
   },
   {
    "duration": 12,
    "start_time": "2024-10-30T20:11:37.400Z"
   },
   {
    "duration": 13,
    "start_time": "2024-10-30T20:11:44.349Z"
   },
   {
    "duration": 13,
    "start_time": "2024-10-30T20:11:48.725Z"
   },
   {
    "duration": 12,
    "start_time": "2024-10-30T20:11:53.973Z"
   },
   {
    "duration": 12,
    "start_time": "2024-10-30T20:11:58.454Z"
   },
   {
    "duration": 391,
    "start_time": "2024-10-30T20:12:05.446Z"
   },
   {
    "duration": 13,
    "start_time": "2024-10-30T20:12:15.818Z"
   },
   {
    "duration": 24,
    "start_time": "2024-10-30T20:15:54.529Z"
   },
   {
    "duration": 20,
    "start_time": "2024-10-30T20:16:13.524Z"
   },
   {
    "duration": 32,
    "start_time": "2024-10-30T20:16:48.739Z"
   },
   {
    "duration": 29,
    "start_time": "2024-10-30T20:16:59.050Z"
   },
   {
    "duration": 21,
    "start_time": "2024-10-30T20:17:32.131Z"
   },
   {
    "duration": 20,
    "start_time": "2024-10-30T20:17:39.795Z"
   },
   {
    "duration": 17,
    "start_time": "2024-10-30T20:17:47.937Z"
   },
   {
    "duration": 2,
    "start_time": "2024-10-30T21:02:38.183Z"
   },
   {
    "duration": 197,
    "start_time": "2024-10-31T15:22:59.953Z"
   },
   {
    "duration": 2848,
    "start_time": "2024-10-31T15:23:07.032Z"
   },
   {
    "duration": 274,
    "start_time": "2024-10-31T15:23:09.883Z"
   },
   {
    "duration": 11,
    "start_time": "2024-10-31T15:23:10.159Z"
   },
   {
    "duration": 6,
    "start_time": "2024-10-31T15:23:10.173Z"
   },
   {
    "duration": 3,
    "start_time": "2024-10-31T15:23:10.745Z"
   },
   {
    "duration": 10,
    "start_time": "2024-10-31T15:23:10.810Z"
   },
   {
    "duration": 6,
    "start_time": "2024-10-31T15:23:10.856Z"
   },
   {
    "duration": 14,
    "start_time": "2024-10-31T15:23:11.713Z"
   },
   {
    "duration": 16,
    "start_time": "2024-10-31T15:23:12.486Z"
   },
   {
    "duration": 29,
    "start_time": "2024-10-31T15:23:12.905Z"
   },
   {
    "duration": 9,
    "start_time": "2024-10-31T15:23:13.154Z"
   },
   {
    "duration": 69,
    "start_time": "2024-10-31T15:23:14.762Z"
   },
   {
    "duration": 15,
    "start_time": "2024-10-31T15:23:15.374Z"
   },
   {
    "duration": 23,
    "start_time": "2024-10-31T15:23:15.817Z"
   },
   {
    "duration": 9,
    "start_time": "2024-10-31T15:23:15.975Z"
   },
   {
    "duration": 26,
    "start_time": "2024-10-31T15:23:17.147Z"
   },
   {
    "duration": 11,
    "start_time": "2024-10-31T15:23:18.059Z"
   },
   {
    "duration": 30,
    "start_time": "2024-10-31T15:23:18.531Z"
   },
   {
    "duration": 10,
    "start_time": "2024-10-31T15:23:18.765Z"
   },
   {
    "duration": 70,
    "start_time": "2024-10-31T15:23:20.089Z"
   },
   {
    "duration": 23,
    "start_time": "2024-10-31T15:23:21.702Z"
   },
   {
    "duration": 6,
    "start_time": "2024-10-31T15:23:24.297Z"
   },
   {
    "duration": 212,
    "start_time": "2024-10-31T15:28:21.769Z"
   },
   {
    "duration": 13,
    "start_time": "2024-10-31T15:28:42.548Z"
   },
   {
    "duration": 19,
    "start_time": "2024-10-31T15:28:56.348Z"
   },
   {
    "duration": 18,
    "start_time": "2024-10-31T15:29:28.240Z"
   },
   {
    "duration": 20,
    "start_time": "2024-10-31T15:29:50.863Z"
   },
   {
    "duration": 15,
    "start_time": "2024-10-31T15:31:07.572Z"
   },
   {
    "duration": 13,
    "start_time": "2024-10-31T15:33:04.597Z"
   },
   {
    "duration": 15,
    "start_time": "2024-10-31T15:33:07.270Z"
   },
   {
    "duration": 16,
    "start_time": "2024-10-31T15:34:00.747Z"
   },
   {
    "duration": 17,
    "start_time": "2024-10-31T15:34:02.737Z"
   },
   {
    "duration": 9,
    "start_time": "2024-10-31T15:34:08.483Z"
   },
   {
    "duration": 12,
    "start_time": "2024-10-31T15:35:19.633Z"
   },
   {
    "duration": 16,
    "start_time": "2024-10-31T15:39:15.924Z"
   },
   {
    "duration": 18,
    "start_time": "2024-10-31T15:39:31.813Z"
   },
   {
    "duration": 19,
    "start_time": "2024-10-31T15:42:26.210Z"
   },
   {
    "duration": 16,
    "start_time": "2024-10-31T15:43:43.998Z"
   },
   {
    "duration": 7,
    "start_time": "2024-10-31T15:45:36.260Z"
   },
   {
    "duration": 13,
    "start_time": "2024-10-31T15:45:41.653Z"
   },
   {
    "duration": 13,
    "start_time": "2024-10-31T15:48:18.978Z"
   },
   {
    "duration": 16,
    "start_time": "2024-10-31T15:48:26.686Z"
   },
   {
    "duration": 15,
    "start_time": "2024-10-31T15:50:23.478Z"
   },
   {
    "duration": 17,
    "start_time": "2024-10-31T15:50:40.413Z"
   },
   {
    "duration": 16,
    "start_time": "2024-10-31T15:50:57.345Z"
   },
   {
    "duration": 15,
    "start_time": "2024-10-31T15:50:59.838Z"
   },
   {
    "duration": 408,
    "start_time": "2024-10-31T15:53:31.378Z"
   },
   {
    "duration": 31,
    "start_time": "2024-10-31T15:55:24.338Z"
   },
   {
    "duration": 20,
    "start_time": "2024-10-31T15:55:47.699Z"
   },
   {
    "duration": 14,
    "start_time": "2024-10-31T15:55:57.275Z"
   },
   {
    "duration": 19,
    "start_time": "2024-10-31T15:56:01.233Z"
   },
   {
    "duration": 13,
    "start_time": "2024-10-31T15:56:03.474Z"
   },
   {
    "duration": 21,
    "start_time": "2024-10-31T15:56:26.730Z"
   },
   {
    "duration": 18,
    "start_time": "2024-10-31T15:56:32.904Z"
   },
   {
    "duration": 20,
    "start_time": "2024-10-31T15:56:34.318Z"
   },
   {
    "duration": 14,
    "start_time": "2024-10-31T16:02:24.927Z"
   },
   {
    "duration": 17,
    "start_time": "2024-10-31T16:02:26.165Z"
   },
   {
    "duration": 13,
    "start_time": "2024-10-31T16:02:27.863Z"
   },
   {
    "duration": 14,
    "start_time": "2024-10-31T16:02:29.913Z"
   },
   {
    "duration": 18,
    "start_time": "2024-10-31T16:02:39.838Z"
   },
   {
    "duration": 18,
    "start_time": "2024-10-31T16:03:12.059Z"
   },
   {
    "duration": 37,
    "start_time": "2024-10-31T16:03:18.033Z"
   },
   {
    "duration": 31,
    "start_time": "2024-10-31T16:03:34.410Z"
   },
   {
    "duration": 35,
    "start_time": "2024-10-31T16:03:38.797Z"
   },
   {
    "duration": 243,
    "start_time": "2024-10-31T16:04:04.418Z"
   },
   {
    "duration": 898,
    "start_time": "2024-10-31T16:04:10.091Z"
   },
   {
    "duration": 246,
    "start_time": "2024-10-31T16:04:10.994Z"
   },
   {
    "duration": 10,
    "start_time": "2024-10-31T16:04:11.243Z"
   },
   {
    "duration": 7,
    "start_time": "2024-10-31T16:04:11.569Z"
   },
   {
    "duration": 3,
    "start_time": "2024-10-31T16:04:13.065Z"
   },
   {
    "duration": 14,
    "start_time": "2024-10-31T16:04:13.421Z"
   },
   {
    "duration": 8,
    "start_time": "2024-10-31T16:04:13.634Z"
   },
   {
    "duration": 15,
    "start_time": "2024-10-31T16:04:14.492Z"
   },
   {
    "duration": 15,
    "start_time": "2024-10-31T16:04:15.016Z"
   },
   {
    "duration": 35,
    "start_time": "2024-10-31T16:04:15.358Z"
   },
   {
    "duration": 11,
    "start_time": "2024-10-31T16:04:15.549Z"
   },
   {
    "duration": 72,
    "start_time": "2024-10-31T16:04:16.462Z"
   },
   {
    "duration": 21,
    "start_time": "2024-10-31T16:04:17.037Z"
   },
   {
    "duration": 21,
    "start_time": "2024-10-31T16:04:17.460Z"
   },
   {
    "duration": 14,
    "start_time": "2024-10-31T16:04:17.659Z"
   },
   {
    "duration": 35,
    "start_time": "2024-10-31T16:04:18.680Z"
   },
   {
    "duration": 10,
    "start_time": "2024-10-31T16:04:19.326Z"
   },
   {
    "duration": 38,
    "start_time": "2024-10-31T16:04:19.770Z"
   },
   {
    "duration": 10,
    "start_time": "2024-10-31T16:04:19.984Z"
   },
   {
    "duration": 73,
    "start_time": "2024-10-31T16:04:21.335Z"
   },
   {
    "duration": 33,
    "start_time": "2024-10-31T16:04:21.955Z"
   },
   {
    "duration": 6,
    "start_time": "2024-10-31T16:04:22.560Z"
   },
   {
    "duration": 16,
    "start_time": "2024-10-31T16:04:23.250Z"
   },
   {
    "duration": 16,
    "start_time": "2024-10-31T16:04:23.588Z"
   },
   {
    "duration": 12,
    "start_time": "2024-10-31T16:04:23.932Z"
   },
   {
    "duration": 16,
    "start_time": "2024-10-31T16:04:24.209Z"
   },
   {
    "duration": 21,
    "start_time": "2024-10-31T16:04:25.256Z"
   },
   {
    "duration": 20,
    "start_time": "2024-10-31T16:04:25.836Z"
   },
   {
    "duration": 704,
    "start_time": "2024-10-31T16:04:30.208Z"
   },
   {
    "duration": 5,
    "start_time": "2024-10-31T16:04:54.439Z"
   },
   {
    "duration": 16,
    "start_time": "2024-10-31T16:11:52.843Z"
   },
   {
    "duration": 2510,
    "start_time": "2024-10-31T19:33:36.709Z"
   },
   {
    "duration": 236,
    "start_time": "2024-10-31T19:33:39.222Z"
   },
   {
    "duration": 9,
    "start_time": "2024-10-31T19:33:39.460Z"
   },
   {
    "duration": 5,
    "start_time": "2024-10-31T19:33:39.471Z"
   },
   {
    "duration": 2,
    "start_time": "2024-10-31T19:33:40.132Z"
   },
   {
    "duration": 9,
    "start_time": "2024-10-31T19:33:40.535Z"
   },
   {
    "duration": 6,
    "start_time": "2024-10-31T19:33:40.711Z"
   },
   {
    "duration": 13,
    "start_time": "2024-10-31T19:33:41.651Z"
   },
   {
    "duration": 12,
    "start_time": "2024-10-31T19:33:42.202Z"
   },
   {
    "duration": 27,
    "start_time": "2024-10-31T19:33:42.574Z"
   },
   {
    "duration": 9,
    "start_time": "2024-10-31T19:33:42.788Z"
   },
   {
    "duration": 47,
    "start_time": "2024-10-31T19:33:43.676Z"
   },
   {
    "duration": 16,
    "start_time": "2024-10-31T19:33:44.200Z"
   },
   {
    "duration": 17,
    "start_time": "2024-10-31T19:33:44.608Z"
   },
   {
    "duration": 7,
    "start_time": "2024-10-31T19:33:44.815Z"
   },
   {
    "duration": 23,
    "start_time": "2024-10-31T19:33:45.742Z"
   },
   {
    "duration": 8,
    "start_time": "2024-10-31T19:33:46.308Z"
   },
   {
    "duration": 23,
    "start_time": "2024-10-31T19:33:46.720Z"
   },
   {
    "duration": 8,
    "start_time": "2024-10-31T19:33:46.875Z"
   },
   {
    "duration": 52,
    "start_time": "2024-10-31T19:33:47.830Z"
   },
   {
    "duration": 18,
    "start_time": "2024-10-31T19:33:48.406Z"
   },
   {
    "duration": 5,
    "start_time": "2024-10-31T19:33:48.977Z"
   },
   {
    "duration": 12,
    "start_time": "2024-10-31T19:33:49.407Z"
   },
   {
    "duration": 15,
    "start_time": "2024-10-31T19:33:49.619Z"
   },
   {
    "duration": 8,
    "start_time": "2024-10-31T19:33:49.816Z"
   },
   {
    "duration": 11,
    "start_time": "2024-10-31T19:33:50.022Z"
   },
   {
    "duration": 16,
    "start_time": "2024-10-31T19:33:50.480Z"
   },
   {
    "duration": 17,
    "start_time": "2024-10-31T19:33:50.746Z"
   },
   {
    "duration": 15,
    "start_time": "2024-10-31T19:33:51.376Z"
   },
   {
    "duration": 9,
    "start_time": "2024-10-31T19:40:28.728Z"
   },
   {
    "duration": 9,
    "start_time": "2024-10-31T19:40:38.250Z"
   },
   {
    "duration": 9,
    "start_time": "2024-10-31T19:42:14.332Z"
   },
   {
    "duration": 16,
    "start_time": "2024-10-31T19:48:25.491Z"
   },
   {
    "duration": 18,
    "start_time": "2024-10-31T19:48:29.602Z"
   },
   {
    "duration": 132,
    "start_time": "2024-10-31T19:48:50.140Z"
   },
   {
    "duration": 24,
    "start_time": "2024-10-31T19:48:54.947Z"
   },
   {
    "duration": 15,
    "start_time": "2024-10-31T19:49:02.205Z"
   },
   {
    "duration": 16,
    "start_time": "2024-10-31T19:49:05.829Z"
   },
   {
    "duration": 14,
    "start_time": "2024-10-31T19:49:13.395Z"
   },
   {
    "duration": 5,
    "start_time": "2024-10-31T20:05:46.061Z"
   },
   {
    "duration": 6,
    "start_time": "2024-10-31T20:06:06.570Z"
   },
   {
    "duration": 125,
    "start_time": "2024-10-31T20:06:17.847Z"
   },
   {
    "duration": 174,
    "start_time": "2024-10-31T20:06:47.557Z"
   },
   {
    "duration": 206,
    "start_time": "2024-10-31T20:12:49.523Z"
   },
   {
    "duration": 78,
    "start_time": "2024-10-31T20:16:00.466Z"
   },
   {
    "duration": 188,
    "start_time": "2024-10-31T20:16:42.740Z"
   },
   {
    "duration": 197,
    "start_time": "2024-10-31T20:16:50.972Z"
   },
   {
    "duration": 215,
    "start_time": "2024-10-31T20:17:05.653Z"
   },
   {
    "duration": 193,
    "start_time": "2024-10-31T20:17:17.297Z"
   },
   {
    "duration": 197,
    "start_time": "2024-10-31T20:22:45.769Z"
   },
   {
    "duration": 181,
    "start_time": "2024-10-31T20:24:36.987Z"
   },
   {
    "duration": 6,
    "start_time": "2024-10-31T20:27:31.039Z"
   },
   {
    "duration": 118,
    "start_time": "2024-10-31T20:28:59.736Z"
   },
   {
    "duration": 2418,
    "start_time": "2024-11-05T17:14:04.276Z"
   },
   {
    "duration": 228,
    "start_time": "2024-11-05T17:14:06.696Z"
   },
   {
    "duration": 9,
    "start_time": "2024-11-05T17:14:06.926Z"
   },
   {
    "duration": 5,
    "start_time": "2024-11-05T17:14:06.937Z"
   },
   {
    "duration": 2,
    "start_time": "2024-11-05T17:14:08.022Z"
   },
   {
    "duration": 9,
    "start_time": "2024-11-05T17:14:08.461Z"
   },
   {
    "duration": 6,
    "start_time": "2024-11-05T17:14:08.608Z"
   },
   {
    "duration": 13,
    "start_time": "2024-11-05T17:14:09.640Z"
   },
   {
    "duration": 14,
    "start_time": "2024-11-05T17:14:10.217Z"
   },
   {
    "duration": 34,
    "start_time": "2024-11-05T17:14:10.596Z"
   },
   {
    "duration": 10,
    "start_time": "2024-11-05T17:14:10.774Z"
   },
   {
    "duration": 44,
    "start_time": "2024-11-05T17:14:11.971Z"
   },
   {
    "duration": 17,
    "start_time": "2024-11-05T17:14:12.741Z"
   },
   {
    "duration": 17,
    "start_time": "2024-11-05T17:14:13.189Z"
   },
   {
    "duration": 7,
    "start_time": "2024-11-05T17:14:13.526Z"
   },
   {
    "duration": 24,
    "start_time": "2024-11-05T17:14:14.464Z"
   },
   {
    "duration": 9,
    "start_time": "2024-11-05T17:14:15.134Z"
   },
   {
    "duration": 25,
    "start_time": "2024-11-05T17:14:15.578Z"
   },
   {
    "duration": 8,
    "start_time": "2024-11-05T17:14:15.764Z"
   },
   {
    "duration": 49,
    "start_time": "2024-11-05T17:14:17.058Z"
   },
   {
    "duration": 231,
    "start_time": "2024-11-05T17:14:17.706Z"
   },
   {
    "duration": 18,
    "start_time": "2024-11-05T17:14:27.511Z"
   },
   {
    "duration": 5,
    "start_time": "2024-11-05T17:14:31.297Z"
   },
   {
    "duration": 12,
    "start_time": "2024-11-05T17:14:32.728Z"
   },
   {
    "duration": 14,
    "start_time": "2024-11-05T17:14:33.397Z"
   },
   {
    "duration": 9,
    "start_time": "2024-11-05T17:14:34.109Z"
   },
   {
    "duration": 11,
    "start_time": "2024-11-05T17:14:35.940Z"
   },
   {
    "duration": 20,
    "start_time": "2024-11-05T17:14:37.270Z"
   },
   {
    "duration": 17,
    "start_time": "2024-11-05T17:14:37.772Z"
   },
   {
    "duration": 14,
    "start_time": "2024-11-05T17:14:38.645Z"
   },
   {
    "duration": 225,
    "start_time": "2024-11-05T17:14:44.763Z"
   },
   {
    "duration": 176,
    "start_time": "2024-11-05T17:14:46.052Z"
   },
   {
    "duration": 7,
    "start_time": "2024-11-05T17:14:52.310Z"
   },
   {
    "duration": 118,
    "start_time": "2024-11-05T17:14:55.672Z"
   },
   {
    "duration": 234,
    "start_time": "2024-11-05T17:16:12.416Z"
   },
   {
    "duration": 174,
    "start_time": "2024-11-05T17:17:04.373Z"
   },
   {
    "duration": 186,
    "start_time": "2024-11-05T17:20:01.115Z"
   },
   {
    "duration": 207,
    "start_time": "2024-11-05T17:20:13.345Z"
   },
   {
    "duration": 18,
    "start_time": "2024-11-05T17:32:18.315Z"
   },
   {
    "duration": 175,
    "start_time": "2024-11-05T17:32:26.661Z"
   },
   {
    "duration": 178,
    "start_time": "2024-11-05T17:32:41.062Z"
   },
   {
    "duration": 5,
    "start_time": "2024-11-05T17:36:03.199Z"
   },
   {
    "duration": 172,
    "start_time": "2024-11-05T17:36:21.903Z"
   },
   {
    "duration": 166,
    "start_time": "2024-11-05T17:36:41.972Z"
   },
   {
    "duration": 166,
    "start_time": "2024-11-05T17:37:08.618Z"
   },
   {
    "duration": 165,
    "start_time": "2024-11-05T17:37:34.570Z"
   },
   {
    "duration": 239,
    "start_time": "2024-11-05T17:37:48.277Z"
   },
   {
    "duration": 163,
    "start_time": "2024-11-05T17:38:01.390Z"
   },
   {
    "duration": 165,
    "start_time": "2024-11-05T17:41:18.487Z"
   },
   {
    "duration": 169,
    "start_time": "2024-11-05T17:42:42.193Z"
   },
   {
    "duration": 191,
    "start_time": "2024-11-05T17:42:47.067Z"
   },
   {
    "duration": 174,
    "start_time": "2024-11-05T17:49:11.409Z"
   },
   {
    "duration": 181,
    "start_time": "2024-11-05T17:51:36.868Z"
   },
   {
    "duration": 168,
    "start_time": "2024-11-05T17:53:26.118Z"
   },
   {
    "duration": 7,
    "start_time": "2024-11-05T17:59:51.972Z"
   },
   {
    "duration": 19,
    "start_time": "2024-11-05T17:59:57.117Z"
   },
   {
    "duration": 6,
    "start_time": "2024-11-05T18:00:19.673Z"
   },
   {
    "duration": 28,
    "start_time": "2024-11-05T18:22:42.316Z"
   },
   {
    "duration": 32,
    "start_time": "2024-11-05T18:23:26.469Z"
   },
   {
    "duration": 28,
    "start_time": "2024-11-05T18:23:40.410Z"
   },
   {
    "duration": 24,
    "start_time": "2024-11-05T18:24:12.108Z"
   },
   {
    "duration": 24,
    "start_time": "2024-11-05T18:25:46.697Z"
   },
   {
    "duration": 812,
    "start_time": "2024-11-05T18:26:00.931Z"
   },
   {
    "duration": 197,
    "start_time": "2024-11-05T18:26:01.746Z"
   },
   {
    "duration": 9,
    "start_time": "2024-11-05T18:26:02.213Z"
   },
   {
    "duration": 5,
    "start_time": "2024-11-05T18:26:02.550Z"
   },
   {
    "duration": 2,
    "start_time": "2024-11-05T18:26:04.203Z"
   },
   {
    "duration": 9,
    "start_time": "2024-11-05T18:26:04.560Z"
   },
   {
    "duration": 7,
    "start_time": "2024-11-05T18:26:04.719Z"
   },
   {
    "duration": 16,
    "start_time": "2024-11-05T18:26:05.938Z"
   },
   {
    "duration": 12,
    "start_time": "2024-11-05T18:26:06.480Z"
   },
   {
    "duration": 27,
    "start_time": "2024-11-05T18:26:06.814Z"
   },
   {
    "duration": 9,
    "start_time": "2024-11-05T18:26:06.977Z"
   },
   {
    "duration": 49,
    "start_time": "2024-11-05T18:26:07.909Z"
   },
   {
    "duration": 16,
    "start_time": "2024-11-05T18:26:08.468Z"
   },
   {
    "duration": 16,
    "start_time": "2024-11-05T18:26:08.835Z"
   },
   {
    "duration": 7,
    "start_time": "2024-11-05T18:26:09.015Z"
   },
   {
    "duration": 24,
    "start_time": "2024-11-05T18:26:10.025Z"
   },
   {
    "duration": 8,
    "start_time": "2024-11-05T18:26:10.693Z"
   },
   {
    "duration": 24,
    "start_time": "2024-11-05T18:26:11.143Z"
   },
   {
    "duration": 9,
    "start_time": "2024-11-05T18:26:11.364Z"
   },
   {
    "duration": 47,
    "start_time": "2024-11-05T18:26:12.579Z"
   },
   {
    "duration": 18,
    "start_time": "2024-11-05T18:26:13.603Z"
   },
   {
    "duration": 6,
    "start_time": "2024-11-05T18:26:14.589Z"
   },
   {
    "duration": 13,
    "start_time": "2024-11-05T18:26:15.497Z"
   },
   {
    "duration": 14,
    "start_time": "2024-11-05T18:26:16.043Z"
   },
   {
    "duration": 9,
    "start_time": "2024-11-05T18:26:16.568Z"
   },
   {
    "duration": 12,
    "start_time": "2024-11-05T18:26:17.066Z"
   },
   {
    "duration": 16,
    "start_time": "2024-11-05T18:26:18.141Z"
   },
   {
    "duration": 15,
    "start_time": "2024-11-05T18:26:21.955Z"
   },
   {
    "duration": 15,
    "start_time": "2024-11-05T18:26:25.800Z"
   },
   {
    "duration": 206,
    "start_time": "2024-11-05T18:26:26.660Z"
   },
   {
    "duration": 188,
    "start_time": "2024-11-05T18:26:26.919Z"
   },
   {
    "duration": 8,
    "start_time": "2024-11-05T18:26:27.419Z"
   },
   {
    "duration": 122,
    "start_time": "2024-11-05T18:26:27.702Z"
   },
   {
    "duration": 170,
    "start_time": "2024-11-05T18:26:28.721Z"
   },
   {
    "duration": 228,
    "start_time": "2024-11-05T18:26:28.972Z"
   },
   {
    "duration": 173,
    "start_time": "2024-11-05T18:26:36.249Z"
   },
   {
    "duration": 7,
    "start_time": "2024-11-05T18:26:38.975Z"
   },
   {
    "duration": 26,
    "start_time": "2024-11-05T18:27:25.610Z"
   },
   {
    "duration": 668,
    "start_time": "2024-11-05T18:31:04.942Z"
   },
   {
    "duration": 12,
    "start_time": "2024-11-05T18:31:24.816Z"
   },
   {
    "duration": 3124,
    "start_time": "2024-11-05T21:33:45.023Z"
   },
   {
    "duration": 260,
    "start_time": "2024-11-05T21:33:48.153Z"
   },
   {
    "duration": 17,
    "start_time": "2024-11-05T21:33:48.416Z"
   },
   {
    "duration": 7,
    "start_time": "2024-11-05T21:33:48.437Z"
   },
   {
    "duration": 3,
    "start_time": "2024-11-05T21:33:48.446Z"
   },
   {
    "duration": 11,
    "start_time": "2024-11-05T21:33:48.451Z"
   },
   {
    "duration": 6,
    "start_time": "2024-11-05T21:33:48.465Z"
   },
   {
    "duration": 13,
    "start_time": "2024-11-05T21:33:48.474Z"
   },
   {
    "duration": 12,
    "start_time": "2024-11-05T21:33:48.488Z"
   },
   {
    "duration": 34,
    "start_time": "2024-11-05T21:33:48.524Z"
   },
   {
    "duration": 10,
    "start_time": "2024-11-05T21:33:48.560Z"
   },
   {
    "duration": 65,
    "start_time": "2024-11-05T21:33:48.572Z"
   },
   {
    "duration": 18,
    "start_time": "2024-11-05T21:33:48.639Z"
   },
   {
    "duration": 20,
    "start_time": "2024-11-05T21:33:48.659Z"
   },
   {
    "duration": 7,
    "start_time": "2024-11-05T21:33:48.681Z"
   },
   {
    "duration": 53,
    "start_time": "2024-11-05T21:33:48.690Z"
   },
   {
    "duration": 15,
    "start_time": "2024-11-05T21:33:48.746Z"
   },
   {
    "duration": 24,
    "start_time": "2024-11-05T21:33:48.764Z"
   },
   {
    "duration": 8,
    "start_time": "2024-11-05T21:33:48.790Z"
   },
   {
    "duration": 82,
    "start_time": "2024-11-05T21:33:48.801Z"
   },
   {
    "duration": 17,
    "start_time": "2024-11-05T21:33:48.885Z"
   },
   {
    "duration": 4,
    "start_time": "2024-11-05T21:33:48.904Z"
   },
   {
    "duration": 16,
    "start_time": "2024-11-05T21:33:48.925Z"
   },
   {
    "duration": 20,
    "start_time": "2024-11-05T21:33:48.943Z"
   },
   {
    "duration": 9,
    "start_time": "2024-11-05T21:33:48.965Z"
   },
   {
    "duration": 10,
    "start_time": "2024-11-05T21:33:48.976Z"
   },
   {
    "duration": 57,
    "start_time": "2024-11-05T21:33:48.988Z"
   },
   {
    "duration": 19,
    "start_time": "2024-11-05T21:33:49.050Z"
   },
   {
    "duration": 19,
    "start_time": "2024-11-05T21:33:49.071Z"
   },
   {
    "duration": 254,
    "start_time": "2024-11-05T21:33:49.091Z"
   },
   {
    "duration": 202,
    "start_time": "2024-11-05T21:33:49.348Z"
   },
   {
    "duration": 8,
    "start_time": "2024-11-05T21:33:49.552Z"
   },
   {
    "duration": 136,
    "start_time": "2024-11-05T21:33:49.562Z"
   },
   {
    "duration": 183,
    "start_time": "2024-11-05T21:33:49.699Z"
   },
   {
    "duration": 190,
    "start_time": "2024-11-05T21:33:49.884Z"
   },
   {
    "duration": 230,
    "start_time": "2024-11-05T21:33:50.076Z"
   },
   {
    "duration": 7,
    "start_time": "2024-11-05T21:33:50.308Z"
   },
   {
    "duration": 14,
    "start_time": "2024-11-05T21:33:50.325Z"
   },
   {
    "duration": 158,
    "start_time": "2024-11-06T20:39:56.620Z"
   },
   {
    "duration": 2546,
    "start_time": "2024-11-06T20:40:06.654Z"
   },
   {
    "duration": 234,
    "start_time": "2024-11-06T20:40:09.203Z"
   },
   {
    "duration": 9,
    "start_time": "2024-11-06T20:40:09.439Z"
   },
   {
    "duration": 6,
    "start_time": "2024-11-06T20:40:09.700Z"
   },
   {
    "duration": 2,
    "start_time": "2024-11-06T20:40:11.384Z"
   },
   {
    "duration": 9,
    "start_time": "2024-11-06T20:40:11.716Z"
   },
   {
    "duration": 6,
    "start_time": "2024-11-06T20:40:11.904Z"
   },
   {
    "duration": 14,
    "start_time": "2024-11-06T20:40:12.786Z"
   },
   {
    "duration": 16,
    "start_time": "2024-11-06T20:40:17.313Z"
   },
   {
    "duration": 28,
    "start_time": "2024-11-06T20:40:19.408Z"
   },
   {
    "duration": 9,
    "start_time": "2024-11-06T20:40:20.875Z"
   },
   {
    "duration": 49,
    "start_time": "2024-11-06T20:40:27.764Z"
   },
   {
    "duration": 17,
    "start_time": "2024-11-06T20:40:29.518Z"
   },
   {
    "duration": 16,
    "start_time": "2024-11-06T20:40:32.462Z"
   },
   {
    "duration": 8,
    "start_time": "2024-11-06T20:40:32.919Z"
   },
   {
    "duration": 23,
    "start_time": "2024-11-06T20:40:36.769Z"
   },
   {
    "duration": 9,
    "start_time": "2024-11-06T20:40:40.847Z"
   },
   {
    "duration": 24,
    "start_time": "2024-11-06T20:40:44.298Z"
   },
   {
    "duration": 9,
    "start_time": "2024-11-06T20:40:45.973Z"
   },
   {
    "duration": 59,
    "start_time": "2024-11-06T20:40:57.170Z"
   },
   {
    "duration": 23,
    "start_time": "2024-11-06T20:40:59.865Z"
   },
   {
    "duration": 5,
    "start_time": "2024-11-06T20:41:07.500Z"
   },
   {
    "duration": 12,
    "start_time": "2024-11-06T20:41:15.057Z"
   },
   {
    "duration": 12,
    "start_time": "2024-11-06T20:41:15.658Z"
   },
   {
    "duration": 9,
    "start_time": "2024-11-06T20:41:16.073Z"
   },
   {
    "duration": 12,
    "start_time": "2024-11-06T20:41:17.590Z"
   },
   {
    "duration": 16,
    "start_time": "2024-11-06T20:41:18.313Z"
   },
   {
    "duration": 15,
    "start_time": "2024-11-06T20:41:18.813Z"
   },
   {
    "duration": 13,
    "start_time": "2024-11-06T20:41:35.982Z"
   },
   {
    "duration": 128,
    "start_time": "2024-11-06T20:48:57.625Z"
   },
   {
    "duration": 180,
    "start_time": "2024-11-06T20:49:53.402Z"
   },
   {
    "duration": 168,
    "start_time": "2024-11-06T20:49:53.859Z"
   },
   {
    "duration": 173,
    "start_time": "2024-11-06T20:50:09.555Z"
   },
   {
    "duration": 8,
    "start_time": "2024-11-06T20:53:07.728Z"
   },
   {
    "duration": 7,
    "start_time": "2024-11-06T20:55:01.175Z"
   },
   {
    "duration": 10,
    "start_time": "2024-11-06T20:55:26.299Z"
   }
  ],
  "kernelspec": {
   "display_name": "Python 3 (ipykernel)",
   "language": "python",
   "name": "python3"
  },
  "language_info": {
   "codemirror_mode": {
    "name": "ipython",
    "version": 3
   },
   "file_extension": ".py",
   "mimetype": "text/x-python",
   "name": "python",
   "nbconvert_exporter": "python",
   "pygments_lexer": "ipython3",
   "version": "3.9.19"
  },
  "toc": {
   "base_numbering": 1,
   "nav_menu": {},
   "number_sections": true,
   "sideBar": true,
   "skip_h1_title": false,
   "title_cell": "Table of Contents",
   "title_sidebar": "Contents",
   "toc_cell": false,
   "toc_position": {
    "height": "calc(100% - 180px)",
    "left": "10px",
    "top": "150px",
    "width": "418px"
   },
   "toc_section_display": true,
   "toc_window_display": true
  }
 },
 "nbformat": 4,
 "nbformat_minor": 2
}
