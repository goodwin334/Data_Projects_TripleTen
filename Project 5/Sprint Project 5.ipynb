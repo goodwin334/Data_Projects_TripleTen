{
 "cells": [
  {
   "cell_type": "code",
   "execution_count": null,
   "metadata": {},
   "outputs": [],
   "source": [
    "import pandas as pd\n",
    "import numpy as np\n",
    "import scipy \n",
    "import matplotlib.pyplot as plt\n",
    "from scipy.stats import ttest_ind\n",
    "\n",
    "games = pd.read_csv('/datasets/games.csv')\n",
    "games.columns = games.columns.str.lower()\n",
    "games['year_of_release'] = games['year_of_release'].fillna(0)\n",
    "games['year_of_release'] = games['year_of_release'].astype(int)\n",
    "games['user_score'] = games['user_score'].replace('tbd', np.nan)\n",
    "duplicates = games.duplicated()\n",
    "duplicate_count = games.duplicated().sum()\n",
    "print(duplicate_count)\n",
    "print()\n",
    "print(games)\n",
    "print()\n",
    "print(games.dtypes)"
   ]
  },
  {
   "cell_type": "markdown",
   "metadata": {},
   "source": [
    "#Starting out I am importing extensions I feel like I will need to use for this analysis then putting the information into a dataframe. From there I use lower function to put every column header in lower case. The only column type I am changing is the year of release I am changing that to an integer to get rid of the decimal, I filled the NA with 0 before I did that. I am going to leave the scores and rating columns that do not have values as NaN, I do not want to switch them to 0 because that can mess with the averages of numbers later on in the analysis. I changed the values with TBD in user score to blank, since they technically havent been rated I did not want to fill it with 0 and I didnt want TBD written out for some columns.\n",
    "\n",
    "I believe there is missing values in ratings and scores because the games were probably small or unpopular and did not get enough attention to warrant a rating or score."
   ]
  },
  {
   "cell_type": "code",
   "execution_count": null,
   "metadata": {},
   "outputs": [],
   "source": [
    "games['total_sales'] = (games['na_sales'] + games['eu_sales'] + games['jp_sales'] + games['other_sales'])\n",
    "print(games)"
   ]
  },
  {
   "cell_type": "code",
   "execution_count": null,
   "metadata": {},
   "outputs": [],
   "source": [
    "filtered_games = games[games['year_of_release'] != 0]\n",
    "released_games_per_year = filtered_games['year_of_release'].value_counts().sort_index()\n",
    "\n",
    "plt.figure(figsize=(12,6))\n",
    "plt.bar(released_games_per_year.index, released_games_per_year.values, color='black')\n",
    "plt.title('Number of Games Released Each Year(excludes blank release dates)', fontsize=14)\n",
    "plt.xlabel('Year of Release', fontsize=12)\n",
    "plt.ylabel('Number of Games', fontsize=12)\n",
    "plt.xticks(rotation=45, fontsize=10)\n",
    "plt.grid(axis='y', linestyle='--', alpha=0.7)\n",
    "plt.show()\n"
   ]
  },
  {
   "cell_type": "markdown",
   "metadata": {},
   "source": [
    "#Created a dataframe that excludes games missing data on release year. Then summed the values for each year, reset the index and printed it to a graph.\n",
    "\n",
    "#It appears the most popular time for releasing games was the end of 2000s decade and since then the numbers have fallen off drastically. The numbers peaked in 2008 and 2009 when there was around 1400 games released each year but has fallen down to below 600 now in 2016."
   ]
  },
  {
   "cell_type": "code",
   "execution_count": null,
   "metadata": {},
   "outputs": [],
   "source": [
    "platform_sales = (filtered_games.groupby('platform')['total_sales'].sum().sort_values(ascending=False))\n",
    "top_10_platforms = platform_sales.head(10).index\n",
    "top_platforms_data = filtered_games[filtered_games['platform'].isin(top_10_platforms)]\n",
    "\n",
    "sales_by_platform_year = top_platforms_data.pivot_table(index='year_of_release', columns='platform', values='total_sales', aggfunc='sum', fill_value=0)\n",
    "\n",
    "plt.figure(figsize=(15, 8))\n",
    "sales_by_platform_year.plot(kind='bar', stacked=True, figsize=(15,8))\n",
    "\n",
    "plt.title('Total Sales by Platform by Year', fontsize=16)\n",
    "plt.xlabel('Year of Release', fontsize=14)\n",
    "plt.ylabel('Total Sales (in millions)', fontsize=14)\n",
    "plt.xticks(rotation=45)\n",
    "plt.legend(title='Platform', bbox_to_anchor=(1.05, 1), loc='upper left')\n",
    "plt.grid(axis='y', linestyle='--', alpha=0.7)\n",
    "plt.tight_layout()  \n",
    "plt.show()"
   ]
  },
  {
   "cell_type": "markdown",
   "metadata": {},
   "source": [
    "#Judging from the data of the platforms with the 10 highest sales I would say on average a platform has about 9 years of use. Most peak in usage about 3 to 4 years in then from there the number of games being released tends to fall off. The GameBoy looks like the only one to survive for over 15 years, going from 1985 and still having games released for it in 2001.\n",
    "\n",
    "#I am going to take data from 2002 onward and 2012 onwardgiving me two data sets to reference. Before 2002 video games were not nearly as popular as they are now and all of the games released on those platforms are drastically different than the videog games being released now. From 2002 onward I will be able to analyze the large growth from 2004 to 2009 and also the decline after that. The data from 2012 onward will only include new data which I think will be the best for forecasting out in the future since those games and platforms will be the most similar to the ones being released now.\n",
    "\n",
    "#For the first question on what platforms are leading in sales and which ones are growing and shrinking I am only going to use data from the last 5 years. This will allow me to see which platforms are currently on the growth trend and which ones are currently declining."
   ]
  },
  {
   "cell_type": "code",
   "execution_count": null,
   "metadata": {},
   "outputs": [],
   "source": [
    "recent_games = filtered_games[filtered_games['year_of_release'] > 2011]\n",
    "top_platforms = (recent_games.groupby('platform')['total_sales'].sum().sort_values(ascending=False))\n",
    "top_10_platforms_recent = top_platforms.head(10).index\n",
    "recent_top_10_platforms = recent_games[recent_games['platform'].isin(top_10_platforms_recent)]\n",
    "\n",
    "sales_by_platform_year_recent = recent_top_10_platforms.pivot_table(index='year_of_release', columns='platform', values='total_sales', aggfunc='sum', fill_value=0)\n",
    "plt.figure(figsize=(15, 8))\n",
    "sales_by_platform_year_recent.plot(kind='bar', stacked=True, figsize=(15,8))\n",
    "\n",
    "plt.title('Total Sales by Platform by Year', fontsize=16)\n",
    "plt.xlabel('Year of Release', fontsize=14)\n",
    "plt.ylabel('Total Sales (in millions)', fontsize=14)\n",
    "plt.xticks(rotation=45)\n",
    "plt.legend(title='Platform', bbox_to_anchor=(1.05, 1), loc='upper left')\n",
    "plt.grid(axis='y', linestyle='--', alpha=0.7)\n",
    "plt.tight_layout()  \n",
    "plt.show()"
   ]
  },
  {
   "cell_type": "code",
   "execution_count": null,
   "metadata": {},
   "outputs": [],
   "source": [
    "last_three_years = recent_games[recent_games['year_of_release'].isin([2014, 2015, 2016])]\n",
    "\n",
    "games_count_by_year = last_three_years.groupby(['platform', 'year_of_release'])['name'].count().unstack(fill_value=0)\n",
    "games_count_by_year['growth'] = games_count_by_year[2016] - games_count_by_year[2015]\n",
    "games_count_by_year['growth_1'] = games_count_by_year[2015] - games_count_by_year[2014]\n",
    "platform_growth = games_count_by_year['growth'].sort_values(ascending=False)\n",
    "platform_growth = platform_growth.reset_index()\n",
    "print(platform_growth)\n",
    "\n",
    "platform_growth_1 = games_count_by_year['growth_1'].sort_values(ascending=False)\n",
    "platform_growth_1 = platform_growth_1.reset_index()\n",
    "print(platform_growth_1)"
   ]
  },
  {
   "cell_type": "markdown",
   "metadata": {},
   "source": [
    "#The platforms with the most sales recently are the PS4, the XboxOne and the 3DS in that order. The platforms with the most growth in releasing games over the last year are the PS4, XboxOne then the PC in that order. With the largest sales amount and most growth in games being released on it the PS4 looks like the best option but I would be more interested in seeing which consoles are the most popular and currently have the most sales. That would allow us to see where there is potential. It is a possibility that since the PS4 has the most games being sold on it and most growth in games the market could be saturated and their could be to much competition."
   ]
  },
  {
   "cell_type": "code",
   "execution_count": null,
   "metadata": {},
   "outputs": [],
   "source": [
    "plt.figure(figsize=(15, 8))\n",
    "games.boxplot(column='total_sales', by='platform', vert=False, grid=False, showfliers=False)\n",
    "plt.title('Global Sales Distribution by Platform', fontsize=16)\n",
    "plt.xlabel('Global Sales (in millions)', fontsize=14)\n",
    "plt.ylabel('Platform', fontsize=14)\n",
    "plt.suptitle('')  # Remove the automatic subplot title\n",
    "plt.grid(axis='x', linestyle='--', alpha=0.7)\n",
    "plt.show()"
   ]
  },
  {
   "cell_type": "code",
   "execution_count": null,
   "metadata": {},
   "outputs": [],
   "source": [
    "games_per_platform = games.groupby('platform')['name'].count().sort_values(ascending=False)\n",
    "\n",
    "plt.figure(figsize=(15, 8))\n",
    "games_per_platform.plot(kind='bar')\n",
    "plt.title('Total Number of Games Released per Platform', fontsize=16)\n",
    "plt.xlabel('Platform', fontsize=14)\n",
    "plt.ylabel('Number of Games Released', fontsize=14)\n",
    "plt.xticks(rotation=45)\n",
    "plt.grid(axis='y', linestyle='--', alpha=0.7)\n",
    "plt.show()"
   ]
  },
  {
   "cell_type": "code",
   "execution_count": null,
   "metadata": {},
   "outputs": [],
   "source": [
    "highest_selling_games = games.loc[games.groupby('platform')['total_sales'].idxmax()]\n",
    "highest_selling_games = highest_selling_games.sort_values(by='total_sales', ascending=False)\n",
    "plt.figure(figsize=(15, 8))\n",
    "bars = plt.bar(highest_selling_games['platform'], highest_selling_games['total_sales'])\n",
    "for bar, game_name in zip(bars, highest_selling_games['name']):\n",
    "    plt.text(\n",
    "        bar.get_x() + bar.get_width() / 2,\n",
    "        bar.get_height() + 0.5,\n",
    "        game_name,\n",
    "        ha='center',\n",
    "        va='bottom',\n",
    "        fontsize=9,\n",
    "        rotation=90\n",
    "    )\n",
    "\n",
    "plt.title('Highest-Selling Game for Each Platform', fontsize=16)\n",
    "plt.xlabel('Platform', fontsize=14)\n",
    "plt.ylabel('Global Sales (in millions)', fontsize=14)\n",
    "plt.xticks(rotation=45)\n",
    "plt.grid(axis='y', linestyle='--', alpha=0.7)\n",
    "plt.tight_layout()\n",
    "plt.show()"
   ]
  },
  {
   "cell_type": "markdown",
   "metadata": {},
   "source": [
    "There is substantial differences in sales between platforms. The platforms that show a higher median tend to be the ones with fewer games released and a few extremely popular high selling games. NES and GameBoy are perfect examples of this of the highest selling games of all time per platform the are #2 and #3 on the list and both have less than 100 games ever released. This leads to wide variation in both of their box plots.\n",
    "\n",
    "#For the code I first created a box plot to get an idea of the median sales for each platform along with the variation of the sales numbers for their games. Once I saw that I was curious which platforms had sold the most games so I plotted total sales per platform to get an idea for which ones had lower values which would cause more variation. Once I saw that data I was curious what the highest selling game was on each platform because some of the box plots were far wider than others. This allowed me to see which platforms did not release very many games and also which platforms had games that sold extremely well."
   ]
  },
  {
   "cell_type": "code",
   "execution_count": null,
   "metadata": {},
   "outputs": [],
   "source": [
    "ps4_games = games[games['platform'] == 'PS4'].copy()\n",
    "ps4_games['user_score'] = pd.to_numeric(ps4_games['user_score'], errors='coerce')\n",
    "ps4_games['critic_score'] = pd.to_numeric(ps4_games['critic_score'], errors='coerce')\n",
    "ps4_games['normalized_critic_score'] = ps4_games['critic_score'] / 10\n",
    "ps4_games['average_score'] = (ps4_games['user_score'] + ps4_games['normalized_critic_score'] / 2)\n",
    "\n",
    "#Building scatterplot of user score to sales\n",
    "plt.figure(figsize=(15, 5))\n",
    "plt.subplot(1, 3, 1)\n",
    "plt.scatter(ps4_games['user_score'], ps4_games['total_sales'], alpha=0.5)\n",
    "plt.title('User Reviews vs. Sales (PS4)')\n",
    "plt.xlabel('User Score')\n",
    "plt.ylabel('Total Sales ($M)')\n",
    "\n",
    "#Building scatterplot of critic score to sales\n",
    "plt.subplot(1, 3, 2)\n",
    "plt.scatter(ps4_games['critic_score'], ps4_games['total_sales'], alpha=0.5)\n",
    "plt.title('Critic Reviews vs. Sales (PS4)')\n",
    "plt.xlabel('Critic Score')\n",
    "plt.ylabel('Total Sales ($M)')\n",
    "\n",
    "#Building scatterplot of average score of user and critic score to sales\n",
    "plt.subplot(1, 3, 3)\n",
    "plt.scatter(ps4_games['average_score'], ps4_games['total_sales'], alpha=0.5)\n",
    "plt.title('Average Reviews vs. Sales (PS4)')\n",
    "plt.xlabel('Average Score')\n",
    "plt.ylabel('Total Sales ($M)')\n",
    "plt.tight_layout()\n",
    "plt.show()\n",
    "\n",
    "# Calculate correlation for User Reviews vs. Sales\n",
    "user_score_corr = ps4_games[['user_score', 'total_sales']].corr()\n",
    "print(f\"Correlation between User Score and Sales: {user_score_corr}\")\n",
    "\n",
    "# Calculate correlation for Professional Reviews vs. Sales\n",
    "critic_score_corr = ps4_games[['critic_score', 'total_sales']].corr()\n",
    "print(f\"Correlation between Critic Score and Sales: {critic_score_corr}\")\n",
    "\n",
    "# Calculate correlation for Average Reviews vs. Sales\n",
    "average_score_corr = ps4_games[['average_score', 'total_sales']].corr()\n",
    "print(f\"Correlation between Average Score and Sales: {average_score_corr}\")"
   ]
  },
  {
   "cell_type": "markdown",
   "metadata": {},
   "source": [
    "#For user scores there is basically 0 correlation between user scores and sales, for critic scores there is an average correlation of about 0.41 between critic scores and sales and for the average of the two reviews combined there is little to no correlation between reviews and scores with a correlation of 0.11. The reasoning behind this data could be because critics tend to know which games are going to be better since their whole career is based off playing and judging video games. While the average player just goes about playing games he enjoys and has a passion for."
   ]
  },
  {
   "cell_type": "code",
   "execution_count": null,
   "metadata": {},
   "outputs": [],
   "source": [
    "# Group by 'name' to count how many platforms each game appears on\n",
    "games_platform_count = games.groupby('name')['platform'].nunique()\n",
    "\n",
    "# Filter games that are on multiple platforms\n",
    "multi_platform_games = games_platform_count[games_platform_count > 1].index\n",
    "\n",
    "# Filter the dataset to include only games on multiple platforms\n",
    "multi_platform_sales = games[games['name'].isin(multi_platform_games)]\n",
    "\n",
    "# Aggregate total sales across all platforms for each game\n",
    "aggregated_sales = multi_platform_sales.groupby('name')['total_sales'].sum()\n",
    "\n",
    "# Sort by total sales in descending order\n",
    "top_10_multi_platform = aggregated_sales.sort_values(ascending=False).head(10)\n",
    "\n",
    "# Display the top 10 highest-selling games on multiple platforms\n",
    "print(top_10_multi_platform)"
   ]
  },
  {
   "cell_type": "code",
   "execution_count": null,
   "metadata": {},
   "outputs": [],
   "source": [
    "print(multi_platform_sales)\n",
    "#Getting a visual of the data here"
   ]
  },
  {
   "cell_type": "code",
   "execution_count": null,
   "metadata": {},
   "outputs": [],
   "source": [
    "# Step 1: Filter the dataset for the top 10 multi-platform games\n",
    "top_10_games = top_10_multi_platform.index  # These are the top 10 games\n",
    "filtered_data = multi_platform_sales[multi_platform_sales['name'].isin(top_10_games)]\n",
    "\n",
    "# Step 2: Group by game name and platform, summing total sales\n",
    "platform_comparison = filtered_data.groupby(['name', 'platform'], as_index=False)['total_sales'].sum()\n",
    "\n",
    "# Step 3: Compute total sales for each game and sort them\n",
    "game_sales_total = platform_comparison.groupby('name')['total_sales'].sum()\n",
    "sorted_game_sales = game_sales_total.sort_values(ascending=False)\n",
    "\n",
    "# Update games_unique with the sorted order\n",
    "games_unique = sorted_game_sales.index.tolist()\n",
    "\n",
    "# Get unique platforms\n",
    "platforms_unique = platform_comparison['platform'].unique()\n",
    "\n",
    "# Step 4: Prepare the data for plotting\n",
    "bar_width = 0.8\n",
    "x_indexes = np.arange(len(games_unique))  # X positions for bars\n",
    "bottom_values = np.zeros(len(games_unique))  # To stack bars\n",
    "\n",
    "# Create a figure for the plot\n",
    "plt.figure(figsize=(15, 8))\n",
    "\n",
    "# Step 5: Plot data for each platform\n",
    "for platform in platforms_unique:\n",
    "    # Filter the data for the current platform\n",
    "    platform_data = platform_comparison[platform_comparison['platform'].isin([platform])]\n",
    "    \n",
    "    # Align sales with the corresponding games (now sorted)\n",
    "    sales = [\n",
    "        platform_data[platform_data['name'] == game]['total_sales'].sum() \n",
    "        for game in games_unique\n",
    "    ]\n",
    "    \n",
    "    # Plot the bar for this platform\n",
    "    plt.bar(x_indexes, sales, width=bar_width, bottom=bottom_values, label=platform)\n",
    "    \n",
    "    # Update the bottom values for stacking\n",
    "    bottom_values += sales\n",
    "\n",
    "# Step 6: Customize the plot\n",
    "plt.title('Total Sales by Top 10 Multi-Platform Games', fontsize=16)\n",
    "plt.xlabel('Game Name', fontsize=12)\n",
    "plt.ylabel('Total Sales (millions)', fontsize=12)\n",
    "plt.xticks(ticks=x_indexes, labels=games_unique, rotation=45, ha='right')\n",
    "plt.legend(title='Platform', fontsize=10, loc='upper left')\n",
    "\n",
    "# Step 7: Show the plot\n",
    "plt.tight_layout(pad=3)\n",
    "plt.show()\n"
   ]
  },
  {
   "cell_type": "markdown",
   "metadata": {},
   "source": [
    "#I looked at the ten highest selling games that were on multiple platforms. Sales across the platforms for the call of duty games seem fairly similar between the playstation, xbox and PC. The games that were only on GameBoy and NES were drastically different though. Super Mario bros mainly had sales on the NES while Tetris mainly had sales on the GameBoy. The Call of Duty games sales between platforms probably depends a lot more on the total sales of each consoles. While the difference in sales for Super Mario Bros and Tetris probably depends on which platform is more enjoyeable to play the game on."
   ]
  },
  {
   "cell_type": "code",
   "execution_count": null,
   "metadata": {},
   "outputs": [],
   "source": [
    "genre_sales = filtered_games.groupby('genre')['total_sales'].sum().sort_values(ascending=False)\n",
    "genre_count = filtered_games.groupby('genre')['name'].count().sort_values(ascending=False)\n",
    "genre_avg_sales = filtered_games.groupby('genre')['total_sales'].mean().sort_values(ascending=False)\n",
    "\n",
    "plt.figure(figsize=(10, 6))\n",
    "genre_count.plot.bar(color='black', alpha=0.7)\n",
    "plt.title('Total Games by Genre')\n",
    "plt.xlabel('Genre')\n",
    "plt.ylabel('Total Games')\n",
    "plt.xticks(rotation=45)\n",
    "plt.tight_layout()\n",
    "plt.show()\n",
    "\n",
    "plt.figure(figsize=(10, 6))\n",
    "genre_sales.plot.bar(color='black', alpha=0.7)\n",
    "plt.title('Total Sales by Genre')\n",
    "plt.xlabel('Genre')\n",
    "plt.ylabel('Total Sales (in millions)')\n",
    "plt.xticks(rotation=45)\n",
    "plt.tight_layout()\n",
    "plt.show()\n",
    "\n",
    "plt.figure(figsize=(10, 6))\n",
    "genre_avg_sales.plot.bar(color='black', alpha=0.7)\n",
    "plt.title('Average Sales by Genre')\n",
    "plt.xlabel('Genre')\n",
    "plt.ylabel('Average Sales (in millions)')\n",
    "plt.xticks(rotation=45)\n",
    "plt.tight_layout()\n",
    "plt.show()\n",
    "\n",
    "\n",
    "scatter_data = pd.DataFrame({\n",
    "    'total_games': genre_count,\n",
    "    'avg_sales': genre_avg_sales\n",
    "    }).reset_index()\n",
    "\n",
    "for i, genre in enumerate(scatter_data['genre']):\n",
    "    plt.text(\n",
    "        scatter_data['total_games'][i],\n",
    "        scatter_data['avg_sales'][i] + 0.01,\n",
    "        genre,\n",
    "        fontsize=9,\n",
    "        ha='center'\n",
    "    )\n",
    "                                                 \n",
    "x = scatter_data['total_games']\n",
    "y = scatter_data['avg_sales']\n",
    "slope, intercept = np.polyfit(x, y, 1)\n",
    "best_fit_line = slope * x + intercept\n",
    "\n",
    "plt.figure(figsize=(10, 6))\n",
    "plt.scatter(x, y, color='black', alpha=0.7)\n",
    "plt.plot(x, best_fit_line, color='red', linestyle='--', label='Best Fit Line')\n",
    "plt.title('Scatterplt of Avg. Sales vs. Total Games')\n",
    "plt.xlabel('Total Games Released')\n",
    "plt.ylabel('Average Sales (millions)')\n",
    "plt.grid(True)\n",
    "plt.tight_layout()\n",
    "plt.show()"
   ]
  },
  {
   "cell_type": "markdown",
   "metadata": {},
   "source": [
    "#Looking at the data it seems the average sales correlates with total number of games made for the genre. I am assuming that is because video game developers try to create games in the categories that are likely to make the most revenue since they have the best chance of making money. Of course the genres with the most games also tend to have the most sales. The more games you release the more revenue you can generate. The 3rd, 4th and 5th genres with the most games generate the 2nd, 3rd and 1st best average sales per game."
   ]
  },
  {
   "cell_type": "code",
   "execution_count": null,
   "metadata": {},
   "outputs": [],
   "source": [
    "regions = ['na_sales', 'eu_sales', 'jp_sales']\n",
    "\n",
    "for region in regions:\n",
    "    top_platforms = (\n",
    "    filtered_games.groupby('platform')[region].sum().sort_values(ascending=False).head(5))\n",
    "    \n",
    "    plt.figure(figsize=(8, 5))\n",
    "    top_platforms.plot(kind='bar')\n",
    "    plt.title(f'Top 5 Platforms in {region.upper()}')\n",
    "    plt.xlabel('Platform')\n",
    "    plt.ylabel(f'Total Sales in {region.upper()} (in millions)')\n",
    "    plt.xticks(rotation=45)\n",
    "    plt.tight_layout()\n",
    "    \n",
    "    \n",
    "plt.show()\n"
   ]
  },
  {
   "cell_type": "markdown",
   "metadata": {},
   "source": [
    "#North America and Europe have the same exact top 4 platforms in sales. Both continents have PS2, PS3, Xbox 360 and the Wii in their top 4. Japan's sales are very different with the Nintendo DS leading the way then the Playstation, then PS2 then Super Nintendo Entertainment System then the 3DS. Japan's platforms sales are heavily favored towards more Nintendo products, since Nintendo was founded in Japan it is much more popular in that culture. Sony (who makes Playstation) has 2 platforms in the top 5 is also an Japanese company. It is interesting the Wii did not break into Japan's top platforms given the immense popularity of the product in the rest of the world. Two of Japan's top 5 highest platforms and its platforms with the most sales were portable gaming platforms (DS & 3DS). While North America only had one handheld platform in its top 5 and it was 5th (DS). Europe did not have any handheld platforms in its top 5."
   ]
  },
  {
   "cell_type": "code",
   "execution_count": null,
   "metadata": {},
   "outputs": [],
   "source": [
    "regions = ['na_sales', 'eu_sales', 'jp_sales']\n",
    "\n",
    "for region in regions:\n",
    "    top_genres = (\n",
    "    filtered_games.groupby('genre')[region].sum().sort_values(ascending=False).head(5))\n",
    "    \n",
    "    plt.figure(figsize=(8, 5))\n",
    "    top_platforms.plot(kind='bar')\n",
    "    plt.title(f'Top 5 Genres in {region.upper()}')\n",
    "    plt.xlabel('Genre')\n",
    "    plt.ylabel(f'Total Sales in {region.upper()} (in millions)')\n",
    "    plt.xticks(rotation=45)\n",
    "    plt.tight_layout()\n",
    "    \n",
    "    \n",
    "plt.show()"
   ]
  },
  {
   "cell_type": "markdown",
   "metadata": {},
   "source": [
    "#Just like with the platforms the genres for the regions were similar for Europe and North America, with 4 of their top 5 being the same and there top 3 being indentical in sales. Action genre was the most popular for both of them by a decent margin. For Japan 'Role Playing' was by the far the highest selling genre, over 2x more sales in that genre than the 2nd most popular one. Role-playing was not even in the top 5 for the other two regions. Different games are tailored for different platforms, therefore it is not surprising to see the genre lists be different since the platform lists were. The handheld DS was made to favor more role playing games while consoles like Playstation, Xbox and Wii favor action and sports games."
   ]
  },
  {
   "cell_type": "code",
   "execution_count": null,
   "metadata": {},
   "outputs": [],
   "source": [
    "for region in regions:\n",
    "    esrb_sales = (\n",
    "    filtered_games.groupby('rating')[region].sum().reset_index().sort_values(by=region, ascending=False)\n",
    "    ) \n",
    "    \n",
    "    esrb_game_count = (\n",
    "    filtered_games.groupby('rating')['name'].count().reset_index().rename(columns={'name': 'game_count'}).sort_values(by='game_count', ascending=False)\n",
    "    ) \n",
    "    \n",
    "    merged_data = pd.merge(esrb_sales, esrb_game_count, on='rating')\n",
    "    \n",
    "    fig, ax1 = plt.subplots(figsize=(10, 6))\n",
    "    ax1.scatter(merged_data['rating'], merged_data[region], s=100, label='Total_Sales')\n",
    "    ax1.set_xlabel('ESRB Rating')\n",
    "    ax1.set_ylabel(f'Sales in {region.upper()} (in millions)')\n",
    "    ax1.grid(True)\n",
    "    \n",
    "    for i, rating in enumerate(merged_data['rating']):\n",
    "        ax1.text(rating, merged_data[region][i] + 0.2, str(round(merged_data[region][i], 2)),\n",
    "                fontsize=9, ha='center')\n",
    "        \n",
    "    ax2 = ax1.twinx()\n",
    "    ax2.bar(merged_data['rating'], merged_data['game_count'], alpha=0.5, color='orange', label='Game Count')\n",
    "    ax2.set_ylabel('Number of Games', color='orange')\n",
    "    ax2.tick_params(axis='y', labelcolor='orange')\n",
    "    \n",
    "    plt.title(f'{region.upper()} Sales and Game counts by ESRB Rating')\n",
    "    plt.tight_layout()\n",
    "    \n",
    "    \n",
    "plt.show()"
   ]
  },
  {
   "cell_type": "markdown",
   "metadata": {},
   "source": [
    "\n",
    "#For the most part the ratings with most sales goes E, T, M then E10+. Which makes sense because for the most part those are the rating with the most games being released. The outlier is Europe sales where there was about half as many mature games released as Teen games but mature games sales were about $60M higher."
   ]
  },
  {
   "cell_type": "code",
   "execution_count": null,
   "metadata": {},
   "outputs": [],
   "source": [
    "xone_scores = games[(games['platform'] == 'XOne') & (games['user_score'].notna())]['user_score']\n",
    "pc_scores = games[(games['platform'] == 'PC') & (games['user_score'].notna())]['user_score']\n",
    "\n",
    "xone_scores = pd.to_numeric(xone_scores, errors='coerce').dropna()\n",
    "pc_scores = pd.to_numeric(pc_scores, errors='coerce').dropna()\n",
    "\n",
    "t_stat, p_value = ttest_ind(xone_scores, pc_scores, equal_var=False)\n",
    "\n",
    "print(\"Xbox One User Scores:\\n\", xone_scores.describe())\n",
    "print(\"\\nPC User Scores:\\n\", pc_scores.describe())\n",
    "print(f\"\\nT-Statistic: {t_stat:.4f}\")\n",
    "print(f\"P-value: {p_value:.4f}\")\n",
    "\n",
    "alpha = 0.05\n",
    "if p_value < alpha:\n",
    "    print(\"n\\nReject the null hypothesis: The average user ratings for Xbox One and PC are significantly different.\")\n",
    "else:\n",
    "    print(\"\\nFail to reject the null hypothesis: There is no significant difference in average user ratings for Xbox One and PC.\")\n",
    "    "
   ]
  },
  {
   "cell_type": "markdown",
   "metadata": {},
   "source": [
    "#The average score for XOne games was 6.52 while the average score for PC games was 7.06. Based off an alpha of 0.05 the null hypothesis can be rejected, the average user ratings between the platforms are significantly different. I chose the significane level of 0.05 because it is a happy medium between minimizing the risk of a Type I error (incorrectly rejecting the null hypothesis) while still having a reasonable chance of detecting a real effect. The hypothesis were based off whether or not the ratings were statistically different.\n"
   ]
  },
  {
   "cell_type": "code",
   "execution_count": null,
   "metadata": {},
   "outputs": [],
   "source": [
    "action_scores = games[(games['genre'] == 'Action') & (games['user_score'].notna())]['user_score']\n",
    "sports_scores = games[(games['genre'] == 'Sports') & (games['user_score'].notna())]['user_score']\n",
    "\n",
    "action_scores = pd.to_numeric(action_scores, errors='coerce').dropna()\n",
    "sports_scores = pd.to_numeric(sports_scores, errors='coerce').dropna()\n",
    "\n",
    "t_stat, p_value = ttest_ind(action_scores, sports_scores, equal_var=False)\n",
    "\n",
    "print(\"Action User Scores:\\n\", action_scores.describe())\n",
    "print(\"\\nSports User Scores:\\n\", sports_scores.describe())\n",
    "print(f\"\\nT-Statistic: {t_stat:.4f}\")\n",
    "print(f\"P-value: {p_value:.4f}\")\n",
    "\n",
    "alpha = 0.05\n",
    "if p_value < alpha:\n",
    "    print(\"n\\nReject the null hypothesis: The average user ratings for the action and sports genres are significantly different.\")\n",
    "else:\n",
    "    print(\"\\nFail to reject the null hypothesis: There is no significant difference in average user ratings for the action and sports.\")\n",
    "    "
   ]
  },
  {
   "cell_type": "markdown",
   "metadata": {},
   "source": [
    "#Based off our ttest the two genres do not have a statisically different user rating. The null hypothesis is based off there being no difference while the alternative hypothesis is based off there being a statiscally significant difference. I chose the significane level of 0.05 because it is a happy medium between minimizing the risk of a Type I error (incorrectly rejecting the null hypothesis) while still having a reasonable chance of detecting a real effect."
   ]
  }
 ],
 "metadata": {
  "ExecuteTimeLog": [
   {
    "duration": 2581,
    "start_time": "2024-12-04T20:28:30.781Z"
   },
   {
    "duration": 10,
    "start_time": "2024-12-04T20:28:33.365Z"
   },
   {
    "duration": 190,
    "start_time": "2024-12-04T20:28:33.377Z"
   },
   {
    "duration": 694,
    "start_time": "2024-12-04T20:28:41.175Z"
   },
   {
    "duration": 381,
    "start_time": "2024-12-04T20:28:58.009Z"
   },
   {
    "duration": 11,
    "start_time": "2024-12-04T20:29:03.575Z"
   },
   {
    "duration": 383,
    "start_time": "2024-12-04T20:29:36.982Z"
   },
   {
    "duration": 247,
    "start_time": "2024-12-04T20:29:42.505Z"
   },
   {
    "duration": 638,
    "start_time": "2024-12-04T20:29:48.311Z"
   },
   {
    "duration": 457,
    "start_time": "2024-12-04T20:30:06.372Z"
   },
   {
    "duration": 20,
    "start_time": "2024-12-04T20:30:33.011Z"
   },
   {
    "duration": 9,
    "start_time": "2024-12-04T20:30:39.746Z"
   },
   {
    "duration": 506,
    "start_time": "2024-12-04T20:30:46.920Z"
   },
   {
    "duration": 1540,
    "start_time": "2024-12-04T20:31:02.140Z"
   },
   {
    "duration": 624,
    "start_time": "2024-12-04T20:31:15.296Z"
   },
   {
    "duration": 642,
    "start_time": "2024-12-04T20:31:27.730Z"
   },
   {
    "duration": 1084,
    "start_time": "2024-12-04T20:31:40.375Z"
   },
   {
    "duration": 81,
    "start_time": "2024-12-04T20:31:55.698Z"
   },
   {
    "duration": 17,
    "start_time": "2024-12-04T20:32:17.215Z"
   },
   {
    "duration": 18,
    "start_time": "2024-12-04T20:39:58.608Z"
   },
   {
    "duration": 44,
    "start_time": "2024-12-04T20:40:51.140Z"
   },
   {
    "duration": 10,
    "start_time": "2024-12-04T20:40:51.488Z"
   },
   {
    "duration": 182,
    "start_time": "2024-12-04T20:40:51.637Z"
   },
   {
    "duration": 689,
    "start_time": "2024-12-04T20:40:51.946Z"
   },
   {
    "duration": 446,
    "start_time": "2024-12-04T20:40:52.637Z"
   },
   {
    "duration": 26,
    "start_time": "2024-12-04T20:40:53.084Z"
   },
   {
    "duration": 330,
    "start_time": "2024-12-04T20:40:53.114Z"
   },
   {
    "duration": 244,
    "start_time": "2024-12-04T20:40:53.446Z"
   },
   {
    "duration": 719,
    "start_time": "2024-12-04T20:40:53.692Z"
   },
   {
    "duration": 543,
    "start_time": "2024-12-04T20:40:54.414Z"
   },
   {
    "duration": 24,
    "start_time": "2024-12-04T20:40:54.958Z"
   },
   {
    "duration": 26,
    "start_time": "2024-12-04T20:40:54.985Z"
   },
   {
    "duration": 627,
    "start_time": "2024-12-04T20:40:55.014Z"
   },
   {
    "duration": 1160,
    "start_time": "2024-12-04T20:40:55.644Z"
   },
   {
    "duration": 675,
    "start_time": "2024-12-04T20:40:56.806Z"
   },
   {
    "duration": 786,
    "start_time": "2024-12-04T20:40:57.483Z"
   },
   {
    "duration": 1114,
    "start_time": "2024-12-04T20:40:58.271Z"
   },
   {
    "duration": 22,
    "start_time": "2024-12-04T20:40:59.388Z"
   },
   {
    "duration": 0,
    "start_time": "2024-12-04T20:40:59.412Z"
   },
   {
    "duration": 18,
    "start_time": "2024-12-04T20:45:00.813Z"
   },
   {
    "duration": 316,
    "start_time": "2024-12-04T20:46:21.891Z"
   },
   {
    "duration": 18,
    "start_time": "2024-12-04T20:46:37.734Z"
   },
   {
    "duration": 30,
    "start_time": "2024-12-04T20:46:43.112Z"
   },
   {
    "duration": 30,
    "start_time": "2024-12-04T20:49:57.702Z"
   },
   {
    "duration": 29,
    "start_time": "2024-12-04T20:50:46.560Z"
   },
   {
    "duration": 18,
    "start_time": "2024-12-04T20:51:10.641Z"
   },
   {
    "duration": 28,
    "start_time": "2024-12-04T20:51:44.635Z"
   },
   {
    "duration": 30,
    "start_time": "2024-12-04T20:53:51.283Z"
   },
   {
    "duration": 159,
    "start_time": "2024-12-04T20:56:07.849Z"
   },
   {
    "duration": 10,
    "start_time": "2024-12-04T20:56:08.578Z"
   },
   {
    "duration": 533,
    "start_time": "2024-12-04T20:56:09.395Z"
   },
   {
    "duration": 1140,
    "start_time": "2024-12-04T20:56:10.221Z"
   },
   {
    "duration": 731,
    "start_time": "2024-12-04T20:56:11.363Z"
   },
   {
    "duration": 615,
    "start_time": "2024-12-04T20:56:12.096Z"
   },
   {
    "duration": 1056,
    "start_time": "2024-12-04T20:56:12.715Z"
   },
   {
    "duration": 18,
    "start_time": "2024-12-04T20:56:13.773Z"
   },
   {
    "duration": 17,
    "start_time": "2024-12-04T20:56:41.244Z"
   },
   {
    "duration": 855,
    "start_time": "2024-12-04T20:57:08.513Z"
   },
   {
    "duration": 13,
    "start_time": "2024-12-04T20:57:11.061Z"
   },
   {
    "duration": 195,
    "start_time": "2024-12-04T20:57:14.336Z"
   },
   {
    "duration": 171,
    "start_time": "2024-12-04T20:57:19.933Z"
   },
   {
    "duration": 714,
    "start_time": "2024-12-04T20:57:25.576Z"
   },
   {
    "duration": 619,
    "start_time": "2024-12-04T20:57:36.986Z"
   },
   {
    "duration": 398,
    "start_time": "2024-12-04T20:57:43.808Z"
   },
   {
    "duration": 417,
    "start_time": "2024-12-04T20:57:50.154Z"
   },
   {
    "duration": 17,
    "start_time": "2024-12-04T20:57:55.004Z"
   },
   {
    "duration": 11,
    "start_time": "2024-12-04T20:58:03.680Z"
   },
   {
    "duration": 416,
    "start_time": "2024-12-04T20:58:08.474Z"
   },
   {
    "duration": 339,
    "start_time": "2024-12-04T20:58:12.969Z"
   },
   {
    "duration": 247,
    "start_time": "2024-12-04T20:58:17.497Z"
   },
   {
    "duration": 245,
    "start_time": "2024-12-04T20:58:22.222Z"
   },
   {
    "duration": 650,
    "start_time": "2024-12-04T20:58:26.215Z"
   },
   {
    "duration": 734,
    "start_time": "2024-12-04T20:58:31.521Z"
   },
   {
    "duration": 414,
    "start_time": "2024-12-04T20:58:37.933Z"
   },
   {
    "duration": 427,
    "start_time": "2024-12-04T20:58:42.322Z"
   },
   {
    "duration": 26,
    "start_time": "2024-12-04T20:58:47.886Z"
   },
   {
    "duration": 19,
    "start_time": "2024-12-04T20:58:52.146Z"
   },
   {
    "duration": 15,
    "start_time": "2024-12-04T20:58:56.910Z"
   },
   {
    "duration": 9,
    "start_time": "2024-12-04T20:59:11.153Z"
   },
   {
    "duration": 524,
    "start_time": "2024-12-04T20:59:15.986Z"
   },
   {
    "duration": 224,
    "start_time": "2024-12-04T21:00:57.101Z"
   },
   {
    "duration": 229,
    "start_time": "2024-12-04T21:01:04.750Z"
   },
   {
    "duration": 44,
    "start_time": "2024-12-04T21:02:43.579Z"
   },
   {
    "duration": 61,
    "start_time": "2024-12-04T21:03:06.730Z"
   },
   {
    "duration": 44,
    "start_time": "2024-12-04T21:05:03.694Z"
   },
   {
    "duration": 45,
    "start_time": "2024-12-04T21:07:44.944Z"
   },
   {
    "duration": 61,
    "start_time": "2024-12-04T21:08:53.510Z"
   },
   {
    "duration": 43,
    "start_time": "2024-12-04T21:10:17.435Z"
   },
   {
    "duration": 517,
    "start_time": "2024-12-04T21:11:31.932Z"
   },
   {
    "duration": 632,
    "start_time": "2024-12-04T21:17:41.196Z"
   },
   {
    "duration": 793,
    "start_time": "2024-12-04T21:18:09.900Z"
   },
   {
    "duration": 15,
    "start_time": "2024-12-04T21:18:10.695Z"
   },
   {
    "duration": 197,
    "start_time": "2024-12-04T21:18:10.711Z"
   },
   {
    "duration": 730,
    "start_time": "2024-12-04T21:18:10.911Z"
   },
   {
    "duration": 443,
    "start_time": "2024-12-04T21:18:11.643Z"
   },
   {
    "duration": 21,
    "start_time": "2024-12-04T21:18:12.088Z"
   },
   {
    "duration": 330,
    "start_time": "2024-12-04T21:18:12.111Z"
   },
   {
    "duration": 273,
    "start_time": "2024-12-04T21:18:12.444Z"
   },
   {
    "duration": 649,
    "start_time": "2024-12-04T21:18:12.719Z"
   },
   {
    "duration": 454,
    "start_time": "2024-12-04T21:18:13.370Z"
   },
   {
    "duration": 19,
    "start_time": "2024-12-04T21:18:13.826Z"
   },
   {
    "duration": 8,
    "start_time": "2024-12-04T21:18:13.847Z"
   },
   {
    "duration": 676,
    "start_time": "2024-12-04T21:18:13.857Z"
   },
   {
    "duration": 1615,
    "start_time": "2024-12-04T21:18:14.536Z"
   },
   {
    "duration": 651,
    "start_time": "2024-12-04T21:18:16.152Z"
   },
   {
    "duration": 660,
    "start_time": "2024-12-04T21:18:16.807Z"
   },
   {
    "duration": 1090,
    "start_time": "2024-12-04T21:18:17.470Z"
   },
   {
    "duration": 20,
    "start_time": "2024-12-04T21:18:18.562Z"
   },
   {
    "duration": 13,
    "start_time": "2024-12-04T21:18:27.600Z"
   },
   {
    "duration": 15,
    "start_time": "2024-12-04T21:18:31.862Z"
   }
  ],
  "kernelspec": {
   "display_name": "Python 3 (ipykernel)",
   "language": "python",
   "name": "python3"
  },
  "language_info": {
   "codemirror_mode": {
    "name": "ipython",
    "version": 3
   },
   "file_extension": ".py",
   "mimetype": "text/x-python",
   "name": "python",
   "nbconvert_exporter": "python",
   "pygments_lexer": "ipython3",
   "version": "3.9.19"
  },
  "toc": {
   "base_numbering": 1,
   "nav_menu": {},
   "number_sections": true,
   "sideBar": true,
   "skip_h1_title": true,
   "title_cell": "Table of Contents",
   "title_sidebar": "Contents",
   "toc_cell": false,
   "toc_position": {},
   "toc_section_display": true,
   "toc_window_display": false
  }
 },
 "nbformat": 4,
 "nbformat_minor": 2
}
