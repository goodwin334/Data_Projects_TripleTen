{
 "cells": [
  {
   "cell_type": "markdown",
   "id": "f85a80d2",
   "metadata": {},
   "source": [
    "## Basic Python - Project <a id='intro'></a>"
   ]
  },
  {
   "cell_type": "markdown",
   "id": "a1262df4",
   "metadata": {},
   "source": [
    "## Introduction <a id='intro'></a>\n",
    "In this project, you will work with data from the entertainment industry. You will study a dataset with records on movies and shows. The research will focus on the \"Golden Age\" of television, which began in 1999 with the release of *The Sopranos* and is still ongoing.\n",
    "\n",
    "The aim of this project is to investigate how the number of votes a title receives impacts its ratings. The assumption is that highly-rated shows (we will focus on TV shows, ignoring movies) released during the \"Golden Age\" of television also have the most votes.\n",
    "\n",
    "### Stages \n",
    "Data on movies and shows is stored in the `/datasets/movies_and_shows.csv` file. There is no information about the quality of the data, so you will need to explore it before doing the analysis.\n",
    "\n",
    "First, you'll evaluate the quality of the data and see whether its issues are significant. Then, during data preprocessing, you will try to account for the most critical problems.\n",
    " \n",
    "Your project will consist of three stages:\n",
    " 1. Data overview\n",
    " 2. Data preprocessing\n",
    " 3. Data analysis"
   ]
  },
  {
   "cell_type": "markdown",
   "id": "ac0593ac",
   "metadata": {},
   "source": [
    "## Stage 1. Data overview <a id='data_review'></a>\n",
    "\n",
    "Open and explore the data."
   ]
  },
  {
   "cell_type": "markdown",
   "id": "e86ed00e",
   "metadata": {},
   "source": [
    "You'll need `pandas`, so import it."
   ]
  },
  {
   "cell_type": "code",
   "execution_count": 1,
   "id": "1727d3f8",
   "metadata": {},
   "outputs": [],
   "source": [
    "import pandas as pd\n",
    "# importing pandas\n"
   ]
  },
  {
   "cell_type": "code",
   "execution_count": null,
   "id": "fc5a1402",
   "metadata": {},
   "outputs": [],
   "source": [
    "# reading the files and storing them to df\n",
    "golden_age = pd.read_csv('/datasets/movies_and_shows.csv')\n"
   ]
  },
  {
   "cell_type": "code",
   "execution_count": null,
   "id": "acd92001",
   "metadata": {},
   "outputs": [
    {
     "name": "stdout",
     "output_type": "stream",
     "text": [
      "              name                      Character   r0le        TITLE   Type  \\\n",
      "0   Robert De Niro                  Travis Bickle  ACTOR  Taxi Driver  MOVIE   \n",
      "1     Jodie Foster                  Iris Steensma  ACTOR  Taxi Driver  MOVIE   \n",
      "2    Albert Brooks                            Tom  ACTOR  Taxi Driver  MOVIE   \n",
      "3    Harvey Keitel        Matthew 'Sport' Higgins  ACTOR  Taxi Driver  MOVIE   \n",
      "4  Cybill Shepherd                          Betsy  ACTOR  Taxi Driver  MOVIE   \n",
      "5      Peter Boyle                         Wizard  ACTOR  Taxi Driver  MOVIE   \n",
      "6   Leonard Harris      Senator Charles Palantine  ACTOR  Taxi Driver  MOVIE   \n",
      "7   Diahnne Abbott                Concession Girl  ACTOR  Taxi Driver  MOVIE   \n",
      "8      Gino Ardito             Policeman at Rally  ACTOR  Taxi Driver  MOVIE   \n",
      "9  Martin Scorsese  Passenger Watching Silhouette  ACTOR  Taxi Driver  MOVIE   \n",
      "\n",
      "   release Year              genres  imdb sc0re  imdb v0tes  \n",
      "0          1976  ['drama', 'crime']         8.2    808582.0  \n",
      "1          1976  ['drama', 'crime']         8.2    808582.0  \n",
      "2          1976  ['drama', 'crime']         8.2    808582.0  \n",
      "3          1976  ['drama', 'crime']         8.2    808582.0  \n",
      "4          1976  ['drama', 'crime']         8.2    808582.0  \n",
      "5          1976  ['drama', 'crime']         8.2    808582.0  \n",
      "6          1976  ['drama', 'crime']         8.2    808582.0  \n",
      "7          1976  ['drama', 'crime']         8.2    808582.0  \n",
      "8          1976  ['drama', 'crime']         8.2    808582.0  \n",
      "9          1976  ['drama', 'crime']         8.2    808582.0  \n"
     ]
    }
   ],
   "source": [
    "# obtaining the first 10 rows from the df table\n",
    "golden_age.head(10)\n",
    "\n"
   ]
  },
  {
   "cell_type": "markdown",
   "id": "e579aa91",
   "metadata": {},
   "source": [
    "Obtain the general information about the table with one command:"
   ]
  },
  {
   "cell_type": "code",
   "execution_count": null,
   "id": "7bf66d2a",
   "metadata": {},
   "outputs": [
    {
     "data": {
      "text/html": [
       "<div>\n",
       "<style scoped>\n",
       "    .dataframe tbody tr th:only-of-type {\n",
       "        vertical-align: middle;\n",
       "    }\n",
       "\n",
       "    .dataframe tbody tr th {\n",
       "        vertical-align: top;\n",
       "    }\n",
       "\n",
       "    .dataframe thead th {\n",
       "        text-align: right;\n",
       "    }\n",
       "</style>\n",
       "<table border=\"1\" class=\"dataframe\">\n",
       "  <thead>\n",
       "    <tr style=\"text-align: right;\">\n",
       "      <th></th>\n",
       "      <th>release Year</th>\n",
       "      <th>imdb sc0re</th>\n",
       "      <th>imdb v0tes</th>\n",
       "    </tr>\n",
       "  </thead>\n",
       "  <tbody>\n",
       "    <tr>\n",
       "      <th>count</th>\n",
       "      <td>85579.000000</td>\n",
       "      <td>80970.000000</td>\n",
       "      <td>8.085300e+04</td>\n",
       "    </tr>\n",
       "    <tr>\n",
       "      <th>mean</th>\n",
       "      <td>2015.879994</td>\n",
       "      <td>6.425877</td>\n",
       "      <td>5.978271e+04</td>\n",
       "    </tr>\n",
       "    <tr>\n",
       "      <th>std</th>\n",
       "      <td>7.724668</td>\n",
       "      <td>1.122655</td>\n",
       "      <td>1.846287e+05</td>\n",
       "    </tr>\n",
       "    <tr>\n",
       "      <th>min</th>\n",
       "      <td>1954.000000</td>\n",
       "      <td>1.500000</td>\n",
       "      <td>5.000000e+00</td>\n",
       "    </tr>\n",
       "    <tr>\n",
       "      <th>25%</th>\n",
       "      <td>2015.000000</td>\n",
       "      <td>5.700000</td>\n",
       "      <td>1.266000e+03</td>\n",
       "    </tr>\n",
       "    <tr>\n",
       "      <th>50%</th>\n",
       "      <td>2018.000000</td>\n",
       "      <td>6.500000</td>\n",
       "      <td>5.448000e+03</td>\n",
       "    </tr>\n",
       "    <tr>\n",
       "      <th>75%</th>\n",
       "      <td>2021.000000</td>\n",
       "      <td>7.200000</td>\n",
       "      <td>3.360900e+04</td>\n",
       "    </tr>\n",
       "    <tr>\n",
       "      <th>max</th>\n",
       "      <td>2022.000000</td>\n",
       "      <td>9.500000</td>\n",
       "      <td>2.294231e+06</td>\n",
       "    </tr>\n",
       "  </tbody>\n",
       "</table>\n",
       "</div>"
      ],
      "text/plain": [
       "       release Year    imdb sc0re    imdb v0tes\n",
       "count  85579.000000  80970.000000  8.085300e+04\n",
       "mean    2015.879994      6.425877  5.978271e+04\n",
       "std        7.724668      1.122655  1.846287e+05\n",
       "min     1954.000000      1.500000  5.000000e+00\n",
       "25%     2015.000000      5.700000  1.266000e+03\n",
       "50%     2018.000000      6.500000  5.448000e+03\n",
       "75%     2021.000000      7.200000  3.360900e+04\n",
       "max     2022.000000      9.500000  2.294231e+06"
      ]
     },
     "execution_count": 4,
     "metadata": {},
     "output_type": "execute_result"
    }
   ],
   "source": [
    "# obtaining general information about the data in df\n",
    "golden_age.describe()\n"
   ]
  },
  {
   "cell_type": "markdown",
   "id": "e91f62a7",
   "metadata": {},
   "source": [
    "The table contains nine columns. The majority store the same data type: object. The only exceptions are `'release Year'` (int64 type), `'imdb sc0re'` (float64 type) and `'imdb v0tes'` (float64 type). Scores and votes will be used in our analysis, so it's important to verify that they are present in the dataframe in the appropriate numeric format. Three columns (`'TITLE'`, `'imdb sc0re'` and `'imdb v0tes'`) have missing values.\n",
    "\n",
    "According to the documentation:\n",
    "- `'name'` — actor/director's name and last name\n",
    "- `'Character'` — character played (for actors)\n",
    "- `'r0le '` — the person's contribution to the title (it can be in the capacity of either actor or director)\n",
    "- `'TITLE '` — title of the movie (show)\n",
    "- `'  Type'` — show or movie\n",
    "- `'release Year'` — year when movie (show) was released\n",
    "- `'genres'` — list of genres under which the movie (show) falls\n",
    "- `'imdb sc0re'` — score on IMDb\n",
    "- `'imdb v0tes'` — votes on IMDb\n",
    "\n",
    "We can see three issues with the column names:\n",
    "1. Some names are uppercase, while others are lowercase.\n",
    "2. There are names containing whitespace.\n",
    "3. A few column names have digit '0' instead of letter 'o'. \n"
   ]
  },
  {
   "cell_type": "markdown",
   "id": "4355de7b",
   "metadata": {},
   "source": [
    "### Conclusions <a id='data_review_conclusions'></a> \n",
    "\n",
    "Each row in the table stores data about a movie or show. The columns can be divided into two categories: the first is about the roles held by different people who worked on the movie or show (role, name of the actor or director, and character if the row is about an actor); the second category is information about the movie or show itself (title, release year, genre, imdb figures).\n",
    "\n",
    "It's clear that there is sufficient data to do the analysis and evaluate our assumption. However, to move forward, we need to preprocess the data."
   ]
  },
  {
   "cell_type": "markdown",
   "id": "c5dc9111",
   "metadata": {},
   "source": [
    "## Stage 2. Data preprocessing <a id='data_preprocessing'></a>\n",
    "Correct the formatting in the column headers and deal with the missing values. Then, check whether there are duplicates in the data."
   ]
  },
  {
   "cell_type": "code",
   "execution_count": null,
   "id": "9c850d13",
   "metadata": {},
   "outputs": [
    {
     "name": "stdout",
     "output_type": "stream",
     "text": [
      "Index(['   name', 'Character', 'r0le', 'TITLE', '  Type', 'release Year',\n",
      "       'genres', 'imdb sc0re', 'imdb v0tes'],\n",
      "      dtype='object')\n"
     ]
    }
   ],
   "source": [
    "# the list of column names in the df table\n",
    "print(golden_age.columns)"
   ]
  },
  {
   "cell_type": "markdown",
   "id": "5f966df9",
   "metadata": {},
   "source": [
    "Change the column names according to the rules of good style:\n",
    "* If the name has several words, use snake_case\n",
    "* All characters must be lowercase\n",
    "* Remove whitespace\n",
    "* Replace zero with letter 'o'"
   ]
  },
  {
   "cell_type": "code",
   "execution_count": null,
   "id": "23a1dc11",
   "metadata": {},
   "outputs": [
    {
     "name": "stdout",
     "output_type": "stream",
     "text": [
      "Index(['name', 'character', 'role', 'title', 'type', 'release_year', 'genres',\n",
      "       'imdb_score', 'imdb_votes'],\n",
      "      dtype='object')\n"
     ]
    }
   ],
   "source": [
    "# renaming columns\n",
    "golden_age = golden_age.rename(columns={'Character':'character','   name':'name','r0le':'role','TITLE':'title','  Type':'type','release Year':'release_year','imdb sc0re':'imdb_score','imdb v0tes':'imdb_votes'})# the list of column names in the df table\n",
    "print(golden_age.columns)"
   ]
  },
  {
   "cell_type": "markdown",
   "id": "464fbd04",
   "metadata": {},
   "source": [
    "Check the result. Print the names of the columns once more:"
   ]
  },
  {
   "cell_type": "code",
   "execution_count": null,
   "id": "0eb6527f",
   "metadata": {},
   "outputs": [
    {
     "name": "stdout",
     "output_type": "stream",
     "text": [
      "Index(['name', 'character', 'role', 'title', 'type', 'release_year', 'genres',\n",
      "       'imdb_score', 'imdb_votes'],\n",
      "      dtype='object')\n"
     ]
    }
   ],
   "source": [
    "# checking result: the list of column names\n",
    "print(golden_age.columns)\n",
    "\n"
   ]
  },
  {
   "cell_type": "markdown",
   "id": "14d9c319",
   "metadata": {},
   "source": [
    "### Missing values <a id='missing_values'></a>\n",
    "First, find the number of missing values in the table. To do so, combine two `pandas` methods:"
   ]
  },
  {
   "cell_type": "code",
   "execution_count": null,
   "id": "21c427f2",
   "metadata": {},
   "outputs": [
    {
     "name": "stdout",
     "output_type": "stream",
     "text": [
      "name               0\n",
      "character          0\n",
      "role               0\n",
      "title              1\n",
      "type               0\n",
      "release_year       0\n",
      "genres             0\n",
      "imdb_score      4609\n",
      "imdb_votes      4726\n",
      "dtype: int64\n"
     ]
    }
   ],
   "source": [
    "# calculating missing values\n",
    "print(golden_age.isna().sum())\n"
   ]
  },
  {
   "cell_type": "markdown",
   "id": "c8272df3",
   "metadata": {},
   "source": [
    "We identified missing values in several columns. While the missing value in `'title'` isn't critical, missing values in `'imdb_score'` and `'imdb_votes'` affect around 6% of the data, which could impact our analysis. To ensure data integrity, we'll drop all rows with missing values."
   ]
  },
  {
   "cell_type": "code",
   "execution_count": null,
   "id": "599d5550",
   "metadata": {},
   "outputs": [],
   "source": [
    "# dropping rows where columns with scores, and votes have missing values\n",
    "golden_age = golden_age.dropna(subset=['imdb_score','imdb_votes'])\n"
   ]
  },
  {
   "cell_type": "markdown",
   "id": "2156887f",
   "metadata": {},
   "source": [
    "Make sure the table doesn't contain any more missing values. Count the missing values again."
   ]
  },
  {
   "cell_type": "code",
   "execution_count": null,
   "id": "55c0b0ce",
   "metadata": {},
   "outputs": [
    {
     "name": "stdout",
     "output_type": "stream",
     "text": [
      "name            0\n",
      "character       0\n",
      "role            0\n",
      "title           0\n",
      "type            0\n",
      "release_year    0\n",
      "genres          0\n",
      "imdb_score      0\n",
      "imdb_votes      0\n",
      "dtype: int64\n"
     ]
    }
   ],
   "source": [
    "# counting missing values\n",
    "print(golden_age.isna().sum())\n"
   ]
  },
  {
   "cell_type": "markdown",
   "id": "a7dc7aa0",
   "metadata": {},
   "source": [
    "### Duplicates <a id='duplicates'></a>\n",
    "Find the number of duplicate rows in the table using one command:"
   ]
  },
  {
   "cell_type": "code",
   "execution_count": null,
   "id": "9227df01",
   "metadata": {},
   "outputs": [
    {
     "name": "stdout",
     "output_type": "stream",
     "text": [
      "6994\n"
     ]
    }
   ],
   "source": [
    "# counting duplicate rows\n",
    "duplicates = golden_age.duplicated()\n",
    "print(duplicates.sum())\n"
   ]
  },
  {
   "cell_type": "markdown",
   "id": "5f6eb0fc",
   "metadata": {},
   "source": [
    "Review the duplicate rows to determine if removing them would distort our dataset."
   ]
  },
  {
   "cell_type": "code",
   "execution_count": null,
   "id": "bcf32fcb",
   "metadata": {},
   "outputs": [
    {
     "name": "stdout",
     "output_type": "stream",
     "text": [
      "                      name                 character   role    title   type  \\\n",
      "85569       Jessica Cediel           Liliana Navarro  ACTOR  Lokillo  MOVIE   \n",
      "85570  Javier Gardeaz?­bal  Agust??n \"Peluca\" Ort??z  ACTOR  Lokillo  MOVIE   \n",
      "85571        Carla Giraldo            Valery Reinoso  ACTOR  Lokillo  MOVIE   \n",
      "85572  Ana Mar??a S?­nchez                   Lourdes  ACTOR  Lokillo  MOVIE   \n",
      "85577         Isabel Gaona                    Cacica  ACTOR  Lokillo  MOVIE   \n",
      "\n",
      "       release_year      genres  imdb_score  imdb_votes  \n",
      "85569          2021  ['comedy']         3.8        68.0  \n",
      "85570          2021  ['comedy']         3.8        68.0  \n",
      "85571          2021  ['comedy']         3.8        68.0  \n",
      "85572          2021  ['comedy']         3.8        68.0  \n",
      "85577          2021  ['comedy']         3.8        68.0  \n"
     ]
    }
   ],
   "source": [
    "# Produce table with duplicates (with original rows included) and review last 5 rows\n",
    "duplicates_rows = golden_age[golden_age.duplicated(keep=False)]\n",
    "print(duplicates_rows.tail(5))\n",
    "\n",
    "\n"
   ]
  },
  {
   "cell_type": "markdown",
   "id": "a1ed6640",
   "metadata": {},
   "source": [
    "There are two clear duplicates in the printed rows. We can safely remove them.\n",
    "Call the `pandas` method for getting rid of duplicate rows:"
   ]
  },
  {
   "cell_type": "code",
   "execution_count": null,
   "id": "724d5bc8",
   "metadata": {},
   "outputs": [],
   "source": [
    "# removing duplicate rows\n",
    "golden_age = golden_age.drop_duplicates()\n",
    "\n"
   ]
  },
  {
   "cell_type": "markdown",
   "id": "fc8c77ba",
   "metadata": {},
   "source": [
    "Check for duplicate rows once more to make sure you have removed all of them:"
   ]
  },
  {
   "cell_type": "code",
   "execution_count": null,
   "id": "8091a9bc",
   "metadata": {},
   "outputs": [
    {
     "name": "stdout",
     "output_type": "stream",
     "text": [
      "0\n"
     ]
    }
   ],
   "source": [
    "# checking for duplicates\n",
    "duplicates_2 = golden_age.duplicated()\n",
    "print(duplicates_2.sum())\n",
    "\n"
   ]
  },
  {
   "cell_type": "markdown",
   "id": "1d802b07",
   "metadata": {},
   "source": [
    "Now get rid of implicit duplicates in the `'type'` column. For example, the string `'SHOW'` can be written in different ways. These kinds of errors will also affect the result."
   ]
  },
  {
   "cell_type": "markdown",
   "id": "d5f987ed",
   "metadata": {},
   "source": [
    "Print a list of unique `'type'` names, sorted in alphabetical order. To do so:\n",
    "* Retrieve the intended dataframe column \n",
    "* Apply a sorting method to it\n",
    "* For the sorted column, call the method that will return all unique column values"
   ]
  },
  {
   "cell_type": "code",
   "execution_count": null,
   "id": "3d7b0ac5",
   "metadata": {},
   "outputs": [
    {
     "data": {
      "text/plain": [
       "array(['MOVIE', 'the movie', 'tv show', 'shows', 'movies', 'tv shows',\n",
       "       'tv series', 'tv', 'SHOW'], dtype=object)"
      ]
     },
     "execution_count": 15,
     "metadata": {},
     "output_type": "execute_result"
    }
   ],
   "source": [
    "# viewing unique type names\n",
    "golden_age['type'].unique()\n",
    "\n"
   ]
  },
  {
   "cell_type": "markdown",
   "id": "ac6e8b18",
   "metadata": {},
   "source": [
    "Look through the list to find implicit duplicates of `'show'` (`'movie'` duplicates will be ignored since the assumption is about shows). These could be names written incorrectly or alternative names of the same genre.\n",
    "\n",
    "You will see the following implicit duplicates:\n",
    "* `'shows'`\n",
    "* `'SHOW'`\n",
    "* `'tv show'`\n",
    "* `'tv shows'`\n",
    "* `'tv series'`\n",
    "* `'tv'`\n",
    "\n",
    "To get rid of them, declare the function `replace_wrong_show()` with two parameters: \n",
    "* `wrong_shows_list=` — the list of duplicates\n",
    "* `correct_show=` — the string with the correct value\n",
    "\n",
    "The function should correct the names in the `'type'` column from the `df` table (i.e., replace each value from the `wrong_shows_list` list with the value in `correct_show`)."
   ]
  },
  {
   "cell_type": "code",
   "execution_count": null,
   "id": "bff944f9",
   "metadata": {},
   "outputs": [
    {
     "name": "stdout",
     "output_type": "stream",
     "text": [
      "['MOVIE' 'the movie' 'tv show' 'shows' 'movies' 'tv shows' 'tv series'\n",
      " 'tv' 'SHOW']\n"
     ]
    }
   ],
   "source": [
    "# function for replacing implicit duplicates\n",
    "def replace_wrong_show(golden_age, wrong_shows_list, correct_show):\n",
    "    golden_age['type'].replace(wrong_shows_list, correct_show)\n",
    "               \n",
    "wrong_shows_list = ['shows', 'SHOW', 'tv show', 'tv series', 'tv']\n",
    "correct_show = 'show'\n",
    "               \n",
    "replace_wrong_show(golden_age, wrong_shows_list, correct_show)\n",
    "            \n",
    "print(golden_age['type'].unique())\n",
    "               "
   ]
  },
  {
   "cell_type": "markdown",
   "id": "d02d13a6",
   "metadata": {},
   "source": [
    "Call `replace_wrong_show()` and pass it arguments so that it clears implicit duplicates and replaces them with `SHOW`:"
   ]
  },
  {
   "cell_type": "code",
   "execution_count": null,
   "id": "a2217e53",
   "metadata": {},
   "outputs": [],
   "source": [
    "# removing implicit duplicates\n",
    "golden_age['type'] = golden_age['type'].replace(['shows', 'tv show', 'tv series', 'tv', 'tv shows'], 'SHOW')\n",
    "\n"
   ]
  },
  {
   "cell_type": "markdown",
   "id": "18b2049e",
   "metadata": {},
   "source": [
    "### Conclusions <a id='data_preprocessing_conclusions'></a>\n",
    "We detected three issues with the data:\n",
    "\n",
    "- Incorrect header styles\n",
    "- Missing values\n",
    "- Duplicate rows and implicit duplicates\n",
    "\n",
    "The headers have been cleaned up to make processing the table simpler.\n",
    "\n",
    "All rows with missing values have been removed. \n",
    "\n",
    "The absence of duplicates will make the results more precise and easier to understand.\n",
    "\n",
    "Now we can move on to our analysis of the prepared data."
   ]
  },
  {
   "cell_type": "markdown",
   "id": "1aa0f1b1",
   "metadata": {},
   "source": [
    "## Stage 3. Data analysis <a id='hypotheses'></a>"
   ]
  },
  {
   "cell_type": "markdown",
   "id": "f8fb6a0e",
   "metadata": {},
   "source": [
    "Based on the previous project stages, you can now define how the assumption will be checked. Calculate the average amount of votes for each score (this data is available in the `imdb_score` and `imdb_votes` columns), and then check how these averages relate to each other. If the averages for shows with the highest scores are bigger than those for shows with lower scores, the assumption appears to be true.\n",
    "\n",
    "Based on this, complete the following steps:\n",
    "\n",
    "- Filter the dataframe to only include shows released in 1999 or later.\n",
    "- Group scores into buckets by rounding the values of the appropriate column (a set of 1-10 integers will help us make the outcome of our calculations more evident without damaging the quality of our research).\n",
    "- Identify outliers among scores based on their number of votes, and exclude scores with few votes.\n",
    "- Calculate the average votes for each score and check whether the assumption matches the results."
   ]
  },
  {
   "cell_type": "markdown",
   "id": "0ea2cb51",
   "metadata": {},
   "source": [
    "To filter the dataframe and only include shows released in 1999 or later, you will take two steps. First, keep only titles published in 1999 or later in our dataframe. Then, filter the table to only contain shows (movies will be removed)."
   ]
  },
  {
   "cell_type": "code",
   "execution_count": 19,
   "id": "6a704aa1",
   "metadata": {},
   "outputs": [
    {
     "name": "stdout",
     "output_type": "stream",
     "text": [
      "                     name            character      role     title       type  \\\n",
      "1664          Jeff Probst       Himself - Host     ACTOR  Survivor       SHOW   \n",
      "1955     Benicio del Toro  Franky Four Fingers     ACTOR    Snatch      MOVIE   \n",
      "1956        Dennis Farina           Cousin Avi     ACTOR    Snatch      MOVIE   \n",
      "1957         Vinnie Jones    Bullet Tooth Tony     ACTOR    Snatch      MOVIE   \n",
      "1958            Brad Pitt        Mickey O'Neil     ACTOR    Snatch      MOVIE   \n",
      "...                   ...                  ...       ...       ...        ...   \n",
      "85573       A??da Morales              Maritza     ACTOR   Lokillo  the movie   \n",
      "85574    Adelaida Buscato           Mar??a Paz     ACTOR   Lokillo  the movie   \n",
      "85575  Luz Stella Luengas         Karen Bayona     ACTOR   Lokillo  the movie   \n",
      "85576        In??s Prieto                Fanny     ACTOR   Lokillo  the movie   \n",
      "85578      Julian Gaviria              unknown  DIRECTOR   Lokillo  the movie   \n",
      "\n",
      "       release_year               genres  imdb_score  imdb_votes  \n",
      "1664           2000          ['reality']         7.4     24687.0  \n",
      "1955           2000  ['crime', 'comedy']         8.3    841435.0  \n",
      "1956           2000  ['crime', 'comedy']         8.3    841435.0  \n",
      "1957           2000  ['crime', 'comedy']         8.3    841435.0  \n",
      "1958           2000  ['crime', 'comedy']         8.3    841435.0  \n",
      "...             ...                  ...         ...         ...  \n",
      "85573          2021           ['comedy']         3.8        68.0  \n",
      "85574          2021           ['comedy']         3.8        68.0  \n",
      "85575          2021           ['comedy']         3.8        68.0  \n",
      "85576          2021           ['comedy']         3.8        68.0  \n",
      "85578          2021           ['comedy']         3.8        68.0  \n",
      "\n",
      "[69881 rows x 9 columns]\n"
     ]
    }
   ],
   "source": [
    "golden_age_1999 = golden_age[golden_age['release_year'] > 1998]\n",
    "print(golden_age_1999)# using conditional indexing modify df so it has only titles released after 1999 (with 1999 included)\n",
    "# give the slice of dataframe new name\n"
   ]
  },
  {
   "cell_type": "code",
   "execution_count": 20,
   "id": "128dc6a9",
   "metadata": {
    "scrolled": true
   },
   "outputs": [
    {
     "name": "stdout",
     "output_type": "stream",
     "text": [
      "                      name                character      role      title  \\\n",
      "1664           Jeff Probst           Himself - Host     ACTOR   Survivor   \n",
      "2076         Mayumi Tanaka  Monkey D. Luffy (voice)     ACTOR  One Piece   \n",
      "2077          Kazuya Nakai     Roronoa Zoro (voice)     ACTOR  One Piece   \n",
      "2078         Akemi Okamura             Nami (voice)     ACTOR  One Piece   \n",
      "2079      Kappei Yamaguchi            Usopp (voice)     ACTOR  One Piece   \n",
      "...                    ...                      ...       ...        ...   \n",
      "85433     Maneerat Kam-Uan                       Ae     ACTOR  Let's Eat   \n",
      "85434    Rudklao Amratisha                  unknown     ACTOR  Let's Eat   \n",
      "85435      Jaturong Mokjok                  unknown     ACTOR  Let's Eat   \n",
      "85436     Pisamai Wilaisak                  unknown     ACTOR  Let's Eat   \n",
      "85437  Sarawut Wichiensarn                  unknown  DIRECTOR  Let's Eat   \n",
      "\n",
      "       type  release_year                                             genres  \\\n",
      "1664   SHOW          2000                                        ['reality']   \n",
      "2076   SHOW          1999  ['animation', 'action', 'comedy', 'drama', 'fa...   \n",
      "2077   SHOW          1999  ['animation', 'action', 'comedy', 'drama', 'fa...   \n",
      "2078   SHOW          1999  ['animation', 'action', 'comedy', 'drama', 'fa...   \n",
      "2079   SHOW          1999  ['animation', 'action', 'comedy', 'drama', 'fa...   \n",
      "...     ...           ...                                                ...   \n",
      "85433  SHOW          2021                                ['drama', 'comedy']   \n",
      "85434  SHOW          2021                                ['drama', 'comedy']   \n",
      "85435  SHOW          2021                                ['drama', 'comedy']   \n",
      "85436  SHOW          2021                                ['drama', 'comedy']   \n",
      "85437  SHOW          2021                                ['drama', 'comedy']   \n",
      "\n",
      "       imdb_score  imdb_votes  \n",
      "1664          7.4     24687.0  \n",
      "2076          8.8    117129.0  \n",
      "2077          8.8    117129.0  \n",
      "2078          8.8    117129.0  \n",
      "2079          8.8    117129.0  \n",
      "...           ...         ...  \n",
      "85433         8.2         5.0  \n",
      "85434         8.2         5.0  \n",
      "85435         8.2         5.0  \n",
      "85436         8.2         5.0  \n",
      "85437         8.2         5.0  \n",
      "\n",
      "[13430 rows x 9 columns]\n"
     ]
    }
   ],
   "source": [
    "golden_age_shows_1999 = golden_age_1999[golden_age_1999['type'] == 'SHOW']# repeat conditional indexing so df has only shows (movies are removed as result)\n",
    "print(golden_age_shows_1999)"
   ]
  },
  {
   "cell_type": "markdown",
   "id": "9648040c",
   "metadata": {},
   "source": [
    "The scores that are to be grouped should be rounded. For instance, titles with scores like 7.8, 8.1, and 8.3 will all be placed in the same bucket with a score of 8."
   ]
  },
  {
   "cell_type": "code",
   "execution_count": 21,
   "id": "54bbd5c0",
   "metadata": {},
   "outputs": [
    {
     "name": "stdout",
     "output_type": "stream",
     "text": [
      "                        name character      role  \\\n",
      "85411        Wanessa Camargo   unknown     ACTOR   \n",
      "85429     Pranapong Khaisang       Tod     ACTOR   \n",
      "85430  Apinya Sakuljaroensuk   Saiparn     ACTOR   \n",
      "85431         Mawin Taweepol       Win     ACTOR   \n",
      "85432          Nat Sakdatorn   unknown     ACTOR   \n",
      "85433       Maneerat Kam-Uan        Ae     ACTOR   \n",
      "85434      Rudklao Amratisha   unknown     ACTOR   \n",
      "85435        Jaturong Mokjok   unknown     ACTOR   \n",
      "85436       Pisamai Wilaisak   unknown     ACTOR   \n",
      "85437    Sarawut Wichiensarn   unknown  DIRECTOR   \n",
      "\n",
      "                                              title  type  release_year  \\\n",
      "85411  The Family That Sings Together: The Camargos  SHOW          2021   \n",
      "85429                                     Let's Eat  SHOW          2021   \n",
      "85430                                     Let's Eat  SHOW          2021   \n",
      "85431                                     Let's Eat  SHOW          2021   \n",
      "85432                                     Let's Eat  SHOW          2021   \n",
      "85433                                     Let's Eat  SHOW          2021   \n",
      "85434                                     Let's Eat  SHOW          2021   \n",
      "85435                                     Let's Eat  SHOW          2021   \n",
      "85436                                     Let's Eat  SHOW          2021   \n",
      "85437                                     Let's Eat  SHOW          2021   \n",
      "\n",
      "                                      genres  imdb_score  imdb_votes  \n",
      "85411  ['documentation', 'music', 'reality']         5.0        45.0  \n",
      "85429                    ['drama', 'comedy']         8.0         5.0  \n",
      "85430                    ['drama', 'comedy']         8.0         5.0  \n",
      "85431                    ['drama', 'comedy']         8.0         5.0  \n",
      "85432                    ['drama', 'comedy']         8.0         5.0  \n",
      "85433                    ['drama', 'comedy']         8.0         5.0  \n",
      "85434                    ['drama', 'comedy']         8.0         5.0  \n",
      "85435                    ['drama', 'comedy']         8.0         5.0  \n",
      "85436                    ['drama', 'comedy']         8.0         5.0  \n",
      "85437                    ['drama', 'comedy']         8.0         5.0  \n"
     ]
    },
    {
     "name": "stderr",
     "output_type": "stream",
     "text": [
      "/tmp/ipykernel_68/2469738091.py:1: SettingWithCopyWarning: \n",
      "A value is trying to be set on a copy of a slice from a DataFrame.\n",
      "Try using .loc[row_indexer,col_indexer] = value instead\n",
      "\n",
      "See the caveats in the documentation: https://pandas.pydata.org/pandas-docs/stable/user_guide/indexing.html#returning-a-view-versus-a-copy\n",
      "  golden_age_shows_1999['imdb_score'] = golden_age_shows_1999['imdb_score'].round()# rounding column with scores\n"
     ]
    }
   ],
   "source": [
    "golden_age_shows_1999['imdb_score'] = golden_age_shows_1999['imdb_score'].round()# rounding column with scores\n",
    "\n",
    "print(golden_age_shows_1999.tail(10))#checking the outcome with tail()\n"
   ]
  },
  {
   "cell_type": "markdown",
   "id": "36dbd00a",
   "metadata": {},
   "source": [
    "It is now time to identify outliers based on the number of votes."
   ]
  },
  {
   "cell_type": "code",
   "execution_count": 22,
   "id": "b8b55e95",
   "metadata": {},
   "outputs": [
    {
     "name": "stdout",
     "output_type": "stream",
     "text": [
      "imdb_score\n",
      "2.0       24\n",
      "3.0       27\n",
      "4.0      180\n",
      "5.0      592\n",
      "6.0     2494\n",
      "7.0     4706\n",
      "8.0     4842\n",
      "9.0      557\n",
      "10.0       8\n",
      "Name: imdb_votes, dtype: int64\n"
     ]
    }
   ],
   "source": [
    "imdb_groups = golden_age_shows_1999.groupby('imdb_score')['imdb_votes'].count()\n",
    "print(imdb_groups)# Use groupby() for scores and count all unique values in each group, print the result\n"
   ]
  },
  {
   "cell_type": "markdown",
   "id": "1ba6daae",
   "metadata": {},
   "source": [
    "Based on the aggregation performed, it is evident that scores 2 (24 voted shows), 3 (27 voted shows), and 10 (only 8 voted shows) are outliers. There isn't enough data for these scores for the average number of votes to be meaningful."
   ]
  },
  {
   "cell_type": "markdown",
   "id": "bd468c46",
   "metadata": {},
   "source": [
    "To obtain the mean numbers of votes for the selected scores (we identified a range of 4-9 as acceptable), use conditional filtering and grouping."
   ]
  },
  {
   "cell_type": "code",
   "execution_count": 23,
   "id": "d1867e0e",
   "metadata": {},
   "outputs": [
    {
     "name": "stdout",
     "output_type": "stream",
     "text": [
      "   imdb_score     imdb_votes\n",
      "0         4.0    5277.583333\n",
      "1         5.0    3143.942568\n",
      "2         6.0    3481.717322\n",
      "3         7.0    8727.068211\n",
      "4         8.0   30299.460967\n",
      "5         9.0  126904.109515\n"
     ]
    }
   ],
   "source": [
    "filter_imdb = golden_age_shows_1999[(golden_age_shows_1999['imdb_score'] > 3) & (golden_age_shows_1999['imdb_score'] < 10)]\n",
    "# filter dataframe using two conditions (scores to be in the range 4-9)\n",
    "\n",
    "group_imdb = filter_imdb.groupby('imdb_score')['imdb_votes'].mean().reset_index()\n",
    "# group scores and corresponding average number of votes, reset index and print the result\n",
    "print(group_imdb)"
   ]
  },
  {
   "cell_type": "markdown",
   "id": "96a66d14",
   "metadata": {},
   "source": [
    "Now for the final step! Round the column with the averages, rename both columns, and print the dataframe in descending order."
   ]
  },
  {
   "cell_type": "code",
   "execution_count": 24,
   "id": "5999051b",
   "metadata": {},
   "outputs": [
    {
     "name": "stdout",
     "output_type": "stream",
     "text": [
      "   score      votes\n",
      "5    9.0  126904.11\n",
      "4    8.0   30299.46\n",
      "3    7.0    8727.07\n",
      "0    4.0    5277.58\n",
      "2    6.0    3481.72\n",
      "1    5.0    3143.94\n"
     ]
    }
   ],
   "source": [
    "group_imdb['imdb_votes'] = group_imdb['imdb_votes'].round(2)\n",
    "# round column with averages\n",
    "group_imdb = group_imdb.rename(columns={'imdb_score':'score','imdb_votes':'votes'})\n",
    "# rename columns\n",
    "group_imdb_sort = group_imdb.sort_values(by='votes', ascending=False)\n",
    "# print dataframe in descending order\n",
    "print(group_imdb_sort)"
   ]
  },
  {
   "cell_type": "markdown",
   "id": "af07386d",
   "metadata": {},
   "source": [
    "The assumption macthes the analysis: the shows with the top 3 scores have the most amounts of votes."
   ]
  },
  {
   "cell_type": "markdown",
   "id": "84e29a37",
   "metadata": {},
   "source": [
    "## Conclusion <a id='hypotheses'></a>"
   ]
  },
  {
   "cell_type": "markdown",
   "id": "984766a3",
   "metadata": {},
   "source": [
    "The research done confirms that highly-rated shows released during the \"Golden Age\" of television also have the most votes. While shows with score 4 have more votes than ones with scores 5 and 6, the top three (scores 7-9) have the largest number. The data studied represents around 94% of the original set, so we can be confident in our findings."
   ]
  },
  {
   "cell_type": "code",
   "execution_count": null,
   "id": "0d9de8e1",
   "metadata": {},
   "outputs": [],
   "source": []
  }
 ],
 "metadata": {
  "ExecuteTimeLog": [
   {
    "duration": 319,
    "start_time": "2024-09-10T18:47:14.025Z"
   },
   {
    "duration": 198,
    "start_time": "2024-09-10T18:50:26.073Z"
   },
   {
    "duration": 388,
    "start_time": "2024-09-10T18:50:46.061Z"
   },
   {
    "duration": 162,
    "start_time": "2024-09-10T18:51:17.100Z"
   },
   {
    "duration": 4,
    "start_time": "2024-09-10T18:51:22.749Z"
   },
   {
    "duration": 8,
    "start_time": "2024-09-10T18:51:36.750Z"
   },
   {
    "duration": 15,
    "start_time": "2024-09-10T18:53:02.648Z"
   },
   {
    "duration": 22,
    "start_time": "2024-09-10T18:53:59.960Z"
   },
   {
    "duration": 6,
    "start_time": "2024-09-10T19:00:35.767Z"
   },
   {
    "duration": 18,
    "start_time": "2024-09-10T19:00:46.963Z"
   },
   {
    "duration": 4,
    "start_time": "2024-09-10T19:01:02.541Z"
   },
   {
    "duration": 7,
    "start_time": "2024-09-10T19:02:15.953Z"
   },
   {
    "duration": 6,
    "start_time": "2024-09-10T19:03:38.705Z"
   },
   {
    "duration": 6,
    "start_time": "2024-09-10T19:04:52.414Z"
   },
   {
    "duration": 2,
    "start_time": "2024-09-10T19:05:02.060Z"
   },
   {
    "duration": 7,
    "start_time": "2024-09-10T19:05:12.981Z"
   },
   {
    "duration": 3,
    "start_time": "2024-09-10T19:05:16.156Z"
   },
   {
    "duration": 3,
    "start_time": "2024-09-10T19:05:53.118Z"
   },
   {
    "duration": 18,
    "start_time": "2024-09-10T19:08:05.250Z"
   },
   {
    "duration": 17,
    "start_time": "2024-09-10T19:10:54.129Z"
   },
   {
    "duration": 18,
    "start_time": "2024-09-10T19:10:58.047Z"
   },
   {
    "duration": 41,
    "start_time": "2024-09-10T19:11:34.890Z"
   },
   {
    "duration": 12,
    "start_time": "2024-09-10T19:11:52.506Z"
   },
   {
    "duration": 38,
    "start_time": "2024-09-10T19:12:41.687Z"
   },
   {
    "duration": 37,
    "start_time": "2024-09-10T19:13:39.894Z"
   },
   {
    "duration": 2,
    "start_time": "2024-09-10T19:13:46.456Z"
   },
   {
    "duration": 4,
    "start_time": "2024-09-10T19:14:03.808Z"
   },
   {
    "duration": 3,
    "start_time": "2024-09-10T19:14:11.215Z"
   },
   {
    "duration": 5,
    "start_time": "2024-09-10T19:16:28.029Z"
   },
   {
    "duration": 4,
    "start_time": "2024-09-10T19:31:21.529Z"
   },
   {
    "duration": 5,
    "start_time": "2024-09-10T19:31:32.981Z"
   },
   {
    "duration": 4,
    "start_time": "2024-09-10T19:32:35.459Z"
   },
   {
    "duration": 4,
    "start_time": "2024-09-10T19:34:14.776Z"
   },
   {
    "duration": 158,
    "start_time": "2024-09-10T19:39:59.175Z"
   },
   {
    "duration": 12,
    "start_time": "2024-09-10T19:41:08.415Z"
   },
   {
    "duration": 302,
    "start_time": "2024-09-10T19:42:13.905Z"
   },
   {
    "duration": 114,
    "start_time": "2024-09-10T19:42:16.024Z"
   },
   {
    "duration": 8,
    "start_time": "2024-09-10T19:42:18.695Z"
   },
   {
    "duration": 20,
    "start_time": "2024-09-10T19:42:20.884Z"
   },
   {
    "duration": 3,
    "start_time": "2024-09-10T19:42:24.350Z"
   },
   {
    "duration": 7,
    "start_time": "2024-09-10T19:42:29.976Z"
   },
   {
    "duration": 4,
    "start_time": "2024-09-10T19:42:31.751Z"
   },
   {
    "duration": 18,
    "start_time": "2024-09-10T19:42:33.649Z"
   },
   {
    "duration": 12,
    "start_time": "2024-09-10T19:42:36.290Z"
   },
   {
    "duration": 18,
    "start_time": "2024-09-10T19:42:37.815Z"
   },
   {
    "duration": 40,
    "start_time": "2024-09-10T19:42:41.436Z"
   },
   {
    "duration": 37,
    "start_time": "2024-09-10T19:42:57.525Z"
   },
   {
    "duration": 56,
    "start_time": "2024-09-10T19:43:07.919Z"
   },
   {
    "duration": 46,
    "start_time": "2024-09-10T19:43:20.363Z"
   },
   {
    "duration": 44,
    "start_time": "2024-09-10T19:47:45.659Z"
   },
   {
    "duration": 8,
    "start_time": "2024-09-10T19:47:47.697Z"
   },
   {
    "duration": 40,
    "start_time": "2024-09-10T19:49:08.318Z"
   },
   {
    "duration": 413,
    "start_time": "2024-09-10T19:50:46.938Z"
   },
   {
    "duration": 40,
    "start_time": "2024-09-10T19:50:54.951Z"
   },
   {
    "duration": 6,
    "start_time": "2024-09-10T19:51:11.826Z"
   },
   {
    "duration": 5,
    "start_time": "2024-09-10T20:12:34.059Z"
   },
   {
    "duration": 4,
    "start_time": "2024-09-10T20:12:55.349Z"
   },
   {
    "duration": 4,
    "start_time": "2024-09-10T20:13:32.406Z"
   },
   {
    "duration": 19,
    "start_time": "2024-09-10T20:13:43.805Z"
   },
   {
    "duration": 15,
    "start_time": "2024-09-10T20:13:57.900Z"
   },
   {
    "duration": 4,
    "start_time": "2024-09-10T20:14:15.134Z"
   },
   {
    "duration": 2,
    "start_time": "2024-09-10T20:14:17.573Z"
   },
   {
    "duration": 16,
    "start_time": "2024-09-10T20:17:56.818Z"
   },
   {
    "duration": 5,
    "start_time": "2024-09-10T20:18:15.480Z"
   },
   {
    "duration": 13,
    "start_time": "2024-09-10T20:21:22.002Z"
   },
   {
    "duration": 16,
    "start_time": "2024-09-10T20:21:37.894Z"
   },
   {
    "duration": 15,
    "start_time": "2024-09-10T20:21:48.837Z"
   },
   {
    "duration": 5,
    "start_time": "2024-09-10T20:21:53.958Z"
   },
   {
    "duration": 14,
    "start_time": "2024-09-10T20:22:02.788Z"
   },
   {
    "duration": 6,
    "start_time": "2024-09-10T20:22:06.733Z"
   },
   {
    "duration": 3,
    "start_time": "2024-09-10T20:28:42.590Z"
   },
   {
    "duration": 5,
    "start_time": "2024-09-10T20:28:53.698Z"
   },
   {
    "duration": 4,
    "start_time": "2024-09-10T20:29:37.814Z"
   },
   {
    "duration": 4,
    "start_time": "2024-09-10T20:29:47.501Z"
   },
   {
    "duration": 4,
    "start_time": "2024-09-10T20:29:54.231Z"
   },
   {
    "duration": 4,
    "start_time": "2024-09-10T20:30:43.041Z"
   },
   {
    "duration": 12,
    "start_time": "2024-09-10T20:31:19.037Z"
   },
   {
    "duration": 3,
    "start_time": "2024-09-10T20:31:32.285Z"
   },
   {
    "duration": 8,
    "start_time": "2024-09-10T20:31:33.980Z"
   },
   {
    "duration": 14,
    "start_time": "2024-09-10T20:31:42.008Z"
   },
   {
    "duration": 7,
    "start_time": "2024-09-10T20:32:00.879Z"
   },
   {
    "duration": 12,
    "start_time": "2024-09-10T20:32:32.902Z"
   },
   {
    "duration": 8,
    "start_time": "2024-09-10T20:35:07.213Z"
   },
   {
    "duration": 5,
    "start_time": "2024-09-10T20:40:18.497Z"
   },
   {
    "duration": 151,
    "start_time": "2024-09-10T20:49:31.592Z"
   },
   {
    "duration": 117,
    "start_time": "2024-09-10T20:53:12.227Z"
   },
   {
    "duration": 50,
    "start_time": "2024-09-10T20:54:30.424Z"
   },
   {
    "duration": 80,
    "start_time": "2024-09-10T20:56:22.588Z"
   },
   {
    "duration": 53,
    "start_time": "2024-09-10T20:57:49.175Z"
   },
   {
    "duration": 51,
    "start_time": "2024-09-10T20:58:35.521Z"
   },
   {
    "duration": 14,
    "start_time": "2024-09-10T21:00:24.247Z"
   },
   {
    "duration": 6,
    "start_time": "2024-09-10T21:00:31.846Z"
   },
   {
    "duration": 50,
    "start_time": "2024-09-10T21:11:39.351Z"
   },
   {
    "duration": 45,
    "start_time": "2024-09-10T21:12:03.701Z"
   },
   {
    "duration": 189,
    "start_time": "2024-09-16T20:38:07.908Z"
   },
   {
    "duration": 18,
    "start_time": "2024-09-16T20:38:53.338Z"
   },
   {
    "duration": 360,
    "start_time": "2024-09-16T20:39:07.251Z"
   },
   {
    "duration": 187,
    "start_time": "2024-09-16T20:39:09.434Z"
   },
   {
    "duration": 8,
    "start_time": "2024-09-16T20:39:11.146Z"
   },
   {
    "duration": 20,
    "start_time": "2024-09-16T20:39:13.366Z"
   },
   {
    "duration": 22,
    "start_time": "2024-09-16T20:39:21.234Z"
   },
   {
    "duration": 3,
    "start_time": "2024-09-16T20:39:24.256Z"
   },
   {
    "duration": 9,
    "start_time": "2024-09-16T20:39:26.027Z"
   },
   {
    "duration": 3,
    "start_time": "2024-09-16T20:39:28.192Z"
   },
   {
    "duration": 25,
    "start_time": "2024-09-16T20:39:30.721Z"
   },
   {
    "duration": 21,
    "start_time": "2024-09-16T20:39:32.631Z"
   },
   {
    "duration": 19,
    "start_time": "2024-09-16T20:39:34.201Z"
   },
   {
    "duration": 49,
    "start_time": "2024-09-16T20:39:35.880Z"
   },
   {
    "duration": 48,
    "start_time": "2024-09-16T20:39:37.338Z"
   },
   {
    "duration": 44,
    "start_time": "2024-09-16T20:39:39.177Z"
   },
   {
    "duration": 41,
    "start_time": "2024-09-16T20:39:40.681Z"
   },
   {
    "duration": 7,
    "start_time": "2024-09-16T20:39:43.409Z"
   },
   {
    "duration": 24,
    "start_time": "2024-09-16T20:39:45.305Z"
   },
   {
    "duration": 13,
    "start_time": "2024-09-16T20:39:47.434Z"
   },
   {
    "duration": 7,
    "start_time": "2024-09-16T20:39:49.141Z"
   },
   {
    "duration": 11,
    "start_time": "2024-09-16T20:39:52.260Z"
   },
   {
    "duration": 14,
    "start_time": "2024-09-16T20:39:54.368Z"
   },
   {
    "duration": 8,
    "start_time": "2024-09-16T20:39:57.366Z"
   },
   {
    "duration": 6,
    "start_time": "2024-09-16T20:40:00.658Z"
   },
   {
    "duration": 38,
    "start_time": "2024-09-16T20:40:03.076Z"
   },
   {
    "duration": 15,
    "start_time": "2024-09-16T20:41:00.605Z"
   },
   {
    "duration": 323,
    "start_time": "2024-09-16T20:41:39.864Z"
   },
   {
    "duration": 14,
    "start_time": "2024-09-16T20:42:17.868Z"
   },
   {
    "duration": 12,
    "start_time": "2024-09-16T20:42:35.831Z"
   },
   {
    "duration": 46,
    "start_time": "2024-09-16T20:43:28.289Z"
   },
   {
    "duration": 18,
    "start_time": "2024-09-16T20:44:49.229Z"
   },
   {
    "duration": 72,
    "start_time": "2024-09-16T20:45:03.777Z"
   },
   {
    "duration": 14,
    "start_time": "2024-09-16T20:45:43.289Z"
   },
   {
    "duration": 12,
    "start_time": "2024-09-16T20:45:49.714Z"
   },
   {
    "duration": 46,
    "start_time": "2024-09-16T20:46:12.133Z"
   },
   {
    "duration": 48,
    "start_time": "2024-09-16T20:46:41.362Z"
   },
   {
    "duration": 12,
    "start_time": "2024-09-16T20:47:20.173Z"
   },
   {
    "duration": 5,
    "start_time": "2024-09-16T20:47:29.500Z"
   },
   {
    "duration": 12,
    "start_time": "2024-09-16T20:47:43.414Z"
   },
   {
    "duration": 50,
    "start_time": "2024-09-16T20:48:47.043Z"
   },
   {
    "duration": 6,
    "start_time": "2024-09-16T20:50:27.395Z"
   },
   {
    "duration": 6,
    "start_time": "2024-09-16T20:50:41.688Z"
   },
   {
    "duration": 51,
    "start_time": "2024-09-16T20:50:48.330Z"
   },
   {
    "duration": 249,
    "start_time": "2024-09-16T20:51:19.815Z"
   },
   {
    "duration": 41,
    "start_time": "2024-09-16T20:52:13.107Z"
   },
   {
    "duration": 42,
    "start_time": "2024-09-16T20:53:09.992Z"
   },
   {
    "duration": 39,
    "start_time": "2024-09-16T20:54:07.303Z"
   },
   {
    "duration": 45,
    "start_time": "2024-09-16T21:12:34.485Z"
   },
   {
    "duration": 51,
    "start_time": "2024-09-16T21:12:44.599Z"
   },
   {
    "duration": 48,
    "start_time": "2024-09-16T21:16:48.785Z"
   },
   {
    "duration": 5,
    "start_time": "2024-09-16T21:18:27.305Z"
   },
   {
    "duration": 461,
    "start_time": "2024-09-16T21:19:45.457Z"
   },
   {
    "duration": 18,
    "start_time": "2024-09-16T21:20:21.223Z"
   },
   {
    "duration": 6,
    "start_time": "2024-09-16T21:20:27.153Z"
   },
   {
    "duration": 7,
    "start_time": "2024-09-16T21:21:38.028Z"
   },
   {
    "duration": 6,
    "start_time": "2024-09-16T21:22:31.206Z"
   },
   {
    "duration": 52,
    "start_time": "2024-09-16T21:22:53.162Z"
   },
   {
    "duration": 77,
    "start_time": "2024-09-16T21:23:14.452Z"
   },
   {
    "duration": 50,
    "start_time": "2024-09-16T21:23:31.427Z"
   },
   {
    "duration": 287,
    "start_time": "2024-09-18T18:53:22.090Z"
   },
   {
    "duration": 161,
    "start_time": "2024-09-18T18:53:25.972Z"
   },
   {
    "duration": 8,
    "start_time": "2024-09-18T18:53:28.054Z"
   },
   {
    "duration": 21,
    "start_time": "2024-09-18T18:53:30.770Z"
   },
   {
    "duration": 3,
    "start_time": "2024-09-18T18:53:31.778Z"
   },
   {
    "duration": 10,
    "start_time": "2024-09-18T18:53:32.123Z"
   },
   {
    "duration": 4,
    "start_time": "2024-09-18T18:53:32.480Z"
   },
   {
    "duration": 19,
    "start_time": "2024-09-18T18:53:32.895Z"
   },
   {
    "duration": 11,
    "start_time": "2024-09-18T18:53:33.226Z"
   },
   {
    "duration": 19,
    "start_time": "2024-09-18T18:53:33.825Z"
   },
   {
    "duration": 44,
    "start_time": "2024-09-18T18:53:34.528Z"
   },
   {
    "duration": 47,
    "start_time": "2024-09-18T18:53:35.351Z"
   },
   {
    "duration": 42,
    "start_time": "2024-09-18T18:53:36.178Z"
   },
   {
    "duration": 36,
    "start_time": "2024-09-18T18:53:37.015Z"
   },
   {
    "duration": 7,
    "start_time": "2024-09-18T18:53:39.420Z"
   },
   {
    "duration": 16,
    "start_time": "2024-09-18T18:53:40.872Z"
   },
   {
    "duration": 12,
    "start_time": "2024-09-18T18:53:42.038Z"
   },
   {
    "duration": 7,
    "start_time": "2024-09-18T18:53:43.186Z"
   },
   {
    "duration": 13,
    "start_time": "2024-09-18T18:53:48.487Z"
   },
   {
    "duration": 13,
    "start_time": "2024-09-18T18:53:50.342Z"
   },
   {
    "duration": 7,
    "start_time": "2024-09-18T18:54:30.204Z"
   },
   {
    "duration": 5,
    "start_time": "2024-09-18T18:54:35.555Z"
   },
   {
    "duration": 221,
    "start_time": "2024-09-18T19:01:51.424Z"
   },
   {
    "duration": 357,
    "start_time": "2024-09-18T19:01:58.748Z"
   },
   {
    "duration": 17,
    "start_time": "2024-09-18T19:02:03.472Z"
   },
   {
    "duration": 296,
    "start_time": "2024-09-18T19:36:52.834Z"
   },
   {
    "duration": 129,
    "start_time": "2024-09-18T19:36:53.132Z"
   },
   {
    "duration": 8,
    "start_time": "2024-09-18T19:36:53.263Z"
   },
   {
    "duration": 20,
    "start_time": "2024-09-18T19:36:53.272Z"
   },
   {
    "duration": 2,
    "start_time": "2024-09-18T19:36:53.295Z"
   },
   {
    "duration": 10,
    "start_time": "2024-09-18T19:36:53.299Z"
   },
   {
    "duration": 3,
    "start_time": "2024-09-18T19:36:53.311Z"
   },
   {
    "duration": 40,
    "start_time": "2024-09-18T19:36:53.315Z"
   },
   {
    "duration": 17,
    "start_time": "2024-09-18T19:36:53.358Z"
   },
   {
    "duration": 16,
    "start_time": "2024-09-18T19:36:53.377Z"
   },
   {
    "duration": 75,
    "start_time": "2024-09-18T19:36:53.395Z"
   },
   {
    "duration": 40,
    "start_time": "2024-09-18T19:36:53.472Z"
   },
   {
    "duration": 51,
    "start_time": "2024-09-18T19:36:53.514Z"
   },
   {
    "duration": 36,
    "start_time": "2024-09-18T19:36:53.568Z"
   },
   {
    "duration": 6,
    "start_time": "2024-09-18T19:36:53.606Z"
   },
   {
    "duration": 15,
    "start_time": "2024-09-18T19:36:53.613Z"
   },
   {
    "duration": 18,
    "start_time": "2024-09-18T19:36:53.654Z"
   },
   {
    "duration": 5,
    "start_time": "2024-09-18T19:36:53.674Z"
   },
   {
    "duration": 11,
    "start_time": "2024-09-18T19:36:53.681Z"
   },
   {
    "duration": 11,
    "start_time": "2024-09-18T19:36:53.694Z"
   },
   {
    "duration": 6,
    "start_time": "2024-09-18T19:36:53.707Z"
   },
   {
    "duration": 43,
    "start_time": "2024-09-18T19:36:53.715Z"
   },
   {
    "duration": 542,
    "start_time": "2024-09-18T19:36:53.771Z"
   },
   {
    "duration": 0,
    "start_time": "2024-09-18T19:36:54.314Z"
   },
   {
    "duration": 299,
    "start_time": "2024-10-18T14:52:08.650Z"
   },
   {
    "duration": 143,
    "start_time": "2024-10-18T14:52:10.359Z"
   },
   {
    "duration": 8,
    "start_time": "2024-10-18T14:52:11.950Z"
   },
   {
    "duration": 22,
    "start_time": "2024-10-18T14:52:21.390Z"
   },
   {
    "duration": 4,
    "start_time": "2024-10-18T14:52:31.947Z"
   },
   {
    "duration": 9,
    "start_time": "2024-10-18T14:52:34.563Z"
   },
   {
    "duration": 3,
    "start_time": "2024-10-18T14:52:36.843Z"
   },
   {
    "duration": 18,
    "start_time": "2024-10-18T14:52:37.834Z"
   },
   {
    "duration": 12,
    "start_time": "2024-10-18T14:52:41.006Z"
   },
   {
    "duration": 18,
    "start_time": "2024-10-18T14:52:41.970Z"
   },
   {
    "duration": 40,
    "start_time": "2024-10-18T14:52:43.735Z"
   },
   {
    "duration": 41,
    "start_time": "2024-10-18T14:52:45.744Z"
   },
   {
    "duration": 40,
    "start_time": "2024-10-18T14:52:47.566Z"
   },
   {
    "duration": 35,
    "start_time": "2024-10-18T14:52:48.428Z"
   },
   {
    "duration": 6,
    "start_time": "2024-10-18T14:52:51.435Z"
   },
   {
    "duration": 17,
    "start_time": "2024-10-18T14:52:52.651Z"
   },
   {
    "duration": 13,
    "start_time": "2024-10-18T14:52:54.485Z"
   },
   {
    "duration": 5,
    "start_time": "2024-10-18T14:52:55.362Z"
   },
   {
    "duration": 12,
    "start_time": "2024-10-18T14:53:03.522Z"
   },
   {
    "duration": 12,
    "start_time": "2024-10-18T14:53:07.882Z"
   },
   {
    "duration": 7,
    "start_time": "2024-10-18T14:59:28.690Z"
   },
   {
    "duration": 5,
    "start_time": "2024-10-18T14:59:40.900Z"
   },
   {
    "duration": 9,
    "start_time": "2024-10-18T15:00:55.641Z"
   },
   {
    "duration": 545,
    "start_time": "2024-10-18T15:01:05.967Z"
   },
   {
    "duration": 40,
    "start_time": "2024-10-18T15:01:53.525Z"
   },
   {
    "duration": 38,
    "start_time": "2024-10-18T15:03:15.685Z"
   },
   {
    "duration": 6,
    "start_time": "2024-10-18T15:06:07.413Z"
   },
   {
    "duration": 318,
    "start_time": "2024-10-22T16:04:09.950Z"
   },
   {
    "duration": 118,
    "start_time": "2024-10-22T16:04:10.270Z"
   },
   {
    "duration": 8,
    "start_time": "2024-10-22T16:04:10.390Z"
   },
   {
    "duration": 35,
    "start_time": "2024-10-22T16:04:10.400Z"
   },
   {
    "duration": 2,
    "start_time": "2024-10-22T16:04:10.439Z"
   },
   {
    "duration": 6,
    "start_time": "2024-10-22T16:04:10.443Z"
   },
   {
    "duration": 2,
    "start_time": "2024-10-22T16:04:10.451Z"
   },
   {
    "duration": 18,
    "start_time": "2024-10-22T16:04:10.455Z"
   },
   {
    "duration": 11,
    "start_time": "2024-10-22T16:04:10.474Z"
   },
   {
    "duration": 49,
    "start_time": "2024-10-22T16:04:10.487Z"
   },
   {
    "duration": 37,
    "start_time": "2024-10-22T16:04:10.538Z"
   },
   {
    "duration": 54,
    "start_time": "2024-10-22T16:04:10.577Z"
   },
   {
    "duration": 41,
    "start_time": "2024-10-22T16:04:10.633Z"
   },
   {
    "duration": 36,
    "start_time": "2024-10-22T16:04:10.677Z"
   },
   {
    "duration": 18,
    "start_time": "2024-10-22T16:04:10.715Z"
   },
   {
    "duration": 15,
    "start_time": "2024-10-22T16:04:10.734Z"
   },
   {
    "duration": 13,
    "start_time": "2024-10-22T16:04:10.751Z"
   },
   {
    "duration": 5,
    "start_time": "2024-10-22T16:04:10.765Z"
   },
   {
    "duration": 12,
    "start_time": "2024-10-22T16:04:10.771Z"
   },
   {
    "duration": 11,
    "start_time": "2024-10-22T16:04:10.784Z"
   },
   {
    "duration": 6,
    "start_time": "2024-10-22T16:04:10.831Z"
   },
   {
    "duration": 4,
    "start_time": "2024-10-22T16:04:10.838Z"
   },
   {
    "duration": 7,
    "start_time": "2024-10-22T16:04:10.844Z"
   },
   {
    "duration": 5,
    "start_time": "2024-10-22T16:04:10.853Z"
   },
   {
    "duration": 274,
    "start_time": "2025-03-26T20:38:29.705Z"
   },
   {
    "duration": 139,
    "start_time": "2025-03-26T20:38:29.981Z"
   },
   {
    "duration": 8,
    "start_time": "2025-03-26T20:38:30.122Z"
   },
   {
    "duration": 22,
    "start_time": "2025-03-26T20:38:30.132Z"
   },
   {
    "duration": 3,
    "start_time": "2025-03-26T20:38:30.155Z"
   },
   {
    "duration": 9,
    "start_time": "2025-03-26T20:38:30.159Z"
   },
   {
    "duration": 3,
    "start_time": "2025-03-26T20:38:30.170Z"
   },
   {
    "duration": 17,
    "start_time": "2025-03-26T20:38:30.174Z"
   },
   {
    "duration": 38,
    "start_time": "2025-03-26T20:38:30.193Z"
   },
   {
    "duration": 16,
    "start_time": "2025-03-26T20:38:30.234Z"
   },
   {
    "duration": 39,
    "start_time": "2025-03-26T20:38:30.251Z"
   },
   {
    "duration": 64,
    "start_time": "2025-03-26T20:38:30.291Z"
   },
   {
    "duration": 40,
    "start_time": "2025-03-26T20:38:30.356Z"
   },
   {
    "duration": 60,
    "start_time": "2025-03-26T20:38:30.398Z"
   },
   {
    "duration": 7,
    "start_time": "2025-03-26T20:38:30.461Z"
   },
   {
    "duration": 19,
    "start_time": "2025-03-26T20:38:30.470Z"
   },
   {
    "duration": 16,
    "start_time": "2025-03-26T20:38:30.491Z"
   },
   {
    "duration": 22,
    "start_time": "2025-03-26T20:38:30.509Z"
   },
   {
    "duration": 12,
    "start_time": "2025-03-26T20:38:30.533Z"
   },
   {
    "duration": 11,
    "start_time": "2025-03-26T20:38:30.546Z"
   },
   {
    "duration": 6,
    "start_time": "2025-03-26T20:38:30.559Z"
   },
   {
    "duration": 5,
    "start_time": "2025-03-26T20:38:30.567Z"
   },
   {
    "duration": 8,
    "start_time": "2025-03-26T20:38:30.573Z"
   },
   {
    "duration": 5,
    "start_time": "2025-03-26T20:38:30.583Z"
   }
  ],
  "kernelspec": {
   "display_name": "Python 3 (ipykernel)",
   "language": "python",
   "name": "python3"
  },
  "language_info": {
   "codemirror_mode": {
    "name": "ipython",
    "version": 3
   },
   "file_extension": ".py",
   "mimetype": "text/x-python",
   "name": "python",
   "nbconvert_exporter": "python",
   "pygments_lexer": "ipython3",
   "version": "3.9.19"
  },
  "toc": {
   "base_numbering": 1,
   "nav_menu": {},
   "number_sections": true,
   "sideBar": true,
   "skip_h1_title": true,
   "title_cell": "Table of Contents",
   "title_sidebar": "Contents",
   "toc_cell": false,
   "toc_position": {},
   "toc_section_display": true,
   "toc_window_display": false
  }
 },
 "nbformat": 4,
 "nbformat_minor": 5
}
